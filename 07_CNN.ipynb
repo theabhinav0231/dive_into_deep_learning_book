{
  "nbformat": 4,
  "nbformat_minor": 0,
  "metadata": {
    "colab": {
      "provenance": [],
      "authorship_tag": "ABX9TyNiXfnHKRL1jsf6bBAMjWDk",
      "include_colab_link": true
    },
    "kernelspec": {
      "name": "python3",
      "display_name": "Python 3"
    },
    "language_info": {
      "name": "python"
    }
  },
  "cells": [
    {
      "cell_type": "markdown",
      "metadata": {
        "id": "view-in-github",
        "colab_type": "text"
      },
      "source": [
        "<a href=\"https://colab.research.google.com/github/theabhinav0231/dive_into_deep_learning_book/blob/main/07_CNN.ipynb\" target=\"_parent\"><img src=\"https://colab.research.google.com/assets/colab-badge.svg\" alt=\"Open In Colab\"/></a>"
      ]
    },
    {
      "cell_type": "code",
      "execution_count": 1,
      "metadata": {
        "colab": {
          "base_uri": "https://localhost:8080/",
          "height": 1000
        },
        "id": "W3Sijbzz2BwZ",
        "outputId": "7964b5f3-8df2-40fc-9fc3-8b7b660a47d1"
      },
      "outputs": [
        {
          "output_type": "stream",
          "name": "stdout",
          "text": [
            "Collecting d2l\n",
            "  Downloading d2l-1.0.3-py3-none-any.whl.metadata (556 bytes)\n",
            "Collecting jupyter==1.0.0 (from d2l)\n",
            "  Downloading jupyter-1.0.0-py2.py3-none-any.whl.metadata (995 bytes)\n",
            "Collecting numpy==1.23.5 (from d2l)\n",
            "  Downloading numpy-1.23.5-cp310-cp310-manylinux_2_17_x86_64.manylinux2014_x86_64.whl.metadata (2.3 kB)\n",
            "Collecting matplotlib==3.7.2 (from d2l)\n",
            "  Downloading matplotlib-3.7.2-cp310-cp310-manylinux_2_17_x86_64.manylinux2014_x86_64.whl.metadata (5.6 kB)\n",
            "Collecting matplotlib-inline==0.1.6 (from d2l)\n",
            "  Downloading matplotlib_inline-0.1.6-py3-none-any.whl.metadata (2.8 kB)\n",
            "Collecting requests==2.31.0 (from d2l)\n",
            "  Downloading requests-2.31.0-py3-none-any.whl.metadata (4.6 kB)\n",
            "Collecting pandas==2.0.3 (from d2l)\n",
            "  Downloading pandas-2.0.3-cp310-cp310-manylinux_2_17_x86_64.manylinux2014_x86_64.whl.metadata (18 kB)\n",
            "Collecting scipy==1.10.1 (from d2l)\n",
            "  Downloading scipy-1.10.1-cp310-cp310-manylinux_2_17_x86_64.manylinux2014_x86_64.whl.metadata (58 kB)\n",
            "\u001b[2K     \u001b[90m━━━━━━━━━━━━━━━━━━━━━━━━━━━━━━━━━━━━━━━━\u001b[0m \u001b[32m58.9/58.9 kB\u001b[0m \u001b[31m3.4 MB/s\u001b[0m eta \u001b[36m0:00:00\u001b[0m\n",
            "\u001b[?25hRequirement already satisfied: notebook in /usr/local/lib/python3.10/dist-packages (from jupyter==1.0.0->d2l) (6.5.5)\n",
            "Collecting qtconsole (from jupyter==1.0.0->d2l)\n",
            "  Downloading qtconsole-5.6.1-py3-none-any.whl.metadata (5.0 kB)\n",
            "Requirement already satisfied: jupyter-console in /usr/local/lib/python3.10/dist-packages (from jupyter==1.0.0->d2l) (6.1.0)\n",
            "Requirement already satisfied: nbconvert in /usr/local/lib/python3.10/dist-packages (from jupyter==1.0.0->d2l) (7.16.4)\n",
            "Requirement already satisfied: ipykernel in /usr/local/lib/python3.10/dist-packages (from jupyter==1.0.0->d2l) (5.5.6)\n",
            "Requirement already satisfied: ipywidgets in /usr/local/lib/python3.10/dist-packages (from jupyter==1.0.0->d2l) (7.7.1)\n",
            "Requirement already satisfied: contourpy>=1.0.1 in /usr/local/lib/python3.10/dist-packages (from matplotlib==3.7.2->d2l) (1.3.1)\n",
            "Requirement already satisfied: cycler>=0.10 in /usr/local/lib/python3.10/dist-packages (from matplotlib==3.7.2->d2l) (0.12.1)\n",
            "Requirement already satisfied: fonttools>=4.22.0 in /usr/local/lib/python3.10/dist-packages (from matplotlib==3.7.2->d2l) (4.55.3)\n",
            "Requirement already satisfied: kiwisolver>=1.0.1 in /usr/local/lib/python3.10/dist-packages (from matplotlib==3.7.2->d2l) (1.4.7)\n",
            "Requirement already satisfied: packaging>=20.0 in /usr/local/lib/python3.10/dist-packages (from matplotlib==3.7.2->d2l) (24.2)\n",
            "Requirement already satisfied: pillow>=6.2.0 in /usr/local/lib/python3.10/dist-packages (from matplotlib==3.7.2->d2l) (11.0.0)\n",
            "Collecting pyparsing<3.1,>=2.3.1 (from matplotlib==3.7.2->d2l)\n",
            "  Downloading pyparsing-3.0.9-py3-none-any.whl.metadata (4.2 kB)\n",
            "Requirement already satisfied: python-dateutil>=2.7 in /usr/local/lib/python3.10/dist-packages (from matplotlib==3.7.2->d2l) (2.8.2)\n",
            "Requirement already satisfied: traitlets in /usr/local/lib/python3.10/dist-packages (from matplotlib-inline==0.1.6->d2l) (5.7.1)\n",
            "Requirement already satisfied: pytz>=2020.1 in /usr/local/lib/python3.10/dist-packages (from pandas==2.0.3->d2l) (2024.2)\n",
            "Requirement already satisfied: tzdata>=2022.1 in /usr/local/lib/python3.10/dist-packages (from pandas==2.0.3->d2l) (2024.2)\n",
            "Requirement already satisfied: charset-normalizer<4,>=2 in /usr/local/lib/python3.10/dist-packages (from requests==2.31.0->d2l) (3.4.0)\n",
            "Requirement already satisfied: idna<4,>=2.5 in /usr/local/lib/python3.10/dist-packages (from requests==2.31.0->d2l) (3.10)\n",
            "Requirement already satisfied: urllib3<3,>=1.21.1 in /usr/local/lib/python3.10/dist-packages (from requests==2.31.0->d2l) (2.2.3)\n",
            "Requirement already satisfied: certifi>=2017.4.17 in /usr/local/lib/python3.10/dist-packages (from requests==2.31.0->d2l) (2024.12.14)\n",
            "Requirement already satisfied: six>=1.5 in /usr/local/lib/python3.10/dist-packages (from python-dateutil>=2.7->matplotlib==3.7.2->d2l) (1.17.0)\n",
            "Requirement already satisfied: ipython-genutils in /usr/local/lib/python3.10/dist-packages (from ipykernel->jupyter==1.0.0->d2l) (0.2.0)\n",
            "Requirement already satisfied: ipython>=5.0.0 in /usr/local/lib/python3.10/dist-packages (from ipykernel->jupyter==1.0.0->d2l) (7.34.0)\n",
            "Requirement already satisfied: jupyter-client in /usr/local/lib/python3.10/dist-packages (from ipykernel->jupyter==1.0.0->d2l) (6.1.12)\n",
            "Requirement already satisfied: tornado>=4.2 in /usr/local/lib/python3.10/dist-packages (from ipykernel->jupyter==1.0.0->d2l) (6.3.3)\n",
            "Requirement already satisfied: widgetsnbextension~=3.6.0 in /usr/local/lib/python3.10/dist-packages (from ipywidgets->jupyter==1.0.0->d2l) (3.6.10)\n",
            "Requirement already satisfied: jupyterlab-widgets>=1.0.0 in /usr/local/lib/python3.10/dist-packages (from ipywidgets->jupyter==1.0.0->d2l) (3.0.13)\n",
            "Requirement already satisfied: prompt-toolkit!=3.0.0,!=3.0.1,<3.1.0,>=2.0.0 in /usr/local/lib/python3.10/dist-packages (from jupyter-console->jupyter==1.0.0->d2l) (3.0.48)\n",
            "Requirement already satisfied: pygments in /usr/local/lib/python3.10/dist-packages (from jupyter-console->jupyter==1.0.0->d2l) (2.18.0)\n",
            "Requirement already satisfied: beautifulsoup4 in /usr/local/lib/python3.10/dist-packages (from nbconvert->jupyter==1.0.0->d2l) (4.12.3)\n",
            "Requirement already satisfied: bleach!=5.0.0 in /usr/local/lib/python3.10/dist-packages (from nbconvert->jupyter==1.0.0->d2l) (6.2.0)\n",
            "Requirement already satisfied: defusedxml in /usr/local/lib/python3.10/dist-packages (from nbconvert->jupyter==1.0.0->d2l) (0.7.1)\n",
            "Requirement already satisfied: jinja2>=3.0 in /usr/local/lib/python3.10/dist-packages (from nbconvert->jupyter==1.0.0->d2l) (3.1.4)\n",
            "Requirement already satisfied: jupyter-core>=4.7 in /usr/local/lib/python3.10/dist-packages (from nbconvert->jupyter==1.0.0->d2l) (5.7.2)\n",
            "Requirement already satisfied: jupyterlab-pygments in /usr/local/lib/python3.10/dist-packages (from nbconvert->jupyter==1.0.0->d2l) (0.3.0)\n",
            "Requirement already satisfied: markupsafe>=2.0 in /usr/local/lib/python3.10/dist-packages (from nbconvert->jupyter==1.0.0->d2l) (3.0.2)\n",
            "Requirement already satisfied: mistune<4,>=2.0.3 in /usr/local/lib/python3.10/dist-packages (from nbconvert->jupyter==1.0.0->d2l) (3.0.2)\n",
            "Requirement already satisfied: nbclient>=0.5.0 in /usr/local/lib/python3.10/dist-packages (from nbconvert->jupyter==1.0.0->d2l) (0.10.1)\n",
            "Requirement already satisfied: nbformat>=5.7 in /usr/local/lib/python3.10/dist-packages (from nbconvert->jupyter==1.0.0->d2l) (5.10.4)\n",
            "Requirement already satisfied: pandocfilters>=1.4.1 in /usr/local/lib/python3.10/dist-packages (from nbconvert->jupyter==1.0.0->d2l) (1.5.1)\n",
            "Requirement already satisfied: tinycss2 in /usr/local/lib/python3.10/dist-packages (from nbconvert->jupyter==1.0.0->d2l) (1.4.0)\n",
            "Requirement already satisfied: pyzmq<25,>=17 in /usr/local/lib/python3.10/dist-packages (from notebook->jupyter==1.0.0->d2l) (24.0.1)\n",
            "Requirement already satisfied: argon2-cffi in /usr/local/lib/python3.10/dist-packages (from notebook->jupyter==1.0.0->d2l) (23.1.0)\n",
            "Requirement already satisfied: nest-asyncio>=1.5 in /usr/local/lib/python3.10/dist-packages (from notebook->jupyter==1.0.0->d2l) (1.6.0)\n",
            "Requirement already satisfied: Send2Trash>=1.8.0 in /usr/local/lib/python3.10/dist-packages (from notebook->jupyter==1.0.0->d2l) (1.8.3)\n",
            "Requirement already satisfied: terminado>=0.8.3 in /usr/local/lib/python3.10/dist-packages (from notebook->jupyter==1.0.0->d2l) (0.18.1)\n",
            "Requirement already satisfied: prometheus-client in /usr/local/lib/python3.10/dist-packages (from notebook->jupyter==1.0.0->d2l) (0.21.1)\n",
            "Requirement already satisfied: nbclassic>=0.4.7 in /usr/local/lib/python3.10/dist-packages (from notebook->jupyter==1.0.0->d2l) (1.1.0)\n",
            "Collecting qtpy>=2.4.0 (from qtconsole->jupyter==1.0.0->d2l)\n",
            "  Downloading QtPy-2.4.2-py3-none-any.whl.metadata (12 kB)\n",
            "Requirement already satisfied: webencodings in /usr/local/lib/python3.10/dist-packages (from bleach!=5.0.0->nbconvert->jupyter==1.0.0->d2l) (0.5.1)\n",
            "Requirement already satisfied: setuptools>=18.5 in /usr/local/lib/python3.10/dist-packages (from ipython>=5.0.0->ipykernel->jupyter==1.0.0->d2l) (75.1.0)\n",
            "Collecting jedi>=0.16 (from ipython>=5.0.0->ipykernel->jupyter==1.0.0->d2l)\n",
            "  Downloading jedi-0.19.2-py2.py3-none-any.whl.metadata (22 kB)\n",
            "Requirement already satisfied: decorator in /usr/local/lib/python3.10/dist-packages (from ipython>=5.0.0->ipykernel->jupyter==1.0.0->d2l) (4.4.2)\n",
            "Requirement already satisfied: pickleshare in /usr/local/lib/python3.10/dist-packages (from ipython>=5.0.0->ipykernel->jupyter==1.0.0->d2l) (0.7.5)\n",
            "Requirement already satisfied: backcall in /usr/local/lib/python3.10/dist-packages (from ipython>=5.0.0->ipykernel->jupyter==1.0.0->d2l) (0.2.0)\n",
            "Requirement already satisfied: pexpect>4.3 in /usr/local/lib/python3.10/dist-packages (from ipython>=5.0.0->ipykernel->jupyter==1.0.0->d2l) (4.9.0)\n",
            "Requirement already satisfied: platformdirs>=2.5 in /usr/local/lib/python3.10/dist-packages (from jupyter-core>=4.7->nbconvert->jupyter==1.0.0->d2l) (4.3.6)\n",
            "Requirement already satisfied: notebook-shim>=0.2.3 in /usr/local/lib/python3.10/dist-packages (from nbclassic>=0.4.7->notebook->jupyter==1.0.0->d2l) (0.2.4)\n",
            "Requirement already satisfied: fastjsonschema>=2.15 in /usr/local/lib/python3.10/dist-packages (from nbformat>=5.7->nbconvert->jupyter==1.0.0->d2l) (2.21.1)\n",
            "Requirement already satisfied: jsonschema>=2.6 in /usr/local/lib/python3.10/dist-packages (from nbformat>=5.7->nbconvert->jupyter==1.0.0->d2l) (4.23.0)\n",
            "Requirement already satisfied: wcwidth in /usr/local/lib/python3.10/dist-packages (from prompt-toolkit!=3.0.0,!=3.0.1,<3.1.0,>=2.0.0->jupyter-console->jupyter==1.0.0->d2l) (0.2.13)\n",
            "Requirement already satisfied: ptyprocess in /usr/local/lib/python3.10/dist-packages (from terminado>=0.8.3->notebook->jupyter==1.0.0->d2l) (0.7.0)\n",
            "Requirement already satisfied: argon2-cffi-bindings in /usr/local/lib/python3.10/dist-packages (from argon2-cffi->notebook->jupyter==1.0.0->d2l) (21.2.0)\n",
            "Requirement already satisfied: soupsieve>1.2 in /usr/local/lib/python3.10/dist-packages (from beautifulsoup4->nbconvert->jupyter==1.0.0->d2l) (2.6)\n",
            "Requirement already satisfied: parso<0.9.0,>=0.8.4 in /usr/local/lib/python3.10/dist-packages (from jedi>=0.16->ipython>=5.0.0->ipykernel->jupyter==1.0.0->d2l) (0.8.4)\n",
            "Requirement already satisfied: attrs>=22.2.0 in /usr/local/lib/python3.10/dist-packages (from jsonschema>=2.6->nbformat>=5.7->nbconvert->jupyter==1.0.0->d2l) (24.3.0)\n",
            "Requirement already satisfied: jsonschema-specifications>=2023.03.6 in /usr/local/lib/python3.10/dist-packages (from jsonschema>=2.6->nbformat>=5.7->nbconvert->jupyter==1.0.0->d2l) (2024.10.1)\n",
            "Requirement already satisfied: referencing>=0.28.4 in /usr/local/lib/python3.10/dist-packages (from jsonschema>=2.6->nbformat>=5.7->nbconvert->jupyter==1.0.0->d2l) (0.35.1)\n",
            "Requirement already satisfied: rpds-py>=0.7.1 in /usr/local/lib/python3.10/dist-packages (from jsonschema>=2.6->nbformat>=5.7->nbconvert->jupyter==1.0.0->d2l) (0.22.3)\n",
            "Requirement already satisfied: jupyter-server<3,>=1.8 in /usr/local/lib/python3.10/dist-packages (from notebook-shim>=0.2.3->nbclassic>=0.4.7->notebook->jupyter==1.0.0->d2l) (1.24.0)\n",
            "Requirement already satisfied: cffi>=1.0.1 in /usr/local/lib/python3.10/dist-packages (from argon2-cffi-bindings->argon2-cffi->notebook->jupyter==1.0.0->d2l) (1.17.1)\n",
            "Requirement already satisfied: pycparser in /usr/local/lib/python3.10/dist-packages (from cffi>=1.0.1->argon2-cffi-bindings->argon2-cffi->notebook->jupyter==1.0.0->d2l) (2.22)\n",
            "Requirement already satisfied: anyio<4,>=3.1.0 in /usr/local/lib/python3.10/dist-packages (from jupyter-server<3,>=1.8->notebook-shim>=0.2.3->nbclassic>=0.4.7->notebook->jupyter==1.0.0->d2l) (3.7.1)\n",
            "Requirement already satisfied: websocket-client in /usr/local/lib/python3.10/dist-packages (from jupyter-server<3,>=1.8->notebook-shim>=0.2.3->nbclassic>=0.4.7->notebook->jupyter==1.0.0->d2l) (1.8.0)\n",
            "Requirement already satisfied: sniffio>=1.1 in /usr/local/lib/python3.10/dist-packages (from anyio<4,>=3.1.0->jupyter-server<3,>=1.8->notebook-shim>=0.2.3->nbclassic>=0.4.7->notebook->jupyter==1.0.0->d2l) (1.3.1)\n",
            "Requirement already satisfied: exceptiongroup in /usr/local/lib/python3.10/dist-packages (from anyio<4,>=3.1.0->jupyter-server<3,>=1.8->notebook-shim>=0.2.3->nbclassic>=0.4.7->notebook->jupyter==1.0.0->d2l) (1.2.2)\n",
            "Downloading d2l-1.0.3-py3-none-any.whl (111 kB)\n",
            "\u001b[2K   \u001b[90m━━━━━━━━━━━━━━━━━━━━━━━━━━━━━━━━━━━━━━━━\u001b[0m \u001b[32m111.7/111.7 kB\u001b[0m \u001b[31m5.1 MB/s\u001b[0m eta \u001b[36m0:00:00\u001b[0m\n",
            "\u001b[?25hDownloading jupyter-1.0.0-py2.py3-none-any.whl (2.7 kB)\n",
            "Downloading matplotlib-3.7.2-cp310-cp310-manylinux_2_17_x86_64.manylinux2014_x86_64.whl (11.6 MB)\n",
            "\u001b[2K   \u001b[90m━━━━━━━━━━━━━━━━━━━━━━━━━━━━━━━━━━━━━━━━\u001b[0m \u001b[32m11.6/11.6 MB\u001b[0m \u001b[31m58.2 MB/s\u001b[0m eta \u001b[36m0:00:00\u001b[0m\n",
            "\u001b[?25hDownloading matplotlib_inline-0.1.6-py3-none-any.whl (9.4 kB)\n",
            "Downloading numpy-1.23.5-cp310-cp310-manylinux_2_17_x86_64.manylinux2014_x86_64.whl (17.1 MB)\n",
            "\u001b[2K   \u001b[90m━━━━━━━━━━━━━━━━━━━━━━━━━━━━━━━━━━━━━━━━\u001b[0m \u001b[32m17.1/17.1 MB\u001b[0m \u001b[31m51.2 MB/s\u001b[0m eta \u001b[36m0:00:00\u001b[0m\n",
            "\u001b[?25hDownloading pandas-2.0.3-cp310-cp310-manylinux_2_17_x86_64.manylinux2014_x86_64.whl (12.3 MB)\n",
            "\u001b[2K   \u001b[90m━━━━━━━━━━━━━━━━━━━━━━━━━━━━━━━━━━━━━━━━\u001b[0m \u001b[32m12.3/12.3 MB\u001b[0m \u001b[31m45.0 MB/s\u001b[0m eta \u001b[36m0:00:00\u001b[0m\n",
            "\u001b[?25hDownloading requests-2.31.0-py3-none-any.whl (62 kB)\n",
            "\u001b[2K   \u001b[90m━━━━━━━━━━━━━━━━━━━━━━━━━━━━━━━━━━━━━━━━\u001b[0m \u001b[32m62.6/62.6 kB\u001b[0m \u001b[31m3.9 MB/s\u001b[0m eta \u001b[36m0:00:00\u001b[0m\n",
            "\u001b[?25hDownloading scipy-1.10.1-cp310-cp310-manylinux_2_17_x86_64.manylinux2014_x86_64.whl (34.4 MB)\n",
            "\u001b[2K   \u001b[90m━━━━━━━━━━━━━━━━━━━━━━━━━━━━━━━━━━━━━━━━\u001b[0m \u001b[32m34.4/34.4 MB\u001b[0m \u001b[31m17.9 MB/s\u001b[0m eta \u001b[36m0:00:00\u001b[0m\n",
            "\u001b[?25hDownloading pyparsing-3.0.9-py3-none-any.whl (98 kB)\n",
            "\u001b[2K   \u001b[90m━━━━━━━━━━━━━━━━━━━━━━━━━━━━━━━━━━━━━━━━\u001b[0m \u001b[32m98.3/98.3 kB\u001b[0m \u001b[31m7.2 MB/s\u001b[0m eta \u001b[36m0:00:00\u001b[0m\n",
            "\u001b[?25hDownloading qtconsole-5.6.1-py3-none-any.whl (125 kB)\n",
            "\u001b[2K   \u001b[90m━━━━━━━━━━━━━━━━━━━━━━━━━━━━━━━━━━━━━━━━\u001b[0m \u001b[32m125.0/125.0 kB\u001b[0m \u001b[31m10.2 MB/s\u001b[0m eta \u001b[36m0:00:00\u001b[0m\n",
            "\u001b[?25hDownloading QtPy-2.4.2-py3-none-any.whl (95 kB)\n",
            "\u001b[2K   \u001b[90m━━━━━━━━━━━━━━━━━━━━━━━━━━━━━━━━━━━━━━━━\u001b[0m \u001b[32m95.2/95.2 kB\u001b[0m \u001b[31m7.7 MB/s\u001b[0m eta \u001b[36m0:00:00\u001b[0m\n",
            "\u001b[?25hDownloading jedi-0.19.2-py2.py3-none-any.whl (1.6 MB)\n",
            "\u001b[2K   \u001b[90m━━━━━━━━━━━━━━━━━━━━━━━━━━━━━━━━━━━━━━━━\u001b[0m \u001b[32m1.6/1.6 MB\u001b[0m \u001b[31m58.2 MB/s\u001b[0m eta \u001b[36m0:00:00\u001b[0m\n",
            "\u001b[?25hInstalling collected packages: requests, qtpy, pyparsing, numpy, matplotlib-inline, jedi, scipy, pandas, matplotlib, qtconsole, jupyter, d2l\n",
            "  Attempting uninstall: requests\n",
            "    Found existing installation: requests 2.32.3\n",
            "    Uninstalling requests-2.32.3:\n",
            "      Successfully uninstalled requests-2.32.3\n",
            "  Attempting uninstall: pyparsing\n",
            "    Found existing installation: pyparsing 3.2.0\n",
            "    Uninstalling pyparsing-3.2.0:\n",
            "      Successfully uninstalled pyparsing-3.2.0\n",
            "  Attempting uninstall: numpy\n",
            "    Found existing installation: numpy 1.26.4\n",
            "    Uninstalling numpy-1.26.4:\n",
            "      Successfully uninstalled numpy-1.26.4\n",
            "  Attempting uninstall: matplotlib-inline\n",
            "    Found existing installation: matplotlib-inline 0.1.7\n",
            "    Uninstalling matplotlib-inline-0.1.7:\n",
            "      Successfully uninstalled matplotlib-inline-0.1.7\n",
            "  Attempting uninstall: scipy\n",
            "    Found existing installation: scipy 1.13.1\n",
            "    Uninstalling scipy-1.13.1:\n",
            "      Successfully uninstalled scipy-1.13.1\n",
            "  Attempting uninstall: pandas\n",
            "    Found existing installation: pandas 2.2.2\n",
            "    Uninstalling pandas-2.2.2:\n",
            "      Successfully uninstalled pandas-2.2.2\n",
            "  Attempting uninstall: matplotlib\n",
            "    Found existing installation: matplotlib 3.8.0\n",
            "    Uninstalling matplotlib-3.8.0:\n",
            "      Successfully uninstalled matplotlib-3.8.0\n",
            "\u001b[31mERROR: pip's dependency resolver does not currently take into account all the packages that are installed. This behaviour is the source of the following dependency conflicts.\n",
            "albucore 0.0.19 requires numpy>=1.24.4, but you have numpy 1.23.5 which is incompatible.\n",
            "albumentations 1.4.20 requires numpy>=1.24.4, but you have numpy 1.23.5 which is incompatible.\n",
            "bigframes 1.29.0 requires numpy>=1.24.0, but you have numpy 1.23.5 which is incompatible.\n",
            "chex 0.1.88 requires numpy>=1.24.1, but you have numpy 1.23.5 which is incompatible.\n",
            "google-colab 1.0.0 requires pandas==2.2.2, but you have pandas 2.0.3 which is incompatible.\n",
            "google-colab 1.0.0 requires requests==2.32.3, but you have requests 2.31.0 which is incompatible.\n",
            "jax 0.4.33 requires numpy>=1.24, but you have numpy 1.23.5 which is incompatible.\n",
            "jaxlib 0.4.33 requires numpy>=1.24, but you have numpy 1.23.5 which is incompatible.\n",
            "mizani 0.13.1 requires pandas>=2.2.0, but you have pandas 2.0.3 which is incompatible.\n",
            "plotnine 0.14.4 requires matplotlib>=3.8.0, but you have matplotlib 3.7.2 which is incompatible.\n",
            "plotnine 0.14.4 requires pandas>=2.2.0, but you have pandas 2.0.3 which is incompatible.\n",
            "pymc 5.19.1 requires numpy>=1.25.0, but you have numpy 1.23.5 which is incompatible.\n",
            "scikit-image 0.25.0 requires numpy>=1.24, but you have numpy 1.23.5 which is incompatible.\n",
            "scikit-image 0.25.0 requires scipy>=1.11.2, but you have scipy 1.10.1 which is incompatible.\n",
            "xarray 2024.11.0 requires numpy>=1.24, but you have numpy 1.23.5 which is incompatible.\n",
            "xarray 2024.11.0 requires pandas>=2.1, but you have pandas 2.0.3 which is incompatible.\u001b[0m\u001b[31m\n",
            "\u001b[0mSuccessfully installed d2l-1.0.3 jedi-0.19.2 jupyter-1.0.0 matplotlib-3.7.2 matplotlib-inline-0.1.6 numpy-1.23.5 pandas-2.0.3 pyparsing-3.0.9 qtconsole-5.6.1 qtpy-2.4.2 requests-2.31.0 scipy-1.10.1\n"
          ]
        },
        {
          "output_type": "display_data",
          "data": {
            "application/vnd.colab-display-data+json": {
              "pip_warning": {
                "packages": [
                  "matplotlib",
                  "matplotlib_inline",
                  "mpl_toolkits",
                  "numpy"
                ]
              },
              "id": "3f2edc2b66a54c71922dcf49ec5b3c19"
            }
          },
          "metadata": {}
        }
      ],
      "source": [
        "!pip install d2l"
      ]
    },
    {
      "cell_type": "code",
      "source": [
        "import torch\n",
        "from torch import nn\n",
        "from d2l import torch as d2l"
      ],
      "metadata": {
        "id": "_AYi3gHG4qtc"
      },
      "execution_count": 1,
      "outputs": []
    },
    {
      "cell_type": "markdown",
      "source": [
        "Compute 2D cross-correlation\n",
        "\n",
        "![Screenshot 2024-12-31 190920.png](data:image/png;base64,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)"
      ],
      "metadata": {
        "id": "lnUBJKB_8DPq"
      }
    },
    {
      "cell_type": "code",
      "source": [
        "def corr2d(X, K):\n",
        "  h, w = K.shape\n",
        "  Y = torch.zeros((X.shape[0] - h + 1, X.shape[1] - w + 1))\n",
        "  for i in range(Y.shape[0]):\n",
        "    for j in range(Y.shape[1]):\n",
        "      Y[i, j] = (X[i:i + h, j:j + w] * K).sum()\n",
        "  return Y"
      ],
      "metadata": {
        "id": "z3EWxBtm8fe5"
      },
      "execution_count": 2,
      "outputs": []
    },
    {
      "cell_type": "code",
      "source": [
        "X = torch.tensor([[0.0, 1.0, 2.0], [3.0, 4.0, 5.0], [6.0, 7.0, 8.0]])\n",
        "K = torch.tensor([[0.0, 0.1], [2.0, 3.0]])\n",
        "corr2d(X, K)"
      ],
      "metadata": {
        "colab": {
          "base_uri": "https://localhost:8080/"
        },
        "id": "rcULqpxP9U2T",
        "outputId": "1f9965e4-823f-4f60-90e3-cfb49072370a"
      },
      "execution_count": 3,
      "outputs": [
        {
          "output_type": "execute_result",
          "data": {
            "text/plain": [
              "tensor([[18.1000, 23.2000],\n",
              "        [33.4000, 38.5000]])"
            ]
          },
          "metadata": {},
          "execution_count": 3
        }
      ]
    },
    {
      "cell_type": "code",
      "source": [
        "class Conv2D(nn.Module):\n",
        "  def __init__(self, kernel_size):\n",
        "    super().__init__()\n",
        "    self.weight = nn.Parameter(torch.randn(kernel_size))\n",
        "    self.bias = nn.Paraneter(torch.zeros(1))\n",
        "\n",
        "  def forward(self, x):\n",
        "    return corr2d(x, self.weight) + self.bias"
      ],
      "metadata": {
        "id": "Jkq2Q5eO4yXN"
      },
      "execution_count": 4,
      "outputs": []
    },
    {
      "cell_type": "markdown",
      "source": [
        "## **Object Edge Detection in Images**\n",
        "\n",
        "For this we construct an \"image\" of 6 X 8 pixels. The middle four columns are black (0) and the rest are white (1)."
      ],
      "metadata": {
        "id": "6Tnz-Nhl97XJ"
      }
    },
    {
      "cell_type": "code",
      "source": [
        "X = torch.ones((6, 8))\n",
        "X[:, 2:6] = 0\n",
        "X"
      ],
      "metadata": {
        "colab": {
          "base_uri": "https://localhost:8080/"
        },
        "id": "AvAj5RTI_O0D",
        "outputId": "dbd6d8b8-6673-4342-91f1-c5304824817a"
      },
      "execution_count": 5,
      "outputs": [
        {
          "output_type": "execute_result",
          "data": {
            "text/plain": [
              "tensor([[1., 1., 0., 0., 0., 0., 1., 1.],\n",
              "        [1., 1., 0., 0., 0., 0., 1., 1.],\n",
              "        [1., 1., 0., 0., 0., 0., 1., 1.],\n",
              "        [1., 1., 0., 0., 0., 0., 1., 1.],\n",
              "        [1., 1., 0., 0., 0., 0., 1., 1.],\n",
              "        [1., 1., 0., 0., 0., 0., 1., 1.]])"
            ]
          },
          "metadata": {},
          "execution_count": 5
        }
      ]
    },
    {
      "cell_type": "markdown",
      "source": [
        "![image.png](data:image/png;base64,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)"
      ],
      "metadata": {
        "id": "Zp_ACkPZ_ZGK"
      }
    },
    {
      "cell_type": "code",
      "source": [
        "K = torch.tensor([[1.0, -1.0]])"
      ],
      "metadata": {
        "id": "jM-0yNLqAdqX"
      },
      "execution_count": 6,
      "outputs": []
    },
    {
      "cell_type": "markdown",
      "source": [
        "We are ready to perform the cross-correlation operation with arguments X (our input) and\n",
        "K (our kernel). As you can see, we detect 1 for the edge from white to black and -1 for the\n",
        "edge from black to white. All other outputs take value 0."
      ],
      "metadata": {
        "id": "uI63khj4AmdS"
      }
    },
    {
      "cell_type": "code",
      "source": [
        "Y = corr2d(X, K)\n",
        "Y"
      ],
      "metadata": {
        "colab": {
          "base_uri": "https://localhost:8080/"
        },
        "id": "EidMTjVrA_2q",
        "outputId": "cd498c29-d79d-477c-ac1d-7303e6269c56"
      },
      "execution_count": 7,
      "outputs": [
        {
          "output_type": "execute_result",
          "data": {
            "text/plain": [
              "tensor([[ 0.,  1.,  0.,  0.,  0., -1.,  0.],\n",
              "        [ 0.,  1.,  0.,  0.,  0., -1.,  0.],\n",
              "        [ 0.,  1.,  0.,  0.,  0., -1.,  0.],\n",
              "        [ 0.,  1.,  0.,  0.,  0., -1.,  0.],\n",
              "        [ 0.,  1.,  0.,  0.,  0., -1.,  0.],\n",
              "        [ 0.,  1.,  0.,  0.,  0., -1.,  0.]])"
            ]
          },
          "metadata": {},
          "execution_count": 7
        }
      ]
    },
    {
      "cell_type": "markdown",
      "source": [
        "Now applying our new kernel to transposed image. All elements turns to 0. The Kernel only detects vertical edges."
      ],
      "metadata": {
        "id": "8Q604aPmBTXq"
      }
    },
    {
      "cell_type": "code",
      "source": [
        "X.t()"
      ],
      "metadata": {
        "colab": {
          "base_uri": "https://localhost:8080/"
        },
        "id": "soKtZpjIBkcN",
        "outputId": "b4c95a8e-29bc-45a1-fffd-973558a57b66"
      },
      "execution_count": 8,
      "outputs": [
        {
          "output_type": "execute_result",
          "data": {
            "text/plain": [
              "tensor([[1., 1., 1., 1., 1., 1.],\n",
              "        [1., 1., 1., 1., 1., 1.],\n",
              "        [0., 0., 0., 0., 0., 0.],\n",
              "        [0., 0., 0., 0., 0., 0.],\n",
              "        [0., 0., 0., 0., 0., 0.],\n",
              "        [0., 0., 0., 0., 0., 0.],\n",
              "        [1., 1., 1., 1., 1., 1.],\n",
              "        [1., 1., 1., 1., 1., 1.]])"
            ]
          },
          "metadata": {},
          "execution_count": 8
        }
      ]
    },
    {
      "cell_type": "code",
      "source": [
        "corr2d(X.t(), K)"
      ],
      "metadata": {
        "colab": {
          "base_uri": "https://localhost:8080/"
        },
        "id": "_ya4HDGSBcUb",
        "outputId": "6cee65ae-6b03-4ef8-e0bc-8e980195ab0d"
      },
      "execution_count": 9,
      "outputs": [
        {
          "output_type": "execute_result",
          "data": {
            "text/plain": [
              "tensor([[0., 0., 0., 0., 0.],\n",
              "        [0., 0., 0., 0., 0.],\n",
              "        [0., 0., 0., 0., 0.],\n",
              "        [0., 0., 0., 0., 0.],\n",
              "        [0., 0., 0., 0., 0.],\n",
              "        [0., 0., 0., 0., 0.],\n",
              "        [0., 0., 0., 0., 0.],\n",
              "        [0., 0., 0., 0., 0.]])"
            ]
          },
          "metadata": {},
          "execution_count": 9
        }
      ]
    },
    {
      "cell_type": "markdown",
      "source": [
        "Designing an edge detector by finite differences [1, -1] is neat if we know this is precisely\n",
        "what we are looking for. However, as we look at larger kernels, and consider successive\n",
        "layers of convolutions, it might be impossible to specify precisely what each filter should\n",
        "be doing manually.\n",
        "\n",
        "Now let’s see whether we can learn the kernel that generated Y from X by looking at the\n",
        "input–output pairs only. We first construct a convolutional layer and initialize its kernel as\n",
        "a random tensor. Next, in each iteration, we will use the squared error to compare Y with the\n",
        "output of the convolutional layer. We can then calculate the gradient to update the kernel.\n",
        "For the sake of simplicity, in the following we use the built-in class for two-dimensional\n",
        "convolutional layers and ignore the bias."
      ],
      "metadata": {
        "id": "lSdqmI2QBfpx"
      }
    },
    {
      "cell_type": "code",
      "source": [
        "# construct a 2D convolutional layer with 1 output channel and a kernel of shape (1, 2)\n",
        "conv2d = nn.LazyConv2d(1, kernel_size=(1, 2), bias=False)\n",
        "\n",
        "# the 2D convolutional layer uses 4D input and output in the format of\n",
        "# (example, channel, height, width) where batch size (no. of examples in the batch)\n",
        "# and the no. of channels are both 1\n",
        "\n",
        "X = X.reshape((1, 1, 6, 8))\n",
        "Y = Y.reshape((1, 1, 6, 7))\n",
        "lr = 3e-2\n",
        "\n",
        "for i in range(10):\n",
        "  Y_hat = conv2d(X)\n",
        "  l = (Y_hat - Y) ** 2\n",
        "  conv2d.zero_grad()\n",
        "  l.sum().backward()\n",
        "  # update the kernel\n",
        "  conv2d.weight.data[:] -= lr * conv2d.weight.grad\n",
        "  if (i + 1) % 2 == 0:\n",
        "    print(f\"Epoch: {i + 1}, Loss: {l.sum():.3f}\")"
      ],
      "metadata": {
        "colab": {
          "base_uri": "https://localhost:8080/"
        },
        "id": "pElF9m1uWbYy",
        "outputId": "3b49c7ac-40fa-4ba5-a487-549f642c10e8"
      },
      "execution_count": 10,
      "outputs": [
        {
          "output_type": "stream",
          "name": "stdout",
          "text": [
            "Epoch: 2, Loss: 12.232\n",
            "Epoch: 4, Loss: 2.178\n",
            "Epoch: 6, Loss: 0.417\n",
            "Epoch: 8, Loss: 0.091\n",
            "Epoch: 10, Loss: 0.024\n"
          ]
        }
      ]
    },
    {
      "cell_type": "code",
      "source": [
        "conv2d.weight.data.reshape((1, 2))"
      ],
      "metadata": {
        "id": "RyvrKNSQYSzU",
        "colab": {
          "base_uri": "https://localhost:8080/"
        },
        "outputId": "79583c5d-755a-4cd5-fbd1-9858f1cf9e82"
      },
      "execution_count": 11,
      "outputs": [
        {
          "output_type": "execute_result",
          "data": {
            "text/plain": [
              "tensor([[ 0.9697, -0.9947]])"
            ]
          },
          "metadata": {},
          "execution_count": 11
        }
      ]
    },
    {
      "cell_type": "markdown",
      "source": [
        "## **Padding**\n",
        "\n",
        "In the following example, we create a two-dimensional convolutional layer with a height\n",
        "and width of 3 and apply 1 pixel of padding on all sides. Given an input with a height and\n",
        "width of 8, we find that the height and width of the output is also 8.\n",
        "\n",
        "X = X.reshape((1, 1) + X.shape)\n",
        "\n",
        "Here, the purpose of reshaping is to prepare the input tensor X to match the expected input format for a 2D convolution operation.\n",
        "\n",
        "X.shape -> Gives the shape of X, i.e. (H, W) or (Height, Width)\n",
        "\n",
        "(1, 1) is prepended to the X resulting in (1, 1, H, W)\n",
        "\n",
        "Changing this to -> (batch_size, channels, height, width)\n",
        "\n",
        "batch_size = 1\n",
        "\n",
        "channels = 1 (greyscale)\n",
        "\n",
        "Height and Width -> Dimensions of the input\n"
      ],
      "metadata": {
        "id": "jz7190-zjrh-"
      }
    },
    {
      "cell_type": "code",
      "source": [
        "def comp_conv2d(conv2d, X):\n",
        "  X = X.reshape((1, 1) + X.shape)\n",
        "  Y = conv2d(X)\n",
        "  # strip the first two dimesions: examples and channels\n",
        "  return Y.reshape(Y.shape[2:])\n",
        "\n",
        "# 1 row and 1 column is padded on either side, so a total of 2 rows and 2 columns are added\n",
        "conv2d = nn.LazyConv2d(1, kernel_size=3, padding=1)\n",
        "X = torch.rand(size=(8, 8))\n",
        "comp_conv2d(conv2d, X).shape"
      ],
      "metadata": {
        "colab": {
          "base_uri": "https://localhost:8080/"
        },
        "id": "4BSa3FRMqAaL",
        "outputId": "e861118a-253b-4a54-eaef-7182260438c7"
      },
      "execution_count": 12,
      "outputs": [
        {
          "output_type": "execute_result",
          "data": {
            "text/plain": [
              "torch.Size([8, 8])"
            ]
          },
          "metadata": {},
          "execution_count": 12
        }
      ]
    },
    {
      "cell_type": "markdown",
      "source": [
        "When the height and width of the convolution kernel are different, we can make the output\n",
        "and input have the same height and width by setting different padding numbers for height\n",
        "and width."
      ],
      "metadata": {
        "id": "H3rcdxBqs5jl"
      }
    },
    {
      "cell_type": "code",
      "source": [
        "conv2d = nn.LazyConv2d(1, kernel_size=(5, 3), padding=(2, 1))\n",
        "comp_conv2d(conv2d, X).shape"
      ],
      "metadata": {
        "colab": {
          "base_uri": "https://localhost:8080/"
        },
        "id": "Le18XaHOtJyZ",
        "outputId": "c4a42750-f01b-44ff-f4a7-17b97955732b"
      },
      "execution_count": 13,
      "outputs": [
        {
          "output_type": "execute_result",
          "data": {
            "text/plain": [
              "torch.Size([8, 8])"
            ]
          },
          "metadata": {},
          "execution_count": 13
        }
      ]
    },
    {
      "cell_type": "markdown",
      "source": [
        "## **Stride**"
      ],
      "metadata": {
        "id": "x3sEQ4xitWML"
      }
    },
    {
      "cell_type": "code",
      "source": [
        "conv2d = nn.LazyConv2d(1, kernel_size=3, padding=1, stride=2)\n",
        "comp_conv2d(conv2d, X).shape"
      ],
      "metadata": {
        "colab": {
          "base_uri": "https://localhost:8080/"
        },
        "id": "rSG0vH_qxHfD",
        "outputId": "c9016ed4-5480-4518-9602-4f33ebe74900"
      },
      "execution_count": 14,
      "outputs": [
        {
          "output_type": "execute_result",
          "data": {
            "text/plain": [
              "torch.Size([4, 4])"
            ]
          },
          "metadata": {},
          "execution_count": 14
        }
      ]
    },
    {
      "cell_type": "code",
      "source": [
        "conv2d = nn.LazyConv2d(1, kernel_size=(3, 5), padding=(0, 1), stride=(3, 4))\n",
        "comp_conv2d(conv2d, X).shape"
      ],
      "metadata": {
        "colab": {
          "base_uri": "https://localhost:8080/"
        },
        "id": "kK6aUHaJxbhK",
        "outputId": "3799d0ba-1d22-4b48-b1ba-9a611e10b384"
      },
      "execution_count": 15,
      "outputs": [
        {
          "output_type": "execute_result",
          "data": {
            "text/plain": [
              "torch.Size([2, 2])"
            ]
          },
          "metadata": {},
          "execution_count": 15
        }
      ]
    },
    {
      "cell_type": "markdown",
      "source": [
        "## **Multi Input Channels**\n",
        "\n",
        "If our\n",
        "convolution kernel’s window shape is 𝑘h x 𝑘w, then, when 𝑐i = 1 (channel inputs), we can think of our\n",
        "convolution kernel as just a two-dimensional tensor of shape 𝑘h x 𝑘w.\n",
        "\n",
        "However, when 𝑐i > 1, we need a kernel that contains a tensor of shape 𝑘h x 𝑘w for every\n",
        "input channel. Concatenating these 𝑐i tensors together yields a convolution kernel of\n",
        "shape 𝑐i x 𝑘h x 𝑘w.\n",
        "\n",
        "Since the input and convolution kernel each have 𝑐i channels, we canperform a cross-correlation operation on the two-dimensional tensor of the input and the\n",
        "two-dimensional tensor of the convolution kernel for each channel, adding the 𝑐i results\n",
        "together (summing over the channels) to yield a two-dimensional tensor. This is the result\n",
        "of a two-dimensional cross-correlation between a multi-channel input and a multi-inputchannel\n",
        "convolution kernel.\n",
        "\n",
        "All we are doing is performing a cross-correlation operation per channel and then adding up the results.\n"
      ],
      "metadata": {
        "id": "yvJawv61x1JT"
      }
    },
    {
      "cell_type": "markdown",
      "source": [
        "![image.png](data:image/png;base64,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)"
      ],
      "metadata": {
        "id": "E71nT9eRHUwj"
      }
    },
    {
      "cell_type": "code",
      "source": [
        "def corr2d_multi_in(X, K):\n",
        "  # iterate through the 0th dimension (channel) of K and then ass then up\n",
        "  return sum(d2l.corr2d(x, k) for x, k in zip(X, K))"
      ],
      "metadata": {
        "id": "4-2P8tQYH9Bq"
      },
      "execution_count": 16,
      "outputs": []
    },
    {
      "cell_type": "code",
      "source": [
        "X = torch.tensor([[[0.0, 1.0, 2.0], [3.0, 4.0, 5.0], [6.0, 7.0, 8.0]],\n",
        "    [[1.0, 2.0, 3.0], [4.0, 5.0, 6.0], [7.0, 8.0, 9.0]]])\n",
        "K = torch.tensor([[[0.0, 1.0], [2.0, 3.0]], [[1.0, 2.0], [3.0, 4.0]]])\n",
        "\n",
        "corr2d_multi_in(X, K)"
      ],
      "metadata": {
        "colab": {
          "base_uri": "https://localhost:8080/"
        },
        "id": "fcnV_eB8If6O",
        "outputId": "6cfcaa3f-b9f2-4150-8937-1d4374ee95ce"
      },
      "execution_count": 17,
      "outputs": [
        {
          "output_type": "execute_result",
          "data": {
            "text/plain": [
              "tensor([[ 56.,  72.],\n",
              "        [104., 120.]])"
            ]
          },
          "metadata": {},
          "execution_count": 17
        }
      ]
    },
    {
      "cell_type": "markdown",
      "source": [
        "## **Multi Output Channels**\n",
        "\n",
        "Denote by 𝑐i and 𝑐o the number of input and output channels, respectively, and by 𝑘h and 𝑘w\n",
        "the height and width of the kernel. To get an output with multiple channels, we can create\n",
        "a kernel tensor of shape 𝑐i x 𝑘h x 𝑘w for every output channel. We concatenate them on the\n",
        "output channel dimension, so that the shape of the convolution kernel is 𝑐o x 𝑐i x 𝑘h x 𝑘w.\n",
        "In cross-correlation operations, the result on each output channel is calculated from the\n",
        "convolution kernel corresponding to that output channel and takes input from all channels\n",
        "in the input tensor.\n",
        "\n",
        "Code - Iterate thrugh the 0th dimesnion of K and each time perform cross-correlation operations with the input X. All of the results are then stacked together."
      ],
      "metadata": {
        "id": "HBwPknk7I2tO"
      }
    },
    {
      "cell_type": "code",
      "source": [
        "def corr2d_multi_in_out(X, K):\n",
        "  return torch.stack([corr2d_multi_in(X, k) for k in K], 0)"
      ],
      "metadata": {
        "id": "DC8JqR4aWrTt"
      },
      "execution_count": 18,
      "outputs": []
    },
    {
      "cell_type": "code",
      "source": [
        "K = torch.stack((K, K + 1, K + 2), 0)\n",
        "K.shape"
      ],
      "metadata": {
        "colab": {
          "base_uri": "https://localhost:8080/"
        },
        "id": "HCtE4wQgXOlF",
        "outputId": "ef4271ca-a928-44d9-dd1d-a25018d5fe80"
      },
      "execution_count": 19,
      "outputs": [
        {
          "output_type": "execute_result",
          "data": {
            "text/plain": [
              "torch.Size([3, 2, 2, 2])"
            ]
          },
          "metadata": {},
          "execution_count": 19
        }
      ]
    },
    {
      "cell_type": "code",
      "source": [
        "corr2d_multi_in_out(X, K)"
      ],
      "metadata": {
        "colab": {
          "base_uri": "https://localhost:8080/"
        },
        "id": "ReNbkjLmXVhN",
        "outputId": "c4cd4ccb-ab9c-4235-f301-733b6ed96935"
      },
      "execution_count": 20,
      "outputs": [
        {
          "output_type": "execute_result",
          "data": {
            "text/plain": [
              "tensor([[[ 56.,  72.],\n",
              "         [104., 120.]],\n",
              "\n",
              "        [[ 76., 100.],\n",
              "         [148., 172.]],\n",
              "\n",
              "        [[ 96., 128.],\n",
              "         [192., 224.]]])"
            ]
          },
          "metadata": {},
          "execution_count": 20
        }
      ]
    },
    {
      "cell_type": "code",
      "source": [
        "def corr2d_multi_in_out_1x1(X, K):\n",
        "  c_i, h, w = X.shape\n",
        "  c_o = K.shape[0]\n",
        "  X = X.reshape((c_i, h * w))\n",
        "  K = K.reshape((c_o, c_i))\n",
        "  Y = torch.matmul(K, X)\n",
        "  return Y.reshape((c_o, h, w))"
      ],
      "metadata": {
        "id": "ortas_GOYGm9"
      },
      "execution_count": 21,
      "outputs": []
    },
    {
      "cell_type": "code",
      "source": [
        "X = torch.normal(0, 1, (3, 3, 3))\n",
        "K = torch.normal(0, 1, (2, 3, 1, 1))\n",
        "Y1 = corr2d_multi_in_out_1x1(X, K)\n",
        "Y2 = corr2d_multi_in_out(X, K)\n",
        "assert float(torch.abs(Y1 - Y2).sum()) < 1e-6"
      ],
      "metadata": {
        "id": "YAMr8NHA4_2M"
      },
      "execution_count": 23,
      "outputs": []
    },
    {
      "cell_type": "markdown",
      "source": [
        "Given an image of size ¹ℎ x 𝑤º, the cost\n",
        "for computing a 𝑘 x 𝑘 convolution is O(ℎ x 𝑤 x 𝑘2). For 𝑐i and 𝑐o input and output channels\n",
        "respectively this increases to O(ℎ x 𝑤 x 𝑘2 x 𝑐i x 𝑐o). For a 256 x 256 pixel image with a\n",
        "5 x 5 kernel and 128 input and output channels respectively this amounts to over 53 billion\n",
        "operations."
      ],
      "metadata": {
        "id": "HB60qeaLnuWW"
      }
    }
  ]
}