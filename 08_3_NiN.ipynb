{
  "nbformat": 4,
  "nbformat_minor": 0,
  "metadata": {
    "colab": {
      "provenance": [],
      "authorship_tag": "ABX9TyNLwr8SA0/I2bUFiHaBOAya",
      "include_colab_link": true
    },
    "kernelspec": {
      "name": "python3",
      "display_name": "Python 3"
    },
    "language_info": {
      "name": "python"
    }
  },
  "cells": [
    {
      "cell_type": "markdown",
      "metadata": {
        "id": "view-in-github",
        "colab_type": "text"
      },
      "source": [
        "<a href=\"https://colab.research.google.com/github/theabhinav0231/dive_into_deep_learning_book/blob/main/08_3_NiN.ipynb\" target=\"_parent\"><img src=\"https://colab.research.google.com/assets/colab-badge.svg\" alt=\"Open In Colab\"/></a>"
      ]
    },
    {
      "cell_type": "code",
      "execution_count": 1,
      "metadata": {
        "id": "odqHx6zGj3oG",
        "colab": {
          "base_uri": "https://localhost:8080/",
          "height": 1000
        },
        "outputId": "63ed31b7-8d82-41fb-9a59-4b760925e5f9"
      },
      "outputs": [
        {
          "output_type": "stream",
          "name": "stdout",
          "text": [
            "Collecting d2l\n",
            "  Downloading d2l-1.0.3-py3-none-any.whl.metadata (556 bytes)\n",
            "Collecting jupyter==1.0.0 (from d2l)\n",
            "  Downloading jupyter-1.0.0-py2.py3-none-any.whl.metadata (995 bytes)\n",
            "Collecting numpy==1.23.5 (from d2l)\n",
            "  Downloading numpy-1.23.5-cp310-cp310-manylinux_2_17_x86_64.manylinux2014_x86_64.whl.metadata (2.3 kB)\n",
            "Collecting matplotlib==3.7.2 (from d2l)\n",
            "  Downloading matplotlib-3.7.2-cp310-cp310-manylinux_2_17_x86_64.manylinux2014_x86_64.whl.metadata (5.6 kB)\n",
            "Collecting matplotlib-inline==0.1.6 (from d2l)\n",
            "  Downloading matplotlib_inline-0.1.6-py3-none-any.whl.metadata (2.8 kB)\n",
            "Collecting requests==2.31.0 (from d2l)\n",
            "  Downloading requests-2.31.0-py3-none-any.whl.metadata (4.6 kB)\n",
            "Collecting pandas==2.0.3 (from d2l)\n",
            "  Downloading pandas-2.0.3-cp310-cp310-manylinux_2_17_x86_64.manylinux2014_x86_64.whl.metadata (18 kB)\n",
            "Collecting scipy==1.10.1 (from d2l)\n",
            "  Downloading scipy-1.10.1-cp310-cp310-manylinux_2_17_x86_64.manylinux2014_x86_64.whl.metadata (58 kB)\n",
            "\u001b[2K     \u001b[90m━━━━━━━━━━━━━━━━━━━━━━━━━━━━━━━━━━━━━━━━\u001b[0m \u001b[32m58.9/58.9 kB\u001b[0m \u001b[31m3.8 MB/s\u001b[0m eta \u001b[36m0:00:00\u001b[0m\n",
            "\u001b[?25hRequirement already satisfied: notebook in /usr/local/lib/python3.10/dist-packages (from jupyter==1.0.0->d2l) (6.5.5)\n",
            "Collecting qtconsole (from jupyter==1.0.0->d2l)\n",
            "  Downloading qtconsole-5.6.1-py3-none-any.whl.metadata (5.0 kB)\n",
            "Requirement already satisfied: jupyter-console in /usr/local/lib/python3.10/dist-packages (from jupyter==1.0.0->d2l) (6.1.0)\n",
            "Requirement already satisfied: nbconvert in /usr/local/lib/python3.10/dist-packages (from jupyter==1.0.0->d2l) (7.16.4)\n",
            "Requirement already satisfied: ipykernel in /usr/local/lib/python3.10/dist-packages (from jupyter==1.0.0->d2l) (5.5.6)\n",
            "Requirement already satisfied: ipywidgets in /usr/local/lib/python3.10/dist-packages (from jupyter==1.0.0->d2l) (7.7.1)\n",
            "Requirement already satisfied: contourpy>=1.0.1 in /usr/local/lib/python3.10/dist-packages (from matplotlib==3.7.2->d2l) (1.3.1)\n",
            "Requirement already satisfied: cycler>=0.10 in /usr/local/lib/python3.10/dist-packages (from matplotlib==3.7.2->d2l) (0.12.1)\n",
            "Requirement already satisfied: fonttools>=4.22.0 in /usr/local/lib/python3.10/dist-packages (from matplotlib==3.7.2->d2l) (4.55.3)\n",
            "Requirement already satisfied: kiwisolver>=1.0.1 in /usr/local/lib/python3.10/dist-packages (from matplotlib==3.7.2->d2l) (1.4.7)\n",
            "Requirement already satisfied: packaging>=20.0 in /usr/local/lib/python3.10/dist-packages (from matplotlib==3.7.2->d2l) (24.2)\n",
            "Requirement already satisfied: pillow>=6.2.0 in /usr/local/lib/python3.10/dist-packages (from matplotlib==3.7.2->d2l) (11.0.0)\n",
            "Collecting pyparsing<3.1,>=2.3.1 (from matplotlib==3.7.2->d2l)\n",
            "  Downloading pyparsing-3.0.9-py3-none-any.whl.metadata (4.2 kB)\n",
            "Requirement already satisfied: python-dateutil>=2.7 in /usr/local/lib/python3.10/dist-packages (from matplotlib==3.7.2->d2l) (2.8.2)\n",
            "Requirement already satisfied: traitlets in /usr/local/lib/python3.10/dist-packages (from matplotlib-inline==0.1.6->d2l) (5.7.1)\n",
            "Requirement already satisfied: pytz>=2020.1 in /usr/local/lib/python3.10/dist-packages (from pandas==2.0.3->d2l) (2024.2)\n",
            "Requirement already satisfied: tzdata>=2022.1 in /usr/local/lib/python3.10/dist-packages (from pandas==2.0.3->d2l) (2024.2)\n",
            "Requirement already satisfied: charset-normalizer<4,>=2 in /usr/local/lib/python3.10/dist-packages (from requests==2.31.0->d2l) (3.4.0)\n",
            "Requirement already satisfied: idna<4,>=2.5 in /usr/local/lib/python3.10/dist-packages (from requests==2.31.0->d2l) (3.10)\n",
            "Requirement already satisfied: urllib3<3,>=1.21.1 in /usr/local/lib/python3.10/dist-packages (from requests==2.31.0->d2l) (2.2.3)\n",
            "Requirement already satisfied: certifi>=2017.4.17 in /usr/local/lib/python3.10/dist-packages (from requests==2.31.0->d2l) (2024.12.14)\n",
            "Requirement already satisfied: six>=1.5 in /usr/local/lib/python3.10/dist-packages (from python-dateutil>=2.7->matplotlib==3.7.2->d2l) (1.17.0)\n",
            "Requirement already satisfied: ipython-genutils in /usr/local/lib/python3.10/dist-packages (from ipykernel->jupyter==1.0.0->d2l) (0.2.0)\n",
            "Requirement already satisfied: ipython>=5.0.0 in /usr/local/lib/python3.10/dist-packages (from ipykernel->jupyter==1.0.0->d2l) (7.34.0)\n",
            "Requirement already satisfied: jupyter-client in /usr/local/lib/python3.10/dist-packages (from ipykernel->jupyter==1.0.0->d2l) (6.1.12)\n",
            "Requirement already satisfied: tornado>=4.2 in /usr/local/lib/python3.10/dist-packages (from ipykernel->jupyter==1.0.0->d2l) (6.3.3)\n",
            "Requirement already satisfied: widgetsnbextension~=3.6.0 in /usr/local/lib/python3.10/dist-packages (from ipywidgets->jupyter==1.0.0->d2l) (3.6.10)\n",
            "Requirement already satisfied: jupyterlab-widgets>=1.0.0 in /usr/local/lib/python3.10/dist-packages (from ipywidgets->jupyter==1.0.0->d2l) (3.0.13)\n",
            "Requirement already satisfied: prompt-toolkit!=3.0.0,!=3.0.1,<3.1.0,>=2.0.0 in /usr/local/lib/python3.10/dist-packages (from jupyter-console->jupyter==1.0.0->d2l) (3.0.48)\n",
            "Requirement already satisfied: pygments in /usr/local/lib/python3.10/dist-packages (from jupyter-console->jupyter==1.0.0->d2l) (2.18.0)\n",
            "Requirement already satisfied: beautifulsoup4 in /usr/local/lib/python3.10/dist-packages (from nbconvert->jupyter==1.0.0->d2l) (4.12.3)\n",
            "Requirement already satisfied: bleach!=5.0.0 in /usr/local/lib/python3.10/dist-packages (from nbconvert->jupyter==1.0.0->d2l) (6.2.0)\n",
            "Requirement already satisfied: defusedxml in /usr/local/lib/python3.10/dist-packages (from nbconvert->jupyter==1.0.0->d2l) (0.7.1)\n",
            "Requirement already satisfied: jinja2>=3.0 in /usr/local/lib/python3.10/dist-packages (from nbconvert->jupyter==1.0.0->d2l) (3.1.4)\n",
            "Requirement already satisfied: jupyter-core>=4.7 in /usr/local/lib/python3.10/dist-packages (from nbconvert->jupyter==1.0.0->d2l) (5.7.2)\n",
            "Requirement already satisfied: jupyterlab-pygments in /usr/local/lib/python3.10/dist-packages (from nbconvert->jupyter==1.0.0->d2l) (0.3.0)\n",
            "Requirement already satisfied: markupsafe>=2.0 in /usr/local/lib/python3.10/dist-packages (from nbconvert->jupyter==1.0.0->d2l) (3.0.2)\n",
            "Requirement already satisfied: mistune<4,>=2.0.3 in /usr/local/lib/python3.10/dist-packages (from nbconvert->jupyter==1.0.0->d2l) (3.0.2)\n",
            "Requirement already satisfied: nbclient>=0.5.0 in /usr/local/lib/python3.10/dist-packages (from nbconvert->jupyter==1.0.0->d2l) (0.10.1)\n",
            "Requirement already satisfied: nbformat>=5.7 in /usr/local/lib/python3.10/dist-packages (from nbconvert->jupyter==1.0.0->d2l) (5.10.4)\n",
            "Requirement already satisfied: pandocfilters>=1.4.1 in /usr/local/lib/python3.10/dist-packages (from nbconvert->jupyter==1.0.0->d2l) (1.5.1)\n",
            "Requirement already satisfied: tinycss2 in /usr/local/lib/python3.10/dist-packages (from nbconvert->jupyter==1.0.0->d2l) (1.4.0)\n",
            "Requirement already satisfied: pyzmq<25,>=17 in /usr/local/lib/python3.10/dist-packages (from notebook->jupyter==1.0.0->d2l) (24.0.1)\n",
            "Requirement already satisfied: argon2-cffi in /usr/local/lib/python3.10/dist-packages (from notebook->jupyter==1.0.0->d2l) (23.1.0)\n",
            "Requirement already satisfied: nest-asyncio>=1.5 in /usr/local/lib/python3.10/dist-packages (from notebook->jupyter==1.0.0->d2l) (1.6.0)\n",
            "Requirement already satisfied: Send2Trash>=1.8.0 in /usr/local/lib/python3.10/dist-packages (from notebook->jupyter==1.0.0->d2l) (1.8.3)\n",
            "Requirement already satisfied: terminado>=0.8.3 in /usr/local/lib/python3.10/dist-packages (from notebook->jupyter==1.0.0->d2l) (0.18.1)\n",
            "Requirement already satisfied: prometheus-client in /usr/local/lib/python3.10/dist-packages (from notebook->jupyter==1.0.0->d2l) (0.21.1)\n",
            "Requirement already satisfied: nbclassic>=0.4.7 in /usr/local/lib/python3.10/dist-packages (from notebook->jupyter==1.0.0->d2l) (1.1.0)\n",
            "Collecting qtpy>=2.4.0 (from qtconsole->jupyter==1.0.0->d2l)\n",
            "  Downloading QtPy-2.4.2-py3-none-any.whl.metadata (12 kB)\n",
            "Requirement already satisfied: webencodings in /usr/local/lib/python3.10/dist-packages (from bleach!=5.0.0->nbconvert->jupyter==1.0.0->d2l) (0.5.1)\n",
            "Requirement already satisfied: setuptools>=18.5 in /usr/local/lib/python3.10/dist-packages (from ipython>=5.0.0->ipykernel->jupyter==1.0.0->d2l) (75.1.0)\n",
            "Collecting jedi>=0.16 (from ipython>=5.0.0->ipykernel->jupyter==1.0.0->d2l)\n",
            "  Downloading jedi-0.19.2-py2.py3-none-any.whl.metadata (22 kB)\n",
            "Requirement already satisfied: decorator in /usr/local/lib/python3.10/dist-packages (from ipython>=5.0.0->ipykernel->jupyter==1.0.0->d2l) (4.4.2)\n",
            "Requirement already satisfied: pickleshare in /usr/local/lib/python3.10/dist-packages (from ipython>=5.0.0->ipykernel->jupyter==1.0.0->d2l) (0.7.5)\n",
            "Requirement already satisfied: backcall in /usr/local/lib/python3.10/dist-packages (from ipython>=5.0.0->ipykernel->jupyter==1.0.0->d2l) (0.2.0)\n",
            "Requirement already satisfied: pexpect>4.3 in /usr/local/lib/python3.10/dist-packages (from ipython>=5.0.0->ipykernel->jupyter==1.0.0->d2l) (4.9.0)\n",
            "Requirement already satisfied: platformdirs>=2.5 in /usr/local/lib/python3.10/dist-packages (from jupyter-core>=4.7->nbconvert->jupyter==1.0.0->d2l) (4.3.6)\n",
            "Requirement already satisfied: notebook-shim>=0.2.3 in /usr/local/lib/python3.10/dist-packages (from nbclassic>=0.4.7->notebook->jupyter==1.0.0->d2l) (0.2.4)\n",
            "Requirement already satisfied: fastjsonschema>=2.15 in /usr/local/lib/python3.10/dist-packages (from nbformat>=5.7->nbconvert->jupyter==1.0.0->d2l) (2.21.1)\n",
            "Requirement already satisfied: jsonschema>=2.6 in /usr/local/lib/python3.10/dist-packages (from nbformat>=5.7->nbconvert->jupyter==1.0.0->d2l) (4.23.0)\n",
            "Requirement already satisfied: wcwidth in /usr/local/lib/python3.10/dist-packages (from prompt-toolkit!=3.0.0,!=3.0.1,<3.1.0,>=2.0.0->jupyter-console->jupyter==1.0.0->d2l) (0.2.13)\n",
            "Requirement already satisfied: ptyprocess in /usr/local/lib/python3.10/dist-packages (from terminado>=0.8.3->notebook->jupyter==1.0.0->d2l) (0.7.0)\n",
            "Requirement already satisfied: argon2-cffi-bindings in /usr/local/lib/python3.10/dist-packages (from argon2-cffi->notebook->jupyter==1.0.0->d2l) (21.2.0)\n",
            "Requirement already satisfied: soupsieve>1.2 in /usr/local/lib/python3.10/dist-packages (from beautifulsoup4->nbconvert->jupyter==1.0.0->d2l) (2.6)\n",
            "Requirement already satisfied: parso<0.9.0,>=0.8.4 in /usr/local/lib/python3.10/dist-packages (from jedi>=0.16->ipython>=5.0.0->ipykernel->jupyter==1.0.0->d2l) (0.8.4)\n",
            "Requirement already satisfied: attrs>=22.2.0 in /usr/local/lib/python3.10/dist-packages (from jsonschema>=2.6->nbformat>=5.7->nbconvert->jupyter==1.0.0->d2l) (24.3.0)\n",
            "Requirement already satisfied: jsonschema-specifications>=2023.03.6 in /usr/local/lib/python3.10/dist-packages (from jsonschema>=2.6->nbformat>=5.7->nbconvert->jupyter==1.0.0->d2l) (2024.10.1)\n",
            "Requirement already satisfied: referencing>=0.28.4 in /usr/local/lib/python3.10/dist-packages (from jsonschema>=2.6->nbformat>=5.7->nbconvert->jupyter==1.0.0->d2l) (0.35.1)\n",
            "Requirement already satisfied: rpds-py>=0.7.1 in /usr/local/lib/python3.10/dist-packages (from jsonschema>=2.6->nbformat>=5.7->nbconvert->jupyter==1.0.0->d2l) (0.22.3)\n",
            "Requirement already satisfied: jupyter-server<3,>=1.8 in /usr/local/lib/python3.10/dist-packages (from notebook-shim>=0.2.3->nbclassic>=0.4.7->notebook->jupyter==1.0.0->d2l) (1.24.0)\n",
            "Requirement already satisfied: cffi>=1.0.1 in /usr/local/lib/python3.10/dist-packages (from argon2-cffi-bindings->argon2-cffi->notebook->jupyter==1.0.0->d2l) (1.17.1)\n",
            "Requirement already satisfied: pycparser in /usr/local/lib/python3.10/dist-packages (from cffi>=1.0.1->argon2-cffi-bindings->argon2-cffi->notebook->jupyter==1.0.0->d2l) (2.22)\n",
            "Requirement already satisfied: anyio<4,>=3.1.0 in /usr/local/lib/python3.10/dist-packages (from jupyter-server<3,>=1.8->notebook-shim>=0.2.3->nbclassic>=0.4.7->notebook->jupyter==1.0.0->d2l) (3.7.1)\n",
            "Requirement already satisfied: websocket-client in /usr/local/lib/python3.10/dist-packages (from jupyter-server<3,>=1.8->notebook-shim>=0.2.3->nbclassic>=0.4.7->notebook->jupyter==1.0.0->d2l) (1.8.0)\n",
            "Requirement already satisfied: sniffio>=1.1 in /usr/local/lib/python3.10/dist-packages (from anyio<4,>=3.1.0->jupyter-server<3,>=1.8->notebook-shim>=0.2.3->nbclassic>=0.4.7->notebook->jupyter==1.0.0->d2l) (1.3.1)\n",
            "Requirement already satisfied: exceptiongroup in /usr/local/lib/python3.10/dist-packages (from anyio<4,>=3.1.0->jupyter-server<3,>=1.8->notebook-shim>=0.2.3->nbclassic>=0.4.7->notebook->jupyter==1.0.0->d2l) (1.2.2)\n",
            "Downloading d2l-1.0.3-py3-none-any.whl (111 kB)\n",
            "\u001b[2K   \u001b[90m━━━━━━━━━━━━━━━━━━━━━━━━━━━━━━━━━━━━━━━━\u001b[0m \u001b[32m111.7/111.7 kB\u001b[0m \u001b[31m9.0 MB/s\u001b[0m eta \u001b[36m0:00:00\u001b[0m\n",
            "\u001b[?25hDownloading jupyter-1.0.0-py2.py3-none-any.whl (2.7 kB)\n",
            "Downloading matplotlib-3.7.2-cp310-cp310-manylinux_2_17_x86_64.manylinux2014_x86_64.whl (11.6 MB)\n",
            "\u001b[2K   \u001b[90m━━━━━━━━━━━━━━━━━━━━━━━━━━━━━━━━━━━━━━━━\u001b[0m \u001b[32m11.6/11.6 MB\u001b[0m \u001b[31m39.3 MB/s\u001b[0m eta \u001b[36m0:00:00\u001b[0m\n",
            "\u001b[?25hDownloading matplotlib_inline-0.1.6-py3-none-any.whl (9.4 kB)\n",
            "Downloading numpy-1.23.5-cp310-cp310-manylinux_2_17_x86_64.manylinux2014_x86_64.whl (17.1 MB)\n",
            "\u001b[2K   \u001b[90m━━━━━━━━━━━━━━━━━━━━━━━━━━━━━━━━━━━━━━━━\u001b[0m \u001b[32m17.1/17.1 MB\u001b[0m \u001b[31m42.4 MB/s\u001b[0m eta \u001b[36m0:00:00\u001b[0m\n",
            "\u001b[?25hDownloading pandas-2.0.3-cp310-cp310-manylinux_2_17_x86_64.manylinux2014_x86_64.whl (12.3 MB)\n",
            "\u001b[2K   \u001b[90m━━━━━━━━━━━━━━━━━━━━━━━━━━━━━━━━━━━━━━━━\u001b[0m \u001b[32m12.3/12.3 MB\u001b[0m \u001b[31m33.6 MB/s\u001b[0m eta \u001b[36m0:00:00\u001b[0m\n",
            "\u001b[?25hDownloading requests-2.31.0-py3-none-any.whl (62 kB)\n",
            "\u001b[2K   \u001b[90m━━━━━━━━━━━━━━━━━━━━━━━━━━━━━━━━━━━━━━━━\u001b[0m \u001b[32m62.6/62.6 kB\u001b[0m \u001b[31m3.4 MB/s\u001b[0m eta \u001b[36m0:00:00\u001b[0m\n",
            "\u001b[?25hDownloading scipy-1.10.1-cp310-cp310-manylinux_2_17_x86_64.manylinux2014_x86_64.whl (34.4 MB)\n",
            "\u001b[2K   \u001b[90m━━━━━━━━━━━━━━━━━━━━━━━━━━━━━━━━━━━━━━━━\u001b[0m \u001b[32m34.4/34.4 MB\u001b[0m \u001b[31m14.1 MB/s\u001b[0m eta \u001b[36m0:00:00\u001b[0m\n",
            "\u001b[?25hDownloading pyparsing-3.0.9-py3-none-any.whl (98 kB)\n",
            "\u001b[2K   \u001b[90m━━━━━━━━━━━━━━━━━━━━━━━━━━━━━━━━━━━━━━━━\u001b[0m \u001b[32m98.3/98.3 kB\u001b[0m \u001b[31m7.3 MB/s\u001b[0m eta \u001b[36m0:00:00\u001b[0m\n",
            "\u001b[?25hDownloading qtconsole-5.6.1-py3-none-any.whl (125 kB)\n",
            "\u001b[2K   \u001b[90m━━━━━━━━━━━━━━━━━━━━━━━━━━━━━━━━━━━━━━━━\u001b[0m \u001b[32m125.0/125.0 kB\u001b[0m \u001b[31m9.0 MB/s\u001b[0m eta \u001b[36m0:00:00\u001b[0m\n",
            "\u001b[?25hDownloading QtPy-2.4.2-py3-none-any.whl (95 kB)\n",
            "\u001b[2K   \u001b[90m━━━━━━━━━━━━━━━━━━━━━━━━━━━━━━━━━━━━━━━━\u001b[0m \u001b[32m95.2/95.2 kB\u001b[0m \u001b[31m6.4 MB/s\u001b[0m eta \u001b[36m0:00:00\u001b[0m\n",
            "\u001b[?25hDownloading jedi-0.19.2-py2.py3-none-any.whl (1.6 MB)\n",
            "\u001b[2K   \u001b[90m━━━━━━━━━━━━━━━━━━━━━━━━━━━━━━━━━━━━━━━━\u001b[0m \u001b[32m1.6/1.6 MB\u001b[0m \u001b[31m57.9 MB/s\u001b[0m eta \u001b[36m0:00:00\u001b[0m\n",
            "\u001b[?25hInstalling collected packages: requests, qtpy, pyparsing, numpy, matplotlib-inline, jedi, scipy, pandas, matplotlib, qtconsole, jupyter, d2l\n",
            "  Attempting uninstall: requests\n",
            "    Found existing installation: requests 2.32.3\n",
            "    Uninstalling requests-2.32.3:\n",
            "      Successfully uninstalled requests-2.32.3\n",
            "  Attempting uninstall: pyparsing\n",
            "    Found existing installation: pyparsing 3.2.0\n",
            "    Uninstalling pyparsing-3.2.0:\n",
            "      Successfully uninstalled pyparsing-3.2.0\n",
            "  Attempting uninstall: numpy\n",
            "    Found existing installation: numpy 1.26.4\n",
            "    Uninstalling numpy-1.26.4:\n",
            "      Successfully uninstalled numpy-1.26.4\n",
            "  Attempting uninstall: matplotlib-inline\n",
            "    Found existing installation: matplotlib-inline 0.1.7\n",
            "    Uninstalling matplotlib-inline-0.1.7:\n",
            "      Successfully uninstalled matplotlib-inline-0.1.7\n",
            "  Attempting uninstall: scipy\n",
            "    Found existing installation: scipy 1.13.1\n",
            "    Uninstalling scipy-1.13.1:\n",
            "      Successfully uninstalled scipy-1.13.1\n",
            "  Attempting uninstall: pandas\n",
            "    Found existing installation: pandas 2.2.2\n",
            "    Uninstalling pandas-2.2.2:\n",
            "      Successfully uninstalled pandas-2.2.2\n",
            "  Attempting uninstall: matplotlib\n",
            "    Found existing installation: matplotlib 3.8.0\n",
            "    Uninstalling matplotlib-3.8.0:\n",
            "      Successfully uninstalled matplotlib-3.8.0\n",
            "\u001b[31mERROR: pip's dependency resolver does not currently take into account all the packages that are installed. This behaviour is the source of the following dependency conflicts.\n",
            "albucore 0.0.19 requires numpy>=1.24.4, but you have numpy 1.23.5 which is incompatible.\n",
            "albumentations 1.4.20 requires numpy>=1.24.4, but you have numpy 1.23.5 which is incompatible.\n",
            "bigframes 1.29.0 requires numpy>=1.24.0, but you have numpy 1.23.5 which is incompatible.\n",
            "chex 0.1.88 requires numpy>=1.24.1, but you have numpy 1.23.5 which is incompatible.\n",
            "google-colab 1.0.0 requires pandas==2.2.2, but you have pandas 2.0.3 which is incompatible.\n",
            "google-colab 1.0.0 requires requests==2.32.3, but you have requests 2.31.0 which is incompatible.\n",
            "jax 0.4.33 requires numpy>=1.24, but you have numpy 1.23.5 which is incompatible.\n",
            "jaxlib 0.4.33 requires numpy>=1.24, but you have numpy 1.23.5 which is incompatible.\n",
            "mizani 0.13.1 requires pandas>=2.2.0, but you have pandas 2.0.3 which is incompatible.\n",
            "plotnine 0.14.4 requires matplotlib>=3.8.0, but you have matplotlib 3.7.2 which is incompatible.\n",
            "plotnine 0.14.4 requires pandas>=2.2.0, but you have pandas 2.0.3 which is incompatible.\n",
            "pymc 5.19.1 requires numpy>=1.25.0, but you have numpy 1.23.5 which is incompatible.\n",
            "scikit-image 0.25.0 requires numpy>=1.24, but you have numpy 1.23.5 which is incompatible.\n",
            "scikit-image 0.25.0 requires scipy>=1.11.2, but you have scipy 1.10.1 which is incompatible.\n",
            "xarray 2024.11.0 requires numpy>=1.24, but you have numpy 1.23.5 which is incompatible.\n",
            "xarray 2024.11.0 requires pandas>=2.1, but you have pandas 2.0.3 which is incompatible.\u001b[0m\u001b[31m\n",
            "\u001b[0mSuccessfully installed d2l-1.0.3 jedi-0.19.2 jupyter-1.0.0 matplotlib-3.7.2 matplotlib-inline-0.1.6 numpy-1.23.5 pandas-2.0.3 pyparsing-3.0.9 qtconsole-5.6.1 qtpy-2.4.2 requests-2.31.0 scipy-1.10.1\n"
          ]
        },
        {
          "output_type": "display_data",
          "data": {
            "application/vnd.colab-display-data+json": {
              "pip_warning": {
                "packages": [
                  "matplotlib",
                  "matplotlib_inline",
                  "mpl_toolkits",
                  "numpy"
                ]
              },
              "id": "546895b9b5d14522b01a008f8c4e0dd4"
            }
          },
          "metadata": {}
        }
      ],
      "source": [
        "!pip install d2l"
      ]
    },
    {
      "cell_type": "code",
      "source": [
        "import torch\n",
        "from torch import nn\n",
        "from d2l import torch as d2l"
      ],
      "metadata": {
        "id": "fae084cNDmuE"
      },
      "execution_count": 1,
      "outputs": []
    },
    {
      "cell_type": "markdown",
      "source": [
        "## **Network in Network (NiN)**\n",
        "\n",
        "LeNet, AlexNet, and VGG share a common structure: they extract spatial features via convolution and pooling layers, followed by fully connected layers for processing. While AlexNet and VGG improved LeNet by widening and deepening these modules, they introduced challenges:\n",
        "\n",
        "- High Parameter Usage: Fully connected layers require vast memory, making models like VGG-11 computationally expensive, especially for mobile and embedded devices with limited RAM.\n",
        "- Limited Nonlinearity Addition: Adding fully connected layers earlier disrupts spatial structure and increases memory demand.\n",
        "\n",
        "Network-in-Network (NiN) blocks address these issues by:\n",
        "\n",
        "- Using 1×1 convolutions to add local nonlinearities.\n",
        "- Employing global average pooling to summarize spatial representations efficiently. This approach reduces memory usage while maintaining spatial structure and effectiveness.\n",
        "\n",
        "The inputs and outputs of convolutional layers consist\n",
        "of four-dimensional tensors with axes corresponding to the example, channel, height, and width.\n",
        "\n",
        "The inputs and outputs of fully connected layers are typically twodimensional\n",
        "tensors corresponding to the example and feature."
      ],
      "metadata": {
        "id": "JHq2p-JyEdPk"
      }
    },
    {
      "cell_type": "markdown",
      "source": [
        "![image.png](data:image/png;base64,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)"
      ],
      "metadata": {
        "id": "FksyZp6oGduX"
      }
    },
    {
      "cell_type": "markdown",
      "source": [
        "\n",
        "NiN follows AlexNet's initial convolution sizes (11×11, 5×5, 3×3) and output channel counts. Each NiN block is paired with a 3×3 max-pooling layer (stride 2).\n",
        "\n",
        "Key differences from AlexNet and VGG:\n",
        "\n",
        "- No Fully Connected Layers: Instead, NiN uses a final NiN block with output channels equal to label classes, followed by global average pooling to produce logits.\n",
        "- Efficiency: This design drastically reduces model parameters but may increase training time."
      ],
      "metadata": {
        "id": "zlvw4DbZHRL6"
      }
    },
    {
      "cell_type": "code",
      "source": [
        "# NiN block\n",
        "def nin_block(out_channels, kernel_size, strides, padding):\n",
        "  return nn.Sequential(\n",
        "      nn.LazyConv2d(out_channels, kernel_size, strides, padding),\n",
        "      nn.ReLU(),\n",
        "      nn.LazyConv2d(out_channels, kernel_size=1),\n",
        "      nn.ReLU(),\n",
        "      nn.LazyConv2d(out_channels, kernel_size=1),\n",
        "      nn.ReLU()\n",
        "  )"
      ],
      "metadata": {
        "id": "O3BKdI39GmvQ"
      },
      "execution_count": 2,
      "outputs": []
    },
    {
      "cell_type": "code",
      "source": [
        "class NiN(d2l.Classifier):\n",
        "  def __init__(self, lr=0.1, num_classes=10):\n",
        "    super().__init__()\n",
        "    self.save_hyperparameters()\n",
        "    self.net = nn.Sequential(\n",
        "      nin_block(96, kernel_size=11, strides=4, padding=0),\n",
        "      nn.MaxPool2d(3, stride=2),\n",
        "      nin_block(256, kernel_size=5, strides=1, padding=2),\n",
        "      nn.MaxPool2d(3, stride=2),\n",
        "      nin_block(384, kernel_size=3, strides=1, padding=1),\n",
        "      nn.MaxPool2d(3, stride=2),\n",
        "      nn.Dropout(0.5),\n",
        "      nin_block(num_classes, kernel_size=3, strides=1, padding=1),\n",
        "      nn.AdaptiveAvgPool2d((1, 1)),\n",
        "      nn.Flatten()\n",
        "      )\n",
        "    self.net.apply(d2l.init_cnn)"
      ],
      "metadata": {
        "id": "8m0BIu6NHIwc"
      },
      "execution_count": 3,
      "outputs": []
    },
    {
      "cell_type": "code",
      "source": [
        "NiN().layer_summary((1, 1, 224, 224))"
      ],
      "metadata": {
        "colab": {
          "base_uri": "https://localhost:8080/"
        },
        "id": "QrTWVoH5JSGa",
        "outputId": "5e0e165b-d082-43fa-a59e-b60646db04a7"
      },
      "execution_count": 5,
      "outputs": [
        {
          "output_type": "stream",
          "name": "stdout",
          "text": [
            "Sequential output shape:\t torch.Size([1, 96, 54, 54])\n",
            "MaxPool2d output shape:\t torch.Size([1, 96, 26, 26])\n",
            "Sequential output shape:\t torch.Size([1, 256, 26, 26])\n",
            "MaxPool2d output shape:\t torch.Size([1, 256, 12, 12])\n",
            "Sequential output shape:\t torch.Size([1, 384, 12, 12])\n",
            "MaxPool2d output shape:\t torch.Size([1, 384, 5, 5])\n",
            "Dropout output shape:\t torch.Size([1, 384, 5, 5])\n",
            "Sequential output shape:\t torch.Size([1, 10, 5, 5])\n",
            "AdaptiveAvgPool2d output shape:\t torch.Size([1, 10, 1, 1])\n",
            "Flatten output shape:\t torch.Size([1, 10])\n"
          ]
        }
      ]
    },
    {
      "cell_type": "markdown",
      "source": [
        "## **Training**"
      ],
      "metadata": {
        "id": "1iCatioHJYem"
      }
    },
    {
      "cell_type": "code",
      "source": [
        "model = NiN(lr=0.05)\n",
        "trainer = d2l.Trainer(max_epochs=10)\n",
        "data = d2l.FashionMNIST(batch_size=128, resize=(224, 224))\n",
        "model.apply_init([next(iter(data.get_dataloader(True)))[0]], d2l.init_cnn)\n",
        "trainer.fit(model, data)"
      ],
      "metadata": {
        "colab": {
          "base_uri": "https://localhost:8080/"
        },
        "id": "oxeuGNxcJe_u",
        "outputId": "6560aa63-063e-4c48-f9d2-d324550737e6"
      },
      "execution_count": null,
      "outputs": [
        {
          "output_type": "stream",
          "name": "stdout",
          "text": [
            "Downloading http://fashion-mnist.s3-website.eu-central-1.amazonaws.com/train-images-idx3-ubyte.gz\n",
            "Downloading http://fashion-mnist.s3-website.eu-central-1.amazonaws.com/train-images-idx3-ubyte.gz to ../data/FashionMNIST/raw/train-images-idx3-ubyte.gz\n"
          ]
        },
        {
          "output_type": "stream",
          "name": "stderr",
          "text": [
            "100%|██████████| 26.4M/26.4M [00:01<00:00, 20.3MB/s]\n"
          ]
        },
        {
          "output_type": "stream",
          "name": "stdout",
          "text": [
            "Extracting ../data/FashionMNIST/raw/train-images-idx3-ubyte.gz to ../data/FashionMNIST/raw\n",
            "\n",
            "Downloading http://fashion-mnist.s3-website.eu-central-1.amazonaws.com/train-labels-idx1-ubyte.gz\n",
            "Downloading http://fashion-mnist.s3-website.eu-central-1.amazonaws.com/train-labels-idx1-ubyte.gz to ../data/FashionMNIST/raw/train-labels-idx1-ubyte.gz\n"
          ]
        },
        {
          "output_type": "stream",
          "name": "stderr",
          "text": [
            "100%|██████████| 29.5k/29.5k [00:00<00:00, 338kB/s]\n"
          ]
        },
        {
          "output_type": "stream",
          "name": "stdout",
          "text": [
            "Extracting ../data/FashionMNIST/raw/train-labels-idx1-ubyte.gz to ../data/FashionMNIST/raw\n",
            "\n",
            "Downloading http://fashion-mnist.s3-website.eu-central-1.amazonaws.com/t10k-images-idx3-ubyte.gz\n",
            "Downloading http://fashion-mnist.s3-website.eu-central-1.amazonaws.com/t10k-images-idx3-ubyte.gz to ../data/FashionMNIST/raw/t10k-images-idx3-ubyte.gz\n"
          ]
        },
        {
          "output_type": "stream",
          "name": "stderr",
          "text": [
            "100%|██████████| 4.42M/4.42M [00:00<00:00, 5.46MB/s]\n"
          ]
        },
        {
          "output_type": "stream",
          "name": "stdout",
          "text": [
            "Extracting ../data/FashionMNIST/raw/t10k-images-idx3-ubyte.gz to ../data/FashionMNIST/raw\n",
            "\n",
            "Downloading http://fashion-mnist.s3-website.eu-central-1.amazonaws.com/t10k-labels-idx1-ubyte.gz\n",
            "Downloading http://fashion-mnist.s3-website.eu-central-1.amazonaws.com/t10k-labels-idx1-ubyte.gz to ../data/FashionMNIST/raw/t10k-labels-idx1-ubyte.gz\n"
          ]
        },
        {
          "output_type": "stream",
          "name": "stderr",
          "text": [
            "100%|██████████| 5.15k/5.15k [00:00<00:00, 8.19MB/s]"
          ]
        },
        {
          "output_type": "stream",
          "name": "stdout",
          "text": [
            "Extracting ../data/FashionMNIST/raw/t10k-labels-idx1-ubyte.gz to ../data/FashionMNIST/raw\n",
            "\n"
          ]
        },
        {
          "output_type": "stream",
          "name": "stderr",
          "text": [
            "\n",
            "/usr/local/lib/python3.10/dist-packages/torch/utils/data/dataloader.py:617: UserWarning: This DataLoader will create 4 worker processes in total. Our suggested max number of worker in current system is 2, which is smaller than what this DataLoader is going to create. Please be aware that excessive worker creation might get DataLoader running slow or even freeze, lower the worker number to avoid potential slowness/freeze if necessary.\n",
            "  warnings.warn(\n"
          ]
        }
      ]
    }
  ]
}