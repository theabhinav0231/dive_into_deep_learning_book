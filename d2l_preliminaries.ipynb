{
  "nbformat": 4,
  "nbformat_minor": 0,
  "metadata": {
    "colab": {
      "provenance": [],
      "authorship_tag": "ABX9TyPo7UKE7NBpVCIK7Bx+YzjL",
      "include_colab_link": true
    },
    "kernelspec": {
      "name": "python3",
      "display_name": "Python 3"
    },
    "language_info": {
      "name": "python"
    }
  },
  "cells": [
    {
      "cell_type": "markdown",
      "metadata": {
        "id": "view-in-github",
        "colab_type": "text"
      },
      "source": [
        "<a href=\"https://colab.research.google.com/github/theabhinav0231/dive_into_deep_learning_book/blob/main/d2l_preliminaries.ipynb\" target=\"_parent\"><img src=\"https://colab.research.google.com/assets/colab-badge.svg\" alt=\"Open In Colab\"/></a>"
      ]
    },
    {
      "cell_type": "markdown",
      "source": [
        "Tensors -> n-dimensional arrays, supports automatic differentiation, leverages GPUs to accelerate numerical computation, Numpy only uses CPUs.\n",
        "In one-dimensional case, a tensor is called a vector.With two-dimensional, a tensor is called a matrix, with k>2, just refer to object as kth-order tensor.\n"
      ],
      "metadata": {
        "id": "44mm9-WtcZcg"
      }
    },
    {
      "cell_type": "code",
      "source": [
        "import torch"
      ],
      "metadata": {
        "id": "DMHRkNEAdIqk"
      },
      "execution_count": 1,
      "outputs": []
    },
    {
      "cell_type": "code",
      "source": [
        "x = torch.arange(12, dtype=torch.float32)\n",
        "x  # each value is called an element of the tensor"
      ],
      "metadata": {
        "colab": {
          "base_uri": "https://localhost:8080/"
        },
        "id": "mSqAAkIPdLWB",
        "outputId": "e8b0bc34-07ee-47b3-ae79-b1cdb97f0b3e"
      },
      "execution_count": 2,
      "outputs": [
        {
          "output_type": "execute_result",
          "data": {
            "text/plain": [
              "tensor([ 0.,  1.,  2.,  3.,  4.,  5.,  6.,  7.,  8.,  9., 10., 11.])"
            ]
          },
          "metadata": {},
          "execution_count": 2
        }
      ]
    },
    {
      "cell_type": "code",
      "source": [
        "# to get total number of elements in a tensor\n",
        "x.numel() # len(x) will also work"
      ],
      "metadata": {
        "colab": {
          "base_uri": "https://localhost:8080/"
        },
        "id": "OogBoVj2eFKM",
        "outputId": "68b2a0a6-b069-4a6c-93a5-33cecdc04013"
      },
      "execution_count": 3,
      "outputs": [
        {
          "output_type": "execute_result",
          "data": {
            "text/plain": [
              "12"
            ]
          },
          "metadata": {},
          "execution_count": 3
        }
      ]
    },
    {
      "cell_type": "code",
      "source": [
        "# to get shape of the tensor i.e. the length along each axis\n",
        "x.shape"
      ],
      "metadata": {
        "colab": {
          "base_uri": "https://localhost:8080/"
        },
        "id": "cfuKJBUpee0o",
        "outputId": "a9d05de5-c18b-482b-e24c-8d9ec63d0c67"
      },
      "execution_count": 4,
      "outputs": [
        {
          "output_type": "execute_result",
          "data": {
            "text/plain": [
              "torch.Size([12])"
            ]
          },
          "metadata": {},
          "execution_count": 4
        }
      ]
    },
    {
      "cell_type": "code",
      "source": [
        "# to get the shape of a tensor without altering its size or values, by reshape.\n",
        "# a vector x of shape (12,) to a matrix X with shape (3, 4). the elements of our vector are  thus x[3] == X[0, 3].\n",
        "X = x.reshape(3, 4)\n",
        "X"
      ],
      "metadata": {
        "colab": {
          "base_uri": "https://localhost:8080/"
        },
        "id": "IyXKxiJTepFg",
        "outputId": "374ae374-fddc-4812-94ee-99b0acefb4b4"
      },
      "execution_count": 5,
      "outputs": [
        {
          "output_type": "execute_result",
          "data": {
            "text/plain": [
              "tensor([[ 0.,  1.,  2.,  3.],\n",
              "        [ 4.,  5.,  6.,  7.],\n",
              "        [ 8.,  9., 10., 11.]])"
            ]
          },
          "metadata": {},
          "execution_count": 5
        }
      ]
    },
    {
      "cell_type": "code",
      "source": [
        "torch.zeros((2, 3, 4))"
      ],
      "metadata": {
        "colab": {
          "base_uri": "https://localhost:8080/"
        },
        "id": "Og7qJ3-PfxRS",
        "outputId": "b7df00f5-0808-43c7-d673-7b371e6031ef"
      },
      "execution_count": 6,
      "outputs": [
        {
          "output_type": "execute_result",
          "data": {
            "text/plain": [
              "tensor([[[0., 0., 0., 0.],\n",
              "         [0., 0., 0., 0.],\n",
              "         [0., 0., 0., 0.]],\n",
              "\n",
              "        [[0., 0., 0., 0.],\n",
              "         [0., 0., 0., 0.],\n",
              "         [0., 0., 0., 0.]]])"
            ]
          },
          "metadata": {},
          "execution_count": 6
        }
      ]
    },
    {
      "cell_type": "code",
      "source": [
        "torch.ones(2, 3, 4)"
      ],
      "metadata": {
        "colab": {
          "base_uri": "https://localhost:8080/"
        },
        "id": "3ljaXnIXgdPu",
        "outputId": "b10a9889-f193-42a7-b1b0-f4be00b99a7d"
      },
      "execution_count": 7,
      "outputs": [
        {
          "output_type": "execute_result",
          "data": {
            "text/plain": [
              "tensor([[[1., 1., 1., 1.],\n",
              "         [1., 1., 1., 1.],\n",
              "         [1., 1., 1., 1.]],\n",
              "\n",
              "        [[1., 1., 1., 1.],\n",
              "         [1., 1., 1., 1.],\n",
              "         [1., 1., 1., 1.]]])"
            ]
          },
          "metadata": {},
          "execution_count": 7
        }
      ]
    },
    {
      "cell_type": "code",
      "source": [
        "torch.randn(3, 4)"
      ],
      "metadata": {
        "id": "EuMAiJpagkXI",
        "colab": {
          "base_uri": "https://localhost:8080/"
        },
        "outputId": "64f4be97-d222-473e-e502-a582e634eb8a"
      },
      "execution_count": 8,
      "outputs": [
        {
          "output_type": "execute_result",
          "data": {
            "text/plain": [
              "tensor([[ 1.2464,  1.8489, -0.9687,  1.2618],\n",
              "        [ 1.7570, -0.4815, -0.4049, -0.1145],\n",
              "        [-0.8045,  2.3419,  1.6789, -1.3918]])"
            ]
          },
          "metadata": {},
          "execution_count": 8
        }
      ]
    },
    {
      "cell_type": "code",
      "source": [
        "X = torch.tensor([[2, 1, 4, 3], [1, 2, 3, 4], [4, 3, 2, 1]])\n",
        "X"
      ],
      "metadata": {
        "colab": {
          "base_uri": "https://localhost:8080/"
        },
        "id": "YE4Z8S7HkOSj",
        "outputId": "15782fb7-a1a3-4262-869e-d44f3c1dae1e"
      },
      "execution_count": 9,
      "outputs": [
        {
          "output_type": "execute_result",
          "data": {
            "text/plain": [
              "tensor([[2, 1, 4, 3],\n",
              "        [1, 2, 3, 4],\n",
              "        [4, 3, 2, 1]])"
            ]
          },
          "metadata": {},
          "execution_count": 9
        }
      ]
    },
    {
      "cell_type": "code",
      "source": [
        "X[-1]"
      ],
      "metadata": {
        "colab": {
          "base_uri": "https://localhost:8080/"
        },
        "id": "FNA4QEXS5U--",
        "outputId": "8be26815-ade1-484e-fe11-d56c8393f621"
      },
      "execution_count": 10,
      "outputs": [
        {
          "output_type": "execute_result",
          "data": {
            "text/plain": [
              "tensor([4, 3, 2, 1])"
            ]
          },
          "metadata": {},
          "execution_count": 10
        }
      ]
    },
    {
      "cell_type": "code",
      "source": [
        "X[1:3]"
      ],
      "metadata": {
        "colab": {
          "base_uri": "https://localhost:8080/"
        },
        "id": "Krmmh1W86VD9",
        "outputId": "20d3f341-617a-4bbd-d028-a375659d40cf"
      },
      "execution_count": 11,
      "outputs": [
        {
          "output_type": "execute_result",
          "data": {
            "text/plain": [
              "tensor([[1, 2, 3, 4],\n",
              "        [4, 3, 2, 1]])"
            ]
          },
          "metadata": {},
          "execution_count": 11
        }
      ]
    },
    {
      "cell_type": "code",
      "source": [
        "X[1, 2] = 17\n",
        "X"
      ],
      "metadata": {
        "colab": {
          "base_uri": "https://localhost:8080/"
        },
        "id": "fnc0L6QP6XUF",
        "outputId": "4e86d7d4-402d-4929-f0d5-71bc4e9c697f"
      },
      "execution_count": 12,
      "outputs": [
        {
          "output_type": "execute_result",
          "data": {
            "text/plain": [
              "tensor([[ 2,  1,  4,  3],\n",
              "        [ 1,  2, 17,  4],\n",
              "        [ 4,  3,  2,  1]])"
            ]
          },
          "metadata": {},
          "execution_count": 12
        }
      ]
    },
    {
      "cell_type": "code",
      "source": [
        "X[:2, :]"
      ],
      "metadata": {
        "colab": {
          "base_uri": "https://localhost:8080/"
        },
        "id": "vDlnNxhj6uA2",
        "outputId": "6ff843b0-1abe-444a-9d43-73054906c8b9"
      },
      "execution_count": 13,
      "outputs": [
        {
          "output_type": "execute_result",
          "data": {
            "text/plain": [
              "tensor([[ 2,  1,  4,  3],\n",
              "        [ 1,  2, 17,  4]])"
            ]
          },
          "metadata": {},
          "execution_count": 13
        }
      ]
    },
    {
      "cell_type": "code",
      "source": [
        "X[:2, :] = 12\n",
        "X"
      ],
      "metadata": {
        "colab": {
          "base_uri": "https://localhost:8080/"
        },
        "id": "UfibHyAZ845T",
        "outputId": "243840ff-62a5-46c8-9441-1214b7bb5fe6"
      },
      "execution_count": 14,
      "outputs": [
        {
          "output_type": "execute_result",
          "data": {
            "text/plain": [
              "tensor([[12, 12, 12, 12],\n",
              "        [12, 12, 12, 12],\n",
              "        [ 4,  3,  2,  1]])"
            ]
          },
          "metadata": {},
          "execution_count": 14
        }
      ]
    },
    {
      "cell_type": "code",
      "source": [
        "x = torch.tensor([1.0, 2, 4, 8])\n",
        "y = torch.tensor([2, 2, 2, 2])\n",
        "x + y, x - y, x * y, x / y, x ** y"
      ],
      "metadata": {
        "colab": {
          "base_uri": "https://localhost:8080/"
        },
        "id": "wUOglwm-9D-N",
        "outputId": "4a06b5c3-f89e-495f-bdc2-9df90251c631"
      },
      "execution_count": 15,
      "outputs": [
        {
          "output_type": "execute_result",
          "data": {
            "text/plain": [
              "(tensor([ 3.,  4.,  6., 10.]),\n",
              " tensor([-1.,  0.,  2.,  6.]),\n",
              " tensor([ 2.,  4.,  8., 16.]),\n",
              " tensor([0.5000, 1.0000, 2.0000, 4.0000]),\n",
              " tensor([ 1.,  4., 16., 64.]))"
            ]
          },
          "metadata": {},
          "execution_count": 15
        }
      ]
    },
    {
      "cell_type": "code",
      "source": [
        "# Tensor concatenation\n",
        "X = torch.arange(12, dtype=torch.float32).reshape((3, 4))\n",
        "Y = torch.tensor([[2.0, 1, 4, 3], [1, 2, 3, 4], [4, 3, 2, 1]])\n",
        "torch.cat((X, Y), dim=0)"
      ],
      "metadata": {
        "colab": {
          "base_uri": "https://localhost:8080/"
        },
        "id": "JCk43Dvm-XEm",
        "outputId": "d371abcf-b0fb-458c-8609-a326b72e95b5"
      },
      "execution_count": 16,
      "outputs": [
        {
          "output_type": "execute_result",
          "data": {
            "text/plain": [
              "tensor([[ 0.,  1.,  2.,  3.],\n",
              "        [ 4.,  5.,  6.,  7.],\n",
              "        [ 8.,  9., 10., 11.],\n",
              "        [ 2.,  1.,  4.,  3.],\n",
              "        [ 1.,  2.,  3.,  4.],\n",
              "        [ 4.,  3.,  2.,  1.]])"
            ]
          },
          "metadata": {},
          "execution_count": 16
        }
      ]
    },
    {
      "cell_type": "code",
      "source": [
        "torch.cat((X, Y), dim=1)"
      ],
      "metadata": {
        "colab": {
          "base_uri": "https://localhost:8080/"
        },
        "id": "-Eo_AgVX_vLT",
        "outputId": "7b954783-573e-4060-82a1-294b7eac509d"
      },
      "execution_count": 17,
      "outputs": [
        {
          "output_type": "execute_result",
          "data": {
            "text/plain": [
              "tensor([[ 0.,  1.,  2.,  3.,  2.,  1.,  4.,  3.],\n",
              "        [ 4.,  5.,  6.,  7.,  1.,  2.,  3.,  4.],\n",
              "        [ 8.,  9., 10., 11.,  4.,  3.,  2.,  1.]])"
            ]
          },
          "metadata": {},
          "execution_count": 17
        }
      ]
    },
    {
      "cell_type": "code",
      "source": [
        "# binary tensor\n",
        "X == Y"
      ],
      "metadata": {
        "colab": {
          "base_uri": "https://localhost:8080/"
        },
        "id": "CgcE7vOsCi4T",
        "outputId": "a3d0881f-6de2-4f9c-d494-25b2e599eb01"
      },
      "execution_count": 18,
      "outputs": [
        {
          "output_type": "execute_result",
          "data": {
            "text/plain": [
              "tensor([[False,  True, False,  True],\n",
              "        [False, False, False, False],\n",
              "        [False, False, False, False]])"
            ]
          },
          "metadata": {},
          "execution_count": 18
        }
      ]
    },
    {
      "cell_type": "code",
      "source": [
        "# sun\n",
        "X.sum()"
      ],
      "metadata": {
        "colab": {
          "base_uri": "https://localhost:8080/"
        },
        "id": "Gj1VGHUZC6Nj",
        "outputId": "a963dbee-60a1-4fcd-ff16-11169a5a7175"
      },
      "execution_count": 19,
      "outputs": [
        {
          "output_type": "execute_result",
          "data": {
            "text/plain": [
              "tensor(66.)"
            ]
          },
          "metadata": {},
          "execution_count": 19
        }
      ]
    },
    {
      "cell_type": "code",
      "source": [
        "# Broadcasting - element wise operation\n",
        "a = torch.arange(3).reshape((3, 1))\n",
        "b = torch.arange(2).reshape((1, 2))\n",
        "a, b"
      ],
      "metadata": {
        "id": "B9S5h8bdDA_b",
        "colab": {
          "base_uri": "https://localhost:8080/"
        },
        "outputId": "1be1f59c-7038-42cc-b8be-5ed8ebac97fb"
      },
      "execution_count": 20,
      "outputs": [
        {
          "output_type": "execute_result",
          "data": {
            "text/plain": [
              "(tensor([[0],\n",
              "         [1],\n",
              "         [2]]),\n",
              " tensor([[0, 1]]))"
            ]
          },
          "metadata": {},
          "execution_count": 20
        }
      ]
    },
    {
      "cell_type": "code",
      "source": [
        "c = torch.arange(4).reshape((2, 2))\n",
        "c"
      ],
      "metadata": {
        "colab": {
          "base_uri": "https://localhost:8080/"
        },
        "id": "X4NIs1L-qecW",
        "outputId": "5506b464-8ce6-4eca-d549-36d9cdfad138"
      },
      "execution_count": 21,
      "outputs": [
        {
          "output_type": "execute_result",
          "data": {
            "text/plain": [
              "tensor([[0, 1],\n",
              "        [2, 3]])"
            ]
          },
          "metadata": {},
          "execution_count": 21
        }
      ]
    },
    {
      "cell_type": "code",
      "source": [
        "a + b"
      ],
      "metadata": {
        "colab": {
          "base_uri": "https://localhost:8080/"
        },
        "id": "2E1wFv7mvU8d",
        "outputId": "5ccb301e-be75-4592-a7b2-5664a424748b"
      },
      "execution_count": 22,
      "outputs": [
        {
          "output_type": "execute_result",
          "data": {
            "text/plain": [
              "tensor([[0, 1],\n",
              "        [1, 2],\n",
              "        [2, 3]])"
            ]
          },
          "metadata": {},
          "execution_count": 22
        }
      ]
    },
    {
      "cell_type": "code",
      "source": [
        "A = X.numpy()\n",
        "B = torch.from_numpy(A)\n",
        "type(A), type(B)"
      ],
      "metadata": {
        "colab": {
          "base_uri": "https://localhost:8080/"
        },
        "id": "D7goX9h9vf8G",
        "outputId": "92cbf626-2e0e-4031-99d5-5858eba66d76"
      },
      "execution_count": 23,
      "outputs": [
        {
          "output_type": "execute_result",
          "data": {
            "text/plain": [
              "(numpy.ndarray, torch.Tensor)"
            ]
          },
          "metadata": {},
          "execution_count": 23
        }
      ]
    },
    {
      "cell_type": "code",
      "source": [
        "a = torch.tensor([3.5])\n",
        "a, a.item(), float(a), int(a)"
      ],
      "metadata": {
        "colab": {
          "base_uri": "https://localhost:8080/"
        },
        "id": "yh2WYrAoGIoR",
        "outputId": "f850f8db-708e-42d9-b785-f5aa8257199b"
      },
      "execution_count": 24,
      "outputs": [
        {
          "output_type": "execute_result",
          "data": {
            "text/plain": [
              "(tensor([3.5000]), 3.5, 3.5, 3)"
            ]
          },
          "metadata": {},
          "execution_count": 24
        }
      ]
    },
    {
      "cell_type": "markdown",
      "source": [
        "Data Preprocessing -\n",
        "Pandas!"
      ],
      "metadata": {
        "id": "I-G6DM8eHFYp"
      }
    },
    {
      "cell_type": "code",
      "source": [
        "# Creating a csv file, a dataset of homes\n",
        "import os\n",
        "os.makedirs(os.path.join(\"..\", \"data\"), exist_ok=True)\n",
        "data_file = os.path.join(\"..\", \"data\", \"house_tiny.csv\")\n",
        "with open(data_file, \"w\") as f:\n",
        "  f.write(\"\"\"NumRooms, RoofType, Price\n",
        "  NA, NA, 127500\n",
        "  2, NA, 106000\n",
        "  4, Slate, 178100\n",
        "  NA, NA, 140000\"\"\")"
      ],
      "metadata": {
        "id": "lBAkOabhH4Hm"
      },
      "execution_count": 25,
      "outputs": []
    },
    {
      "cell_type": "code",
      "source": [
        "import pandas as pd\n",
        "data = pd.read_csv(data_file)\n",
        "print(data)"
      ],
      "metadata": {
        "colab": {
          "base_uri": "https://localhost:8080/"
        },
        "id": "8L9CGVI6J5Kw",
        "outputId": "136ee7f7-8f2f-46b8-c6ff-89a7dd0c51dd"
      },
      "execution_count": 26,
      "outputs": [
        {
          "output_type": "stream",
          "name": "stdout",
          "text": [
            "  NumRooms  RoofType   Price\n",
            "0       NA        NA  127500\n",
            "1        2        NA  106000\n",
            "2        4     Slate  178100\n",
            "3       NA        NA  140000\n"
          ]
        }
      ]
    },
    {
      "cell_type": "code",
      "source": [
        "\"\"\" We can treat NaN\n",
        "as a category. Since the RoofType column takes values Slate and NaN, pandas can convert\n",
        "this column into two columns RoofType_Slate and RoofType_nan. A row whose roof type\n",
        "is Slate will set values of RoofType_Slate and RoofType_nan to 1 and 0, respectively.\n",
        "The converse holds for a row with a missing RoofType value\"\"\""
      ],
      "metadata": {
        "colab": {
          "base_uri": "https://localhost:8080/",
          "height": 104
        },
        "id": "MutuX6tHMD6V",
        "outputId": "66810628-79c4-4daa-f874-2b8bb5dc7538"
      },
      "execution_count": 27,
      "outputs": [
        {
          "output_type": "execute_result",
          "data": {
            "text/plain": [
              "' We can treat NaN\\nas a category. Since the RoofType column takes values Slate and NaN, pandas can convert\\nthis column into two columns RoofType_Slate and RoofType_nan. A row whose roof type\\nis Slate will set values of RoofType_Slate and RoofType_nan to 1 and 0, respectively.\\nThe converse holds for a row with a missing RoofType value'"
            ],
            "application/vnd.google.colaboratory.intrinsic+json": {
              "type": "string"
            }
          },
          "metadata": {},
          "execution_count": 27
        }
      ]
    },
    {
      "cell_type": "code",
      "source": [
        "inputs, targets = data.iloc[:, 0:2], data.iloc[:, 2]\n",
        "inputs = pd.get_dummies(inputs, dummy_na=True)\n",
        "print(inputs)"
      ],
      "metadata": {
        "colab": {
          "base_uri": "https://localhost:8080/"
        },
        "id": "BNNvTlr5Lk7a",
        "outputId": "1db02231-2aec-4357-fc04-bf3f107ac8f1"
      },
      "execution_count": 28,
      "outputs": [
        {
          "output_type": "stream",
          "name": "stdout",
          "text": [
            "   NumRooms_  2  NumRooms_  4  NumRooms_  NA  NumRooms_nan   RoofType_ NA  \\\n",
            "0         False         False           True         False           True   \n",
            "1          True         False          False         False           True   \n",
            "2         False          True          False         False          False   \n",
            "3         False         False           True         False           True   \n",
            "\n",
            "    RoofType_ Slate   RoofType_nan  \n",
            "0             False          False  \n",
            "1             False          False  \n",
            "2              True          False  \n",
            "3             False          False  \n"
          ]
        }
      ]
    },
    {
      "cell_type": "code",
      "source": [
        "inputs = inputs.fillna(inputs.mean())\n",
        "print(inputs)"
      ],
      "metadata": {
        "colab": {
          "base_uri": "https://localhost:8080/"
        },
        "id": "3wSq2THdLdGp",
        "outputId": "a0351c4b-9f81-432a-c222-1f3c14b24aec"
      },
      "execution_count": 29,
      "outputs": [
        {
          "output_type": "stream",
          "name": "stdout",
          "text": [
            "   NumRooms_  2  NumRooms_  4  NumRooms_  NA  NumRooms_nan   RoofType_ NA  \\\n",
            "0         False         False           True         False           True   \n",
            "1          True         False          False         False           True   \n",
            "2         False          True          False         False          False   \n",
            "3         False         False           True         False           True   \n",
            "\n",
            "    RoofType_ Slate   RoofType_nan  \n",
            "0             False          False  \n",
            "1             False          False  \n",
            "2              True          False  \n",
            "3             False          False  \n"
          ]
        }
      ]
    },
    {
      "cell_type": "code",
      "source": [
        "# Conversion to tensor format\n",
        "X = torch.tensor(inputs.to_numpy(dtype=float))\n",
        "y = torch.tensor(targets.to_numpy(dtype=float))\n",
        "X, y"
      ],
      "metadata": {
        "colab": {
          "base_uri": "https://localhost:8080/"
        },
        "id": "nhC8sxh5KBbP",
        "outputId": "0f97e1e9-e4a8-4262-d39b-560f43ee33b0"
      },
      "execution_count": 30,
      "outputs": [
        {
          "output_type": "execute_result",
          "data": {
            "text/plain": [
              "(tensor([[0., 0., 1., 0., 1., 0., 0.],\n",
              "         [1., 0., 0., 0., 1., 0., 0.],\n",
              "         [0., 1., 0., 0., 0., 1., 0.],\n",
              "         [0., 0., 1., 0., 1., 0., 0.]], dtype=torch.float64),\n",
              " tensor([127500., 106000., 178100., 140000.], dtype=torch.float64))"
            ]
          },
          "metadata": {},
          "execution_count": 30
        }
      ]
    },
    {
      "cell_type": "markdown",
      "source": [
        "Scalers are 0th-order tensors, vectors are 1st-order tensors and matrcies are 2nd-order tensors.\n",
        "\n",
        "Tensors give us a way of describing nth-order arrays.\n"
      ],
      "metadata": {
        "id": "zr65T2qbMX9f"
      }
    },
    {
      "cell_type": "code",
      "source": [
        "# Tensoe Arithmetic\n",
        "A = torch.arange(6, dtype=torch.float32).reshape(2, 3)\n",
        "B = A.clone()\n",
        "A, A+B"
      ],
      "metadata": {
        "colab": {
          "base_uri": "https://localhost:8080/"
        },
        "id": "UXnGp7Z4DZhu",
        "outputId": "ce6585f8-1464-4e45-d769-5df704c4ea5e"
      },
      "execution_count": 31,
      "outputs": [
        {
          "output_type": "execute_result",
          "data": {
            "text/plain": [
              "(tensor([[0., 1., 2.],\n",
              "         [3., 4., 5.]]),\n",
              " tensor([[ 0.,  2.,  4.],\n",
              "         [ 6.,  8., 10.]]))"
            ]
          },
          "metadata": {},
          "execution_count": 31
        }
      ]
    },
    {
      "cell_type": "code",
      "source": [
        "A*B"
      ],
      "metadata": {
        "colab": {
          "base_uri": "https://localhost:8080/"
        },
        "id": "Cm975tbkDksd",
        "outputId": "3d55d9c3-73bd-4c0f-a4e2-f0f9a0ba7f2d"
      },
      "execution_count": 32,
      "outputs": [
        {
          "output_type": "execute_result",
          "data": {
            "text/plain": [
              "tensor([[ 0.,  1.,  4.],\n",
              "        [ 9., 16., 25.]])"
            ]
          },
          "metadata": {},
          "execution_count": 32
        }
      ]
    },
    {
      "cell_type": "code",
      "source": [
        "a = 2\n",
        "X = torch.arange(24).reshape(2, 3, 4)\n",
        "a + X, (a * X).shape"
      ],
      "metadata": {
        "colab": {
          "base_uri": "https://localhost:8080/"
        },
        "id": "F5IUPTlRDqrz",
        "outputId": "ef16337a-d861-47ec-b37c-45b87095aa03"
      },
      "execution_count": 36,
      "outputs": [
        {
          "output_type": "execute_result",
          "data": {
            "text/plain": [
              "(tensor([[[ 2,  3,  4,  5],\n",
              "          [ 6,  7,  8,  9],\n",
              "          [10, 11, 12, 13]],\n",
              " \n",
              "         [[14, 15, 16, 17],\n",
              "          [18, 19, 20, 21],\n",
              "          [22, 23, 24, 25]]]),\n",
              " torch.Size([2, 3, 4]))"
            ]
          },
          "metadata": {},
          "execution_count": 36
        }
      ]
    },
    {
      "cell_type": "code",
      "source": [
        "# Sum the elements of tensor\n",
        "x = torch.arange(3, dtype=torch.float32)\n",
        "x, x.sum()"
      ],
      "metadata": {
        "colab": {
          "base_uri": "https://localhost:8080/"
        },
        "id": "JYokUFaJFS_i",
        "outputId": "c33aa90d-5731-4e52-9225-888c8a19190f"
      },
      "execution_count": 37,
      "outputs": [
        {
          "output_type": "execute_result",
          "data": {
            "text/plain": [
              "(tensor([0., 1., 2.]), tensor(3.))"
            ]
          },
          "metadata": {},
          "execution_count": 37
        }
      ]
    },
    {
      "cell_type": "code",
      "source": [
        "A.shape, A.sum(axis=0).shape"
      ],
      "metadata": {
        "colab": {
          "base_uri": "https://localhost:8080/"
        },
        "id": "m2j0_p3eFtpQ",
        "outputId": "440ca820-dbbf-497c-c997-81ff66185c93"
      },
      "execution_count": 39,
      "outputs": [
        {
          "output_type": "execute_result",
          "data": {
            "text/plain": [
              "(torch.Size([2, 3]), torch.Size([3]))"
            ]
          },
          "metadata": {},
          "execution_count": 39
        }
      ]
    },
    {
      "cell_type": "code",
      "source": [
        "A.shape, A.sum(axis=1).shape"
      ],
      "metadata": {
        "colab": {
          "base_uri": "https://localhost:8080/"
        },
        "id": "mBTbC0JeGK3Z",
        "outputId": "94f14daf-f7fb-4f91-9f33-b0e02da170a6"
      },
      "execution_count": 40,
      "outputs": [
        {
          "output_type": "execute_result",
          "data": {
            "text/plain": [
              "(torch.Size([2, 3]), torch.Size([2]))"
            ]
          },
          "metadata": {},
          "execution_count": 40
        }
      ]
    },
    {
      "cell_type": "code",
      "source": [
        "A.sum(axis=[0, 1]) == A.sum()"
      ],
      "metadata": {
        "colab": {
          "base_uri": "https://localhost:8080/"
        },
        "id": "ygvNzrhAGSGZ",
        "outputId": "6e868769-6a2e-4bf9-9dfa-9d1397f9c1d4"
      },
      "execution_count": 41,
      "outputs": [
        {
          "output_type": "execute_result",
          "data": {
            "text/plain": [
              "tensor(True)"
            ]
          },
          "metadata": {},
          "execution_count": 41
        }
      ]
    },
    {
      "cell_type": "code",
      "source": [
        "A.numel() # gives the number of elements"
      ],
      "metadata": {
        "colab": {
          "base_uri": "https://localhost:8080/"
        },
        "id": "tZIT5VpKGwtO",
        "outputId": "2a46bda1-a934-4c80-909a-6b900c91f734"
      },
      "execution_count": 45,
      "outputs": [
        {
          "output_type": "execute_result",
          "data": {
            "text/plain": [
              "6"
            ]
          },
          "metadata": {},
          "execution_count": 45
        }
      ]
    },
    {
      "cell_type": "code",
      "source": [
        "len(A) # gives the length of the matrix"
      ],
      "metadata": {
        "colab": {
          "base_uri": "https://localhost:8080/"
        },
        "id": "zCzlyG43G95y",
        "outputId": "51039565-75cf-4a7b-8d86-8fbea95f4ca5"
      },
      "execution_count": 46,
      "outputs": [
        {
          "output_type": "execute_result",
          "data": {
            "text/plain": [
              "2"
            ]
          },
          "metadata": {},
          "execution_count": 46
        }
      ]
    },
    {
      "cell_type": "code",
      "source": [
        "A.mean(), A.sum()/A.numel(), A.sum()/len(A)"
      ],
      "metadata": {
        "colab": {
          "base_uri": "https://localhost:8080/"
        },
        "id": "Hw8mZrShGioY",
        "outputId": "f55b97f4-28e8-4b55-bc44-e88d66c203ca"
      },
      "execution_count": 48,
      "outputs": [
        {
          "output_type": "execute_result",
          "data": {
            "text/plain": [
              "(tensor(2.5000), tensor(2.5000), tensor(7.5000))"
            ]
          },
          "metadata": {},
          "execution_count": 48
        }
      ]
    },
    {
      "cell_type": "code",
      "source": [
        "A.mean(axis=0), A.sum(axis=0)/A.shape[0]"
      ],
      "metadata": {
        "colab": {
          "base_uri": "https://localhost:8080/"
        },
        "id": "oJHhUWR7GuHQ",
        "outputId": "2db6805f-45e6-4632-82bf-77571b038631"
      },
      "execution_count": 49,
      "outputs": [
        {
          "output_type": "execute_result",
          "data": {
            "text/plain": [
              "(tensor([1.5000, 2.5000, 3.5000]), tensor([1.5000, 2.5000, 3.5000]))"
            ]
          },
          "metadata": {},
          "execution_count": 49
        }
      ]
    },
    {
      "cell_type": "code",
      "source": [
        "# 47"
      ],
      "metadata": {
        "id": "jrskJeYCHUzY"
      },
      "execution_count": 50,
      "outputs": []
    },
    {
      "cell_type": "code",
      "source": [],
      "metadata": {
        "id": "kpPFo7J8Isqq"
      },
      "execution_count": 50,
      "outputs": []
    }
  ]
}