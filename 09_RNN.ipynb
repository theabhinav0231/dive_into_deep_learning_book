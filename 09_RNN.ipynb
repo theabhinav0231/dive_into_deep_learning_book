{
  "nbformat": 4,
  "nbformat_minor": 0,
  "metadata": {
    "colab": {
      "provenance": [],
      "authorship_tag": "ABX9TyNOwM7Ll8y/izls7WkNdZNp",
      "include_colab_link": true
    },
    "kernelspec": {
      "name": "python3",
      "display_name": "Python 3"
    },
    "language_info": {
      "name": "python"
    }
  },
  "cells": [
    {
      "cell_type": "markdown",
      "metadata": {
        "id": "view-in-github",
        "colab_type": "text"
      },
      "source": [
        "<a href=\"https://colab.research.google.com/github/theabhinav0231/dive_into_deep_learning_book/blob/main/09_RNN.ipynb\" target=\"_parent\"><img src=\"https://colab.research.google.com/assets/colab-badge.svg\" alt=\"Open In Colab\"/></a>"
      ]
    },
    {
      "cell_type": "code",
      "execution_count": 1,
      "metadata": {
        "colab": {
          "base_uri": "https://localhost:8080/",
          "height": 1000
        },
        "id": "K5o34tK22Ddw",
        "outputId": "25ab0d31-0d14-4297-c1b7-be1bad7bb87b"
      },
      "outputs": [
        {
          "output_type": "stream",
          "name": "stdout",
          "text": [
            "Collecting d2l\n",
            "  Downloading d2l-1.0.3-py3-none-any.whl.metadata (556 bytes)\n",
            "Collecting jupyter==1.0.0 (from d2l)\n",
            "  Downloading jupyter-1.0.0-py2.py3-none-any.whl.metadata (995 bytes)\n",
            "Collecting numpy==1.23.5 (from d2l)\n",
            "  Downloading numpy-1.23.5-cp310-cp310-manylinux_2_17_x86_64.manylinux2014_x86_64.whl.metadata (2.3 kB)\n",
            "Collecting matplotlib==3.7.2 (from d2l)\n",
            "  Downloading matplotlib-3.7.2-cp310-cp310-manylinux_2_17_x86_64.manylinux2014_x86_64.whl.metadata (5.6 kB)\n",
            "Collecting matplotlib-inline==0.1.6 (from d2l)\n",
            "  Downloading matplotlib_inline-0.1.6-py3-none-any.whl.metadata (2.8 kB)\n",
            "Collecting requests==2.31.0 (from d2l)\n",
            "  Downloading requests-2.31.0-py3-none-any.whl.metadata (4.6 kB)\n",
            "Collecting pandas==2.0.3 (from d2l)\n",
            "  Downloading pandas-2.0.3-cp310-cp310-manylinux_2_17_x86_64.manylinux2014_x86_64.whl.metadata (18 kB)\n",
            "Collecting scipy==1.10.1 (from d2l)\n",
            "  Downloading scipy-1.10.1-cp310-cp310-manylinux_2_17_x86_64.manylinux2014_x86_64.whl.metadata (58 kB)\n",
            "\u001b[2K     \u001b[90m━━━━━━━━━━━━━━━━━━━━━━━━━━━━━━━━━━━━━━━━\u001b[0m \u001b[32m58.9/58.9 kB\u001b[0m \u001b[31m2.2 MB/s\u001b[0m eta \u001b[36m0:00:00\u001b[0m\n",
            "\u001b[?25hRequirement already satisfied: notebook in /usr/local/lib/python3.10/dist-packages (from jupyter==1.0.0->d2l) (6.5.5)\n",
            "Collecting qtconsole (from jupyter==1.0.0->d2l)\n",
            "  Downloading qtconsole-5.6.1-py3-none-any.whl.metadata (5.0 kB)\n",
            "Requirement already satisfied: jupyter-console in /usr/local/lib/python3.10/dist-packages (from jupyter==1.0.0->d2l) (6.1.0)\n",
            "Requirement already satisfied: nbconvert in /usr/local/lib/python3.10/dist-packages (from jupyter==1.0.0->d2l) (7.16.5)\n",
            "Requirement already satisfied: ipykernel in /usr/local/lib/python3.10/dist-packages (from jupyter==1.0.0->d2l) (5.5.6)\n",
            "Requirement already satisfied: ipywidgets in /usr/local/lib/python3.10/dist-packages (from jupyter==1.0.0->d2l) (7.7.1)\n",
            "Requirement already satisfied: contourpy>=1.0.1 in /usr/local/lib/python3.10/dist-packages (from matplotlib==3.7.2->d2l) (1.3.1)\n",
            "Requirement already satisfied: cycler>=0.10 in /usr/local/lib/python3.10/dist-packages (from matplotlib==3.7.2->d2l) (0.12.1)\n",
            "Requirement already satisfied: fonttools>=4.22.0 in /usr/local/lib/python3.10/dist-packages (from matplotlib==3.7.2->d2l) (4.55.3)\n",
            "Requirement already satisfied: kiwisolver>=1.0.1 in /usr/local/lib/python3.10/dist-packages (from matplotlib==3.7.2->d2l) (1.4.8)\n",
            "Requirement already satisfied: packaging>=20.0 in /usr/local/lib/python3.10/dist-packages (from matplotlib==3.7.2->d2l) (24.2)\n",
            "Requirement already satisfied: pillow>=6.2.0 in /usr/local/lib/python3.10/dist-packages (from matplotlib==3.7.2->d2l) (11.1.0)\n",
            "Collecting pyparsing<3.1,>=2.3.1 (from matplotlib==3.7.2->d2l)\n",
            "  Downloading pyparsing-3.0.9-py3-none-any.whl.metadata (4.2 kB)\n",
            "Requirement already satisfied: python-dateutil>=2.7 in /usr/local/lib/python3.10/dist-packages (from matplotlib==3.7.2->d2l) (2.8.2)\n",
            "Requirement already satisfied: traitlets in /usr/local/lib/python3.10/dist-packages (from matplotlib-inline==0.1.6->d2l) (5.7.1)\n",
            "Requirement already satisfied: pytz>=2020.1 in /usr/local/lib/python3.10/dist-packages (from pandas==2.0.3->d2l) (2024.2)\n",
            "Requirement already satisfied: tzdata>=2022.1 in /usr/local/lib/python3.10/dist-packages (from pandas==2.0.3->d2l) (2024.2)\n",
            "Requirement already satisfied: charset-normalizer<4,>=2 in /usr/local/lib/python3.10/dist-packages (from requests==2.31.0->d2l) (3.4.1)\n",
            "Requirement already satisfied: idna<4,>=2.5 in /usr/local/lib/python3.10/dist-packages (from requests==2.31.0->d2l) (3.10)\n",
            "Requirement already satisfied: urllib3<3,>=1.21.1 in /usr/local/lib/python3.10/dist-packages (from requests==2.31.0->d2l) (2.3.0)\n",
            "Requirement already satisfied: certifi>=2017.4.17 in /usr/local/lib/python3.10/dist-packages (from requests==2.31.0->d2l) (2024.12.14)\n",
            "Requirement already satisfied: six>=1.5 in /usr/local/lib/python3.10/dist-packages (from python-dateutil>=2.7->matplotlib==3.7.2->d2l) (1.17.0)\n",
            "Requirement already satisfied: ipython-genutils in /usr/local/lib/python3.10/dist-packages (from ipykernel->jupyter==1.0.0->d2l) (0.2.0)\n",
            "Requirement already satisfied: ipython>=5.0.0 in /usr/local/lib/python3.10/dist-packages (from ipykernel->jupyter==1.0.0->d2l) (7.34.0)\n",
            "Requirement already satisfied: jupyter-client in /usr/local/lib/python3.10/dist-packages (from ipykernel->jupyter==1.0.0->d2l) (6.1.12)\n",
            "Requirement already satisfied: tornado>=4.2 in /usr/local/lib/python3.10/dist-packages (from ipykernel->jupyter==1.0.0->d2l) (6.3.3)\n",
            "Requirement already satisfied: widgetsnbextension~=3.6.0 in /usr/local/lib/python3.10/dist-packages (from ipywidgets->jupyter==1.0.0->d2l) (3.6.10)\n",
            "Requirement already satisfied: jupyterlab-widgets>=1.0.0 in /usr/local/lib/python3.10/dist-packages (from ipywidgets->jupyter==1.0.0->d2l) (3.0.13)\n",
            "Requirement already satisfied: prompt-toolkit!=3.0.0,!=3.0.1,<3.1.0,>=2.0.0 in /usr/local/lib/python3.10/dist-packages (from jupyter-console->jupyter==1.0.0->d2l) (3.0.48)\n",
            "Requirement already satisfied: pygments in /usr/local/lib/python3.10/dist-packages (from jupyter-console->jupyter==1.0.0->d2l) (2.18.0)\n",
            "Requirement already satisfied: beautifulsoup4 in /usr/local/lib/python3.10/dist-packages (from nbconvert->jupyter==1.0.0->d2l) (4.12.3)\n",
            "Requirement already satisfied: bleach!=5.0.0 in /usr/local/lib/python3.10/dist-packages (from bleach[css]!=5.0.0->nbconvert->jupyter==1.0.0->d2l) (6.2.0)\n",
            "Requirement already satisfied: defusedxml in /usr/local/lib/python3.10/dist-packages (from nbconvert->jupyter==1.0.0->d2l) (0.7.1)\n",
            "Requirement already satisfied: jinja2>=3.0 in /usr/local/lib/python3.10/dist-packages (from nbconvert->jupyter==1.0.0->d2l) (3.1.5)\n",
            "Requirement already satisfied: jupyter-core>=4.7 in /usr/local/lib/python3.10/dist-packages (from nbconvert->jupyter==1.0.0->d2l) (5.7.2)\n",
            "Requirement already satisfied: jupyterlab-pygments in /usr/local/lib/python3.10/dist-packages (from nbconvert->jupyter==1.0.0->d2l) (0.3.0)\n",
            "Requirement already satisfied: markupsafe>=2.0 in /usr/local/lib/python3.10/dist-packages (from nbconvert->jupyter==1.0.0->d2l) (3.0.2)\n",
            "Requirement already satisfied: mistune<4,>=2.0.3 in /usr/local/lib/python3.10/dist-packages (from nbconvert->jupyter==1.0.0->d2l) (3.1.0)\n",
            "Requirement already satisfied: nbclient>=0.5.0 in /usr/local/lib/python3.10/dist-packages (from nbconvert->jupyter==1.0.0->d2l) (0.10.2)\n",
            "Requirement already satisfied: nbformat>=5.7 in /usr/local/lib/python3.10/dist-packages (from nbconvert->jupyter==1.0.0->d2l) (5.10.4)\n",
            "Requirement already satisfied: pandocfilters>=1.4.1 in /usr/local/lib/python3.10/dist-packages (from nbconvert->jupyter==1.0.0->d2l) (1.5.1)\n",
            "Requirement already satisfied: pyzmq<25,>=17 in /usr/local/lib/python3.10/dist-packages (from notebook->jupyter==1.0.0->d2l) (24.0.1)\n",
            "Requirement already satisfied: argon2-cffi in /usr/local/lib/python3.10/dist-packages (from notebook->jupyter==1.0.0->d2l) (23.1.0)\n",
            "Requirement already satisfied: nest-asyncio>=1.5 in /usr/local/lib/python3.10/dist-packages (from notebook->jupyter==1.0.0->d2l) (1.6.0)\n",
            "Requirement already satisfied: Send2Trash>=1.8.0 in /usr/local/lib/python3.10/dist-packages (from notebook->jupyter==1.0.0->d2l) (1.8.3)\n",
            "Requirement already satisfied: terminado>=0.8.3 in /usr/local/lib/python3.10/dist-packages (from notebook->jupyter==1.0.0->d2l) (0.18.1)\n",
            "Requirement already satisfied: prometheus-client in /usr/local/lib/python3.10/dist-packages (from notebook->jupyter==1.0.0->d2l) (0.21.1)\n",
            "Requirement already satisfied: nbclassic>=0.4.7 in /usr/local/lib/python3.10/dist-packages (from notebook->jupyter==1.0.0->d2l) (1.1.0)\n",
            "Collecting qtpy>=2.4.0 (from qtconsole->jupyter==1.0.0->d2l)\n",
            "  Downloading QtPy-2.4.2-py3-none-any.whl.metadata (12 kB)\n",
            "Requirement already satisfied: webencodings in /usr/local/lib/python3.10/dist-packages (from bleach!=5.0.0->bleach[css]!=5.0.0->nbconvert->jupyter==1.0.0->d2l) (0.5.1)\n",
            "Requirement already satisfied: tinycss2<1.5,>=1.1.0 in /usr/local/lib/python3.10/dist-packages (from bleach[css]!=5.0.0->nbconvert->jupyter==1.0.0->d2l) (1.4.0)\n",
            "Requirement already satisfied: setuptools>=18.5 in /usr/local/lib/python3.10/dist-packages (from ipython>=5.0.0->ipykernel->jupyter==1.0.0->d2l) (75.1.0)\n",
            "Collecting jedi>=0.16 (from ipython>=5.0.0->ipykernel->jupyter==1.0.0->d2l)\n",
            "  Downloading jedi-0.19.2-py2.py3-none-any.whl.metadata (22 kB)\n",
            "Requirement already satisfied: decorator in /usr/local/lib/python3.10/dist-packages (from ipython>=5.0.0->ipykernel->jupyter==1.0.0->d2l) (4.4.2)\n",
            "Requirement already satisfied: pickleshare in /usr/local/lib/python3.10/dist-packages (from ipython>=5.0.0->ipykernel->jupyter==1.0.0->d2l) (0.7.5)\n",
            "Requirement already satisfied: backcall in /usr/local/lib/python3.10/dist-packages (from ipython>=5.0.0->ipykernel->jupyter==1.0.0->d2l) (0.2.0)\n",
            "Requirement already satisfied: pexpect>4.3 in /usr/local/lib/python3.10/dist-packages (from ipython>=5.0.0->ipykernel->jupyter==1.0.0->d2l) (4.9.0)\n",
            "Requirement already satisfied: platformdirs>=2.5 in /usr/local/lib/python3.10/dist-packages (from jupyter-core>=4.7->nbconvert->jupyter==1.0.0->d2l) (4.3.6)\n",
            "Requirement already satisfied: typing-extensions in /usr/local/lib/python3.10/dist-packages (from mistune<4,>=2.0.3->nbconvert->jupyter==1.0.0->d2l) (4.12.2)\n",
            "Requirement already satisfied: notebook-shim>=0.2.3 in /usr/local/lib/python3.10/dist-packages (from nbclassic>=0.4.7->notebook->jupyter==1.0.0->d2l) (0.2.4)\n",
            "Requirement already satisfied: fastjsonschema>=2.15 in /usr/local/lib/python3.10/dist-packages (from nbformat>=5.7->nbconvert->jupyter==1.0.0->d2l) (2.21.1)\n",
            "Requirement already satisfied: jsonschema>=2.6 in /usr/local/lib/python3.10/dist-packages (from nbformat>=5.7->nbconvert->jupyter==1.0.0->d2l) (4.23.0)\n",
            "Requirement already satisfied: wcwidth in /usr/local/lib/python3.10/dist-packages (from prompt-toolkit!=3.0.0,!=3.0.1,<3.1.0,>=2.0.0->jupyter-console->jupyter==1.0.0->d2l) (0.2.13)\n",
            "Requirement already satisfied: ptyprocess in /usr/local/lib/python3.10/dist-packages (from terminado>=0.8.3->notebook->jupyter==1.0.0->d2l) (0.7.0)\n",
            "Requirement already satisfied: argon2-cffi-bindings in /usr/local/lib/python3.10/dist-packages (from argon2-cffi->notebook->jupyter==1.0.0->d2l) (21.2.0)\n",
            "Requirement already satisfied: soupsieve>1.2 in /usr/local/lib/python3.10/dist-packages (from beautifulsoup4->nbconvert->jupyter==1.0.0->d2l) (2.6)\n",
            "Requirement already satisfied: parso<0.9.0,>=0.8.4 in /usr/local/lib/python3.10/dist-packages (from jedi>=0.16->ipython>=5.0.0->ipykernel->jupyter==1.0.0->d2l) (0.8.4)\n",
            "Requirement already satisfied: attrs>=22.2.0 in /usr/local/lib/python3.10/dist-packages (from jsonschema>=2.6->nbformat>=5.7->nbconvert->jupyter==1.0.0->d2l) (24.3.0)\n",
            "Requirement already satisfied: jsonschema-specifications>=2023.03.6 in /usr/local/lib/python3.10/dist-packages (from jsonschema>=2.6->nbformat>=5.7->nbconvert->jupyter==1.0.0->d2l) (2024.10.1)\n",
            "Requirement already satisfied: referencing>=0.28.4 in /usr/local/lib/python3.10/dist-packages (from jsonschema>=2.6->nbformat>=5.7->nbconvert->jupyter==1.0.0->d2l) (0.35.1)\n",
            "Requirement already satisfied: rpds-py>=0.7.1 in /usr/local/lib/python3.10/dist-packages (from jsonschema>=2.6->nbformat>=5.7->nbconvert->jupyter==1.0.0->d2l) (0.22.3)\n",
            "Requirement already satisfied: jupyter-server<3,>=1.8 in /usr/local/lib/python3.10/dist-packages (from notebook-shim>=0.2.3->nbclassic>=0.4.7->notebook->jupyter==1.0.0->d2l) (1.24.0)\n",
            "Requirement already satisfied: cffi>=1.0.1 in /usr/local/lib/python3.10/dist-packages (from argon2-cffi-bindings->argon2-cffi->notebook->jupyter==1.0.0->d2l) (1.17.1)\n",
            "Requirement already satisfied: pycparser in /usr/local/lib/python3.10/dist-packages (from cffi>=1.0.1->argon2-cffi-bindings->argon2-cffi->notebook->jupyter==1.0.0->d2l) (2.22)\n",
            "Requirement already satisfied: anyio<4,>=3.1.0 in /usr/local/lib/python3.10/dist-packages (from jupyter-server<3,>=1.8->notebook-shim>=0.2.3->nbclassic>=0.4.7->notebook->jupyter==1.0.0->d2l) (3.7.1)\n",
            "Requirement already satisfied: websocket-client in /usr/local/lib/python3.10/dist-packages (from jupyter-server<3,>=1.8->notebook-shim>=0.2.3->nbclassic>=0.4.7->notebook->jupyter==1.0.0->d2l) (1.8.0)\n",
            "Requirement already satisfied: sniffio>=1.1 in /usr/local/lib/python3.10/dist-packages (from anyio<4,>=3.1.0->jupyter-server<3,>=1.8->notebook-shim>=0.2.3->nbclassic>=0.4.7->notebook->jupyter==1.0.0->d2l) (1.3.1)\n",
            "Requirement already satisfied: exceptiongroup in /usr/local/lib/python3.10/dist-packages (from anyio<4,>=3.1.0->jupyter-server<3,>=1.8->notebook-shim>=0.2.3->nbclassic>=0.4.7->notebook->jupyter==1.0.0->d2l) (1.2.2)\n",
            "Downloading d2l-1.0.3-py3-none-any.whl (111 kB)\n",
            "\u001b[2K   \u001b[90m━━━━━━━━━━━━━━━━━━━━━━━━━━━━━━━━━━━━━━━━\u001b[0m \u001b[32m111.7/111.7 kB\u001b[0m \u001b[31m4.6 MB/s\u001b[0m eta \u001b[36m0:00:00\u001b[0m\n",
            "\u001b[?25hDownloading jupyter-1.0.0-py2.py3-none-any.whl (2.7 kB)\n",
            "Downloading matplotlib-3.7.2-cp310-cp310-manylinux_2_17_x86_64.manylinux2014_x86_64.whl (11.6 MB)\n",
            "\u001b[2K   \u001b[90m━━━━━━━━━━━━━━━━━━━━━━━━━━━━━━━━━━━━━━━━\u001b[0m \u001b[32m11.6/11.6 MB\u001b[0m \u001b[31m79.4 MB/s\u001b[0m eta \u001b[36m0:00:00\u001b[0m\n",
            "\u001b[?25hDownloading matplotlib_inline-0.1.6-py3-none-any.whl (9.4 kB)\n",
            "Downloading numpy-1.23.5-cp310-cp310-manylinux_2_17_x86_64.manylinux2014_x86_64.whl (17.1 MB)\n",
            "\u001b[2K   \u001b[90m━━━━━━━━━━━━━━━━━━━━━━━━━━━━━━━━━━━━━━━━\u001b[0m \u001b[32m17.1/17.1 MB\u001b[0m \u001b[31m81.5 MB/s\u001b[0m eta \u001b[36m0:00:00\u001b[0m\n",
            "\u001b[?25hDownloading pandas-2.0.3-cp310-cp310-manylinux_2_17_x86_64.manylinux2014_x86_64.whl (12.3 MB)\n",
            "\u001b[2K   \u001b[90m━━━━━━━━━━━━━━━━━━━━━━━━━━━━━━━━━━━━━━━━\u001b[0m \u001b[32m12.3/12.3 MB\u001b[0m \u001b[31m87.0 MB/s\u001b[0m eta \u001b[36m0:00:00\u001b[0m\n",
            "\u001b[?25hDownloading requests-2.31.0-py3-none-any.whl (62 kB)\n",
            "\u001b[2K   \u001b[90m━━━━━━━━━━━━━━━━━━━━━━━━━━━━━━━━━━━━━━━━\u001b[0m \u001b[32m62.6/62.6 kB\u001b[0m \u001b[31m4.2 MB/s\u001b[0m eta \u001b[36m0:00:00\u001b[0m\n",
            "\u001b[?25hDownloading scipy-1.10.1-cp310-cp310-manylinux_2_17_x86_64.manylinux2014_x86_64.whl (34.4 MB)\n",
            "\u001b[2K   \u001b[90m━━━━━━━━━━━━━━━━━━━━━━━━━━━━━━━━━━━━━━━━\u001b[0m \u001b[32m34.4/34.4 MB\u001b[0m \u001b[31m13.5 MB/s\u001b[0m eta \u001b[36m0:00:00\u001b[0m\n",
            "\u001b[?25hDownloading pyparsing-3.0.9-py3-none-any.whl (98 kB)\n",
            "\u001b[2K   \u001b[90m━━━━━━━━━━━━━━━━━━━━━━━━━━━━━━━━━━━━━━━━\u001b[0m \u001b[32m98.3/98.3 kB\u001b[0m \u001b[31m7.1 MB/s\u001b[0m eta \u001b[36m0:00:00\u001b[0m\n",
            "\u001b[?25hDownloading qtconsole-5.6.1-py3-none-any.whl (125 kB)\n",
            "\u001b[2K   \u001b[90m━━━━━━━━━━━━━━━━━━━━━━━━━━━━━━━━━━━━━━━━\u001b[0m \u001b[32m125.0/125.0 kB\u001b[0m \u001b[31m9.4 MB/s\u001b[0m eta \u001b[36m0:00:00\u001b[0m\n",
            "\u001b[?25hDownloading QtPy-2.4.2-py3-none-any.whl (95 kB)\n",
            "\u001b[2K   \u001b[90m━━━━━━━━━━━━━━━━━━━━━━━━━━━━━━━━━━━━━━━━\u001b[0m \u001b[32m95.2/95.2 kB\u001b[0m \u001b[31m6.6 MB/s\u001b[0m eta \u001b[36m0:00:00\u001b[0m\n",
            "\u001b[?25hDownloading jedi-0.19.2-py2.py3-none-any.whl (1.6 MB)\n",
            "\u001b[2K   \u001b[90m━━━━━━━━━━━━━━━━━━━━━━━━━━━━━━━━━━━━━━━━\u001b[0m \u001b[32m1.6/1.6 MB\u001b[0m \u001b[31m54.0 MB/s\u001b[0m eta \u001b[36m0:00:00\u001b[0m\n",
            "\u001b[?25hInstalling collected packages: requests, qtpy, pyparsing, numpy, matplotlib-inline, jedi, scipy, pandas, matplotlib, qtconsole, jupyter, d2l\n",
            "  Attempting uninstall: requests\n",
            "    Found existing installation: requests 2.32.3\n",
            "    Uninstalling requests-2.32.3:\n",
            "      Successfully uninstalled requests-2.32.3\n",
            "  Attempting uninstall: pyparsing\n",
            "    Found existing installation: pyparsing 3.2.1\n",
            "    Uninstalling pyparsing-3.2.1:\n",
            "      Successfully uninstalled pyparsing-3.2.1\n",
            "  Attempting uninstall: numpy\n",
            "    Found existing installation: numpy 1.26.4\n",
            "    Uninstalling numpy-1.26.4:\n",
            "      Successfully uninstalled numpy-1.26.4\n",
            "  Attempting uninstall: matplotlib-inline\n",
            "    Found existing installation: matplotlib-inline 0.1.7\n",
            "    Uninstalling matplotlib-inline-0.1.7:\n",
            "      Successfully uninstalled matplotlib-inline-0.1.7\n",
            "  Attempting uninstall: scipy\n",
            "    Found existing installation: scipy 1.13.1\n",
            "    Uninstalling scipy-1.13.1:\n",
            "      Successfully uninstalled scipy-1.13.1\n",
            "  Attempting uninstall: pandas\n",
            "    Found existing installation: pandas 2.2.2\n",
            "    Uninstalling pandas-2.2.2:\n",
            "      Successfully uninstalled pandas-2.2.2\n",
            "  Attempting uninstall: matplotlib\n",
            "    Found existing installation: matplotlib 3.10.0\n",
            "    Uninstalling matplotlib-3.10.0:\n",
            "      Successfully uninstalled matplotlib-3.10.0\n",
            "\u001b[31mERROR: pip's dependency resolver does not currently take into account all the packages that are installed. This behaviour is the source of the following dependency conflicts.\n",
            "albucore 0.0.19 requires numpy>=1.24.4, but you have numpy 1.23.5 which is incompatible.\n",
            "albumentations 1.4.20 requires numpy>=1.24.4, but you have numpy 1.23.5 which is incompatible.\n",
            "bigframes 1.31.0 requires numpy>=1.24.0, but you have numpy 1.23.5 which is incompatible.\n",
            "chex 0.1.88 requires numpy>=1.24.1, but you have numpy 1.23.5 which is incompatible.\n",
            "google-colab 1.0.0 requires pandas==2.2.2, but you have pandas 2.0.3 which is incompatible.\n",
            "google-colab 1.0.0 requires requests==2.32.3, but you have requests 2.31.0 which is incompatible.\n",
            "imbalanced-learn 0.13.0 requires numpy<3,>=1.24.3, but you have numpy 1.23.5 which is incompatible.\n",
            "jax 0.4.33 requires numpy>=1.24, but you have numpy 1.23.5 which is incompatible.\n",
            "jaxlib 0.4.33 requires numpy>=1.24, but you have numpy 1.23.5 which is incompatible.\n",
            "mizani 0.13.1 requires pandas>=2.2.0, but you have pandas 2.0.3 which is incompatible.\n",
            "plotnine 0.14.5 requires matplotlib>=3.8.0, but you have matplotlib 3.7.2 which is incompatible.\n",
            "plotnine 0.14.5 requires pandas>=2.2.0, but you have pandas 2.0.3 which is incompatible.\n",
            "pymc 5.19.1 requires numpy>=1.25.0, but you have numpy 1.23.5 which is incompatible.\n",
            "scikit-image 0.25.0 requires numpy>=1.24, but you have numpy 1.23.5 which is incompatible.\n",
            "scikit-image 0.25.0 requires scipy>=1.11.2, but you have scipy 1.10.1 which is incompatible.\n",
            "xarray 2025.1.0 requires numpy>=1.24, but you have numpy 1.23.5 which is incompatible.\n",
            "xarray 2025.1.0 requires pandas>=2.1, but you have pandas 2.0.3 which is incompatible.\u001b[0m\u001b[31m\n",
            "\u001b[0mSuccessfully installed d2l-1.0.3 jedi-0.19.2 jupyter-1.0.0 matplotlib-3.7.2 matplotlib-inline-0.1.6 numpy-1.23.5 pandas-2.0.3 pyparsing-3.0.9 qtconsole-5.6.1 qtpy-2.4.2 requests-2.31.0 scipy-1.10.1\n"
          ]
        },
        {
          "output_type": "display_data",
          "data": {
            "application/vnd.colab-display-data+json": {
              "pip_warning": {
                "packages": [
                  "matplotlib",
                  "matplotlib_inline",
                  "mpl_toolkits",
                  "numpy"
                ]
              },
              "id": "b1049b232b2b4750b294dfe6f2b619dc"
            }
          },
          "metadata": {}
        }
      ],
      "source": [
        "!pip install d2l"
      ]
    },
    {
      "cell_type": "code",
      "source": [
        "%matplotlib inline\n",
        "import torch\n",
        "from torch import nn\n",
        "from torch.nn import functional as F\n",
        "from d2l import torch as d2l\n",
        "import math"
      ],
      "metadata": {
        "id": "3Xdeb9jj2J1B"
      },
      "execution_count": 2,
      "outputs": []
    },
    {
      "cell_type": "markdown",
      "source": [
        "## **Hidden State**\n",
        "\n",
        "A hidden state in the context of Recurrent Neural Networks (RNNs) is a vector that serves as a memory mechanism, capturing and retaining information about the sequence of inputs up to the current time step. It is the core component that allows RNNs to process sequential data effectively.\n",
        "\n",
        "1. Representation of Context:\n",
        "\n",
        "  - The hidden state at time step\n",
        "𝑡, denoted as\n",
        "𝐻𝑡, encodes information from both:\n",
        "The current input (𝑋𝑡).\n",
        "The hidden state from the previous time step (𝐻𝑡 − 1).\n",
        "This allows the model to remember relevant information from earlier in the sequence.\n",
        "\n",
        "2. Recurrent Nature:\n",
        "\n",
        "  - The hidden state is updated iteratively at each time step using:\n",
        "\n",
        "    \n",
        "    𝐻𝑡 = 𝜙(𝑋𝑡 𝑊𝑥ℎ + 𝐻𝑡−1 𝑊ℎℎ + 𝑏ℎ)\n",
        "\n",
        "    𝑊𝑥ℎ: Weights for the current input.\n",
        "\n",
        "    𝑊ℎℎ: Weights for the previous hidden state.\n",
        "\n",
        "    𝑏ℎ: Bias term.\n",
        "\n",
        "    𝜙: Activation function (e.g., tanh or ReLU).\n",
        "\n",
        "3. Memory of the Sequence:\n",
        "\n",
        "  - The hidden state stores historical information from the sequence and allows the model to relate the current input to past inputs.\n",
        "For example, in language modeling, the hidden state might capture the grammatical structure or meaning of the previous words.\n",
        "\n",
        "4. Shared Across Time Steps:\n",
        "\n",
        " - Hidden states are passed from one time step to the next, making the computation recurrent.\n",
        "This allows RNNs to handle sequences of varying lengths using a fixed set of parameters.\n",
        "\n",
        "5. Dependency on Sequence Length:\n",
        "\n",
        " - The hidden state 𝐻𝑡 depends on all previous inputs (𝑋1, 𝑋2,..., 𝑋𝑡) indirectly through 𝐻𝑡−1.\n",
        "\n",
        " 6. Final Output Connection:\n",
        "\n",
        " - The hidden state 𝐻𝑡 is often used to compute the output 𝑂𝑡 at each time step:\n",
        "\n",
        "    𝑂𝑡 = 𝐻𝑡 𝑊ℎ𝑞 + 𝑏𝑞"
      ],
      "metadata": {
        "id": "NgFcaSiC2yh6"
      }
    },
    {
      "cell_type": "markdown",
      "source": [
        "## **Recurrent Neural Networks**\n",
        "\n",
        "1. Inputs and Hidden States:\n",
        "\n",
        " - At each time step 𝑡, the input 𝑋𝑡 ∈ 𝑅𝑛×𝑑 represents a minibatch of 𝑛 examples, each with 𝑑 features.\n",
        "The hidden state 𝐻𝑡 ∈ 𝑅𝑛×ℎ encodes information from both the current input 𝑋𝑡 and the hidden state of the previous time step\n",
        "𝐻𝑡−1.\n",
        "\n",
        "2. Hidden State Calculation:\n",
        "\n",
        " - The hidden state is updated using:\n",
        "\n",
        "    𝐻𝑡 = 𝜙(𝑋𝑡 𝑊𝑥ℎ + 𝐻𝑡−1 𝑊ℎℎ + 𝑏ℎ)\n",
        "\n",
        "    𝑊𝑥ℎ ∈ 𝑅𝑑×ℎ: Weights for the current input.\n",
        "\n",
        "    𝑊ℎℎ ∈ 𝑅ℎ×ℎ: Weights for the previous hidden state.\n",
        "\n",
        "    𝑏ℎ ∈ 𝑅1×ℎ: Bias.\n",
        "\n",
        "    This recurrent computation enables the hidden state to retain historical sequence information, effectively acting as the \"memory\" of the network.\n",
        "\n",
        "3. Output Layer:\n",
        "\n",
        " - At each time step 𝑡, the output 𝑂𝑡 is computed from the hidden state:\n",
        "\n",
        "    𝑂𝑡 = 𝐻𝑡 𝑊ℎ𝑞 + 𝑏𝑞\n",
        "\n",
        "    𝑊ℎ𝑞 ∈ 𝑅ℎ×𝑞: Weights for the output layer.\n",
        "\n",
        "    𝑏𝑞 ∈ 𝑅1×𝑞: Bias.\n",
        "\n",
        "4. Recurrent Nature:\n",
        "\n",
        " - The recurrence lies in how the hidden state\n",
        "𝐻𝑡 depends on 𝐻𝑡−1, making the computation sequential.\n",
        "Despite handling sequences of varying lengths, the model's parameters (𝑊𝑥ℎ, 𝑊ℎℎ, 𝑏ℎ, 𝑊ℎ𝑞, 𝑏𝑞) remain constant, avoiding growth in parameter size as the number of time steps increases.\n",
        "\n",
        "5. RNN Layers:\n",
        "\n",
        " - The layers that compute 𝐻𝑡 are called recurrent layers. They concatenate the current input 𝑋𝑡 and the previous hidden state 𝐻𝑡−1, then pass the result through a fully connected layer with an activation function 𝜙.\n",
        "\n",
        "6. Visualization:\n",
        "\n",
        " - At each time step, 𝐻𝑡 is influenced by both the current input 𝑋𝑡 and the past hidden state 𝐻𝑡−1. It contributes to the computation of the next hidden state 𝐻𝑡+1 and the current output 𝑂𝑡.\n"
      ],
      "metadata": {
        "id": "RsNDvkn_207B"
      }
    },
    {
      "cell_type": "markdown",
      "source": [
        "![image.png](data:image/png;base64,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)"
      ],
      "metadata": {
        "id": "1CWPJG19BFZy"
      }
    },
    {
      "cell_type": "markdown",
      "source": [
        "## **Character Level Language Model Based on RNN**"
      ],
      "metadata": {
        "id": "TZMXh8ixDLxD"
      }
    },
    {
      "cell_type": "markdown",
      "source": [
        "![image.png](data:image/png;base64,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)"
      ],
      "metadata": {
        "id": "UtqZpU4koA1-"
      }
    },
    {
      "cell_type": "markdown",
      "source": [
        "## **RNN Implementation from Scratch**"
      ],
      "metadata": {
        "id": "j6QC574LoBye"
      }
    },
    {
      "cell_type": "markdown",
      "source": [
        "Input size explain: [num_steps, batch_size, num_hiddens]\n",
        "\n",
        "num_steps -> The number of tokens in the sentence. For \"I love AI\", num_steps = 3 because there are 3 words.\n",
        "\n",
        "batch_size -> The number of sequences in the batch. For one sentence,\n",
        "batch_size = 1\n",
        "\n",
        "num_hiddens -> Size of the word embedding vector. Here, num_inputs = 4\n",
        "\n",
        "Word Embedding example:\n",
        "\n",
        "\"I\" → [0.1, 0.2, 0.3, 0.4]\n",
        "\n",
        "\"love\" → [0.5, 0.6, 0.7, 0.8]\n",
        "\n",
        "\"AI\" → [0.9, 1.0, 1.1, 1.2]\n"
      ],
      "metadata": {
        "id": "UsekqbbXAJtp"
      }
    },
    {
      "cell_type": "code",
      "source": [
        "class RNNScratch(d2l.Module):\n",
        "  def __init__(self, num_inputs, num_hiddens, sigma=0.01):\n",
        "    super().__init__()\n",
        "    self.save_hyperparameter()\n",
        "    self.W_xh = nn.Parameter(torch.randn(num_inputs, num_hiddens) * sigma)\n",
        "    self.W_hh = nn.Parameter(torch.randn(num_hiddens, num_hiddens) * sigma)\n",
        "    self.b_h = nn.Parameter(torch.zeros(num_hiddens))\n",
        "\n",
        "  def forward(self, inputs, state=None):\n",
        "    if state is not None:\n",
        "      # initial state with shape: (batch_size, num_hiddens)\n",
        "      state = torch.zeros((inputs.shape[1], self.num_hiddens), device=inputs.device)\n",
        "    else:\n",
        "      state, = state\n",
        "    outputs = []\n",
        "    for X in inputs:  # size of input: (num_steps, batch_size, num_inputs)\n",
        "      state = torch.tanh(torch.matmul(X, self.W_xh) + torch.matmul(state, self.W_hh) + self.b_h)\n",
        "      outputs.append(state)\n",
        "    return outputs, state"
      ],
      "metadata": {
        "id": "IksQ-i6r3i6_"
      },
      "execution_count": 3,
      "outputs": []
    },
    {
      "cell_type": "code",
      "source": [],
      "metadata": {
        "id": "JApH0zdIBaOy"
      },
      "execution_count": null,
      "outputs": []
    }
  ]
}