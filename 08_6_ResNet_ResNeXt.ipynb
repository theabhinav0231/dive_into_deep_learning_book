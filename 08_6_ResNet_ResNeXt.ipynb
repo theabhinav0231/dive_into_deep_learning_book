{
  "nbformat": 4,
  "nbformat_minor": 0,
  "metadata": {
    "colab": {
      "provenance": [],
      "authorship_tag": "ABX9TyMIE+ullKXFT9HsNyNnRV4V",
      "include_colab_link": true
    },
    "kernelspec": {
      "name": "python3",
      "display_name": "Python 3"
    },
    "language_info": {
      "name": "python"
    }
  },
  "cells": [
    {
      "cell_type": "markdown",
      "metadata": {
        "id": "view-in-github",
        "colab_type": "text"
      },
      "source": [
        "<a href=\"https://colab.research.google.com/github/theabhinav0231/dive_into_deep_learning_book/blob/main/08_6_ResNet_ResNeXt.ipynb\" target=\"_parent\"><img src=\"https://colab.research.google.com/assets/colab-badge.svg\" alt=\"Open In Colab\"/></a>"
      ]
    },
    {
      "cell_type": "code",
      "source": [
        "!pip install d2l"
      ],
      "metadata": {
        "colab": {
          "base_uri": "https://localhost:8080/",
          "height": 1000
        },
        "collapsed": true,
        "id": "tErfImZoY-qG",
        "outputId": "6c8a0950-7fca-4370-b1ac-b827e5b5970a"
      },
      "execution_count": 1,
      "outputs": [
        {
          "output_type": "stream",
          "name": "stdout",
          "text": [
            "Collecting d2l\n",
            "  Downloading d2l-1.0.3-py3-none-any.whl.metadata (556 bytes)\n",
            "Collecting jupyter==1.0.0 (from d2l)\n",
            "  Downloading jupyter-1.0.0-py2.py3-none-any.whl.metadata (995 bytes)\n",
            "Collecting numpy==1.23.5 (from d2l)\n",
            "  Downloading numpy-1.23.5-cp310-cp310-manylinux_2_17_x86_64.manylinux2014_x86_64.whl.metadata (2.3 kB)\n",
            "Collecting matplotlib==3.7.2 (from d2l)\n",
            "  Downloading matplotlib-3.7.2-cp310-cp310-manylinux_2_17_x86_64.manylinux2014_x86_64.whl.metadata (5.6 kB)\n",
            "Collecting matplotlib-inline==0.1.6 (from d2l)\n",
            "  Downloading matplotlib_inline-0.1.6-py3-none-any.whl.metadata (2.8 kB)\n",
            "Collecting requests==2.31.0 (from d2l)\n",
            "  Downloading requests-2.31.0-py3-none-any.whl.metadata (4.6 kB)\n",
            "Collecting pandas==2.0.3 (from d2l)\n",
            "  Downloading pandas-2.0.3-cp310-cp310-manylinux_2_17_x86_64.manylinux2014_x86_64.whl.metadata (18 kB)\n",
            "Collecting scipy==1.10.1 (from d2l)\n",
            "  Downloading scipy-1.10.1-cp310-cp310-manylinux_2_17_x86_64.manylinux2014_x86_64.whl.metadata (58 kB)\n",
            "\u001b[2K     \u001b[90m━━━━━━━━━━━━━━━━━━━━━━━━━━━━━━━━━━━━━━━━\u001b[0m \u001b[32m58.9/58.9 kB\u001b[0m \u001b[31m1.3 MB/s\u001b[0m eta \u001b[36m0:00:00\u001b[0m\n",
            "\u001b[?25hRequirement already satisfied: notebook in /usr/local/lib/python3.10/dist-packages (from jupyter==1.0.0->d2l) (6.5.5)\n",
            "Collecting qtconsole (from jupyter==1.0.0->d2l)\n",
            "  Downloading qtconsole-5.6.1-py3-none-any.whl.metadata (5.0 kB)\n",
            "Requirement already satisfied: jupyter-console in /usr/local/lib/python3.10/dist-packages (from jupyter==1.0.0->d2l) (6.1.0)\n",
            "Requirement already satisfied: nbconvert in /usr/local/lib/python3.10/dist-packages (from jupyter==1.0.0->d2l) (7.16.4)\n",
            "Requirement already satisfied: ipykernel in /usr/local/lib/python3.10/dist-packages (from jupyter==1.0.0->d2l) (5.5.6)\n",
            "Requirement already satisfied: ipywidgets in /usr/local/lib/python3.10/dist-packages (from jupyter==1.0.0->d2l) (7.7.1)\n",
            "Requirement already satisfied: contourpy>=1.0.1 in /usr/local/lib/python3.10/dist-packages (from matplotlib==3.7.2->d2l) (1.3.1)\n",
            "Requirement already satisfied: cycler>=0.10 in /usr/local/lib/python3.10/dist-packages (from matplotlib==3.7.2->d2l) (0.12.1)\n",
            "Requirement already satisfied: fonttools>=4.22.0 in /usr/local/lib/python3.10/dist-packages (from matplotlib==3.7.2->d2l) (4.55.3)\n",
            "Requirement already satisfied: kiwisolver>=1.0.1 in /usr/local/lib/python3.10/dist-packages (from matplotlib==3.7.2->d2l) (1.4.7)\n",
            "Requirement already satisfied: packaging>=20.0 in /usr/local/lib/python3.10/dist-packages (from matplotlib==3.7.2->d2l) (24.2)\n",
            "Requirement already satisfied: pillow>=6.2.0 in /usr/local/lib/python3.10/dist-packages (from matplotlib==3.7.2->d2l) (11.0.0)\n",
            "Collecting pyparsing<3.1,>=2.3.1 (from matplotlib==3.7.2->d2l)\n",
            "  Downloading pyparsing-3.0.9-py3-none-any.whl.metadata (4.2 kB)\n",
            "Requirement already satisfied: python-dateutil>=2.7 in /usr/local/lib/python3.10/dist-packages (from matplotlib==3.7.2->d2l) (2.8.2)\n",
            "Requirement already satisfied: traitlets in /usr/local/lib/python3.10/dist-packages (from matplotlib-inline==0.1.6->d2l) (5.7.1)\n",
            "Requirement already satisfied: pytz>=2020.1 in /usr/local/lib/python3.10/dist-packages (from pandas==2.0.3->d2l) (2024.2)\n",
            "Requirement already satisfied: tzdata>=2022.1 in /usr/local/lib/python3.10/dist-packages (from pandas==2.0.3->d2l) (2024.2)\n",
            "Requirement already satisfied: charset-normalizer<4,>=2 in /usr/local/lib/python3.10/dist-packages (from requests==2.31.0->d2l) (3.4.0)\n",
            "Requirement already satisfied: idna<4,>=2.5 in /usr/local/lib/python3.10/dist-packages (from requests==2.31.0->d2l) (3.10)\n",
            "Requirement already satisfied: urllib3<3,>=1.21.1 in /usr/local/lib/python3.10/dist-packages (from requests==2.31.0->d2l) (2.2.3)\n",
            "Requirement already satisfied: certifi>=2017.4.17 in /usr/local/lib/python3.10/dist-packages (from requests==2.31.0->d2l) (2024.12.14)\n",
            "Requirement already satisfied: six>=1.5 in /usr/local/lib/python3.10/dist-packages (from python-dateutil>=2.7->matplotlib==3.7.2->d2l) (1.17.0)\n",
            "Requirement already satisfied: ipython-genutils in /usr/local/lib/python3.10/dist-packages (from ipykernel->jupyter==1.0.0->d2l) (0.2.0)\n",
            "Requirement already satisfied: ipython>=5.0.0 in /usr/local/lib/python3.10/dist-packages (from ipykernel->jupyter==1.0.0->d2l) (7.34.0)\n",
            "Requirement already satisfied: jupyter-client in /usr/local/lib/python3.10/dist-packages (from ipykernel->jupyter==1.0.0->d2l) (6.1.12)\n",
            "Requirement already satisfied: tornado>=4.2 in /usr/local/lib/python3.10/dist-packages (from ipykernel->jupyter==1.0.0->d2l) (6.3.3)\n",
            "Requirement already satisfied: widgetsnbextension~=3.6.0 in /usr/local/lib/python3.10/dist-packages (from ipywidgets->jupyter==1.0.0->d2l) (3.6.10)\n",
            "Requirement already satisfied: jupyterlab-widgets>=1.0.0 in /usr/local/lib/python3.10/dist-packages (from ipywidgets->jupyter==1.0.0->d2l) (3.0.13)\n",
            "Requirement already satisfied: prompt-toolkit!=3.0.0,!=3.0.1,<3.1.0,>=2.0.0 in /usr/local/lib/python3.10/dist-packages (from jupyter-console->jupyter==1.0.0->d2l) (3.0.48)\n",
            "Requirement already satisfied: pygments in /usr/local/lib/python3.10/dist-packages (from jupyter-console->jupyter==1.0.0->d2l) (2.18.0)\n",
            "Requirement already satisfied: beautifulsoup4 in /usr/local/lib/python3.10/dist-packages (from nbconvert->jupyter==1.0.0->d2l) (4.12.3)\n",
            "Requirement already satisfied: bleach!=5.0.0 in /usr/local/lib/python3.10/dist-packages (from nbconvert->jupyter==1.0.0->d2l) (6.2.0)\n",
            "Requirement already satisfied: defusedxml in /usr/local/lib/python3.10/dist-packages (from nbconvert->jupyter==1.0.0->d2l) (0.7.1)\n",
            "Requirement already satisfied: jinja2>=3.0 in /usr/local/lib/python3.10/dist-packages (from nbconvert->jupyter==1.0.0->d2l) (3.1.4)\n",
            "Requirement already satisfied: jupyter-core>=4.7 in /usr/local/lib/python3.10/dist-packages (from nbconvert->jupyter==1.0.0->d2l) (5.7.2)\n",
            "Requirement already satisfied: jupyterlab-pygments in /usr/local/lib/python3.10/dist-packages (from nbconvert->jupyter==1.0.0->d2l) (0.3.0)\n",
            "Requirement already satisfied: markupsafe>=2.0 in /usr/local/lib/python3.10/dist-packages (from nbconvert->jupyter==1.0.0->d2l) (3.0.2)\n",
            "Requirement already satisfied: mistune<4,>=2.0.3 in /usr/local/lib/python3.10/dist-packages (from nbconvert->jupyter==1.0.0->d2l) (3.0.2)\n",
            "Requirement already satisfied: nbclient>=0.5.0 in /usr/local/lib/python3.10/dist-packages (from nbconvert->jupyter==1.0.0->d2l) (0.10.1)\n",
            "Requirement already satisfied: nbformat>=5.7 in /usr/local/lib/python3.10/dist-packages (from nbconvert->jupyter==1.0.0->d2l) (5.10.4)\n",
            "Requirement already satisfied: pandocfilters>=1.4.1 in /usr/local/lib/python3.10/dist-packages (from nbconvert->jupyter==1.0.0->d2l) (1.5.1)\n",
            "Requirement already satisfied: tinycss2 in /usr/local/lib/python3.10/dist-packages (from nbconvert->jupyter==1.0.0->d2l) (1.4.0)\n",
            "Requirement already satisfied: pyzmq<25,>=17 in /usr/local/lib/python3.10/dist-packages (from notebook->jupyter==1.0.0->d2l) (24.0.1)\n",
            "Requirement already satisfied: argon2-cffi in /usr/local/lib/python3.10/dist-packages (from notebook->jupyter==1.0.0->d2l) (23.1.0)\n",
            "Requirement already satisfied: nest-asyncio>=1.5 in /usr/local/lib/python3.10/dist-packages (from notebook->jupyter==1.0.0->d2l) (1.6.0)\n",
            "Requirement already satisfied: Send2Trash>=1.8.0 in /usr/local/lib/python3.10/dist-packages (from notebook->jupyter==1.0.0->d2l) (1.8.3)\n",
            "Requirement already satisfied: terminado>=0.8.3 in /usr/local/lib/python3.10/dist-packages (from notebook->jupyter==1.0.0->d2l) (0.18.1)\n",
            "Requirement already satisfied: prometheus-client in /usr/local/lib/python3.10/dist-packages (from notebook->jupyter==1.0.0->d2l) (0.21.1)\n",
            "Requirement already satisfied: nbclassic>=0.4.7 in /usr/local/lib/python3.10/dist-packages (from notebook->jupyter==1.0.0->d2l) (1.1.0)\n",
            "Collecting qtpy>=2.4.0 (from qtconsole->jupyter==1.0.0->d2l)\n",
            "  Downloading QtPy-2.4.2-py3-none-any.whl.metadata (12 kB)\n",
            "Requirement already satisfied: webencodings in /usr/local/lib/python3.10/dist-packages (from bleach!=5.0.0->nbconvert->jupyter==1.0.0->d2l) (0.5.1)\n",
            "Requirement already satisfied: setuptools>=18.5 in /usr/local/lib/python3.10/dist-packages (from ipython>=5.0.0->ipykernel->jupyter==1.0.0->d2l) (75.1.0)\n",
            "Collecting jedi>=0.16 (from ipython>=5.0.0->ipykernel->jupyter==1.0.0->d2l)\n",
            "  Downloading jedi-0.19.2-py2.py3-none-any.whl.metadata (22 kB)\n",
            "Requirement already satisfied: decorator in /usr/local/lib/python3.10/dist-packages (from ipython>=5.0.0->ipykernel->jupyter==1.0.0->d2l) (4.4.2)\n",
            "Requirement already satisfied: pickleshare in /usr/local/lib/python3.10/dist-packages (from ipython>=5.0.0->ipykernel->jupyter==1.0.0->d2l) (0.7.5)\n",
            "Requirement already satisfied: backcall in /usr/local/lib/python3.10/dist-packages (from ipython>=5.0.0->ipykernel->jupyter==1.0.0->d2l) (0.2.0)\n",
            "Requirement already satisfied: pexpect>4.3 in /usr/local/lib/python3.10/dist-packages (from ipython>=5.0.0->ipykernel->jupyter==1.0.0->d2l) (4.9.0)\n",
            "Requirement already satisfied: platformdirs>=2.5 in /usr/local/lib/python3.10/dist-packages (from jupyter-core>=4.7->nbconvert->jupyter==1.0.0->d2l) (4.3.6)\n",
            "Requirement already satisfied: notebook-shim>=0.2.3 in /usr/local/lib/python3.10/dist-packages (from nbclassic>=0.4.7->notebook->jupyter==1.0.0->d2l) (0.2.4)\n",
            "Requirement already satisfied: fastjsonschema>=2.15 in /usr/local/lib/python3.10/dist-packages (from nbformat>=5.7->nbconvert->jupyter==1.0.0->d2l) (2.21.1)\n",
            "Requirement already satisfied: jsonschema>=2.6 in /usr/local/lib/python3.10/dist-packages (from nbformat>=5.7->nbconvert->jupyter==1.0.0->d2l) (4.23.0)\n",
            "Requirement already satisfied: wcwidth in /usr/local/lib/python3.10/dist-packages (from prompt-toolkit!=3.0.0,!=3.0.1,<3.1.0,>=2.0.0->jupyter-console->jupyter==1.0.0->d2l) (0.2.13)\n",
            "Requirement already satisfied: ptyprocess in /usr/local/lib/python3.10/dist-packages (from terminado>=0.8.3->notebook->jupyter==1.0.0->d2l) (0.7.0)\n",
            "Requirement already satisfied: argon2-cffi-bindings in /usr/local/lib/python3.10/dist-packages (from argon2-cffi->notebook->jupyter==1.0.0->d2l) (21.2.0)\n",
            "Requirement already satisfied: soupsieve>1.2 in /usr/local/lib/python3.10/dist-packages (from beautifulsoup4->nbconvert->jupyter==1.0.0->d2l) (2.6)\n",
            "Requirement already satisfied: parso<0.9.0,>=0.8.4 in /usr/local/lib/python3.10/dist-packages (from jedi>=0.16->ipython>=5.0.0->ipykernel->jupyter==1.0.0->d2l) (0.8.4)\n",
            "Requirement already satisfied: attrs>=22.2.0 in /usr/local/lib/python3.10/dist-packages (from jsonschema>=2.6->nbformat>=5.7->nbconvert->jupyter==1.0.0->d2l) (24.3.0)\n",
            "Requirement already satisfied: jsonschema-specifications>=2023.03.6 in /usr/local/lib/python3.10/dist-packages (from jsonschema>=2.6->nbformat>=5.7->nbconvert->jupyter==1.0.0->d2l) (2024.10.1)\n",
            "Requirement already satisfied: referencing>=0.28.4 in /usr/local/lib/python3.10/dist-packages (from jsonschema>=2.6->nbformat>=5.7->nbconvert->jupyter==1.0.0->d2l) (0.35.1)\n",
            "Requirement already satisfied: rpds-py>=0.7.1 in /usr/local/lib/python3.10/dist-packages (from jsonschema>=2.6->nbformat>=5.7->nbconvert->jupyter==1.0.0->d2l) (0.22.3)\n",
            "Requirement already satisfied: jupyter-server<3,>=1.8 in /usr/local/lib/python3.10/dist-packages (from notebook-shim>=0.2.3->nbclassic>=0.4.7->notebook->jupyter==1.0.0->d2l) (1.24.0)\n",
            "Requirement already satisfied: cffi>=1.0.1 in /usr/local/lib/python3.10/dist-packages (from argon2-cffi-bindings->argon2-cffi->notebook->jupyter==1.0.0->d2l) (1.17.1)\n",
            "Requirement already satisfied: pycparser in /usr/local/lib/python3.10/dist-packages (from cffi>=1.0.1->argon2-cffi-bindings->argon2-cffi->notebook->jupyter==1.0.0->d2l) (2.22)\n",
            "Requirement already satisfied: anyio<4,>=3.1.0 in /usr/local/lib/python3.10/dist-packages (from jupyter-server<3,>=1.8->notebook-shim>=0.2.3->nbclassic>=0.4.7->notebook->jupyter==1.0.0->d2l) (3.7.1)\n",
            "Requirement already satisfied: websocket-client in /usr/local/lib/python3.10/dist-packages (from jupyter-server<3,>=1.8->notebook-shim>=0.2.3->nbclassic>=0.4.7->notebook->jupyter==1.0.0->d2l) (1.8.0)\n",
            "Requirement already satisfied: sniffio>=1.1 in /usr/local/lib/python3.10/dist-packages (from anyio<4,>=3.1.0->jupyter-server<3,>=1.8->notebook-shim>=0.2.3->nbclassic>=0.4.7->notebook->jupyter==1.0.0->d2l) (1.3.1)\n",
            "Requirement already satisfied: exceptiongroup in /usr/local/lib/python3.10/dist-packages (from anyio<4,>=3.1.0->jupyter-server<3,>=1.8->notebook-shim>=0.2.3->nbclassic>=0.4.7->notebook->jupyter==1.0.0->d2l) (1.2.2)\n",
            "Downloading d2l-1.0.3-py3-none-any.whl (111 kB)\n",
            "\u001b[2K   \u001b[90m━━━━━━━━━━━━━━━━━━━━━━━━━━━━━━━━━━━━━━━━\u001b[0m \u001b[32m111.7/111.7 kB\u001b[0m \u001b[31m4.1 MB/s\u001b[0m eta \u001b[36m0:00:00\u001b[0m\n",
            "\u001b[?25hDownloading jupyter-1.0.0-py2.py3-none-any.whl (2.7 kB)\n",
            "Downloading matplotlib-3.7.2-cp310-cp310-manylinux_2_17_x86_64.manylinux2014_x86_64.whl (11.6 MB)\n",
            "\u001b[2K   \u001b[90m━━━━━━━━━━━━━━━━━━━━━━━━━━━━━━━━━━━━━━━━\u001b[0m \u001b[32m11.6/11.6 MB\u001b[0m \u001b[31m17.0 MB/s\u001b[0m eta \u001b[36m0:00:00\u001b[0m\n",
            "\u001b[?25hDownloading matplotlib_inline-0.1.6-py3-none-any.whl (9.4 kB)\n",
            "Downloading numpy-1.23.5-cp310-cp310-manylinux_2_17_x86_64.manylinux2014_x86_64.whl (17.1 MB)\n",
            "\u001b[2K   \u001b[90m━━━━━━━━━━━━━━━━━━━━━━━━━━━━━━━━━━━━━━━━\u001b[0m \u001b[32m17.1/17.1 MB\u001b[0m \u001b[31m17.2 MB/s\u001b[0m eta \u001b[36m0:00:00\u001b[0m\n",
            "\u001b[?25hDownloading pandas-2.0.3-cp310-cp310-manylinux_2_17_x86_64.manylinux2014_x86_64.whl (12.3 MB)\n",
            "\u001b[2K   \u001b[90m━━━━━━━━━━━━━━━━━━━━━━━━━━━━━━━━━━━━━━━━\u001b[0m \u001b[32m12.3/12.3 MB\u001b[0m \u001b[31m47.6 MB/s\u001b[0m eta \u001b[36m0:00:00\u001b[0m\n",
            "\u001b[?25hDownloading requests-2.31.0-py3-none-any.whl (62 kB)\n",
            "\u001b[2K   \u001b[90m━━━━━━━━━━━━━━━━━━━━━━━━━━━━━━━━━━━━━━━━\u001b[0m \u001b[32m62.6/62.6 kB\u001b[0m \u001b[31m4.1 MB/s\u001b[0m eta \u001b[36m0:00:00\u001b[0m\n",
            "\u001b[?25hDownloading scipy-1.10.1-cp310-cp310-manylinux_2_17_x86_64.manylinux2014_x86_64.whl (34.4 MB)\n",
            "\u001b[2K   \u001b[90m━━━━━━━━━━━━━━━━━━━━━━━━━━━━━━━━━━━━━━━━\u001b[0m \u001b[32m34.4/34.4 MB\u001b[0m \u001b[31m14.8 MB/s\u001b[0m eta \u001b[36m0:00:00\u001b[0m\n",
            "\u001b[?25hDownloading pyparsing-3.0.9-py3-none-any.whl (98 kB)\n",
            "\u001b[2K   \u001b[90m━━━━━━━━━━━━━━━━━━━━━━━━━━━━━━━━━━━━━━━━\u001b[0m \u001b[32m98.3/98.3 kB\u001b[0m \u001b[31m643.7 kB/s\u001b[0m eta \u001b[36m0:00:00\u001b[0m\n",
            "\u001b[?25hDownloading qtconsole-5.6.1-py3-none-any.whl (125 kB)\n",
            "\u001b[2K   \u001b[90m━━━━━━━━━━━━━━━━━━━━━━━━━━━━━━━━━━━━━━━━\u001b[0m \u001b[32m125.0/125.0 kB\u001b[0m \u001b[31m3.8 MB/s\u001b[0m eta \u001b[36m0:00:00\u001b[0m\n",
            "\u001b[?25hDownloading QtPy-2.4.2-py3-none-any.whl (95 kB)\n",
            "\u001b[2K   \u001b[90m━━━━━━━━━━━━━━━━━━━━━━━━━━━━━━━━━━━━━━━━\u001b[0m \u001b[32m95.2/95.2 kB\u001b[0m \u001b[31m6.5 MB/s\u001b[0m eta \u001b[36m0:00:00\u001b[0m\n",
            "\u001b[?25hDownloading jedi-0.19.2-py2.py3-none-any.whl (1.6 MB)\n",
            "\u001b[2K   \u001b[90m━━━━━━━━━━━━━━━━━━━━━━━━━━━━━━━━━━━━━━━━\u001b[0m \u001b[32m1.6/1.6 MB\u001b[0m \u001b[31m51.3 MB/s\u001b[0m eta \u001b[36m0:00:00\u001b[0m\n",
            "\u001b[?25hInstalling collected packages: requests, qtpy, pyparsing, numpy, matplotlib-inline, jedi, scipy, pandas, matplotlib, qtconsole, jupyter, d2l\n",
            "  Attempting uninstall: requests\n",
            "    Found existing installation: requests 2.32.3\n",
            "    Uninstalling requests-2.32.3:\n",
            "      Successfully uninstalled requests-2.32.3\n",
            "  Attempting uninstall: pyparsing\n",
            "    Found existing installation: pyparsing 3.2.0\n",
            "    Uninstalling pyparsing-3.2.0:\n",
            "      Successfully uninstalled pyparsing-3.2.0\n",
            "  Attempting uninstall: numpy\n",
            "    Found existing installation: numpy 1.26.4\n",
            "    Uninstalling numpy-1.26.4:\n",
            "      Successfully uninstalled numpy-1.26.4\n",
            "  Attempting uninstall: matplotlib-inline\n",
            "    Found existing installation: matplotlib-inline 0.1.7\n",
            "    Uninstalling matplotlib-inline-0.1.7:\n",
            "      Successfully uninstalled matplotlib-inline-0.1.7\n",
            "  Attempting uninstall: scipy\n",
            "    Found existing installation: scipy 1.13.1\n",
            "    Uninstalling scipy-1.13.1:\n",
            "      Successfully uninstalled scipy-1.13.1\n",
            "  Attempting uninstall: pandas\n",
            "    Found existing installation: pandas 2.2.2\n",
            "    Uninstalling pandas-2.2.2:\n",
            "      Successfully uninstalled pandas-2.2.2\n",
            "  Attempting uninstall: matplotlib\n",
            "    Found existing installation: matplotlib 3.8.0\n",
            "    Uninstalling matplotlib-3.8.0:\n",
            "      Successfully uninstalled matplotlib-3.8.0\n",
            "\u001b[31mERROR: pip's dependency resolver does not currently take into account all the packages that are installed. This behaviour is the source of the following dependency conflicts.\n",
            "albucore 0.0.19 requires numpy>=1.24.4, but you have numpy 1.23.5 which is incompatible.\n",
            "albumentations 1.4.20 requires numpy>=1.24.4, but you have numpy 1.23.5 which is incompatible.\n",
            "bigframes 1.29.0 requires numpy>=1.24.0, but you have numpy 1.23.5 which is incompatible.\n",
            "chex 0.1.88 requires numpy>=1.24.1, but you have numpy 1.23.5 which is incompatible.\n",
            "google-colab 1.0.0 requires pandas==2.2.2, but you have pandas 2.0.3 which is incompatible.\n",
            "google-colab 1.0.0 requires requests==2.32.3, but you have requests 2.31.0 which is incompatible.\n",
            "jax 0.4.33 requires numpy>=1.24, but you have numpy 1.23.5 which is incompatible.\n",
            "jaxlib 0.4.33 requires numpy>=1.24, but you have numpy 1.23.5 which is incompatible.\n",
            "mizani 0.13.1 requires pandas>=2.2.0, but you have pandas 2.0.3 which is incompatible.\n",
            "plotnine 0.14.4 requires matplotlib>=3.8.0, but you have matplotlib 3.7.2 which is incompatible.\n",
            "plotnine 0.14.4 requires pandas>=2.2.0, but you have pandas 2.0.3 which is incompatible.\n",
            "pymc 5.19.1 requires numpy>=1.25.0, but you have numpy 1.23.5 which is incompatible.\n",
            "scikit-image 0.25.0 requires numpy>=1.24, but you have numpy 1.23.5 which is incompatible.\n",
            "scikit-image 0.25.0 requires scipy>=1.11.2, but you have scipy 1.10.1 which is incompatible.\n",
            "xarray 2024.11.0 requires numpy>=1.24, but you have numpy 1.23.5 which is incompatible.\n",
            "xarray 2024.11.0 requires pandas>=2.1, but you have pandas 2.0.3 which is incompatible.\u001b[0m\u001b[31m\n",
            "\u001b[0mSuccessfully installed d2l-1.0.3 jedi-0.19.2 jupyter-1.0.0 matplotlib-3.7.2 matplotlib-inline-0.1.6 numpy-1.23.5 pandas-2.0.3 pyparsing-3.0.9 qtconsole-5.6.1 qtpy-2.4.2 requests-2.31.0 scipy-1.10.1\n"
          ]
        },
        {
          "output_type": "display_data",
          "data": {
            "application/vnd.colab-display-data+json": {
              "pip_warning": {
                "packages": [
                  "matplotlib",
                  "matplotlib_inline",
                  "mpl_toolkits",
                  "numpy"
                ]
              },
              "id": "a38c32b3c19c48d8b44ec2474fc21aae"
            }
          },
          "metadata": {}
        }
      ]
    },
    {
      "cell_type": "code",
      "execution_count": 2,
      "metadata": {
        "id": "lD21skovY7od"
      },
      "outputs": [],
      "source": [
        "import torch\n",
        "from torch import nn\n",
        "from torch.nn import functional as F\n",
        "from d2l import torch as d2l"
      ]
    },
    {
      "cell_type": "code",
      "source": [
        "print(\"hello\")"
      ],
      "metadata": {
        "colab": {
          "base_uri": "https://localhost:8080/"
        },
        "id": "r-Yx_UsPZOM6",
        "outputId": "96195ce7-be82-4623-e348-2603b99c811e"
      },
      "execution_count": 4,
      "outputs": [
        {
          "output_type": "stream",
          "name": "stdout",
          "text": [
            "hello\n"
          ]
        }
      ]
    },
    {
      "cell_type": "markdown",
      "source": [
        "## **Residual Networks**\n",
        "\n",
        "Nested function classes ensure that increasing network complexity improves performance, unlike non-nested classes. Residual networks (ResNet) leverage this concept by enabling added layers to maintain identity mappings, which facilitates training deeper networks effectively. ResNet's residual blocks have profoundly impacted various neural network architectures."
      ],
      "metadata": {
        "id": "D4IaCv_QDItZ"
      }
    },
    {
      "cell_type": "markdown",
      "source": [
        "## **Residual Blocks**\n",
        "\n",
        "1. Residual Block Concept:\n",
        "\n",
        " - Regular block (left): Learns the direct mapping\n",
        "𝑓\n",
        "(\n",
        "𝑥\n",
        ") for the input\n",
        "𝑥.\n",
        " - Residual block (right): Learns the residual mapping\n",
        "𝑔\n",
        "(\n",
        "𝑥\n",
        ")\n",
        "=\n",
        "𝑓\n",
        "(\n",
        "𝑥\n",
        ")\n",
        "−\n",
        "𝑥, where\n",
        "𝑓\n",
        "(\n",
        "𝑥\n",
        ") is the desired mapping.\n",
        " - If\n",
        "𝑓\n",
        "(\n",
        "𝑥\n",
        ")\n",
        "=\n",
        "𝑥 (identity mapping), then\n",
        "𝑔\n",
        "(\n",
        "𝑥\n",
        ")\n",
        "= 0. This simplifies learning since the weights and biases can be pushed to zero.\n",
        "\n",
        "2. Residual Connections:\n",
        "\n",
        " - The shortcut connection (solid line) bypasses the weight layers and directly propagates the input\n",
        "𝑥 to the addition operator.\n",
        " - This speeds up forward propagation and reduces learning complexity.\n",
        "\n",
        "3. Design of Residual Blocks:\n",
        "\n",
        " - Each block contains two\n",
        "3\n",
        "×\n",
        "3 convolutional layers, followed by batch normalization and ReLU activation functions.\n",
        " - The input is added to the output of these layers just before the final ReLU activation.\n",
        "\n",
        "4. Shape Compatibility:\n",
        "\n",
        " - For the addition operation, the input and the output of the convolutional layers must have the same shape.\n",
        " - If the number of channels changes, a\n",
        "1\n",
        "×\n",
        "1 convolutional layer is used to transform the input to the required shape."
      ],
      "metadata": {
        "id": "JU_2VBKrDR3K"
      }
    },
    {
      "cell_type": "markdown",
      "source": [
        "![image.png](data:image/png;base64,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)"
      ],
      "metadata": {
        "id": "Qi1Fwf_WGICR"
      }
    },
    {
      "cell_type": "code",
      "source": [],
      "metadata": {
        "id": "GoLyJdRhGMCb"
      },
      "execution_count": null,
      "outputs": []
    }
  ]
}