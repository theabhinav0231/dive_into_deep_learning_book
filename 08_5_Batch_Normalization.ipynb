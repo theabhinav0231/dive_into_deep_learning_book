{
  "nbformat": 4,
  "nbformat_minor": 0,
  "metadata": {
    "colab": {
      "provenance": [],
      "authorship_tag": "ABX9TyOieGFmHDjQVGeK9dTfLHF5",
      "include_colab_link": true
    },
    "kernelspec": {
      "name": "python3",
      "display_name": "Python 3"
    },
    "language_info": {
      "name": "python"
    }
  },
  "cells": [
    {
      "cell_type": "markdown",
      "metadata": {
        "id": "view-in-github",
        "colab_type": "text"
      },
      "source": [
        "<a href=\"https://colab.research.google.com/github/theabhinav0231/dive_into_deep_learning_book/blob/main/08_5_Batch_Normalization.ipynb\" target=\"_parent\"><img src=\"https://colab.research.google.com/assets/colab-badge.svg\" alt=\"Open In Colab\"/></a>"
      ]
    },
    {
      "cell_type": "code",
      "execution_count": 1,
      "metadata": {
        "colab": {
          "base_uri": "https://localhost:8080/",
          "height": 1000
        },
        "id": "MlPDSd2sv9aG",
        "outputId": "36855177-d62f-4e94-9280-35a8f74c9d91"
      },
      "outputs": [
        {
          "output_type": "stream",
          "name": "stdout",
          "text": [
            "Collecting d2l\n",
            "  Downloading d2l-1.0.3-py3-none-any.whl.metadata (556 bytes)\n",
            "Collecting jupyter==1.0.0 (from d2l)\n",
            "  Downloading jupyter-1.0.0-py2.py3-none-any.whl.metadata (995 bytes)\n",
            "Collecting numpy==1.23.5 (from d2l)\n",
            "  Downloading numpy-1.23.5-cp310-cp310-manylinux_2_17_x86_64.manylinux2014_x86_64.whl.metadata (2.3 kB)\n",
            "Collecting matplotlib==3.7.2 (from d2l)\n",
            "  Downloading matplotlib-3.7.2-cp310-cp310-manylinux_2_17_x86_64.manylinux2014_x86_64.whl.metadata (5.6 kB)\n",
            "Collecting matplotlib-inline==0.1.6 (from d2l)\n",
            "  Downloading matplotlib_inline-0.1.6-py3-none-any.whl.metadata (2.8 kB)\n",
            "Collecting requests==2.31.0 (from d2l)\n",
            "  Downloading requests-2.31.0-py3-none-any.whl.metadata (4.6 kB)\n",
            "Collecting pandas==2.0.3 (from d2l)\n",
            "  Downloading pandas-2.0.3-cp310-cp310-manylinux_2_17_x86_64.manylinux2014_x86_64.whl.metadata (18 kB)\n",
            "Collecting scipy==1.10.1 (from d2l)\n",
            "  Downloading scipy-1.10.1-cp310-cp310-manylinux_2_17_x86_64.manylinux2014_x86_64.whl.metadata (58 kB)\n",
            "\u001b[2K     \u001b[90m━━━━━━━━━━━━━━━━━━━━━━━━━━━━━━━━━━━━━━━━\u001b[0m \u001b[32m58.9/58.9 kB\u001b[0m \u001b[31m1.8 MB/s\u001b[0m eta \u001b[36m0:00:00\u001b[0m\n",
            "\u001b[?25hRequirement already satisfied: notebook in /usr/local/lib/python3.10/dist-packages (from jupyter==1.0.0->d2l) (6.5.5)\n",
            "Collecting qtconsole (from jupyter==1.0.0->d2l)\n",
            "  Downloading qtconsole-5.6.1-py3-none-any.whl.metadata (5.0 kB)\n",
            "Requirement already satisfied: jupyter-console in /usr/local/lib/python3.10/dist-packages (from jupyter==1.0.0->d2l) (6.1.0)\n",
            "Requirement already satisfied: nbconvert in /usr/local/lib/python3.10/dist-packages (from jupyter==1.0.0->d2l) (7.16.4)\n",
            "Requirement already satisfied: ipykernel in /usr/local/lib/python3.10/dist-packages (from jupyter==1.0.0->d2l) (5.5.6)\n",
            "Requirement already satisfied: ipywidgets in /usr/local/lib/python3.10/dist-packages (from jupyter==1.0.0->d2l) (7.7.1)\n",
            "Requirement already satisfied: contourpy>=1.0.1 in /usr/local/lib/python3.10/dist-packages (from matplotlib==3.7.2->d2l) (1.3.1)\n",
            "Requirement already satisfied: cycler>=0.10 in /usr/local/lib/python3.10/dist-packages (from matplotlib==3.7.2->d2l) (0.12.1)\n",
            "Requirement already satisfied: fonttools>=4.22.0 in /usr/local/lib/python3.10/dist-packages (from matplotlib==3.7.2->d2l) (4.55.3)\n",
            "Requirement already satisfied: kiwisolver>=1.0.1 in /usr/local/lib/python3.10/dist-packages (from matplotlib==3.7.2->d2l) (1.4.7)\n",
            "Requirement already satisfied: packaging>=20.0 in /usr/local/lib/python3.10/dist-packages (from matplotlib==3.7.2->d2l) (24.2)\n",
            "Requirement already satisfied: pillow>=6.2.0 in /usr/local/lib/python3.10/dist-packages (from matplotlib==3.7.2->d2l) (11.0.0)\n",
            "Collecting pyparsing<3.1,>=2.3.1 (from matplotlib==3.7.2->d2l)\n",
            "  Downloading pyparsing-3.0.9-py3-none-any.whl.metadata (4.2 kB)\n",
            "Requirement already satisfied: python-dateutil>=2.7 in /usr/local/lib/python3.10/dist-packages (from matplotlib==3.7.2->d2l) (2.8.2)\n",
            "Requirement already satisfied: traitlets in /usr/local/lib/python3.10/dist-packages (from matplotlib-inline==0.1.6->d2l) (5.7.1)\n",
            "Requirement already satisfied: pytz>=2020.1 in /usr/local/lib/python3.10/dist-packages (from pandas==2.0.3->d2l) (2024.2)\n",
            "Requirement already satisfied: tzdata>=2022.1 in /usr/local/lib/python3.10/dist-packages (from pandas==2.0.3->d2l) (2024.2)\n",
            "Requirement already satisfied: charset-normalizer<4,>=2 in /usr/local/lib/python3.10/dist-packages (from requests==2.31.0->d2l) (3.4.0)\n",
            "Requirement already satisfied: idna<4,>=2.5 in /usr/local/lib/python3.10/dist-packages (from requests==2.31.0->d2l) (3.10)\n",
            "Requirement already satisfied: urllib3<3,>=1.21.1 in /usr/local/lib/python3.10/dist-packages (from requests==2.31.0->d2l) (2.2.3)\n",
            "Requirement already satisfied: certifi>=2017.4.17 in /usr/local/lib/python3.10/dist-packages (from requests==2.31.0->d2l) (2024.12.14)\n",
            "Requirement already satisfied: six>=1.5 in /usr/local/lib/python3.10/dist-packages (from python-dateutil>=2.7->matplotlib==3.7.2->d2l) (1.17.0)\n",
            "Requirement already satisfied: ipython-genutils in /usr/local/lib/python3.10/dist-packages (from ipykernel->jupyter==1.0.0->d2l) (0.2.0)\n",
            "Requirement already satisfied: ipython>=5.0.0 in /usr/local/lib/python3.10/dist-packages (from ipykernel->jupyter==1.0.0->d2l) (7.34.0)\n",
            "Requirement already satisfied: jupyter-client in /usr/local/lib/python3.10/dist-packages (from ipykernel->jupyter==1.0.0->d2l) (6.1.12)\n",
            "Requirement already satisfied: tornado>=4.2 in /usr/local/lib/python3.10/dist-packages (from ipykernel->jupyter==1.0.0->d2l) (6.3.3)\n",
            "Requirement already satisfied: widgetsnbextension~=3.6.0 in /usr/local/lib/python3.10/dist-packages (from ipywidgets->jupyter==1.0.0->d2l) (3.6.10)\n",
            "Requirement already satisfied: jupyterlab-widgets>=1.0.0 in /usr/local/lib/python3.10/dist-packages (from ipywidgets->jupyter==1.0.0->d2l) (3.0.13)\n",
            "Requirement already satisfied: prompt-toolkit!=3.0.0,!=3.0.1,<3.1.0,>=2.0.0 in /usr/local/lib/python3.10/dist-packages (from jupyter-console->jupyter==1.0.0->d2l) (3.0.48)\n",
            "Requirement already satisfied: pygments in /usr/local/lib/python3.10/dist-packages (from jupyter-console->jupyter==1.0.0->d2l) (2.18.0)\n",
            "Requirement already satisfied: beautifulsoup4 in /usr/local/lib/python3.10/dist-packages (from nbconvert->jupyter==1.0.0->d2l) (4.12.3)\n",
            "Requirement already satisfied: bleach!=5.0.0 in /usr/local/lib/python3.10/dist-packages (from nbconvert->jupyter==1.0.0->d2l) (6.2.0)\n",
            "Requirement already satisfied: defusedxml in /usr/local/lib/python3.10/dist-packages (from nbconvert->jupyter==1.0.0->d2l) (0.7.1)\n",
            "Requirement already satisfied: jinja2>=3.0 in /usr/local/lib/python3.10/dist-packages (from nbconvert->jupyter==1.0.0->d2l) (3.1.4)\n",
            "Requirement already satisfied: jupyter-core>=4.7 in /usr/local/lib/python3.10/dist-packages (from nbconvert->jupyter==1.0.0->d2l) (5.7.2)\n",
            "Requirement already satisfied: jupyterlab-pygments in /usr/local/lib/python3.10/dist-packages (from nbconvert->jupyter==1.0.0->d2l) (0.3.0)\n",
            "Requirement already satisfied: markupsafe>=2.0 in /usr/local/lib/python3.10/dist-packages (from nbconvert->jupyter==1.0.0->d2l) (3.0.2)\n",
            "Requirement already satisfied: mistune<4,>=2.0.3 in /usr/local/lib/python3.10/dist-packages (from nbconvert->jupyter==1.0.0->d2l) (3.0.2)\n",
            "Requirement already satisfied: nbclient>=0.5.0 in /usr/local/lib/python3.10/dist-packages (from nbconvert->jupyter==1.0.0->d2l) (0.10.1)\n",
            "Requirement already satisfied: nbformat>=5.7 in /usr/local/lib/python3.10/dist-packages (from nbconvert->jupyter==1.0.0->d2l) (5.10.4)\n",
            "Requirement already satisfied: pandocfilters>=1.4.1 in /usr/local/lib/python3.10/dist-packages (from nbconvert->jupyter==1.0.0->d2l) (1.5.1)\n",
            "Requirement already satisfied: tinycss2 in /usr/local/lib/python3.10/dist-packages (from nbconvert->jupyter==1.0.0->d2l) (1.4.0)\n",
            "Requirement already satisfied: pyzmq<25,>=17 in /usr/local/lib/python3.10/dist-packages (from notebook->jupyter==1.0.0->d2l) (24.0.1)\n",
            "Requirement already satisfied: argon2-cffi in /usr/local/lib/python3.10/dist-packages (from notebook->jupyter==1.0.0->d2l) (23.1.0)\n",
            "Requirement already satisfied: nest-asyncio>=1.5 in /usr/local/lib/python3.10/dist-packages (from notebook->jupyter==1.0.0->d2l) (1.6.0)\n",
            "Requirement already satisfied: Send2Trash>=1.8.0 in /usr/local/lib/python3.10/dist-packages (from notebook->jupyter==1.0.0->d2l) (1.8.3)\n",
            "Requirement already satisfied: terminado>=0.8.3 in /usr/local/lib/python3.10/dist-packages (from notebook->jupyter==1.0.0->d2l) (0.18.1)\n",
            "Requirement already satisfied: prometheus-client in /usr/local/lib/python3.10/dist-packages (from notebook->jupyter==1.0.0->d2l) (0.21.1)\n",
            "Requirement already satisfied: nbclassic>=0.4.7 in /usr/local/lib/python3.10/dist-packages (from notebook->jupyter==1.0.0->d2l) (1.1.0)\n",
            "Collecting qtpy>=2.4.0 (from qtconsole->jupyter==1.0.0->d2l)\n",
            "  Downloading QtPy-2.4.2-py3-none-any.whl.metadata (12 kB)\n",
            "Requirement already satisfied: webencodings in /usr/local/lib/python3.10/dist-packages (from bleach!=5.0.0->nbconvert->jupyter==1.0.0->d2l) (0.5.1)\n",
            "Requirement already satisfied: setuptools>=18.5 in /usr/local/lib/python3.10/dist-packages (from ipython>=5.0.0->ipykernel->jupyter==1.0.0->d2l) (75.1.0)\n",
            "Collecting jedi>=0.16 (from ipython>=5.0.0->ipykernel->jupyter==1.0.0->d2l)\n",
            "  Downloading jedi-0.19.2-py2.py3-none-any.whl.metadata (22 kB)\n",
            "Requirement already satisfied: decorator in /usr/local/lib/python3.10/dist-packages (from ipython>=5.0.0->ipykernel->jupyter==1.0.0->d2l) (4.4.2)\n",
            "Requirement already satisfied: pickleshare in /usr/local/lib/python3.10/dist-packages (from ipython>=5.0.0->ipykernel->jupyter==1.0.0->d2l) (0.7.5)\n",
            "Requirement already satisfied: backcall in /usr/local/lib/python3.10/dist-packages (from ipython>=5.0.0->ipykernel->jupyter==1.0.0->d2l) (0.2.0)\n",
            "Requirement already satisfied: pexpect>4.3 in /usr/local/lib/python3.10/dist-packages (from ipython>=5.0.0->ipykernel->jupyter==1.0.0->d2l) (4.9.0)\n",
            "Requirement already satisfied: platformdirs>=2.5 in /usr/local/lib/python3.10/dist-packages (from jupyter-core>=4.7->nbconvert->jupyter==1.0.0->d2l) (4.3.6)\n",
            "Requirement already satisfied: notebook-shim>=0.2.3 in /usr/local/lib/python3.10/dist-packages (from nbclassic>=0.4.7->notebook->jupyter==1.0.0->d2l) (0.2.4)\n",
            "Requirement already satisfied: fastjsonschema>=2.15 in /usr/local/lib/python3.10/dist-packages (from nbformat>=5.7->nbconvert->jupyter==1.0.0->d2l) (2.21.1)\n",
            "Requirement already satisfied: jsonschema>=2.6 in /usr/local/lib/python3.10/dist-packages (from nbformat>=5.7->nbconvert->jupyter==1.0.0->d2l) (4.23.0)\n",
            "Requirement already satisfied: wcwidth in /usr/local/lib/python3.10/dist-packages (from prompt-toolkit!=3.0.0,!=3.0.1,<3.1.0,>=2.0.0->jupyter-console->jupyter==1.0.0->d2l) (0.2.13)\n",
            "Requirement already satisfied: ptyprocess in /usr/local/lib/python3.10/dist-packages (from terminado>=0.8.3->notebook->jupyter==1.0.0->d2l) (0.7.0)\n",
            "Requirement already satisfied: argon2-cffi-bindings in /usr/local/lib/python3.10/dist-packages (from argon2-cffi->notebook->jupyter==1.0.0->d2l) (21.2.0)\n",
            "Requirement already satisfied: soupsieve>1.2 in /usr/local/lib/python3.10/dist-packages (from beautifulsoup4->nbconvert->jupyter==1.0.0->d2l) (2.6)\n",
            "Requirement already satisfied: parso<0.9.0,>=0.8.4 in /usr/local/lib/python3.10/dist-packages (from jedi>=0.16->ipython>=5.0.0->ipykernel->jupyter==1.0.0->d2l) (0.8.4)\n",
            "Requirement already satisfied: attrs>=22.2.0 in /usr/local/lib/python3.10/dist-packages (from jsonschema>=2.6->nbformat>=5.7->nbconvert->jupyter==1.0.0->d2l) (24.3.0)\n",
            "Requirement already satisfied: jsonschema-specifications>=2023.03.6 in /usr/local/lib/python3.10/dist-packages (from jsonschema>=2.6->nbformat>=5.7->nbconvert->jupyter==1.0.0->d2l) (2024.10.1)\n",
            "Requirement already satisfied: referencing>=0.28.4 in /usr/local/lib/python3.10/dist-packages (from jsonschema>=2.6->nbformat>=5.7->nbconvert->jupyter==1.0.0->d2l) (0.35.1)\n",
            "Requirement already satisfied: rpds-py>=0.7.1 in /usr/local/lib/python3.10/dist-packages (from jsonschema>=2.6->nbformat>=5.7->nbconvert->jupyter==1.0.0->d2l) (0.22.3)\n",
            "Requirement already satisfied: jupyter-server<3,>=1.8 in /usr/local/lib/python3.10/dist-packages (from notebook-shim>=0.2.3->nbclassic>=0.4.7->notebook->jupyter==1.0.0->d2l) (1.24.0)\n",
            "Requirement already satisfied: cffi>=1.0.1 in /usr/local/lib/python3.10/dist-packages (from argon2-cffi-bindings->argon2-cffi->notebook->jupyter==1.0.0->d2l) (1.17.1)\n",
            "Requirement already satisfied: pycparser in /usr/local/lib/python3.10/dist-packages (from cffi>=1.0.1->argon2-cffi-bindings->argon2-cffi->notebook->jupyter==1.0.0->d2l) (2.22)\n",
            "Requirement already satisfied: anyio<4,>=3.1.0 in /usr/local/lib/python3.10/dist-packages (from jupyter-server<3,>=1.8->notebook-shim>=0.2.3->nbclassic>=0.4.7->notebook->jupyter==1.0.0->d2l) (3.7.1)\n",
            "Requirement already satisfied: websocket-client in /usr/local/lib/python3.10/dist-packages (from jupyter-server<3,>=1.8->notebook-shim>=0.2.3->nbclassic>=0.4.7->notebook->jupyter==1.0.0->d2l) (1.8.0)\n",
            "Requirement already satisfied: sniffio>=1.1 in /usr/local/lib/python3.10/dist-packages (from anyio<4,>=3.1.0->jupyter-server<3,>=1.8->notebook-shim>=0.2.3->nbclassic>=0.4.7->notebook->jupyter==1.0.0->d2l) (1.3.1)\n",
            "Requirement already satisfied: exceptiongroup in /usr/local/lib/python3.10/dist-packages (from anyio<4,>=3.1.0->jupyter-server<3,>=1.8->notebook-shim>=0.2.3->nbclassic>=0.4.7->notebook->jupyter==1.0.0->d2l) (1.2.2)\n",
            "Downloading d2l-1.0.3-py3-none-any.whl (111 kB)\n",
            "\u001b[2K   \u001b[90m━━━━━━━━━━━━━━━━━━━━━━━━━━━━━━━━━━━━━━━━\u001b[0m \u001b[32m111.7/111.7 kB\u001b[0m \u001b[31m4.0 MB/s\u001b[0m eta \u001b[36m0:00:00\u001b[0m\n",
            "\u001b[?25hDownloading jupyter-1.0.0-py2.py3-none-any.whl (2.7 kB)\n",
            "Downloading matplotlib-3.7.2-cp310-cp310-manylinux_2_17_x86_64.manylinux2014_x86_64.whl (11.6 MB)\n",
            "\u001b[2K   \u001b[90m━━━━━━━━━━━━━━━━━━━━━━━━━━━━━━━━━━━━━━━━\u001b[0m \u001b[32m11.6/11.6 MB\u001b[0m \u001b[31m50.2 MB/s\u001b[0m eta \u001b[36m0:00:00\u001b[0m\n",
            "\u001b[?25hDownloading matplotlib_inline-0.1.6-py3-none-any.whl (9.4 kB)\n",
            "Downloading numpy-1.23.5-cp310-cp310-manylinux_2_17_x86_64.manylinux2014_x86_64.whl (17.1 MB)\n",
            "\u001b[2K   \u001b[90m━━━━━━━━━━━━━━━━━━━━━━━━━━━━━━━━━━━━━━━━\u001b[0m \u001b[32m17.1/17.1 MB\u001b[0m \u001b[31m38.5 MB/s\u001b[0m eta \u001b[36m0:00:00\u001b[0m\n",
            "\u001b[?25hDownloading pandas-2.0.3-cp310-cp310-manylinux_2_17_x86_64.manylinux2014_x86_64.whl (12.3 MB)\n",
            "\u001b[2K   \u001b[90m━━━━━━━━━━━━━━━━━━━━━━━━━━━━━━━━━━━━━━━━\u001b[0m \u001b[32m12.3/12.3 MB\u001b[0m \u001b[31m43.9 MB/s\u001b[0m eta \u001b[36m0:00:00\u001b[0m\n",
            "\u001b[?25hDownloading requests-2.31.0-py3-none-any.whl (62 kB)\n",
            "\u001b[2K   \u001b[90m━━━━━━━━━━━━━━━━━━━━━━━━━━━━━━━━━━━━━━━━\u001b[0m \u001b[32m62.6/62.6 kB\u001b[0m \u001b[31m2.2 MB/s\u001b[0m eta \u001b[36m0:00:00\u001b[0m\n",
            "\u001b[?25hDownloading scipy-1.10.1-cp310-cp310-manylinux_2_17_x86_64.manylinux2014_x86_64.whl (34.4 MB)\n",
            "\u001b[2K   \u001b[90m━━━━━━━━━━━━━━━━━━━━━━━━━━━━━━━━━━━━━━━━\u001b[0m \u001b[32m34.4/34.4 MB\u001b[0m \u001b[31m10.7 MB/s\u001b[0m eta \u001b[36m0:00:00\u001b[0m\n",
            "\u001b[?25hDownloading pyparsing-3.0.9-py3-none-any.whl (98 kB)\n",
            "\u001b[2K   \u001b[90m━━━━━━━━━━━━━━━━━━━━━━━━━━━━━━━━━━━━━━━━\u001b[0m \u001b[32m98.3/98.3 kB\u001b[0m \u001b[31m3.7 MB/s\u001b[0m eta \u001b[36m0:00:00\u001b[0m\n",
            "\u001b[?25hDownloading qtconsole-5.6.1-py3-none-any.whl (125 kB)\n",
            "\u001b[2K   \u001b[90m━━━━━━━━━━━━━━━━━━━━━━━━━━━━━━━━━━━━━━━━\u001b[0m \u001b[32m125.0/125.0 kB\u001b[0m \u001b[31m4.5 MB/s\u001b[0m eta \u001b[36m0:00:00\u001b[0m\n",
            "\u001b[?25hDownloading QtPy-2.4.2-py3-none-any.whl (95 kB)\n",
            "\u001b[2K   \u001b[90m━━━━━━━━━━━━━━━━━━━━━━━━━━━━━━━━━━━━━━━━\u001b[0m \u001b[32m95.2/95.2 kB\u001b[0m \u001b[31m3.2 MB/s\u001b[0m eta \u001b[36m0:00:00\u001b[0m\n",
            "\u001b[?25hDownloading jedi-0.19.2-py2.py3-none-any.whl (1.6 MB)\n",
            "\u001b[2K   \u001b[90m━━━━━━━━━━━━━━━━━━━━━━━━━━━━━━━━━━━━━━━━\u001b[0m \u001b[32m1.6/1.6 MB\u001b[0m \u001b[31m27.6 MB/s\u001b[0m eta \u001b[36m0:00:00\u001b[0m\n",
            "\u001b[?25hInstalling collected packages: requests, qtpy, pyparsing, numpy, matplotlib-inline, jedi, scipy, pandas, matplotlib, qtconsole, jupyter, d2l\n",
            "  Attempting uninstall: requests\n",
            "    Found existing installation: requests 2.32.3\n",
            "    Uninstalling requests-2.32.3:\n",
            "      Successfully uninstalled requests-2.32.3\n",
            "  Attempting uninstall: pyparsing\n",
            "    Found existing installation: pyparsing 3.2.0\n",
            "    Uninstalling pyparsing-3.2.0:\n",
            "      Successfully uninstalled pyparsing-3.2.0\n",
            "  Attempting uninstall: numpy\n",
            "    Found existing installation: numpy 1.26.4\n",
            "    Uninstalling numpy-1.26.4:\n",
            "      Successfully uninstalled numpy-1.26.4\n",
            "  Attempting uninstall: matplotlib-inline\n",
            "    Found existing installation: matplotlib-inline 0.1.7\n",
            "    Uninstalling matplotlib-inline-0.1.7:\n",
            "      Successfully uninstalled matplotlib-inline-0.1.7\n",
            "  Attempting uninstall: scipy\n",
            "    Found existing installation: scipy 1.13.1\n",
            "    Uninstalling scipy-1.13.1:\n",
            "      Successfully uninstalled scipy-1.13.1\n",
            "  Attempting uninstall: pandas\n",
            "    Found existing installation: pandas 2.2.2\n",
            "    Uninstalling pandas-2.2.2:\n",
            "      Successfully uninstalled pandas-2.2.2\n",
            "  Attempting uninstall: matplotlib\n",
            "    Found existing installation: matplotlib 3.8.0\n",
            "    Uninstalling matplotlib-3.8.0:\n",
            "      Successfully uninstalled matplotlib-3.8.0\n",
            "\u001b[31mERROR: pip's dependency resolver does not currently take into account all the packages that are installed. This behaviour is the source of the following dependency conflicts.\n",
            "albucore 0.0.19 requires numpy>=1.24.4, but you have numpy 1.23.5 which is incompatible.\n",
            "albumentations 1.4.20 requires numpy>=1.24.4, but you have numpy 1.23.5 which is incompatible.\n",
            "bigframes 1.29.0 requires numpy>=1.24.0, but you have numpy 1.23.5 which is incompatible.\n",
            "chex 0.1.88 requires numpy>=1.24.1, but you have numpy 1.23.5 which is incompatible.\n",
            "google-colab 1.0.0 requires pandas==2.2.2, but you have pandas 2.0.3 which is incompatible.\n",
            "google-colab 1.0.0 requires requests==2.32.3, but you have requests 2.31.0 which is incompatible.\n",
            "jax 0.4.33 requires numpy>=1.24, but you have numpy 1.23.5 which is incompatible.\n",
            "jaxlib 0.4.33 requires numpy>=1.24, but you have numpy 1.23.5 which is incompatible.\n",
            "mizani 0.13.1 requires pandas>=2.2.0, but you have pandas 2.0.3 which is incompatible.\n",
            "plotnine 0.14.4 requires matplotlib>=3.8.0, but you have matplotlib 3.7.2 which is incompatible.\n",
            "plotnine 0.14.4 requires pandas>=2.2.0, but you have pandas 2.0.3 which is incompatible.\n",
            "pymc 5.19.1 requires numpy>=1.25.0, but you have numpy 1.23.5 which is incompatible.\n",
            "scikit-image 0.25.0 requires numpy>=1.24, but you have numpy 1.23.5 which is incompatible.\n",
            "scikit-image 0.25.0 requires scipy>=1.11.2, but you have scipy 1.10.1 which is incompatible.\n",
            "xarray 2024.11.0 requires numpy>=1.24, but you have numpy 1.23.5 which is incompatible.\n",
            "xarray 2024.11.0 requires pandas>=2.1, but you have pandas 2.0.3 which is incompatible.\u001b[0m\u001b[31m\n",
            "\u001b[0mSuccessfully installed d2l-1.0.3 jedi-0.19.2 jupyter-1.0.0 matplotlib-3.7.2 matplotlib-inline-0.1.6 numpy-1.23.5 pandas-2.0.3 pyparsing-3.0.9 qtconsole-5.6.1 qtpy-2.4.2 requests-2.31.0 scipy-1.10.1\n"
          ]
        },
        {
          "output_type": "display_data",
          "data": {
            "application/vnd.colab-display-data+json": {
              "pip_warning": {
                "packages": [
                  "matplotlib",
                  "matplotlib_inline",
                  "mpl_toolkits",
                  "numpy"
                ]
              },
              "id": "5ee24f51576348bf87cfdcf362576cfa"
            }
          },
          "metadata": {}
        }
      ],
      "source": [
        "!pip install d2l"
      ]
    },
    {
      "cell_type": "code",
      "source": [
        "import torch\n",
        "from torch import nn\n",
        "from d2l import torch as d2l"
      ],
      "metadata": {
        "id": "qF2zGabOygnK"
      },
      "execution_count": 2,
      "outputs": []
    },
    {
      "cell_type": "markdown",
      "source": [
        "## **Training Deep Neural Networks**\n",
        "\n",
        "Training deep neural networks is challenging, particularly achieving convergence efficiently. Batch normalization (Ioffe and Szegedy, 2015) addresses this by:\n",
        "\n",
        "- Accelerating Convergence: By normalizing layer activations during training, it enables faster and more stable optimization. This has made training very deep networks (e.g., 100+ layers) practical, especially when combined with residual blocks.\n",
        "- Improving Regularization: Batch normalization inherently regularizes the model, reducing overfitting, similar to noise injection or dropout techniques.\n",
        "- Ensuring Numerical Stability: It mitigates issues caused by large variations in intermediate activations (e.g., scale drift across layers or training steps), improving compatibility with optimizers like Adam and AdaGrad.\n",
        "\n",
        "Key Insights:\n",
        "- Standardization in data preprocessing (e.g., zero mean and unit variance) helps control complexity and stabilizes optimization. Batch normalization extends this concept within networks by normalizing layer activations adaptively.\n",
        "- It helps avoid distribution drift across layers during training, which can otherwise slow convergence or require compensatory learning rate adjustments.\n",
        "- Its benefits include preprocessing, stability, and regularization, making it a foundational technique for modern deep learning."
      ],
      "metadata": {
        "id": "lYvbrqkMylTW"
      }
    },
    {
      "cell_type": "markdown",
      "source": [
        "## **Batch Normalization**\n",
        "\n",
        "**Batch Normalization (BN)** normalizes the inputs of each layer during training, stabilizing and accelerating convergence. Key points:  \n",
        "\n",
        "1. **Process:**\n",
        "   - Normalize inputs in a minibatch by subtracting the mean (𝜇𝐵) and dividing by the standard deviation (σB).\n",
        "   - Apply a learned scale (γ) and shift (β) to preserve model flexibility.\n",
        "   - Small constant (ϵ) ensures numerical stability (avoiding division by zero).\n",
        "\n",
        "2. **Minibatch Dependency:**\n",
        "   - BN relies on minibatch statistics (μB, 𝜎𝐵), making batch size critical. Ideal sizes (50–100) balance noise and stability.\n",
        "   - Extremely small batches cause instability, while very large ones reduce regularization benefits.\n",
        "\n",
        "3. **Benefits:**\n",
        "   - Prevents divergence in activation magnitudes across layers.\n",
        "   - Allows for higher learning rates, enhancing training speed.\n",
        "   - Introduces noise from minibatch estimates, which regularizes the model and reduces overfitting.\n",
        "\n",
        "4. **Theoretical Insights:**\n",
        "   - Noise from BN acts as implicit regularization, potentially linked to Bayesian priors and penalties.\n",
        "   - Moderate minibatch sizes inject \"just the right amount\" of noise for effective training.\n",
        "\n",
        "Batch normalization remains an essential tool for stabilizing and improving deep learning performance."
      ],
      "metadata": {
        "id": "On4pIv1bzCQt"
      }
    },
    {
      "cell_type": "markdown",
      "source": [
        "![image.png](data:image/png;base64,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)"
      ],
      "metadata": {
        "id": "Czpf6DCg0-0B"
      }
    },
    {
      "cell_type": "code",
      "source": [],
      "metadata": {
        "id": "96FL1s_Dzy_J"
      },
      "execution_count": null,
      "outputs": []
    }
  ]
}