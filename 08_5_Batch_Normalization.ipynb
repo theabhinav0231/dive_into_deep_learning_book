{
  "nbformat": 4,
  "nbformat_minor": 0,
  "metadata": {
    "colab": {
      "provenance": [],
      "authorship_tag": "ABX9TyO7ywL6dJgedkWNiH7dHbOa",
      "include_colab_link": true
    },
    "kernelspec": {
      "name": "python3",
      "display_name": "Python 3"
    },
    "language_info": {
      "name": "python"
    }
  },
  "cells": [
    {
      "cell_type": "markdown",
      "metadata": {
        "id": "view-in-github",
        "colab_type": "text"
      },
      "source": [
        "<a href=\"https://colab.research.google.com/github/theabhinav0231/dive_into_deep_learning_book/blob/main/08_5_Batch_Normalization.ipynb\" target=\"_parent\"><img src=\"https://colab.research.google.com/assets/colab-badge.svg\" alt=\"Open In Colab\"/></a>"
      ]
    },
    {
      "cell_type": "code",
      "execution_count": 1,
      "metadata": {
        "colab": {
          "base_uri": "https://localhost:8080/",
          "height": 1000
        },
        "id": "MlPDSd2sv9aG",
        "outputId": "36855177-d62f-4e94-9280-35a8f74c9d91"
      },
      "outputs": [
        {
          "output_type": "stream",
          "name": "stdout",
          "text": [
            "Collecting d2l\n",
            "  Downloading d2l-1.0.3-py3-none-any.whl.metadata (556 bytes)\n",
            "Collecting jupyter==1.0.0 (from d2l)\n",
            "  Downloading jupyter-1.0.0-py2.py3-none-any.whl.metadata (995 bytes)\n",
            "Collecting numpy==1.23.5 (from d2l)\n",
            "  Downloading numpy-1.23.5-cp310-cp310-manylinux_2_17_x86_64.manylinux2014_x86_64.whl.metadata (2.3 kB)\n",
            "Collecting matplotlib==3.7.2 (from d2l)\n",
            "  Downloading matplotlib-3.7.2-cp310-cp310-manylinux_2_17_x86_64.manylinux2014_x86_64.whl.metadata (5.6 kB)\n",
            "Collecting matplotlib-inline==0.1.6 (from d2l)\n",
            "  Downloading matplotlib_inline-0.1.6-py3-none-any.whl.metadata (2.8 kB)\n",
            "Collecting requests==2.31.0 (from d2l)\n",
            "  Downloading requests-2.31.0-py3-none-any.whl.metadata (4.6 kB)\n",
            "Collecting pandas==2.0.3 (from d2l)\n",
            "  Downloading pandas-2.0.3-cp310-cp310-manylinux_2_17_x86_64.manylinux2014_x86_64.whl.metadata (18 kB)\n",
            "Collecting scipy==1.10.1 (from d2l)\n",
            "  Downloading scipy-1.10.1-cp310-cp310-manylinux_2_17_x86_64.manylinux2014_x86_64.whl.metadata (58 kB)\n",
            "\u001b[2K     \u001b[90m━━━━━━━━━━━━━━━━━━━━━━━━━━━━━━━━━━━━━━━━\u001b[0m \u001b[32m58.9/58.9 kB\u001b[0m \u001b[31m1.8 MB/s\u001b[0m eta \u001b[36m0:00:00\u001b[0m\n",
            "\u001b[?25hRequirement already satisfied: notebook in /usr/local/lib/python3.10/dist-packages (from jupyter==1.0.0->d2l) (6.5.5)\n",
            "Collecting qtconsole (from jupyter==1.0.0->d2l)\n",
            "  Downloading qtconsole-5.6.1-py3-none-any.whl.metadata (5.0 kB)\n",
            "Requirement already satisfied: jupyter-console in /usr/local/lib/python3.10/dist-packages (from jupyter==1.0.0->d2l) (6.1.0)\n",
            "Requirement already satisfied: nbconvert in /usr/local/lib/python3.10/dist-packages (from jupyter==1.0.0->d2l) (7.16.4)\n",
            "Requirement already satisfied: ipykernel in /usr/local/lib/python3.10/dist-packages (from jupyter==1.0.0->d2l) (5.5.6)\n",
            "Requirement already satisfied: ipywidgets in /usr/local/lib/python3.10/dist-packages (from jupyter==1.0.0->d2l) (7.7.1)\n",
            "Requirement already satisfied: contourpy>=1.0.1 in /usr/local/lib/python3.10/dist-packages (from matplotlib==3.7.2->d2l) (1.3.1)\n",
            "Requirement already satisfied: cycler>=0.10 in /usr/local/lib/python3.10/dist-packages (from matplotlib==3.7.2->d2l) (0.12.1)\n",
            "Requirement already satisfied: fonttools>=4.22.0 in /usr/local/lib/python3.10/dist-packages (from matplotlib==3.7.2->d2l) (4.55.3)\n",
            "Requirement already satisfied: kiwisolver>=1.0.1 in /usr/local/lib/python3.10/dist-packages (from matplotlib==3.7.2->d2l) (1.4.7)\n",
            "Requirement already satisfied: packaging>=20.0 in /usr/local/lib/python3.10/dist-packages (from matplotlib==3.7.2->d2l) (24.2)\n",
            "Requirement already satisfied: pillow>=6.2.0 in /usr/local/lib/python3.10/dist-packages (from matplotlib==3.7.2->d2l) (11.0.0)\n",
            "Collecting pyparsing<3.1,>=2.3.1 (from matplotlib==3.7.2->d2l)\n",
            "  Downloading pyparsing-3.0.9-py3-none-any.whl.metadata (4.2 kB)\n",
            "Requirement already satisfied: python-dateutil>=2.7 in /usr/local/lib/python3.10/dist-packages (from matplotlib==3.7.2->d2l) (2.8.2)\n",
            "Requirement already satisfied: traitlets in /usr/local/lib/python3.10/dist-packages (from matplotlib-inline==0.1.6->d2l) (5.7.1)\n",
            "Requirement already satisfied: pytz>=2020.1 in /usr/local/lib/python3.10/dist-packages (from pandas==2.0.3->d2l) (2024.2)\n",
            "Requirement already satisfied: tzdata>=2022.1 in /usr/local/lib/python3.10/dist-packages (from pandas==2.0.3->d2l) (2024.2)\n",
            "Requirement already satisfied: charset-normalizer<4,>=2 in /usr/local/lib/python3.10/dist-packages (from requests==2.31.0->d2l) (3.4.0)\n",
            "Requirement already satisfied: idna<4,>=2.5 in /usr/local/lib/python3.10/dist-packages (from requests==2.31.0->d2l) (3.10)\n",
            "Requirement already satisfied: urllib3<3,>=1.21.1 in /usr/local/lib/python3.10/dist-packages (from requests==2.31.0->d2l) (2.2.3)\n",
            "Requirement already satisfied: certifi>=2017.4.17 in /usr/local/lib/python3.10/dist-packages (from requests==2.31.0->d2l) (2024.12.14)\n",
            "Requirement already satisfied: six>=1.5 in /usr/local/lib/python3.10/dist-packages (from python-dateutil>=2.7->matplotlib==3.7.2->d2l) (1.17.0)\n",
            "Requirement already satisfied: ipython-genutils in /usr/local/lib/python3.10/dist-packages (from ipykernel->jupyter==1.0.0->d2l) (0.2.0)\n",
            "Requirement already satisfied: ipython>=5.0.0 in /usr/local/lib/python3.10/dist-packages (from ipykernel->jupyter==1.0.0->d2l) (7.34.0)\n",
            "Requirement already satisfied: jupyter-client in /usr/local/lib/python3.10/dist-packages (from ipykernel->jupyter==1.0.0->d2l) (6.1.12)\n",
            "Requirement already satisfied: tornado>=4.2 in /usr/local/lib/python3.10/dist-packages (from ipykernel->jupyter==1.0.0->d2l) (6.3.3)\n",
            "Requirement already satisfied: widgetsnbextension~=3.6.0 in /usr/local/lib/python3.10/dist-packages (from ipywidgets->jupyter==1.0.0->d2l) (3.6.10)\n",
            "Requirement already satisfied: jupyterlab-widgets>=1.0.0 in /usr/local/lib/python3.10/dist-packages (from ipywidgets->jupyter==1.0.0->d2l) (3.0.13)\n",
            "Requirement already satisfied: prompt-toolkit!=3.0.0,!=3.0.1,<3.1.0,>=2.0.0 in /usr/local/lib/python3.10/dist-packages (from jupyter-console->jupyter==1.0.0->d2l) (3.0.48)\n",
            "Requirement already satisfied: pygments in /usr/local/lib/python3.10/dist-packages (from jupyter-console->jupyter==1.0.0->d2l) (2.18.0)\n",
            "Requirement already satisfied: beautifulsoup4 in /usr/local/lib/python3.10/dist-packages (from nbconvert->jupyter==1.0.0->d2l) (4.12.3)\n",
            "Requirement already satisfied: bleach!=5.0.0 in /usr/local/lib/python3.10/dist-packages (from nbconvert->jupyter==1.0.0->d2l) (6.2.0)\n",
            "Requirement already satisfied: defusedxml in /usr/local/lib/python3.10/dist-packages (from nbconvert->jupyter==1.0.0->d2l) (0.7.1)\n",
            "Requirement already satisfied: jinja2>=3.0 in /usr/local/lib/python3.10/dist-packages (from nbconvert->jupyter==1.0.0->d2l) (3.1.4)\n",
            "Requirement already satisfied: jupyter-core>=4.7 in /usr/local/lib/python3.10/dist-packages (from nbconvert->jupyter==1.0.0->d2l) (5.7.2)\n",
            "Requirement already satisfied: jupyterlab-pygments in /usr/local/lib/python3.10/dist-packages (from nbconvert->jupyter==1.0.0->d2l) (0.3.0)\n",
            "Requirement already satisfied: markupsafe>=2.0 in /usr/local/lib/python3.10/dist-packages (from nbconvert->jupyter==1.0.0->d2l) (3.0.2)\n",
            "Requirement already satisfied: mistune<4,>=2.0.3 in /usr/local/lib/python3.10/dist-packages (from nbconvert->jupyter==1.0.0->d2l) (3.0.2)\n",
            "Requirement already satisfied: nbclient>=0.5.0 in /usr/local/lib/python3.10/dist-packages (from nbconvert->jupyter==1.0.0->d2l) (0.10.1)\n",
            "Requirement already satisfied: nbformat>=5.7 in /usr/local/lib/python3.10/dist-packages (from nbconvert->jupyter==1.0.0->d2l) (5.10.4)\n",
            "Requirement already satisfied: pandocfilters>=1.4.1 in /usr/local/lib/python3.10/dist-packages (from nbconvert->jupyter==1.0.0->d2l) (1.5.1)\n",
            "Requirement already satisfied: tinycss2 in /usr/local/lib/python3.10/dist-packages (from nbconvert->jupyter==1.0.0->d2l) (1.4.0)\n",
            "Requirement already satisfied: pyzmq<25,>=17 in /usr/local/lib/python3.10/dist-packages (from notebook->jupyter==1.0.0->d2l) (24.0.1)\n",
            "Requirement already satisfied: argon2-cffi in /usr/local/lib/python3.10/dist-packages (from notebook->jupyter==1.0.0->d2l) (23.1.0)\n",
            "Requirement already satisfied: nest-asyncio>=1.5 in /usr/local/lib/python3.10/dist-packages (from notebook->jupyter==1.0.0->d2l) (1.6.0)\n",
            "Requirement already satisfied: Send2Trash>=1.8.0 in /usr/local/lib/python3.10/dist-packages (from notebook->jupyter==1.0.0->d2l) (1.8.3)\n",
            "Requirement already satisfied: terminado>=0.8.3 in /usr/local/lib/python3.10/dist-packages (from notebook->jupyter==1.0.0->d2l) (0.18.1)\n",
            "Requirement already satisfied: prometheus-client in /usr/local/lib/python3.10/dist-packages (from notebook->jupyter==1.0.0->d2l) (0.21.1)\n",
            "Requirement already satisfied: nbclassic>=0.4.7 in /usr/local/lib/python3.10/dist-packages (from notebook->jupyter==1.0.0->d2l) (1.1.0)\n",
            "Collecting qtpy>=2.4.0 (from qtconsole->jupyter==1.0.0->d2l)\n",
            "  Downloading QtPy-2.4.2-py3-none-any.whl.metadata (12 kB)\n",
            "Requirement already satisfied: webencodings in /usr/local/lib/python3.10/dist-packages (from bleach!=5.0.0->nbconvert->jupyter==1.0.0->d2l) (0.5.1)\n",
            "Requirement already satisfied: setuptools>=18.5 in /usr/local/lib/python3.10/dist-packages (from ipython>=5.0.0->ipykernel->jupyter==1.0.0->d2l) (75.1.0)\n",
            "Collecting jedi>=0.16 (from ipython>=5.0.0->ipykernel->jupyter==1.0.0->d2l)\n",
            "  Downloading jedi-0.19.2-py2.py3-none-any.whl.metadata (22 kB)\n",
            "Requirement already satisfied: decorator in /usr/local/lib/python3.10/dist-packages (from ipython>=5.0.0->ipykernel->jupyter==1.0.0->d2l) (4.4.2)\n",
            "Requirement already satisfied: pickleshare in /usr/local/lib/python3.10/dist-packages (from ipython>=5.0.0->ipykernel->jupyter==1.0.0->d2l) (0.7.5)\n",
            "Requirement already satisfied: backcall in /usr/local/lib/python3.10/dist-packages (from ipython>=5.0.0->ipykernel->jupyter==1.0.0->d2l) (0.2.0)\n",
            "Requirement already satisfied: pexpect>4.3 in /usr/local/lib/python3.10/dist-packages (from ipython>=5.0.0->ipykernel->jupyter==1.0.0->d2l) (4.9.0)\n",
            "Requirement already satisfied: platformdirs>=2.5 in /usr/local/lib/python3.10/dist-packages (from jupyter-core>=4.7->nbconvert->jupyter==1.0.0->d2l) (4.3.6)\n",
            "Requirement already satisfied: notebook-shim>=0.2.3 in /usr/local/lib/python3.10/dist-packages (from nbclassic>=0.4.7->notebook->jupyter==1.0.0->d2l) (0.2.4)\n",
            "Requirement already satisfied: fastjsonschema>=2.15 in /usr/local/lib/python3.10/dist-packages (from nbformat>=5.7->nbconvert->jupyter==1.0.0->d2l) (2.21.1)\n",
            "Requirement already satisfied: jsonschema>=2.6 in /usr/local/lib/python3.10/dist-packages (from nbformat>=5.7->nbconvert->jupyter==1.0.0->d2l) (4.23.0)\n",
            "Requirement already satisfied: wcwidth in /usr/local/lib/python3.10/dist-packages (from prompt-toolkit!=3.0.0,!=3.0.1,<3.1.0,>=2.0.0->jupyter-console->jupyter==1.0.0->d2l) (0.2.13)\n",
            "Requirement already satisfied: ptyprocess in /usr/local/lib/python3.10/dist-packages (from terminado>=0.8.3->notebook->jupyter==1.0.0->d2l) (0.7.0)\n",
            "Requirement already satisfied: argon2-cffi-bindings in /usr/local/lib/python3.10/dist-packages (from argon2-cffi->notebook->jupyter==1.0.0->d2l) (21.2.0)\n",
            "Requirement already satisfied: soupsieve>1.2 in /usr/local/lib/python3.10/dist-packages (from beautifulsoup4->nbconvert->jupyter==1.0.0->d2l) (2.6)\n",
            "Requirement already satisfied: parso<0.9.0,>=0.8.4 in /usr/local/lib/python3.10/dist-packages (from jedi>=0.16->ipython>=5.0.0->ipykernel->jupyter==1.0.0->d2l) (0.8.4)\n",
            "Requirement already satisfied: attrs>=22.2.0 in /usr/local/lib/python3.10/dist-packages (from jsonschema>=2.6->nbformat>=5.7->nbconvert->jupyter==1.0.0->d2l) (24.3.0)\n",
            "Requirement already satisfied: jsonschema-specifications>=2023.03.6 in /usr/local/lib/python3.10/dist-packages (from jsonschema>=2.6->nbformat>=5.7->nbconvert->jupyter==1.0.0->d2l) (2024.10.1)\n",
            "Requirement already satisfied: referencing>=0.28.4 in /usr/local/lib/python3.10/dist-packages (from jsonschema>=2.6->nbformat>=5.7->nbconvert->jupyter==1.0.0->d2l) (0.35.1)\n",
            "Requirement already satisfied: rpds-py>=0.7.1 in /usr/local/lib/python3.10/dist-packages (from jsonschema>=2.6->nbformat>=5.7->nbconvert->jupyter==1.0.0->d2l) (0.22.3)\n",
            "Requirement already satisfied: jupyter-server<3,>=1.8 in /usr/local/lib/python3.10/dist-packages (from notebook-shim>=0.2.3->nbclassic>=0.4.7->notebook->jupyter==1.0.0->d2l) (1.24.0)\n",
            "Requirement already satisfied: cffi>=1.0.1 in /usr/local/lib/python3.10/dist-packages (from argon2-cffi-bindings->argon2-cffi->notebook->jupyter==1.0.0->d2l) (1.17.1)\n",
            "Requirement already satisfied: pycparser in /usr/local/lib/python3.10/dist-packages (from cffi>=1.0.1->argon2-cffi-bindings->argon2-cffi->notebook->jupyter==1.0.0->d2l) (2.22)\n",
            "Requirement already satisfied: anyio<4,>=3.1.0 in /usr/local/lib/python3.10/dist-packages (from jupyter-server<3,>=1.8->notebook-shim>=0.2.3->nbclassic>=0.4.7->notebook->jupyter==1.0.0->d2l) (3.7.1)\n",
            "Requirement already satisfied: websocket-client in /usr/local/lib/python3.10/dist-packages (from jupyter-server<3,>=1.8->notebook-shim>=0.2.3->nbclassic>=0.4.7->notebook->jupyter==1.0.0->d2l) (1.8.0)\n",
            "Requirement already satisfied: sniffio>=1.1 in /usr/local/lib/python3.10/dist-packages (from anyio<4,>=3.1.0->jupyter-server<3,>=1.8->notebook-shim>=0.2.3->nbclassic>=0.4.7->notebook->jupyter==1.0.0->d2l) (1.3.1)\n",
            "Requirement already satisfied: exceptiongroup in /usr/local/lib/python3.10/dist-packages (from anyio<4,>=3.1.0->jupyter-server<3,>=1.8->notebook-shim>=0.2.3->nbclassic>=0.4.7->notebook->jupyter==1.0.0->d2l) (1.2.2)\n",
            "Downloading d2l-1.0.3-py3-none-any.whl (111 kB)\n",
            "\u001b[2K   \u001b[90m━━━━━━━━━━━━━━━━━━━━━━━━━━━━━━━━━━━━━━━━\u001b[0m \u001b[32m111.7/111.7 kB\u001b[0m \u001b[31m4.0 MB/s\u001b[0m eta \u001b[36m0:00:00\u001b[0m\n",
            "\u001b[?25hDownloading jupyter-1.0.0-py2.py3-none-any.whl (2.7 kB)\n",
            "Downloading matplotlib-3.7.2-cp310-cp310-manylinux_2_17_x86_64.manylinux2014_x86_64.whl (11.6 MB)\n",
            "\u001b[2K   \u001b[90m━━━━━━━━━━━━━━━━━━━━━━━━━━━━━━━━━━━━━━━━\u001b[0m \u001b[32m11.6/11.6 MB\u001b[0m \u001b[31m50.2 MB/s\u001b[0m eta \u001b[36m0:00:00\u001b[0m\n",
            "\u001b[?25hDownloading matplotlib_inline-0.1.6-py3-none-any.whl (9.4 kB)\n",
            "Downloading numpy-1.23.5-cp310-cp310-manylinux_2_17_x86_64.manylinux2014_x86_64.whl (17.1 MB)\n",
            "\u001b[2K   \u001b[90m━━━━━━━━━━━━━━━━━━━━━━━━━━━━━━━━━━━━━━━━\u001b[0m \u001b[32m17.1/17.1 MB\u001b[0m \u001b[31m38.5 MB/s\u001b[0m eta \u001b[36m0:00:00\u001b[0m\n",
            "\u001b[?25hDownloading pandas-2.0.3-cp310-cp310-manylinux_2_17_x86_64.manylinux2014_x86_64.whl (12.3 MB)\n",
            "\u001b[2K   \u001b[90m━━━━━━━━━━━━━━━━━━━━━━━━━━━━━━━━━━━━━━━━\u001b[0m \u001b[32m12.3/12.3 MB\u001b[0m \u001b[31m43.9 MB/s\u001b[0m eta \u001b[36m0:00:00\u001b[0m\n",
            "\u001b[?25hDownloading requests-2.31.0-py3-none-any.whl (62 kB)\n",
            "\u001b[2K   \u001b[90m━━━━━━━━━━━━━━━━━━━━━━━━━━━━━━━━━━━━━━━━\u001b[0m \u001b[32m62.6/62.6 kB\u001b[0m \u001b[31m2.2 MB/s\u001b[0m eta \u001b[36m0:00:00\u001b[0m\n",
            "\u001b[?25hDownloading scipy-1.10.1-cp310-cp310-manylinux_2_17_x86_64.manylinux2014_x86_64.whl (34.4 MB)\n",
            "\u001b[2K   \u001b[90m━━━━━━━━━━━━━━━━━━━━━━━━━━━━━━━━━━━━━━━━\u001b[0m \u001b[32m34.4/34.4 MB\u001b[0m \u001b[31m10.7 MB/s\u001b[0m eta \u001b[36m0:00:00\u001b[0m\n",
            "\u001b[?25hDownloading pyparsing-3.0.9-py3-none-any.whl (98 kB)\n",
            "\u001b[2K   \u001b[90m━━━━━━━━━━━━━━━━━━━━━━━━━━━━━━━━━━━━━━━━\u001b[0m \u001b[32m98.3/98.3 kB\u001b[0m \u001b[31m3.7 MB/s\u001b[0m eta \u001b[36m0:00:00\u001b[0m\n",
            "\u001b[?25hDownloading qtconsole-5.6.1-py3-none-any.whl (125 kB)\n",
            "\u001b[2K   \u001b[90m━━━━━━━━━━━━━━━━━━━━━━━━━━━━━━━━━━━━━━━━\u001b[0m \u001b[32m125.0/125.0 kB\u001b[0m \u001b[31m4.5 MB/s\u001b[0m eta \u001b[36m0:00:00\u001b[0m\n",
            "\u001b[?25hDownloading QtPy-2.4.2-py3-none-any.whl (95 kB)\n",
            "\u001b[2K   \u001b[90m━━━━━━━━━━━━━━━━━━━━━━━━━━━━━━━━━━━━━━━━\u001b[0m \u001b[32m95.2/95.2 kB\u001b[0m \u001b[31m3.2 MB/s\u001b[0m eta \u001b[36m0:00:00\u001b[0m\n",
            "\u001b[?25hDownloading jedi-0.19.2-py2.py3-none-any.whl (1.6 MB)\n",
            "\u001b[2K   \u001b[90m━━━━━━━━━━━━━━━━━━━━━━━━━━━━━━━━━━━━━━━━\u001b[0m \u001b[32m1.6/1.6 MB\u001b[0m \u001b[31m27.6 MB/s\u001b[0m eta \u001b[36m0:00:00\u001b[0m\n",
            "\u001b[?25hInstalling collected packages: requests, qtpy, pyparsing, numpy, matplotlib-inline, jedi, scipy, pandas, matplotlib, qtconsole, jupyter, d2l\n",
            "  Attempting uninstall: requests\n",
            "    Found existing installation: requests 2.32.3\n",
            "    Uninstalling requests-2.32.3:\n",
            "      Successfully uninstalled requests-2.32.3\n",
            "  Attempting uninstall: pyparsing\n",
            "    Found existing installation: pyparsing 3.2.0\n",
            "    Uninstalling pyparsing-3.2.0:\n",
            "      Successfully uninstalled pyparsing-3.2.0\n",
            "  Attempting uninstall: numpy\n",
            "    Found existing installation: numpy 1.26.4\n",
            "    Uninstalling numpy-1.26.4:\n",
            "      Successfully uninstalled numpy-1.26.4\n",
            "  Attempting uninstall: matplotlib-inline\n",
            "    Found existing installation: matplotlib-inline 0.1.7\n",
            "    Uninstalling matplotlib-inline-0.1.7:\n",
            "      Successfully uninstalled matplotlib-inline-0.1.7\n",
            "  Attempting uninstall: scipy\n",
            "    Found existing installation: scipy 1.13.1\n",
            "    Uninstalling scipy-1.13.1:\n",
            "      Successfully uninstalled scipy-1.13.1\n",
            "  Attempting uninstall: pandas\n",
            "    Found existing installation: pandas 2.2.2\n",
            "    Uninstalling pandas-2.2.2:\n",
            "      Successfully uninstalled pandas-2.2.2\n",
            "  Attempting uninstall: matplotlib\n",
            "    Found existing installation: matplotlib 3.8.0\n",
            "    Uninstalling matplotlib-3.8.0:\n",
            "      Successfully uninstalled matplotlib-3.8.0\n",
            "\u001b[31mERROR: pip's dependency resolver does not currently take into account all the packages that are installed. This behaviour is the source of the following dependency conflicts.\n",
            "albucore 0.0.19 requires numpy>=1.24.4, but you have numpy 1.23.5 which is incompatible.\n",
            "albumentations 1.4.20 requires numpy>=1.24.4, but you have numpy 1.23.5 which is incompatible.\n",
            "bigframes 1.29.0 requires numpy>=1.24.0, but you have numpy 1.23.5 which is incompatible.\n",
            "chex 0.1.88 requires numpy>=1.24.1, but you have numpy 1.23.5 which is incompatible.\n",
            "google-colab 1.0.0 requires pandas==2.2.2, but you have pandas 2.0.3 which is incompatible.\n",
            "google-colab 1.0.0 requires requests==2.32.3, but you have requests 2.31.0 which is incompatible.\n",
            "jax 0.4.33 requires numpy>=1.24, but you have numpy 1.23.5 which is incompatible.\n",
            "jaxlib 0.4.33 requires numpy>=1.24, but you have numpy 1.23.5 which is incompatible.\n",
            "mizani 0.13.1 requires pandas>=2.2.0, but you have pandas 2.0.3 which is incompatible.\n",
            "plotnine 0.14.4 requires matplotlib>=3.8.0, but you have matplotlib 3.7.2 which is incompatible.\n",
            "plotnine 0.14.4 requires pandas>=2.2.0, but you have pandas 2.0.3 which is incompatible.\n",
            "pymc 5.19.1 requires numpy>=1.25.0, but you have numpy 1.23.5 which is incompatible.\n",
            "scikit-image 0.25.0 requires numpy>=1.24, but you have numpy 1.23.5 which is incompatible.\n",
            "scikit-image 0.25.0 requires scipy>=1.11.2, but you have scipy 1.10.1 which is incompatible.\n",
            "xarray 2024.11.0 requires numpy>=1.24, but you have numpy 1.23.5 which is incompatible.\n",
            "xarray 2024.11.0 requires pandas>=2.1, but you have pandas 2.0.3 which is incompatible.\u001b[0m\u001b[31m\n",
            "\u001b[0mSuccessfully installed d2l-1.0.3 jedi-0.19.2 jupyter-1.0.0 matplotlib-3.7.2 matplotlib-inline-0.1.6 numpy-1.23.5 pandas-2.0.3 pyparsing-3.0.9 qtconsole-5.6.1 qtpy-2.4.2 requests-2.31.0 scipy-1.10.1\n"
          ]
        },
        {
          "output_type": "display_data",
          "data": {
            "application/vnd.colab-display-data+json": {
              "pip_warning": {
                "packages": [
                  "matplotlib",
                  "matplotlib_inline",
                  "mpl_toolkits",
                  "numpy"
                ]
              },
              "id": "5ee24f51576348bf87cfdcf362576cfa"
            }
          },
          "metadata": {}
        }
      ],
      "source": [
        "!pip install d2l"
      ]
    },
    {
      "cell_type": "code",
      "source": [
        "import torch\n",
        "from torch import nn\n",
        "from d2l import torch as d2l"
      ],
      "metadata": {
        "id": "qF2zGabOygnK"
      },
      "execution_count": 2,
      "outputs": []
    },
    {
      "cell_type": "markdown",
      "source": [
        "## **Training Deep Neural Networks**\n",
        "\n",
        "Training deep neural networks is challenging, particularly achieving convergence efficiently. Batch normalization (Ioffe and Szegedy, 2015) addresses this by:\n",
        "\n",
        "- Accelerating Convergence: By normalizing layer activations during training, it enables faster and more stable optimization. This has made training very deep networks (e.g., 100+ layers) practical, especially when combined with residual blocks.\n",
        "- Improving Regularization: Batch normalization inherently regularizes the model, reducing overfitting, similar to noise injection or dropout techniques.\n",
        "- Ensuring Numerical Stability: It mitigates issues caused by large variations in intermediate activations (e.g., scale drift across layers or training steps), improving compatibility with optimizers like Adam and AdaGrad.\n",
        "\n",
        "Key Insights:\n",
        "- Standardization in data preprocessing (e.g., zero mean and unit variance) helps control complexity and stabilizes optimization. Batch normalization extends this concept within networks by normalizing layer activations adaptively.\n",
        "- It helps avoid distribution drift across layers during training, which can otherwise slow convergence or require compensatory learning rate adjustments.\n",
        "- Its benefits include preprocessing, stability, and regularization, making it a foundational technique for modern deep learning."
      ],
      "metadata": {
        "id": "lYvbrqkMylTW"
      }
    },
    {
      "cell_type": "markdown",
      "source": [
        "## **Batch Normalization**\n",
        "\n",
        "**Batch Normalization (BN)** normalizes the inputs of each layer during training, stabilizing and accelerating convergence. Key points:  \n",
        "\n",
        "1. **Process:**\n",
        "   - Normalize inputs in a minibatch by subtracting the mean (𝜇𝐵) and dividing by the standard deviation (σB).\n",
        "   - Apply a learned scale (γ) and shift (β) to preserve model flexibility.\n",
        "   - Small constant (ϵ) ensures numerical stability (avoiding division by zero).\n",
        "\n",
        "2. **Minibatch Dependency:**\n",
        "   - BN relies on minibatch statistics (μB, 𝜎𝐵), making batch size critical. Ideal sizes (50–100) balance noise and stability.\n",
        "   - Extremely small batches cause instability, while very large ones reduce regularization benefits.\n",
        "\n",
        "3. **Benefits:**\n",
        "   - Prevents divergence in activation magnitudes across layers.\n",
        "   - Allows for higher learning rates, enhancing training speed.\n",
        "   - Introduces noise from minibatch estimates, which regularizes the model and reduces overfitting.\n",
        "\n",
        "4. **Theoretical Insights:**\n",
        "   - Noise from BN acts as implicit regularization, potentially linked to Bayesian priors and penalties.\n",
        "   - Moderate minibatch sizes inject \"just the right amount\" of noise for effective training.\n",
        "\n",
        "Batch normalization remains an essential tool for stabilizing and improving deep learning performance."
      ],
      "metadata": {
        "id": "On4pIv1bzCQt"
      }
    },
    {
      "cell_type": "markdown",
      "source": [
        "![image.png](data:image/png;base64,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)"
      ],
      "metadata": {
        "id": "Czpf6DCg0-0B"
      }
    },
    {
      "cell_type": "markdown",
      "source": [
        "After training a model, **batch normalization (BN)** uses the entire dataset to calculate precise means and variances for normalization, ensuring consistent behavior during inference. Key points:\n",
        "\n",
        "- Training Mode: BN normalizes using minibatch statistics (μB, σB), introducing variability based on the batch.\n",
        "- Inference Mode: BN normalizes using precomputed dataset-wide statistics, providing stable outputs unaffected by batch composition.\n",
        "- Comparison to Dropout: Like dropout, BN behaves differently during training (adds variability) and inference (removes variability), serving as both a regularization and stabilization mechanism."
      ],
      "metadata": {
        "id": "96FL1s_Dzy_J"
      }
    },
    {
      "cell_type": "markdown",
      "source": [
        "## **Fully Connected Layers**\n",
        "\n",
        "When applying batch normalization to fully connected layers, Ioffe and Szegedy (2015), in\n",
        "their original paper inserted batch normalization after the affine transformation and before\n",
        "the nonlinear activation function.\n",
        "\n",
        "The mean and variance are computed on the same minibatch on which the transformation\n",
        "is applied."
      ],
      "metadata": {
        "id": "axgKAg4j1tOF"
      }
    },
    {
      "cell_type": "markdown",
      "source": [
        "![image.png](data:image/png;base64,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)"
      ],
      "metadata": {
        "id": "wVQ0la0545qs"
      }
    },
    {
      "cell_type": "markdown",
      "source": [
        "## **Convolutional Layers**\n",
        "\n",
        "\n",
        "In convolutional layers, batch normalization (BN) is applied after the convolution and before the activation function, with key differences from fully connected layers:\n",
        "\n",
        "- Per-Channel Normalization: BN is performed on a per-channel basis across all spatial locations, ensuring compatibility with the translation invariance assumption of convolutions.\n",
        "- Mean and Variance Calculation: For a minibatch of\n",
        "𝑚 examples with feature maps of size 𝑝 × 𝑞, BN computes mean and variance using all 𝑚 ⋅ 𝑝 ⋅ 𝑞 elements per channel.\n",
        "- Channel-Specific Parameters: Each channel has its own learned scale (𝛾) and shift (𝛽) parameters, applied uniformly across spatial locations."
      ],
      "metadata": {
        "id": "UPmIjTwY48Y_"
      }
    },
    {
      "cell_type": "markdown",
      "source": [
        "## **Layer Normalization**\n",
        "\n",
        "\n",
        "Layer normalization is similar to batch normalization but applied to individual observations rather than minibatches. Key points:\n",
        "\n",
        "- Definition: Applied to an 𝑛 n-dimensional vector\n",
        "𝑥, where the mean 𝜇 and variance 𝜎2 are computed over the vector's elements (not across a minibatch).\n",
        "\n",
        "- Scaling and Offsetting: Both scaling and offset factors are applied element-wise, with learned parameters 𝛾 and 𝛽.\n",
        "\n",
        "Advantages:\n",
        "\n",
        "- Independence from Minibatch Size: It works with any batch size, including size 1, and is not affected by training or inference modes.\n",
        "- Prevents Divergence: Layer normalization is scale-independent, making it more stable and helpful in preventing divergence during optimization.\n",
        "\n",
        "Use Case: It’s particularly useful when batch normalization is not feasible or when batch sizes are very small.\n",
        "\n",
        "For an n-dimensional vector x, layer norms are given by-"
      ],
      "metadata": {
        "id": "awFRXtXq5z8C"
      }
    },
    {
      "cell_type": "markdown",
      "source": [
        "![image.png](data:image/png;base64,iVBORw0KGgoAAAANSUhEUgAAApkAAADBCAYAAACE7avhAAAAAXNSR0IArs4c6QAAAARnQU1BAACxjwv8YQUAAAAJcEhZcwAADsMAAA7DAcdvqGQAAFvfSURBVHhe7d0JXBTlGwfwH6lptlqYmkthJkLkhYZaHvkHLbU0NU1RUzxLLE0z77u8SkgFLe3AAy9QUfEoPPBEUYEEFRUVUMDFG5BVQWCf/zvLAMu9wIKgz7fP5O67w+4c77zvMzPv+44RCWCMMcYYY8yAXpD/ZYwxxhhjzGA4yGSMMcYYYwbHQSZjjDH2XItDoFM3GBkZoUbfv3BerZHTGSsebpPJGGOMPbdS8cDvV3zSaTkqdn4Pj/eeRqWpW/Dv1LaobiTPwlgR8ZVMxhhj7DmlidmHH8duhulsN7i7u8PLaxxqrpqBH/dFg69nsuLiIJMxxhh7HqVcxZbpq6H5YQ3+/sEGyopVoOzwAzbsdIBm2SJsiUiUZ2SsaPh2OWOMMcYYMzi+kskYY4wVV0ognBoYaTvPZE4NMHhbVJ6fN3AKRErap6WMkBITiD0ebtgceE+800EPEOG7Bx6r3HAwKklOZKxoOMhkjDHGiqtCI4zwVUEVugezbE21ScZ2k/C9bR3ta+nzwetd0N34E8zcGYxIlQq+IxqhQtqnpewJIg8sRb8R+5FkrECW/j0JQVj9VT/0W3IDVV97UU5krGg4yGSMMcaKy6gKXq2jhNKiMya6zIKdMRDr4YSfN1+AmgB6GIptS7ehhrMTpn3WFKZKJeq8WiVrgFda6C4unAiCumkrNH1TN5AkPIkIhs8lNYzbNUH9l7h7OSseDjIZY4wxg6kAReNBWOw2EZa4Ao8JU+Hkcwre86bAo+lcLB7YEFXkOZ+ahDCcPnwDlh2t8PaLuoHkY1wLPImzMEMXm0aoxTEmKyYOMhljjDGDqgyTrlOwzrEHFOp/8ePHH2Fs/FdYM6ktjPUO3NQIdLLN0oazwGnwNsTIf5239KuVb8CmlRmqyaladAtnDpwSv2yJDyxrPZ2rrOyZwr3LGWOMsZKQfAGr+nTFcK9rUHy8BIe2jkGL6vq2wkyFOuoiQm8XovNNtbdgZVETFeW3uUtC+LoRsPoG+D34bwyqX1lOFzHm7d34xvIzrHxjAfxOTcEHVTnMZMXDQSZjjDFmcKl4ELAMXwz6By/WvoQ9R9VoOXkjvOZ1hrLiUwze6AZ2f9MFn539GkGHRsMq43Y54dHJn/F+62m44bALl37vhtocY7Ji4tvljDHGmEERUiK9MHnQSXzmvgkbf5M6AsXC/5dpmLbpIp7mEOcUewm+h6/BuOnbUFbSjSIf4srp4zjP7TGZAXGQyRhjjBkQPTiNpSOWoYrjIoyyeg3VMzoCncGabyZhsd/drGNTlhrC48unseeSGrHhtxGXsRCpUId4YunyI+K13B6THiEu/knax4wVEQeZjDHGWHGlqHE3JgYx4b74c+woLDYbhdE2JnL7yMpQfjQSC8e1BtR7MH3wT9gcEo2YmHtQp5RmuClfrVTUg1nYNqzfcxZRMZG44PMn5nmp0bDZ62KeqlC8ZIQH/+3D4VtPZ6h49uzgIJMxxlgJIqTcCcC6qYuwJyZZTiuiR2fwxw/O2Bv+4CldCczHnX34wcQEJmYfwmHNGcSsnIaf9mX29U4N2Y4JS/3S3lxZhn6NTWFiMh377qSmpZUGuoNLJy8BTb/GEhcbXP6xCxp+NgXuN1vih0nDMdBhFOysT2LByHH4M74FullUlf+QsaLhjj+MMfZMSEVcoAd+89iJ7Ss8EKiWk806YeSAj9G2x1AMsn5NTszuHgLXrcaOA9ux1O0EpD81tvsLR/8eisaKbL2hUyOwd9kG+JzYiRVb/MW8Slj36Y/PPxuAbwdZ41V5tjTS4wsPYO43h9Dyt9noZpLZk7moSB2I5V+vwcvT52Foo1d4mJ1CSO897mHHHXtY6eAgkzHGnilqBLv0Q7Oxe8TrxnDY5Y3fu72hXzCWEoW9M+zR5ZfD4o0pbGa5YcscG9TM7Y+fBMHFtgPG4sdsvZQz0YNT+LXPr8D8lfihRQ0DBYRSp5rtGNPvGD52X4hedZ/60OblhAYPjs3F++3Xobn7fmywe5sDdFbi+HY5Y4w9U6qg9ptvyq9rwkxZiKt9FZVo2uod+U0UDv80DhM3X0WuLfNefButPm2Eep+2hGUuASboNg4tmIRt//seX1sbKsCUGKFi3U8xdexjjP5uIy4n83US/TzAhaOHcYkHWmeliINMxhhjWbXvD3tbU/EiGGtG/QjX8/G5tIGsgEqVK6JC5UriVXapiPX9E1N+q4tR/d5DdYNHNFVQ95O+GHT6Z8xxv4JitvR8Pjy6CB/3AKBxW7Qyf1lOZKxkcZDJGGNlTcp9xNwrxJNeDK3e55juIo3tKF7HrseEMctx7G4hehrTDRxavQH+bWzxfr3it8PMVfWm6DyoOjat2IWzj/hqZv4Ij84ehvt5NYzbNUH9l/g6JisdHGQyxp5jeTwfOuMZ0Ll83sAJgSU6sssTRHpORocJ7ghRl2LP4ywqoFrjQfj17zFQinfqwz9j2ERPROg53I7mygH8sfoS6rVviLdyqWVSAp3QQHebaicHbItJ27A5P7eFU0ZPpnSvwPy9poDfJmw+eU9OY7kzQtUPpuIcEe6v4A4/rPRwkMkYe45VRaMRHlCpQvDvrE+gkJKMB2LF9/9DrfTPBy+Ac/fGsJ25A+cjVVD5jkAjfR8/XSQvwvSTERh+Yw4+H7P+KQaalfHG57PhOb+L2C5qhK35HsOX+kNdYJyZiKu+3tgHM7R/9w3xLTlVaDQCvqpohP77E2y1G90cdiu+gm2ttA1bodGXWO/cB8a2s7Hz/HWxfzwwolH24XQqQdmgofiVQKzbexYP5FTGWNnBQSZj7Dn2Aqq8WhtKZUN0nrgQTnbm2tvD037ejktScEcJuLptJf6qMQUrp3VHI1MllHVeRZUSvhJkVL0Vxv39Kzoe//7pBppGr6H1hCX4fYCVeBODQz/OxoKDN6BJ+zQP8Yg4e1n8Wxtv1cq97Z9RlVdRR/kGLDp/BxengTDGFXhMW4rNl6TxL1Px8OoeLP2rBpxXTsBnjeqK/VMbr1bJWV1VqPE6Got/Y05cRrQ+myhmGwZnuUJa0JR5dZUxVngcZDLGmGCkaIrhixdjnKUCsR4/4TunvQjydsLXHo3x5+J+sCjpyDILqQd1DyxYOxVvbh39dAPNFy3xpZMjpkodgdTeWDhyHrZE5PP0bU0sbly8LV5URvWqL6al5cXoFTQePh9u0pNwpLaf3y2HT9AezPt6N5r+OQ8DLbSXOfNkVOVlvCK9CIvEzYf5h75axs0xYrsnPD31nLYPRHPjEr1szdizTRonkzHGmCSF4v2X0McKbWdqgvlY8rz+WP5MXwkU4GiT9vcGmxRkOfkA3dPIP5GvZFJ5jpT/zoYcAxLkdH3If2vvSSo5JU0KJZz7i+yM5eWxXUIBCXHa9TRzDBB/pSM5gBzNCvfbmviT5PixqbzM1uTgGZ71O/Oi8iR77d+MJE+VXn/BGCtFfCWTMcYyVED1Fl9jufOAtPaZMdcQfvuRNrLS30t4x24ZAgICijmdxhHXUTAX36iwnYzlY9uhxlPrsFEBCp2OQDi0GBMX7MM1A91JlpoHjF0+Bz20G/02wsJvo7x1GM/9dvuzMTFWVPzEH8YY06F9Ss0XY3DwxUo4tucE1C1nwNtrBjorS2gonjxQrC8W9h6AhfgaOzZMREe9fz8FMdtGw6T3H+K1DRwDdmGCdd63nUkdjdDYV/GOqQJG6X/r1Qmqtb3SAkpddA9+Cwei03RvqGEKMzM14LAflyZYo6I8C+gaPPrbop9HvQJ/OwPdR8CvwzHoYBJqH/sXR9U2mOzthnmdTTO/NzdSG0uT3nCrNx9+l6big8oFBESJETjmfQZ39LizrvVCbTTv0hZvl2pTCcaeIdrrmYwxxoiSw8nToT11dwmg+PggWmlnLk7CFWQ+ZD2FPtbrXrVhPLlM7kObk8J2Lh1QJcqJ+irM7fIECnLuSZ1cL1Kq9n1et8t1JF0ktwFW8vcj5+1yukdHZ7YWn1nRWO+bclp+HtN1z7Fk2f03Coq/R+dWDiRj6bvNR5JbaP6321OCnKm5NG8PNwrXZ/dk3F7Xd+Lb8IwVB98uZ4wxiXQ1bel4zK4yEStGvYfq1dM7AgFX1kyFw+LjiJVCjxL3BJHbfsaoa70KeQWzsAgpEXuw1AX4/IO6+vcC1e0IlKtX0KhtGxgjHjfjHmujtbyl4kHASoyY/SIcVwyHVfUamR2BrvyBbxxWwC82rw5PhMQH93FX/FK7Ls1RV5+LjcpeWEskXVzRc1qJXsp8r6U+h1KhjvDD7h37ERhT2KYk7HnDQSZj7DmWAvXdm4iJuQq/PydjwOI3MWP0h6hdUYpYjFBRaYvvF46EJaJwaPo4TNscLOa9ibvqkhzW5kWYdp2NUxuLGmAm4nZ0tPw6ATdiYrM9e1wECVFn4OO+AAM7j8AaRVu0NHsp7SOKxcXT/wG7jiLwdt7r+IKyA6alPxEohwowbm4jPruGEyFReCSnZhLBrfqe2I43EO7nirED3GA2Yxhsass90Su+iY++n6Tt5a8+9BMGT9uCkJgYxNxVZ1uPJ7h97arYM23Qp3W9XB5tyUrEo9Nw7t4Jn33eCS06LMSh+09p1ANWPoizNcYYe05Fkqe9mXxrVJ50bxVn9JTWnczI3jNSnqEsSaHYgI20aIY9tUzvHa/HpJzkQ/F0lwLcHGnmyE5kpk1XkJntVzRzsTeFp8hfn0MiqbxnkG2O2+WSWPKbZ0No40JBSdnvY+vezk+fdG9L59E7P/stfE007XJoTMZDPelGKbZkeO4lR5GP40CyNm9O1ma2NM8vVv6AsZy44w9jjDEDIySHbcTgluvx3n53TLDWjmZpUKTahuGNl8PUywNzPqwF7ppTyugGdn/riIdTFsGubgHjobLnFt8uZ4wxZmBGqGT2OeY6m2D9Bj/cNvilDDUu7PTEpTGzMa7dcxJgqk/DydYERkYW6LsyWGyBpykV6rP/4OC7g9DVlANMljcOMhljjJWAqjDrPwOzHq/Ewj2R2dpTFocIcILdMH17S7j80A7Gz0OEKQ0d5TIbPwaYoXfvmvh34hS4+N3TtiMofSmIDd6MlacaYuKo96DgS8gsH3y7nDHGWIkh9Vms/m4pbg6Zi0nt38h/3MsCiQAz1AOTpkSg9+8TSrDnfVnyBDF756DHmEj0/fsXjGtDOLpoHL7eYYHfvOags7L0ryRSSgo0FStyZytWIA4yGWOMlayUGzi6zAuJX36NTrWLEWY+OYt1v4TC+vteaKh4HkIcaZipzfh6zH/ovGga+jZ8Ja1pAMXjwuYFmLT3PSz7sy/e1o6GwFjZw0EmY4wxxhgzOA4yGWOMsbKMEnH3SjACg0IQGnkfT+Tk3FVHk94D0fntqvJ7xp4eDjIZY4yxMikV6nAfuDodwAu9h6B/W0vUrBiHUM956NlvCS7Jc2VhPBa7LjmhW3GaJTBmIBxkMsYYY2WOCDBD1mPMF//iPfeVGG31auZQTckXsKpPVwwP7Yddu8fAuqpOm8xK1VCrpqKYHawYMwwewogxxhgrY+jOMTiNmYvQ4T9guG6AKalUG/XeeQ2Ivo2HlWpCqVRmThxgsjKEg0zGGGOsTHmIC57L8eshS/T7+F3k2bpSnYCHiRr5DWNlDweZjDHGWFny5Ap81h2EunFbtDJ/WU7UQQm4ExUHNG6Ohm8+D2OFsvKKg0zGGGOsDKGboTh5NhYweR01quQcA5Niw3HmzH1Ydm0Fi5d4jExWdnGQyRhjjJUhlPgQ9/J8OHkqYoMOwyv6E0wc1ho1OMZkZRgHmYwxxlgZ8kKdBnjfUgGobuF+YtYBYOhBAFb97IsumxbC3oLHwmRlGweZjDHGWFlSvRl6j/oIivO7sePkHaSHmaQOwcbZq5E09k/M7VqXe5GzMo/HyWSMMcbKmpTbCN65DivXBqJyq+Z4E2okVG+O7l90wnvKqlmHNGKsjOIgkzHGGGOMGRzfLmeMMcYYYwbHQSZjjDHGGDM4DjIZY4wxxpjBcZDJGGOMMcYMjoNMxhhjjDFmcBxkMsYYY4wxg+MgkzHGGGOMGRwHmYwxxhhjzOA4yGSMMcYYYwbHQSZjjDHGGDM4DjIZY4wxxpjBcZDJGGOMMcYMjoNMxhhjjDFmcBxkMsYYY4wxg+MgkzHGGGOMGRwHmYwxxhhjzOA4yGSMMcYYYwbHQSZjjDHGGDM4DjIZY4wxxpjBcZDJGGOMMcYMziBBJqmv45T3RrhM7ocW1RywLSZF/oTlidSICjyIbaucMKlvK1QbvA0x8kdamjB4Dm+DatU+xXy/e3Li8yIV6kh/eG9wxuTcto1BEVLuBGGb03C0qtEC3b6wRQOjamjQYTRcPLfBdVwn1GjQAG8bGaFaq6/gcvQGOHeXJSKvRJ3BwW2r4DQpt/InCRGe34n0urCd74s4ObXYxPEbeepfbHCZjL4tmmDwtij5g/IiCXeCd8BpaFvUaPEpvrC1gJGRCVoNXYYjl89j38of0K3Bu7D94lOx7UTebzEAszafh5rkPy+0EtoPZZgmYiuGtzBBNdtF8ItLlVOfUaVxPJS7OrE067GyywBB5hPcDA1B9LXTWL/IA4FqOZnlS3MzFP9dj8ZF7z/huMUfOTZb3FUc2+4HtfokvINjRHZ9jqjDcDrgCi4f24xFuW0bgyE8ubweg9uOx+kmc3DifgB2b/XGsQOTUdf/N4z94gfstv4Nd6+GwNdzDKr5/42x03fh8nO1M8o4zW2E/heOWxf3YYFjbuVPnMhHR0V6FA57n4fKIPtOA/WVAARcC8Uxt7+wJfCxnF5ePMTldaPR9qtANFlwEPcD/sHW/QdxYFYzXFzzHWze6YVVRvZwv3IRh7buwuGTa/DFg12Ya7cYe6KT5e8orJLYD2VZKuIun8T2wBioD59AsCpJTn8WldLxUN7qRKlsOhOBa/7bSrgeK+PIUFSeZC/V2hhJnqpkOZHlL1lstpHStQGCvSep5NQ0iaTy9yTX1fsoNCFFTnue5LdtDCQllNx6mRHaraCQLJv4DvlMsha/bUOOAQlpSZoEun7yGJ28nkCatBSDSVX9Q+PHbS+ZdXxe5Fn+aChZdZo8XNfT3tA4A++7SPK0F/kHZmTvGSmnlX0pV92ol7ExtVtxjrJk++SL5NrdlGD8A3nf0/0khRJCD9P2g6GUUOQNWJL7IR+pUeQ9fsbTqZOSVeTvsZpW7y3OditPSvp4KI91YinUY2Uct8kssypD2aIXhg35GBaKCnIaM6TU0IP4c1sYUL82jHU3Malx53q22zFGCtR9vx3er6uAkZxkECnXsOOnqVh8XyMnMMMyQkVlS/Qd9iU6Wbxi2H1XLj1C6H5PbIutIbL9K8hSsjy4jrPHooAadVCzuu4nFaCw+B962lpAUeQN+DT2QxJu7FiEoYvvyO9LWUUlWvQdgiGdirPdWCauE8sjDjLZcyoV8VFXESK/yyL1HqICrslvSlBKNHzmfoPBK4PlBMZKWgKiLuWet1NvRiAwVn6TqyeIj3skXS4uB5IQ4+OIQYOXPZft4BgrK16I8VuGwRbVYGRkBKMan2PWhtOISYlBwMZ56JeebtEPs1z347JautryBDEn12Jytwba+X88cgM5rsEkq3By1RR0ayD/fYMvsOBgdM4OE/QA4XuXYVQHqdG5mM/IAh1GLcPe8Ac6BVkS7l7YD7f5DujQwgkBsWexbtSHqGZUDRYD3RGubZiRCnX4PriM6owG2u+RO27svapfQ/WUGzjq8hXa9hiHRU4LMbnv/2Dbtze6uQRmW2a5sfyoT9DC9gsM6tYCNVoMwMxVfmKb6fyQtF77/tA29jXp9h3mjuuBBg06Y9SyI1nny5PUYPg0dq+ai8GtOsMpo6GZ2BaXj4v0+XAQ26yB0ynEifV2HtpWbA+x3tU+xKh1Z3NZZ/F9l/fAaagtWnXrCdsGNcT2ccB8t8OIUOvbskXaxvuxUurcZdIN4+Z+p+0Y0GHU7zgak97eqKjLR0iJ8cOqyT1h0aIbBvXtgBbdpmHDqWj5cz2J7R5xaBVm9v1QrOeX2v1TTdruTjsQfEenTVTMNgw2qojXuvwKbZ3q1hsm2nwjT5VaYGKY9MFhTGwh52Gj9A4lovI6ugxD236OcYuc4Ci2Ryvb3ujbbRkCs2SWgvLkLeyd0A0f/fRvWludjGUouOMcqa9i38op2gb23cZNx7huTbTfvSxLpySxTe+GYJ/bArEvesApIBoh675Dq2riNywc4BGemDaX+K69LqPRIeNYFdvLZR/C9cwXBS+L2A5RZ+Dj4ZLW+L2BdAyfx+YpPTO3i7SvA28Vcf78aTsl7l6FeYPbwsIp+/FcmPUX+11b7r0n8uYA9LVti25T3HDqzhP5c33pWYZI2yHiMFbNHIBWrcQxMagbWlSTysdfsS34di7rXlB+SxHZ3kGk10EXZ+mkJkxkubpp6yxPFRuNgq80a9hEtKiUmZ45NcR3B+9luwqZ3nHuG1E+d0BfaTlrtELfmW44mVEuFLQfClp2IeUuLvvuwiqpHmjQQeRnlag7nDG0lYl22aq1+g7rQuLleiMV9/dOR6OPZuKQ9uD6A71NKon5GhTQIUXUbYaqD7UdYXZj1byhaGXhlK1sMFQZUgC96qGiltkGOh4oHpd3O2FoG/H32k6XIo87LIDbobBsvym2RY46UWz7ADdM7pCej9vCwWUbAmPkZVBfFsf2KLQQ281i8K/wvvwgLb3A7SqVnaHwFfl1voOYRyqD4kQ54fxVWvkpdZAbtQEheted6VKRcNkL8/uJck37u2Jdx/0NP+1x8gCX967AOFt5XWr0wOS/d2RZFx+3WehRQ6xLv4XYlbEu5QBRAgU5d5U2LaGTK4WmyjfSKZHC3AaSQkq3c6fILG1K4shvXjtSTvKheDkls01Uexpo35O6T/qN3D230Np5A8hcm96DVoQ8lGeWxNF51xFkNXIjXdW2r0gklfcMainNa/YVuYcnEqVepvXfDqOvulqmLZ9pfxo5aiCNnfEV2Sik75TaXyVRwvnVZG/1La2/Gk8abduff2lyS2PxeWMa4H6VMlYpV/foxLxOpGjjQkFJ8kpqYshncnsycwygzJY8actrbmZPK4Ni09oUieVz61lP/I4p2cw6RHe0iUkU7fktKaGkTq4X5d9O35bG1Mb5jJgjXW7tNcTyzB9A3XvbkJl2u+m0C4wNpl1ui2mktbRuIGXvgfRl99G01G0LbV07l+zMFSLdisZ630ybX0tsj3B3GmJmTj1dQ8Rv624f6fvTpqzrmlNqtCcNU4p5dfJIapgb9ZT2Q/q2K+LyJYW60QBzS7JbGSS3Xcq2jPq0ZdFI++crMjceSCvPpbf5EnnKZy7ZiO9Q2M6lAyqRpzLk01YmOYAczaTtorPttVIp/sRCaq3oSs5B6enJdMdnJlmbOVJAxgZM1TNPFqG9Tuo18hzWWPxNH3INfSynpefD9OUS+W39RBryVVc5DzWnYSOHUc+xk2ikjal4L7eZSggmV/tONHL9xbTtnhxJ3pNtxOcKMhuwicLzP3D0XJZ4CvXxJNdJnUSaWBbj1mTT3pbsZywkx0UzaKStuZz+Ja0Q+63w88tytMmU9pUj9ejeg2zMpHyXSx7Xe/3VFOomjv3seSu9vNK7DZq+ZUiKyD9raEiOY2I/zbJREhSf0KwDUTrrom9+k+Tdbi45wDEtv2TJy0LqRXLtJH43x9/Iv2tuJZbzP3k5M+sNhc08OnInqYD9oM+yp1Bs0B5yc3Yga+32tqTe9v2pu4MTuW3VqWOytyUtUj8BA9SH8b40v0cP6m0j59VsZYNhy5C86FkPFanMNtTx8JjC3R3ITBzLrpfU4r3ud6RPUhl8Le86UdpOAYu1ZXzOGEO4501jjXW3tT7b9R4F7XIj55Ft0pZB2Z3sv+xDDkvX0tatq2menZU23Xist5izIDplfPP2ZNOyC42cuZAWzfyKbOXjQWE7R9RN0t5Iplu7xpKxNK/xWNp1K2ue1Yj8PCRLvikftB1/0hY+507KTNepRCSJ/uRo1Uns6IwQU+eAtqHJ3pGZhUhGAVWP7Nwj5AyZnjGyfW/KOVrRTtrZCrJy9BdZTqKhRL/5VE/73e1p1tG7UgrdDjpAewJUlJxwihxtzHQOJMlDClnRQ8wv/sZKHLiJWUqErNIDiiwFiliUkBXUJaMwTF/eetTT7bLO7+gUPBkFRHohrru+OgV4lt/JJ8hI9KN59UR6jkAngQIcpYpQZHK7v+hcRgPoeJH+sTY9S/CvuU6eQ6TCTndb6yx3jk4vudFZTt0CNiMY0/3uQi5fUgi59hTbK8d+0tmHBQZgciGdJd+k06k0dE8k8tv2eQaZ6euWS77t4pRZQeidJ/NZhrxkHGdDyT3yiZyYvly6FYqQkYcU1HjWEYrXiAL1djDt3RNAquT74m/Edskl37fTfv/HWY/v3BRiWTLyv3IMeUZn7iFNQhCttEurjBU93ShM/oPCzp+5LNkDirQAQJo/a3ATq+f6i5OgS67U0ziXvJVRXulTqepfhmju7KfJUqWf45gQyxLkQm20y6dT2RSqDCxCkJnX32h/V5l1PwgZJ59Zjp889kNhlj3juDTXCb4FbX0kVdjWNMnnjpwo5Jkn8meQ+lC33sqyPQ1dhuSlMPVQYcpsQx0POttTd1kyTrpy6ZiWV52Y8TfZl0kqXx3IeIgoW9M3QCG2a8a2yhJMi/0q0q2kdOVU8onP/Jbc6ZTxWcoyURZrL/6kBZoZAWtGXs5eTqStiyJbeVUeaNtkGtV5H70HNhavjmLdgctIv+BtVKMuGpmJ4g8HsPrgVaRdHNbgwek9cK32OT5tVl2bktU7aNVUiYryO7zwJqw+fke8uIaAqHvyd9zB8XVrcdisFazqV9GmaFWoA4s29cULNYK9AhCmndkIFSq9mNZA3ewzdG/9mkipjFpWHfGpdW08OL4ZCw6b4mOrN3UamFbBmxYNoZReBvvCPyyfIRWMKkOhFOcO+5Zj/nKfjNvHFSx7YEFHE/k75eVFZwz66G2d36mM+v1/he/e3Tj4z1d4T7vSJug0+RfMnzUD37ZX5mzgHnYfCfr08ahQCZULaNtco0VzWGY0gK4Kk/rStgNibsbhofaVEHsRR72uiBc18Gq19L1SGW/bdENX6aVvEC7dznnzLauKqNNpNDzmz8PKb9tBmWOl7uB+Qs7vKHj5UnH/0CpM2BEGs4G2sKqs+8Uvwrh2Hfl1ASgaPn+uQ6DIe53fqyfWTpcCTbr0Qifp5Ym12OhbnPHVXsBLilfEv//i5/l/4WCE3KyjggV6LOgME23GEOtU3DyZnzodMdnDEbNWDkV7ZcZRJosR2ethZvOVjDzUAoO7v4fqRkaoWKspOn1qDeWD01i3YA/MPrZC/cyFRIU3LdBGu5AB8PKPlI/XPBRmWdJVrYu3Xs/cQ0aKJuj/9Rfa7aLecRxBt7Llo8LOn0MFVKqcfdmE+6f0XP/bOLTCBTtiW2CgrWXWvFXhFdSuX0N+UxB9y5BkRPtsxC+BsVB2fg/mWY4JI7zY5GMM7yQt4B78vPE0HpR0fstT+u9WRa9BNlm24Qv1++JP3/3YfvAPOLwn1R+S3PZDUZf9DbRoYZbZmaby66hv9bp4EYebccVfT8PUhzr1VhalVYYUrR4quMw21PGQitizJ+Al3fWu8yqqpa/kC/Vg089WvIiFr99l8Ws68qoTXzBDjzH9xXYRccPibTj+QF4xTQQOrDsL+35t5TqriNu1hhVaWKZ3VhPRh0l9iCBTbJT7iHuoT2Uu+9gGrd9I32KiLH67K8Z99z/tu1i3/fC/L3JU5Sbo9UNPUWtdw45fvXAmSZs7RB2ngt8uP7Sxa4MGmQteLqQtrpES7ft8JjZyLE6s8MIp7U5Kwe3967EgWMoFYoevO4TzT8QKUwyObtwLy687wjK3Ha6PlGic2x2cS9ufWui4KDBtnrBI3CxwBz5GxLlAsXS6beekqQJe6bhQbvAdjYibj7SvciUd3HPGwlZxBm5jP0LTDg5wltpmiG3SvLkybQMlRSDASyyvWQO8VStbQVmxNqw6dYVtRo/JClA07I1pPw7HhyLXatuTTu6Jhna/4Zb281KW9BCx2oaHoQhXpbXDkxgpG0CU03ozUjRG32nTMfJDE7FSUlu/qejW0A4ri7VS6fvPDG3r1848MSms2FD47ZM6M1RDrVd0TlpkL9S3wsfadQ3Hics35cqhKKrCsse3mGprjCtu36Fj008wzFlqv1cByuaNodRmFgPkyfwYvYKGfSfgx5EfiuP1Li7sW4XJ3drBrpCdh1IizmG3yBdhE1ugUsYyiumVjlikXchYhEXczjxZyY1BluUFVH+3BT7Wvs6aR3NX2Plzp/f6p5dV4gSmvknOvKU3vcuQ+7jg9582uWqtV0SOyybjpF3UcScuIzq1hPNbntS4HHBK/K4pmrwlTtKzkC4CfKRHb/SntewFKNH6sLTKkBKqhwx1PIjQOumhWqyjcDwcqoxzxUpQNmgoaoTCEGVC214YbyVOAGJ2YcvRGG3grrl6DOsvdULv1rXSZitz+U2BRm1t0tY1NhDnIqTgVpx09vgK31uKdQlei7/3q7TrQjcDsMurNUZ+0kAO2soPeXl1dtKlXdgdcF97FrDX9TTstu/G7+1EIXJiF/afSxDJB+Hq1QrDO+uejRfSnes4J3WssHNHpEZ7yz7npFqADtUL+oVYXD8nNeQeCvfIJ7l/DwXglw4102bP1YtQdpyCDV6/oLs4S1X7/41xXdqjw6g/5Qa5wn0VLksxTOoTJKfKZxb5SpU72vTFdzsSYDXBAxc8voV0rl3qalugtbT/EIztx69mnJXjUTzuiGNJ0bMtmr2uX3hH6kvY7fQ1Pv1uJ9RW32PHBQ84FGul0vdfMWUE0gm4E59L0CEq8fptpUM5FjHqpLQrB0X0gvIj/LRhNeZ3twTUJ7BmXGdYdRiDlX4quTODIfJkAdIby386ATvU72HCDl94OGjPrfWUIg7BqwhDPXEIRkCT6zISVL90QG73KrIo9rIItd5Ck8LUKoWdP4dCrH96WVVcepchT/AwVttbBY/uxCNndVcFJvXTgkyRmfGYSiG/5eoBVJelajkFSclFPW17Gsue3gEqPcDInBpkdEgq2fqw9MqQEqiHDHU8oCJqWzZDO+ll2GEcD0nL89KV4Ufx90W+r4eeHzXRf1krN0b37z4RL85jvetBRGjUOOct6qlRPfB+RhzxtI6VvFU0qY+28usM1d9D71HSFc70dUnElX/d4WXXFe3qFPlSzFOTeVxUbohPHTqKF4H4a+dpXDu+EQsudcaADrboOPQjkb4fizcfht8+T5wa1B3taxtgZY8G44pe944Lchb/XYmXXxdFZSg7TISn31F4zOolzixi4P/HSHQa4ISjd3Vux107jaACbztJQ2csRHfrsQjo4Ai3ab1gVSvLTYXSVaERRmz2wCxbBU4s/w2rjl2DOvkWAjZtwk7Ludjxe98st7pyJ/X+3o853Tuhf4ANVrpNQS+rYlx5zCFMnMzm1mNWTy+/ijraex0qBF27m/MWbYZ6aGH6Wi63sApDGu+vI6Z5HkGQx2z5xGQFRnUajrlHb+kEsMXNk3mQhj2a0x/W/UPQYeUfmNarGbJfGNPfNRz9L1yE5kVk0GWRFPbqSHGvphRm/Yt+1TSLAsuQl/BqnVe1r2KCruFmfsVjC1PUzsjMJZTfChQC76CoYtwdkJTmshvhpbf+B0dHxxzT6CY15LtRQonWh6VRhpR0PVT846FCw6HYfGAubBVHsHzpehyLfIDkO/7YtO4ILGf9id/7F+aqXRWYf9IPQ8R5gXqHJ/YFBWD/qioY3sUSL8pzZHpax0p+dMsyBZr2c4CDOJdR7/gTa46ehq/HNdj3bIna+d4ZKJt09mFVWHbqjZ5iJ8W6zsHQGdthOW0A2lavmrHzYn4fi8G/PMb4vi0KvsKRnxomsKgn/tW5tJ3VE3GALIHTobvy+7xUh4mFFF2IgmDLSdzO5QKBRgRHs5yOiPPuPKQEijM9D0SR1F6tOfr+uBlBoZsxrqUx1IdXw1UsX+bVQB/85hGAB9l/h2IR+OvCtKFnbu7DjyN+wSH1R+j7UX0DBmJFJRVoHfDDjw7o1KwaVLt/wbdjluBw1S/xz86p6KjUp+BRwfvHifjp0Ivo1bc96lc0VE43xltNTLWvwrz8i/64xmoN8H5nc/EiBieOXcCt7Psn5TbCj0un31awaVI7syIpNDUCnabCIyo57RZn3znYEXQKHuPai4+88ZPrcdw0RJ7MUwpuejthhDTsUa/P8JFue+ZCqSAOwboi5BZb7K+dOJpbm1zNDfjMWoZD6e2bcjDUsoifCg/GfrF79L2qXtj5cyrE+ld+U75qGgwv/2tFD6b0LkNexrvvtxTVjHDCH+dztDlNhCo8VPxrjHY2jWBiVJL5LT+vwbK11G4xFr6/bceJB9m3TCrUgSswdVtkPncOnsayV8Cr1v0xYcKEHNO4zm/rnICWVH1YSmVISdVDGXcRink8aEkXd0bhxx8+QbNaUdi9YBzGOB1DVXs37JzzMZSFrGeMlO0x6Btr8coHv/QdigXN++ITc91y6WkdK3lLUYXjuPg3e1lmVLs9RkyTGgX5YvmE8XA59xG6Z9z2L1+ynCi88Pb/MOgLUVmr/XH4nE3GLYCMhtDqawh7M68OP4VQ2RztB0kXys9j5fgfsTpjfDNBO3amC753MYJty4IaEVdDw/YfwVK8il05C5NX647nJY2FtReLv1+L6rZW+RcCxw/D/2Z6YS493eIzjHKQzlZlFeqj/ZeiEBAFxPnFC7Fg+6XM36F4XNi8CIuftMdHdSoi5UYoDlyTLv1HI/p2+pleKh7Gx2beqi5NYvlC1n2PTzY1xTqPxfjplxVYu/JnTBhkg7f1fWpCyk1cOiC1w7mPq9H3MtaDHsbjbrFWShTY79to9x98N8H1QLTOVcgUJMTdl18XwOhNfPT1MLQWBb96jTv+vZL1DDs9KDF2GIFe7+Zo5VZIF+Dtn3liZKRoiC9GDU7rWKRVxDx5M06PDmGJuHEpGNqhtK/ewG2pTZiEHiP+br6tJ7MxQuWG7TBIavcT64rxk7OO+aYdO3LxDLhUfx8t82yyYqhlScRVX2/sQ3tx8vMx3i7w0kVh589NIda/hhneHyCVVSKYWrURB9LHrZNoHiJO3/ZbepchL0H50UBMaS0qQ7UX/vj3atYr85poBO8XQaaxPSb3shSllYHKwEKrinfad0m73Xn+L8xe4IXLGdtQ/O6FrZi1+BG6f/RGPid1pbXs9xGXS8fEgpRcfVhCZYiOEquHKtYzzPEgkPos1n0zDJtaLIHHovn4ZeUqrPxlAgbZ6nTqKpTX0LZvP1iJY+xa2Cs6HX7SPa1jJS9qhIjYIwxdMXvGZ9nuKFZH816D0k5yAsXxPr6XOMEpUmH39FEWKXTP+wcyzjGeYyrF+0wlZY5u9Zk0ke5kJ74ux9AMGc+BBtWb55cxvECqah9NtZXG7JP+RknWXQeQvf0A6mqtzDamoc5QELkNGZAaTQemdkkbAkRMCuuuNNDengZ2tSZFjvHkcqEdFkNJto6nMofEoLt0dGY7eZw3+a+1Y+o1l5dXTGY21Me+N9mYGZP5kDV0Pn3Yh5idNLKeNASBgszt5tLarW70+8wR1H9IfxJVDMHYjuZtcKVF68+IbfGEIt2Hpn1f9rHX4n1okjQuJdrRPD+d8QDzHJLlMYW69sn5XdpxwqTv0Z0UZGbTW2zvYTR23gbyyzJ+ZG6iadfItLHBYD6A5q11J7ffZ9KQ/mI7t5eGpzKnPvNW09pFGykgsZDLp7lJR2bJ+0/xMY1d4UVH/U/QgU3z5DHapPQ2ZD/Nhbwj8lnO9HEype2usz80CRdp/cjmWfeRVj7bPmOolOzbXh7qw3YJBWR8lzg2js4hS0UXmnXkZtowF4XIkxnDZKALzfQ8Qkc2zaHR2vFMc5NMMbvGysN5WZGd2OZb3ZbTzCFf0pCB7bW/ZdxnHm1Yu5zWS8OpZAz5kW1oF60kUh2YQ7baIVnEpLCmrgPtyX5gV7JWmJLtrH2kStbdKNkVblky17M5DVl5km5rvzt9PEhrGuIarHP86W4X/ebPLH90h1OS5F7+FGb9NXcO0Szt+KJiX9qMoxW7jpC/3z7alDEGsEhvaU/TnLwpIr/hRfQtQzLWU+R/86/I9bw8fIomnq6uH0VK3TRJYcpATQS520nDvWQd2kZ8kFnO1ptPfrrD42T8TbYhstLH/UxfH1EO2PT5kvpI40NmX8a89kNhlj3PIWxyGyZPyDiOlWQzcwudOLKBpo5eS5cyhjErSNHrw8x5xO9n2Z6GL0NyVah6qHBltmGOh/RtmzZ/5iTloYFkP2QczXPzy1oG5Vkn6kjPC3kNL6T3ds1rCCrxFaGuJE4IxN9nL2tyIw09JA9hZDmRdt1Iz/mJpDrxG9lbds1nX6YfM+VvbExd2YJMId6X5rUbT9kHAqX4IzTTalzOdKmw9t9MSx1s5R1nSjbSILkHQiledYo2OH9PXeWxoGBuRzNXnyCVdt9Lg6CeINdJPeTKREwimBjiuJ2Cbss7IlVFfmsW0dj0wdjTv3t7gPwdsuQb5Oc6OfN3RKHScogjeQbdyv9AlEgFkY3IaKJyadnanmYsWkRzR3ah1kNc6Ei24EuTcIW8nb/NGEQVZp3IwXkvhWUJXkTmOeJCQ1pKhZ4I5my/JWfvK5SQeJHcBkiBmnTQL6FDp4/Slr9/InvtfNK622oHe90ecJEuHthAv0/uIx+wYv4+M+nvLf6kig+lAxkD5IrPpO359z4KjY8m/w1O5CAf+GnftZn8tQO8JtIt72nU2KwN2YgAPm37ZJusZ5JPejCdK2lfHSbnIW3S9nHGesenDcorpZl/SY4799G/hV4+IfkmBayfRX3Sl0/KB0t30xERNFr3mUTO7vspIDIhs/LIk9j2fmtpRp+WpJAqcClgMO9Bk1wPUbjuPhL5KmCLC43Nsjwb6EDoHVIFbKe/Z9pl3fbeoaJqkEgVRB8RjIiToZY2aQOEzx1Jtq1HkPOR6Kx5Td88KQo9nzm90o4Bsy40zvWUHFDlITmajjiPoJba4MicbB1E8B0WT4naAe2l3xIBn+O/dPrIenIc2z3j2FLYfEtL3XZRQPo215K21xqalHF8SZXDMHL0PJP/MqTTa1kOaSuKjKDRdCjNXfClTmUkfm+XPBi6Dr3n1+7LP2muvZw3M8qIUxR60UecDE2hPlny43adbaDv+kvji/rT+pn9RQCaPt8IWuq9TwSNttRnkjO5H/iPIrOUA7nTrwyRyOXjDOk3pYq3vzgBb05dJ7nSwXBpEOls9MhvqSp/2vL7OPlBFmIdtHnCR3t8BmzPHGRa2m99Zv5BWwKiKT5UbMOl32b9mw2nMstfEfiGebuQQ/og+Tr5IG0ZUylB+o789kOBy572HZkP9sg8LrV1TJ7LJ+omnwXUXfu9YrnGrSH/9LpFX4WuD4UEUU67udDkPtm3p0paE8OXIbnSrx46EhpchDrFQMeDKD+8pYeetG+f8T1ZJ2Oynryf7og8FppXnZgjjkwm1a7x1CnLSUE2BW5X6ffWZjse/iZvqX7IJdbZ4C/t13xo4ih093KaJNVL2r+TJuk4cSpgX8oXQvQay7rsMpL+J1aaPaOkWxKrv/sFN79ywVTtGKO6pEeKncDWhTPg95k71vZKax/JmKGlBDrBssVEhJk5IuDSBFgX0EissPMzxsqTVKhD1uO7Cbfxlcd4tK6eremW9BjR41uxsH8QPgtcjl45xuF9DlAktg3rjj8+dMe/wywL0QmqbCmvy830obmO7WO/xPAbHfHF+9kDTEll1LRoh65dWsL45Zx98BhjjDFD09zwwtiPp+JGn8/wfvYAU1KxJizad0EX2xp4OcsDCZ4fmogjWFdOx8bUxUHms+xWILxWnQdUN3Ar14f5pzV2/svbDIPals+ea4wxxsqTFNw6tQ+rYhKgun5bp/ONDqkD8J718G7eE21r6NlBtbxLiUHAjs3YstcfkTHnsWnRMtz6YSA+KudXcfl2+bMs9So8Bn+BfhukJ410x9hhXWD9zut42YiQHBeFkNN74R3XGU5LRqG9XkMZMVYUGjw4OAOW0lM1lFPhc2leAQ9aKOz8jLHyJDXcHYO7fIUNV0TV1HUohnVriXdqvwwjPEFc1AWc9jqCuE9/xJJx/yv0UEblUyru752MBl1+hfa5IoLCZh72bJmM9jU5yGRlGKnDcHjzGqz43RVbAtMenAWYw3bkEAzp1QOfdmiIms/FQcyeitQI7P11OVw3b5LznxLWffrj81Yt0GVEX1i/mu0qRWHnZ4yVQ6lQRxzD5lV/4velmxCY/sAfs04YOfRL9Pr8E3RoWKsMjDNdejQxBzDXYQzm7IyGWfeZ+HPlWHR4Bi7+cJDJGGOMMcYMju9BMcYYY4wxg+MgkzHGGGOMGRwHmYwxxhhjzOA4yGSMMcYYYwbHQSZjjDHGGDM4DjIZY4wxxpjBcZDJGGOMMcYMjoNMxhhjjDFmcBxkMsYYY4wxg+MgkzHGGGOMGRwHmYwxxhhjzOA4yGSMMcYYYwbHQSZjjDHGGDM4DjIZY4wxxpjBcZDJGGOMMcYMjoNMxhhjjDFmcBxkMsYYY4wxg+MgkzHGGGOMGRwHmYwxxhhjzOA4yGSMMcYYYwbHQSZjjDHGGDM4DjIZY4wxxpjBcZDJGGOMMcYMjoNMxhhjjDFmcBxkMsYYY4wxg+MgkzFWbpA6EoE+m7Fi9mh8PuUf3E6+hcANs9G3RQO0+sYT4ckkz8lYOURqRAUegMeKH/Hd57Ow5/ZD3AnciFl9W6FGq/HwDH8kz8hY+cBBJmOsnEjCzdDzCN7nim9+8sZLDV9CsNNKBL4zAKM/V8J/3RFciNPI8zJW3hBSbobibPB+rPxmDla/VA81gv/C4kAzfDW6B17x/xf7L8TJ8zJWPnCQyRgrJypDaW2DD95+Sbx+HRUObcfZj8fgK+uXcPfqLaBZQ9SvUSFtVsbKHSNUVFqjywdvIwXGeLeCL9zOtsbUr6xR8W407uIdNKv/qjwvY+UDB5mMsfKDVAj0/k+8iMKt5kMwqkUNGD26jiCfKzC1bYS3OMZk5VoSIgN94YtYXLzVHA6jWqG60QNcDQqG2rQZGr0lnWAxVn5wkMkYKzfo5lkc9IkCWo/GT0OsUFWkpV4PwaEoc3Rs9pb2PWPlFt3CmYOnxYtOmPrTl2ha1UhkcBVCDl2ComNTNJDeM1aOcJDJGCu+lNsI3uaEoa1GY1tMipxoaKmIPXsCXmoz9B/bB+9Xly5bpl/5aYj3LWvg4c3bUHPfH2ZwSbgTvANOQztj6DZxklNSYi/iqNcVKPoPw8D3a0AKKSnyDLx9gWbvW6D2w9u4qU5Nm5excoCDTMZY0aUHl22aoVnviVjjX1IBpiQeIcdPINa4GwbYmmorYOn2+el/TwKmVjCveBTL1pxFQipHmcxQ0oPLDqjf7HNMXBOGkutaRngY4odtsY0xcEA7mGoz+BNEnT4MH1jC1vwJvJd5ICShJI8xxgyLg0zGWBFp8CDkLG5Y2mP5X1PRRk4tMUnhOLXzHBRdWqNprYpyYkW8/OqrQNRmuGytjCETOkJZkW8pMgN5cAX/3WiAIcuXY34bYzmxpCTg0qkTiFK0gk3TWmknUeL/lV5+BUqcw0aXA3hpyNfoqKys/YSx8sCIBPk1Y4wVTcw2DDbpDTeMhKdqOXop04NAxp4FUdg22Ba93QB7z0NY28tUTmeM5YevZDLGGGOMMYPjIJMxxhhjjBkcB5mMPROScPfycexeNR8OU/YgRk4tWBJi/FbAod83GNe3Gaq1GgO3kHj5M8bKCkLK3VD47l6F+Q4/YrfeIxiIv4vxxTKHwfhu3BewqPYhHNzOQi1/yhgrWRxkMvYsUF/H2bN+2DJjBv6ISZITC6aJ2I4JgwJg6+iMJb87Y2o9NW5z71VW5iQg/GwQTm5Zghl/xOCJnFogTTg8J0zCcdsf4bzkN7hOrY/7tx+CczhjpYODTMaeBQoLdOhpiyaFGo08BbfOHMbGsEqoVNEIRjX/h2mbV2PCB6/Jn5cuUgdiWY+3YWQklqWEpgZOgRxglEvVYdGhK2yb1JTf6+lWMP7ZeBuVK1UQ+/91fDhtLTZPaI2n8XBGzt/secRBJmPPrUSowkPl10+fkeI9OCyeh/7pI8UYD4HrmetQqVRFmyJDEXBgA+bZWclfyJ43KapwHJdfP22cv9nziINMxsorisflHQswoO9ozFv0Pfr2nIk99+XPtOT2aINtYdt3ALq1eA/dpmzBBemJIakR2LvUGesOS08vOQuvFYvh5LQSeyMS0/70qTBCJbPPMW/FKJhLb2O3wtHtAirUUUKpLMJkagHrjgMwff0ueE+20f4CKz2kPo/NU3qigfYqmwlaDXXG3vAHIlfqKxXqy16YP2AARs2bh3F9v8TsPdfkz2QpKvgtG45Wtl9gULdWsOg2HZsvxIvfSETE3pVYvO4w7ov/QrxWivzthKV7I8S3Pi2cv8sVUb5e2Dwd3RpU014lrtbqKzjvvcpPFCssaZxMxlh5k0TRnt+SsvFPdDQ+RbzXUHLYerJTiPrV3pNU0iwJp8jRdgS5hT1O+zzUlbqLQ97YYRfd0mhnoABHG1FkjiRPVbKUUHQqT7KXolpDfFdyOHk6WEtFuZha0/feN8TSF4/m3gGabKkgM8cAKubSMX0kXSS3L/vQ2N83kqfnJvp7ph2JwIoUbX6hE9r8WrDUaE8apmxPs47eTdv/yaHkZmemk8diRf7tQ3ZuoWn7NPkiuXY3JRiPpV230vZycoAjmcGM7D0jte+LLpI87aXfNsB3cf4uB9QU6jaKuo91IXfPreT+90zqY64gKLrQ/BNyfmR64SuZjJVHSWex6ae1qDr4U7TWPsPbCBXrWqLF62kfS1eB7h/fjAVBMQjcuhxOTr9i6Y6zSDUGYr1O4HxCyT0cr9gq1kP3mXMwzlIh3vhhybil2KPSvzNTboxqfAD7sZ3kd6xkafDAdwNWtZqGRaP6o1evfhj+429wndUe6hMb4eF3V54vPw9wZtNKrKr6Gbq3fi3t6TcVTdCwhc4g6PdPYd2C/6AO3IKlTk5wWuqJs6kvigzui2Pn4+SZyiDO32Xfg1NwXfUuflo0Gna9esNu+Gz87ToJjdXecPIIQKw8GysYB5mMlUOpYQHwCn4dbevXRu7P1nmMiHOBiP1sGCZPmoAJE8Q0aSl23yeQagE6VC/Lh74ImE26YOrSb2Epvb20AuPn7kFkinTxp6hehmWHrrC8E49HcgorKRqxjZtiRp/GECFfGqMaaPVJZ9SDGrEP9egbnhoJf68AiAwOkzweHpUScQ67Yz/CsMmT0/L3hOlYuvsqiALwS4dCdhAqVZy/yzp69ALendELTV9Mf0RtBVRv9TH61RPnMLEPUbxTgucLB5mMlUP0WI0YUZ3cjHsoqvR8HL2E60nFqbz0o0mIw035tWFURO1OP+DPWbbitRpXVi7Awp3XitVz9oW3msLm0QM8lN+zklIRdTr0QccsjxYlJD1Si8q5MVpb6jF6ASVBHRMLkcGR/0X3EFy8Xgp7VPMQcTcNGb5x/i7LjOrYYEjHN9KuoKdLeoQHScZo19oCteUkVjAOMhkrhyrUNkULEWaeOHYBt3KNIavApP47wLVNWLtfJTX+kiUiwuNHuAQ+kN8XjyYmEF4ef2LODBfs06b8g2U/OWOd5z8IjNF7NMPcGdVCu3GzMaul1B03ECunOGNnZDE6JlU2RZNGleU3rHTdR8DeA6g6oB86W+oxzlaF12Daoh5wwh/nb+UeelU0qY+28MWva4/hdkYGJ6REbMZ3LoGGudqkiUGglztc58zBz/ukRxyEYduyX+C8biu8AmPyP8EryFPN30m4E7gBU+f8g5iSPwctWx6dwR8/FLYTmgYPAg5gXdUvMLqzOaQGSkxPcttMxthTIXVe6CqVdWTc5086l5AqpxdAE027HBoTFJ/QzF2XKUGTQgnn/6I+Usefro7kHRxJCbd2kYOxeG8+gOZvPUT+/kdo14qJZD/7EN0xdMefEpNC8f5L6GNpvaAgcwdPup5c1Gb3qfQ44eFz1zFCk3CNTv67gZwn2ZG1oij7OpUSAhaTjRTBGX9JK87Fyen6Sw1zo57mDuQeLnVC00cy3do1loxhSrYzd1FYQopYjyBa2UfqfNOLHL2DKDLhetoxACuym7+ZjvifoqO7fqdx9r/QkTuG7vhTUp5G/k4k1YF51PP7XXSjyL9VlhWcXzUJAeTSfzS5no/TrxNP6mVy69mGhrhf4Y5VhcRBJmNPjahgTvxCbRSm1L53D2qpUFKb+b4Ur2e5r0k4Rx6Te4hKVKqgLKn77Gn0lZUt2U92JvejYWmBZ8hmmtzVUnwu5lG0o5ErfEklVSypKgrY/gdNsjUVnzUne8f15OkTKsLOMkhzj/wde5BCu57Naaj7ZXoif8QKEk+hPtvJ3dmBrLXbr/BBpibel+a3UZKifU/q3VL8W4ge4lrJEeTpMJAcA+4XrleuJo5CPKZRVzOFWG4FmXWfRDO/siEb+ynk7H6MwrWBp+4xoKSWI/+gE6pE8cdJpArYSX9P6iLyjQje7BfRJs9DFKrvSVxpKtX8nRbUduq0hPwLsw/LEf3yq4aSr3uSQ+tx5Hm9oBOfRIr2/J66OJ4SZaqcxPTGQSZjT0mq6h8a39Ka7BwPicDvMal8fqHuZjY03jtKnIuzLB4H04ru9UQlLCpi46HkdvWh/AHTS1GHmEqNIu/xNmRut4SOqB5TsuoAze9uRS3H/0MqfTKpCBTP/TGN5hyI4itA+Sml/J021FEXmu9379kchqdQ+fUxXXcfScoerhT6JK+tIU7Uz62m7+fsSzs5Z4XGQSZjT0PyFXIf2ofGuZ/TOTuWrjy607iuYwpxW/F5oaHHl1aTnXT7X1TExv3X09U8KwaWQ5GCzMcU7j6Guo5zp5CEzCtB0tVD93F9aGhBtw5FgHnedQbN9o7UmU9DyTcC6GSEdLWRZSqF/K25TUdn2ZKipxuFPZNnsUXIr/E+NElpTv3dQnO5eiw1QVpL38/2zhpgJkeR78nrfCFAT0bS/0SmZoyxMu4RwtaNRkv71YiFOfq77cbaQRaoJH/K8hGzDYNNesMNI+GpWo5eWXp+l4QkxPg44stx0eg5pxPeTO+mSw9w8Z+7aL9kPD4s08NoPQ0lm79JtQ3DG4/GDaeD+HeYJff61bqLg5O7oOOx/gg4MB7WVTMyKlJiDmDul/Nwq+codHozfTAuDdQXjyO6/QxM+1CPURIy3MExp1n4+7oNpi+1g8Vz1HOIg0zGSpWofAMP4mjwYzT4vAesjTNLG1KH4/hhf1yOqY2Ph9vClGuBnFIisG1MH/ReGQgYD4Wb/3IMMtOjt3IhUGIMzvn5ISDwNE5ffQXdJo9Ft7fTfoMS7+Dq5XuoUr8BTBVFD9RIfRX71/+Nv//eg0ftuqPB1Z3Y/eh/GDtnKka1fyNt7NOUu7h80g++R/Zg/erL+NR9PXrd24K5M3/BGv8YKFqOwe+r52Jgo1eyDrWSosJJNxfM+/kg8H5dPLyYivf7meHsxF/xb1GCTErE3SvBCAwKQWjkfeQ/ZkB1NOndF03DnfFlzzk4pJaTMyhg5XgIpya0APfzz0WJ5e9EXF5lj3eGx2Ce325M/+AVOT1TaeT7EpMSg8C9RxH8sAE+72MN44wDIhXqiNM4fPoiYmp9hOEd6mYLrpMR5TESdfudxSQf74zxVTUx+zHjy+FYeEh67G42Vo4IOPUDrCtnOeoKEIVtg23R+7gDAi5NgHWRN6EGiTHn4RdwDqGhobgUch2xmpfxdp8fML2bWdk84ZaCTMZYKdH2UqyXyy2rVIo/OocsoaDG804QtzjMi9xgX3rEmyi+FN3/oPOPDXlbMZlu7Xaixf636Z7PDLE/jKmN8xlKkn5XdYgc7azE71rTqF2RIqWIUq+R5zCpV3Qfcg2Vm0XI+QLoSs5BUverFIoN2kNuGR12LKm3fX/q7uBEblu30Np5A7SPaYTxD+R9T6dTg/Q4xwFWZGz3F51Lv2WYHEnek6VRBAp7uzyFEsL20tJRE8nlQAjdeSwybPI9uuT+vdguabd1c0w6j3RkRVFC+Tv1Irl2UorvzGv/l0K+L0Ha0QsU9ain2+Vst7Hv0tGZ7cSy29A8v1g5Lau0EQhAykk+FC+nGZ78WFIzRwoo4uGhSbhC3ktHUEvjNjTEcSudCFVRQjloJ8pBJmOlSKMdVii9ANeVQEHO0lBGjclhV3ThC/KMNnf6ToXvZVx2iArRe7Ic6NSj7iuCqSRasKbtK/lZ7/HBtMFlN4U9TCDVleji9TLN2FdDyT0yvSVY+nBSSurkejGzokwOIEczaV5zslsZlPm7if7kaCUFItY0yeeOnKimS65fkjE+JseArNVlSsgKaleo/S61R1tDQyztyCUoNmt+fBJCrj1EQGw5hXZdvUEqlSpzupOQs92bIXD+Lp573jRWau9pOpuOqvPPvCWW70tM+nBX6SdoOpLOkHMb43xPfjThbtRD2tbtVlBI9k7oBlO8IFOTEEyuQ5oTzL8i16C7JXOMlRC+IcdYqdEgITQQh2MboWNz08xH7kmSIxF4MARQtIJN01pZb3/qw7g5Rmz3hKenntP2gWiuc6u+fJGeljIWv02xEa+vYefEBVgTkuO+bLEZ1WoEmy5miPXdB7f1wag/sAvqV1VA2eANKAq9g3TU6YjJHo6YtXIo2ue4bR2DsPu5PcXpDbRoYZb5u5VfR30r6UH1cbgZ9zgt7b4vVkzYgFizTrC1qp6WJqtgXBv15df6oDvH4DRmLkKH/4DhVq9mzY+VaqPeO68B0bfxsFJNKJXKzKmmIu1Wv6Fx/k77qIg0d2/govTA7RcVqFrAbd4Sy/clJh6hpwMRa9kSzeXb+2kIydf+w8GzsVB0aY2mtXLPmUZVXoa28UBYJG4+LNbw+iWDVNg3ywHD14jT0rkTMcjqtZI5xkqKHGwyxkqcfLUyl7NqzXV36i8NyNzGhYKSyuTlgjJHc/8wzWppTNIYipYzj5TAra70q8ut6XvvG/lcXU6k656jybwotxOTb1PIXlea1NWKzMykdQGZOQZkXqnIuJJpQ44Buldp5CsjOgONp9/2g70nqbQpOgrVu1xN51f0JkVuV4a07pDPJGvxXTq3+5nBGTJ/Z+QNva6k6ZvviVKvb6Vh5sZkPmonqfLN+OlX6qU8qOeUWz7OjXy1UnvlNcsyJNF192EiH+d250hHkUZeyEfqdfJZ7kiOjrrTNLK3lq6odqWxv2T/bAsF5Tl+q4aehLpSD6luMP6K3M5FlewdgxLAVzIZKy2aGJw9FALF/6zRsKbuuWgK7pz1g7dagcaftoD5i2XyckEGIyOjIk2GZqRQokGDmkDL8fhtTBtkvXZnCFWgrN8AxniCSpVezOfqckVUMzHDu9YNUL/mS3JaASgel3c7YeinE7BD/R4m7PCFh4OV/GFRiDx0/SrC5HfF8uQKfNYdhLpxW7Qyf1lO1EEJuBMVBzRujoZvPpvdd3LLvwVNhlby+Tsv+uZ7sYzVTPDuu43wbv2a4q/y8xLesVuGgIAA/afp7VFL/uv8aKLP4dDZV/C/Nu+gpu7C0h2cPXwaaljh01b1st45KkmaO/hvyURMnKg7LYBbYCwQuwfOk7N/dgBheT6g/yEueG+Dl3QhO/Yv2DcxhYmJCUxqVUMlKd9VGw6PyGI+vreEcZDJWCmhu6E4cSQeTW2b4M0sR54a4cHBiEU9tLOqK4rjIkiMwLEd27Btm56TCGoiEqULBoUnTk6LNBkU3UeA8yR8s6sZXP76HrZ53AorlsQL2H0gCk0U4fA9H51Pr+oKMP5gHLwC3DHhg5oFN3VIiYbPnP6w7h+CDiv/wLRezWDQxT8eDlXuj/vWC90MxcmzokI0eR01quRcG4oNx5kz92HZtRUsXjJ8cJWrUszfktzyb0GTQRk4f1eobYoW8usC6Z3vRZBp3BoTvI7Ba0JrnR7duakAhWljWFtb6z9Z1NTjtnAK7l4IxBF1I9g2VWYNaB5HItj3GmBsBav6CjkxH/XqwqSGAZpYVLTGhKvZ80ckPO3NADNHBCRn/2xl3qM9iJPRqIvXxQsz2LkGQKW6i4RkTebfJrjCrm6phc9FIxaUMVbiUuRem7l07ElvnK4YRu7X87ypk7/nqmNEIt3YNVFsyxJ8BJ/0qD8XJ9p+5YR23+Q+gLWawo9uJdels2hM9/bU3z1Cj1vlyRSzayzVk/ZBltuBmbcTi327HD1oRUi28QkKcUswNdSVOknzdnKl0BzrLOdjxQByDS3FMRA4fxeP+ijNNBXbJftoBNnple819Dj8GHm4LqGZY3qSdX93iiw445cMzS3ymdwmlyZIGkoKcqE2Ii8oxPJdz2f5UoKcqbmUZ3q4UXiJrUcRO/5kjAqg28GvfOErmYyVigRc9vPFJdxD+O0EbU2oJc5UQ9b/juUnYoGmzWBZpxLoYTziUzLm0I+yF9ZmOTsuaMrn7LlMIyRe3orp49ej2pRF+KWveQmMDZeKB/9543SzL9Gjwbto9akV1AcOwz/6ifYq5OF9IXikne9lvP3hJ/igcjCW7TRG+ya19eiwlYgbl4JxTXp59QZuP5H3Mz1G/N2Haa+LqKJ5KwywlK7YHMUq1yOI0bkDp0mIw035dUFeqNMA70vfo7qF+9muBtKDAKz62RddNi2EvYVhxyfNF+fv4nnZAm17WQGx9xGXZ+cWffO9Eaq83Q69P6iCQ8uO4KX2jWBSShe0c3gcBr89Z8V6qXA7LvPyPanPYf3S1TgBYzT94B3UMUrFw7gHyHmBX2zvB/dxV8zXrktz1H1a65GXF+qgYft3xIt7CL12G8lpqfmTmuLsWYU/91yCupDVSEngIJOx0vDkGk7/EwyFWVWErXfHnpBIxESdh8/yxfDS1EMzKTZQvIyXKsTiP6/juFUGCoeyiGKPY7HDVGx9dwb+mm6LWgarFB4hYvfPGDdlGTz/9YDruXcwsF0dUZ0qUN/KCsbqg9i4eRf+dTuKis3fQWZ4lYCoSyJkNG2GRm/p09ChCt6wtEI96eUJVyx0XAvPdb9h1rDvse5G2t/fP+2NzW6/YUPgA1HvJyMpVZucleYh4m5KVX4qkpJT005aqrfBd39MgY0iFv6LR2LA+BXYfewUTvpsxMJZLtgnzYOd+HnKTPy691ouPdhl1Zuh96iPoDi/GztO3sk4ISJ1CDbOXo2ksX9ibte65auHazlRcvn7NTT/yEaEUpcQci1BTpMUNd+nIj7qKkJgCdtGJng6/fgJT64E4J/zlWBmJoLK9XsREqVC1IX9WD7vH2gaWoq1qAKFogoqPAiC1+GbGXk50xPcvnYVUWiDPq3rPaX1yM8rsO7vgKHmd+H1sxNW+FzA3cT0IzcF6nvxyHoeSHh06nf07jYcI7uNgvOpODn9KRJnfYyxEpbWe9yY2izaSnscB5K1QknWfWbR+oCblJwcRT7aNHOyGbKEfFT8XOdcJV+nXeNaE8zHkud1Q/dqfkhhW7+nlgpL6j7/QJZnFWvunyDH7o3JrPsc2h4al/WWuHwb0nisN92TkwqUHE1HnEeI35LqPHOydXAh77B4Sgx1owHaQbityM7xAIWeP5A56DoUZN5nJv3tHUrxqlO0Yem3ZKP9e5DC5ltauuEUqbS3NRPpdsAGmtmnJYnzFvG5kloOWUreR/4ie2s7muTsTgcCrhc83mHyLQrydCKH7v1p7LxF5DhvFs1y2U4Bqod6NAlgRVKi+Vt4eILmNVZm62ldxHwvcvvRmWJZC7r9XqLSe49/Qot2epKjncjzipbUZ+YGCridSMkqn7Q0M1sa4uiT9fnj6TTRtMuhMRkP9aQbJZqxizNOZio9jvQjd8ex1N1aunWeVm7Y9BlKY50O5ejVr7l9mBaI/WZu9xv5339a+yYTB5mMlbj0wYKLONA6EyVnHJ1bOZCMFZ/Q7CMxZWYbpg1ybko93K7wfmVFVyr5+yFddRtKxq2dKOBhMX8h5RytaGdcwu0YCyAHiPkNtF4QzQ1PGmpsS7OO3ubjt4Tw7XLGSpw8WHBRB1p/7qXgzrHf8N0EX3y4YC4mfCjdzisLkhAZ6AtfWKJdw9pIjY/HQ+k6A2OFUlr5uyrM+k2Bc7192HAsRnsZvKgo8gy8fZNh1e5dmKQ+QNzD3Np0lLCEMJw+fC3fgdbzp8aFnZ64NGY2xrXjcrmkcJDJWEl7dBlHtwdldOxhhUFIidyJWSOcED3wVywb9V6xnzpCER6Ysy1KflccCYg4fwkwbY3m1f2xwu0/PEjlKJMVRinn70rm6P/zSDz+yRl7VElyYmFpkBBxEafRBN2bV8LxFZvx34NijJlVJIRHF45j+6VKcsceOVlvqVAHu2H69pZw+aFdAcMvseLgIJOxEiUKw7OH4X4e5WKg9bKG1P9hxZgfsP7NCfj7p+6oW7G42y8VsZevArVyGWS80F7Ea2+YQhG1GS5bgC9G2UBZ7OVjz5PSz99GqFi3Bxz/bIht45fhaExRAk3xHa8p0VhxDhtd9oqMPwgdlKU9KH88zvrsw/kiDbQuAsxQD0yaE4sxa0ahRfXy+vjR8oGDTMZKVHphWIyB1p9XFIND8yfgu4MtsWDJN/jQICOWxyPkeAgUVQ0xgHF1WH23HQl0EV7TOnKAyQrnqeXvClA0ssefS1ogcOMx3C70xXcjVLUag30JCbjqNekpBJjCo4vwcQ/Qf6B1XU9CsH1zJYxeNwUdn8ayP2eMpIaZ8mvGGCskDRLj7iI28UUYv/4q0h4QI6XdR2KVGni1SlHPYx8h3GMCuvQ7jY6eW7Cs19uGGTLnkR/mvz8dldfsxATrQlZO7LlEiXG4FfsEVYxrZuRnKe12YhXUfrVKEdvycf5mzwe+kskYKzxSI+qsLzxndUMt49dhMWoXVOJ0ldTnsXlKLzQ2rgXjpt9g3WXpobuFlYoHAX/CYcRuvDnbCT99bqAKWHzv/WPb8dv5yniRrzqyfKVCHXUefp6z0bGWMZQWP2CXKllk8Hhc2DwdnzU2RR3jNhi27gIS5b/QH+dv9vzgIJMxVnhGCpg2bYWWjZTiTT10/Mwabz46j62bo9Fsihv+ce0DXDmAf89kDuatH0KK6l/MHjQTAV1nwWXCh4YbkPpRMNb/6o4YvIU3a/NtMpaftGdtf9CyIeqId4qOtnj/zccI2bobEc1+wLZ/nNEJZ7D133OFvN3M+Zs9XzjIZIwVDd3B2cOnoVa0QfdWGhw/+gI+GdoFFq9qcD/mjpjBFI3eMi7c7cTEi9g0fRaWpg7H34sGorHCQI3yU6Lh88sMTN9viF7l7PmQgjtn/eCtFidR3ZuCjv8Ho0/6oauFMVLu34IKCtRrVBc1C5PBOX+z5wwHmYyxonkciWDfa0CTukB0Iiw7vZs2/EqyChf8RbplO7S2qJY2rz7oLvwWT8I3W00wf+0MfF63ivxBMVAiYiP8sG7iMPT86V8U5eY9e16pER4cjFiYowluI86yLRpqg8LHiL5wHtfQFF1bm+nfmY/zN3sOcZDJGCuC9OcGA+ZvvoYGVlYZvasp5hwO+FyDsc37aGys75WaJKj2LMKw6XugVu/B9Da18IKREYyKO73wEmrUbwP7pfszK2DTOqjFw5awgjy5htP/BIsMXhNVGzRDq/SeyHQLZw6cgtq4Jdo1rqHnlXrO3+z5xEEmY6wIniD67GmchTHqteuAFsr0QebTbzGaoYtNIz3bm6VCfX4dxts74pKcUqJeVKBq5cLc42TPI030ORw6GwtFvdb4tIUyI5ikOyE47B1WiCfNcP5mzy8ewogxVngUAY8vP0a/Xf+De8gK2NWVx+Wj2zg49XN0/M0ya3p+KB6XDx/B+dhSempIhbfQ+jNrKPkUm+XpCSI9RqFRvyP4zH0/Nti9LQeZqbh/cA7adtyE5lnS88H5mz3HOMhkjBUa3d6Nbyw/w/ou7gjZYIe66TWtdpy+TphRfQGCDjnA5PQ/OG/2KWwzrnQyVg7QDez+pgs+W98q28lSHE7O/xytZ7wM5yB3jDE5B/fzddHP9o3CdXBj7DnB5zqMsUIiPA4/B9/Yeuj4URModWpXuhuJkGtqKFsqYRS4A3uSrfEhB5isvJE7tSk6tkVz3fxLsbgeEgUoLfCGURA27XkCmw9NOMBkLA8cZDLGCukhrpw+jvNohA7WdZElhKxWF+91sETCib04nNwGA23fNNBA04yVlvRObZXQtMN7qFdJN4Sshrfeew9mCaew+3AqbAe258eJMpYPvl3OGHsGEVLuBMLj13lYUnMmTk6w5mCXPVtSbiHQwxmzl9TAjycnwJozOCuD+EomY6zs0VzDtuHvwchiPHbHJMuJeqKbOOr0A8ZPmI4xv3ghTk5mrOxIQuS2MbAwaoFvdkeJU6LCSMGdoy74ZvwkzByzEHs4g7MyjINMxljZY6SAybsWsH63LmpWKWQxZVQH7ScshsvPI/GZnMRY2VIR1UzM8K51A9Svqfdw7rKKqNX+O/zuMg8jPjOT0xgrmzjIZIyVPUY18cEEdwR4jcMHeg/ozlh5UQHGH4yDV4A7JnxQkzsOsWcWB5mMsbIjMQLHNq+C86zR6NHia3hEFfJWOWNl2kNEHPPEKufZ+K7H/zDA41ohb5UzVr5wkMkYKzuqvI0Pe7dC5UMbsfOl99DEROq7noKYbQ65P1ZPZ2rgFCjmZKwsexlvf/gJPqgcjGU7jdG+SW0Ycf5mzzAOMhljZUv8DVwKiYWpbSO8pb1TXhHKXishDYSR33SVe5CzciEBUZeuAabN0OgtqT0m52/27OIgkzFWhhAehvhhW6wVerW1wMtyKmPPjIeXcXxbMIx7tUajl7k1Jnu2cZDJGCtDHuN6SBCi0BjWFq/KaYw9O1Kvh+BQlCnaW5vBWE5j7FnFQSZjrOwgFQK9/wOsmqGhCRAf90gaVp3brLFnRBIiA33hC0u0a1gbqfHxeEicv9mzi4NMxljZkRCJ86ejYNq9KaofXwe3/+4jldussWdGAiLOXwJMW6N5dX+scPsPD1IrcP5mzywOMhljZUfFV/FGY1NEbfwTW9AFozoU5dnnD3D54A5sWrUZu8S7+8e8sNHzHwTGPEn7mLGn5kW89oYpFFGb4bIF+GKUTRGefa6B+vJhbNvkBvddYSKDH4fXxq3wCowRnzBWtvCzyxljjDHGmMHxlUzGGGOMMWZwHGQyxhhjjDGD4yCTMcYYY4wZHAeZjDHGGGPM4DjIZIwxxhhjBsdBJmOMMcYYMzgOMhljjDHGmIEB/wdFX5VAp5WjJwAAAABJRU5ErkJggg==)"
      ],
      "metadata": {
        "id": "k3gTriQC7zKf"
      }
    },
    {
      "cell_type": "markdown",
      "source": [
        "## **Batch Normalization during Prediction**\n",
        "\n",
        "**Batch normalization** behaves differently during **training** and **prediction**:\n",
        "\n",
        "- Training Mode: It uses minibatch statistics (mean and variance) for normalization, introducing noise due to sample variability.\n",
        "   \n",
        "- Prediction Mode: Once trained, stable estimates of the statistics are computed from the entire dataset and fixed for use during inference, eliminating the noise.\n",
        "\n",
        "This distinction is similar to how **dropout** operates, where it is active during training but not during inference."
      ],
      "metadata": {
        "id": "MVgjGeWl8FVP"
      }
    },
    {
      "cell_type": "code",
      "source": [],
      "metadata": {
        "id": "6JNRqAGJ8TCY"
      },
      "execution_count": null,
      "outputs": []
    }
  ]
}