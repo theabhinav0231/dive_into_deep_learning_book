{
  "nbformat": 4,
  "nbformat_minor": 0,
  "metadata": {
    "colab": {
      "provenance": [],
      "authorship_tag": "ABX9TyPFX52k/dQ5mboNoqkFdfjX",
      "include_colab_link": true
    },
    "kernelspec": {
      "name": "python3",
      "display_name": "Python 3"
    },
    "language_info": {
      "name": "python"
    }
  },
  "cells": [
    {
      "cell_type": "markdown",
      "metadata": {
        "id": "view-in-github",
        "colab_type": "text"
      },
      "source": [
        "<a href=\"https://colab.research.google.com/github/theabhinav0231/dive_into_deep_learning_book/blob/main/08_4_GoogLeNet.ipynb\" target=\"_parent\"><img src=\"https://colab.research.google.com/assets/colab-badge.svg\" alt=\"Open In Colab\"/></a>"
      ]
    },
    {
      "cell_type": "code",
      "execution_count": 1,
      "metadata": {
        "colab": {
          "base_uri": "https://localhost:8080/",
          "height": 1000
        },
        "id": "kh2JauPMLADi",
        "outputId": "fc6ba46f-d59d-4d6f-efee-ae791c387d56"
      },
      "outputs": [
        {
          "output_type": "stream",
          "name": "stdout",
          "text": [
            "Collecting d2l\n",
            "  Downloading d2l-1.0.3-py3-none-any.whl.metadata (556 bytes)\n",
            "Collecting jupyter==1.0.0 (from d2l)\n",
            "  Downloading jupyter-1.0.0-py2.py3-none-any.whl.metadata (995 bytes)\n",
            "Collecting numpy==1.23.5 (from d2l)\n",
            "  Downloading numpy-1.23.5-cp310-cp310-manylinux_2_17_x86_64.manylinux2014_x86_64.whl.metadata (2.3 kB)\n",
            "Collecting matplotlib==3.7.2 (from d2l)\n",
            "  Downloading matplotlib-3.7.2-cp310-cp310-manylinux_2_17_x86_64.manylinux2014_x86_64.whl.metadata (5.6 kB)\n",
            "Collecting matplotlib-inline==0.1.6 (from d2l)\n",
            "  Downloading matplotlib_inline-0.1.6-py3-none-any.whl.metadata (2.8 kB)\n",
            "Collecting requests==2.31.0 (from d2l)\n",
            "  Downloading requests-2.31.0-py3-none-any.whl.metadata (4.6 kB)\n",
            "Collecting pandas==2.0.3 (from d2l)\n",
            "  Downloading pandas-2.0.3-cp310-cp310-manylinux_2_17_x86_64.manylinux2014_x86_64.whl.metadata (18 kB)\n",
            "Collecting scipy==1.10.1 (from d2l)\n",
            "  Downloading scipy-1.10.1-cp310-cp310-manylinux_2_17_x86_64.manylinux2014_x86_64.whl.metadata (58 kB)\n",
            "\u001b[2K     \u001b[90m━━━━━━━━━━━━━━━━━━━━━━━━━━━━━━━━━━━━━━━━\u001b[0m \u001b[32m58.9/58.9 kB\u001b[0m \u001b[31m3.2 MB/s\u001b[0m eta \u001b[36m0:00:00\u001b[0m\n",
            "\u001b[?25hRequirement already satisfied: notebook in /usr/local/lib/python3.10/dist-packages (from jupyter==1.0.0->d2l) (6.5.5)\n",
            "Collecting qtconsole (from jupyter==1.0.0->d2l)\n",
            "  Downloading qtconsole-5.6.1-py3-none-any.whl.metadata (5.0 kB)\n",
            "Requirement already satisfied: jupyter-console in /usr/local/lib/python3.10/dist-packages (from jupyter==1.0.0->d2l) (6.1.0)\n",
            "Requirement already satisfied: nbconvert in /usr/local/lib/python3.10/dist-packages (from jupyter==1.0.0->d2l) (7.16.4)\n",
            "Requirement already satisfied: ipykernel in /usr/local/lib/python3.10/dist-packages (from jupyter==1.0.0->d2l) (5.5.6)\n",
            "Requirement already satisfied: ipywidgets in /usr/local/lib/python3.10/dist-packages (from jupyter==1.0.0->d2l) (7.7.1)\n",
            "Requirement already satisfied: contourpy>=1.0.1 in /usr/local/lib/python3.10/dist-packages (from matplotlib==3.7.2->d2l) (1.3.1)\n",
            "Requirement already satisfied: cycler>=0.10 in /usr/local/lib/python3.10/dist-packages (from matplotlib==3.7.2->d2l) (0.12.1)\n",
            "Requirement already satisfied: fonttools>=4.22.0 in /usr/local/lib/python3.10/dist-packages (from matplotlib==3.7.2->d2l) (4.55.3)\n",
            "Requirement already satisfied: kiwisolver>=1.0.1 in /usr/local/lib/python3.10/dist-packages (from matplotlib==3.7.2->d2l) (1.4.7)\n",
            "Requirement already satisfied: packaging>=20.0 in /usr/local/lib/python3.10/dist-packages (from matplotlib==3.7.2->d2l) (24.2)\n",
            "Requirement already satisfied: pillow>=6.2.0 in /usr/local/lib/python3.10/dist-packages (from matplotlib==3.7.2->d2l) (11.0.0)\n",
            "Collecting pyparsing<3.1,>=2.3.1 (from matplotlib==3.7.2->d2l)\n",
            "  Downloading pyparsing-3.0.9-py3-none-any.whl.metadata (4.2 kB)\n",
            "Requirement already satisfied: python-dateutil>=2.7 in /usr/local/lib/python3.10/dist-packages (from matplotlib==3.7.2->d2l) (2.8.2)\n",
            "Requirement already satisfied: traitlets in /usr/local/lib/python3.10/dist-packages (from matplotlib-inline==0.1.6->d2l) (5.7.1)\n",
            "Requirement already satisfied: pytz>=2020.1 in /usr/local/lib/python3.10/dist-packages (from pandas==2.0.3->d2l) (2024.2)\n",
            "Requirement already satisfied: tzdata>=2022.1 in /usr/local/lib/python3.10/dist-packages (from pandas==2.0.3->d2l) (2024.2)\n",
            "Requirement already satisfied: charset-normalizer<4,>=2 in /usr/local/lib/python3.10/dist-packages (from requests==2.31.0->d2l) (3.4.0)\n",
            "Requirement already satisfied: idna<4,>=2.5 in /usr/local/lib/python3.10/dist-packages (from requests==2.31.0->d2l) (3.10)\n",
            "Requirement already satisfied: urllib3<3,>=1.21.1 in /usr/local/lib/python3.10/dist-packages (from requests==2.31.0->d2l) (2.2.3)\n",
            "Requirement already satisfied: certifi>=2017.4.17 in /usr/local/lib/python3.10/dist-packages (from requests==2.31.0->d2l) (2024.12.14)\n",
            "Requirement already satisfied: six>=1.5 in /usr/local/lib/python3.10/dist-packages (from python-dateutil>=2.7->matplotlib==3.7.2->d2l) (1.17.0)\n",
            "Requirement already satisfied: ipython-genutils in /usr/local/lib/python3.10/dist-packages (from ipykernel->jupyter==1.0.0->d2l) (0.2.0)\n",
            "Requirement already satisfied: ipython>=5.0.0 in /usr/local/lib/python3.10/dist-packages (from ipykernel->jupyter==1.0.0->d2l) (7.34.0)\n",
            "Requirement already satisfied: jupyter-client in /usr/local/lib/python3.10/dist-packages (from ipykernel->jupyter==1.0.0->d2l) (6.1.12)\n",
            "Requirement already satisfied: tornado>=4.2 in /usr/local/lib/python3.10/dist-packages (from ipykernel->jupyter==1.0.0->d2l) (6.3.3)\n",
            "Requirement already satisfied: widgetsnbextension~=3.6.0 in /usr/local/lib/python3.10/dist-packages (from ipywidgets->jupyter==1.0.0->d2l) (3.6.10)\n",
            "Requirement already satisfied: jupyterlab-widgets>=1.0.0 in /usr/local/lib/python3.10/dist-packages (from ipywidgets->jupyter==1.0.0->d2l) (3.0.13)\n",
            "Requirement already satisfied: prompt-toolkit!=3.0.0,!=3.0.1,<3.1.0,>=2.0.0 in /usr/local/lib/python3.10/dist-packages (from jupyter-console->jupyter==1.0.0->d2l) (3.0.48)\n",
            "Requirement already satisfied: pygments in /usr/local/lib/python3.10/dist-packages (from jupyter-console->jupyter==1.0.0->d2l) (2.18.0)\n",
            "Requirement already satisfied: beautifulsoup4 in /usr/local/lib/python3.10/dist-packages (from nbconvert->jupyter==1.0.0->d2l) (4.12.3)\n",
            "Requirement already satisfied: bleach!=5.0.0 in /usr/local/lib/python3.10/dist-packages (from nbconvert->jupyter==1.0.0->d2l) (6.2.0)\n",
            "Requirement already satisfied: defusedxml in /usr/local/lib/python3.10/dist-packages (from nbconvert->jupyter==1.0.0->d2l) (0.7.1)\n",
            "Requirement already satisfied: jinja2>=3.0 in /usr/local/lib/python3.10/dist-packages (from nbconvert->jupyter==1.0.0->d2l) (3.1.4)\n",
            "Requirement already satisfied: jupyter-core>=4.7 in /usr/local/lib/python3.10/dist-packages (from nbconvert->jupyter==1.0.0->d2l) (5.7.2)\n",
            "Requirement already satisfied: jupyterlab-pygments in /usr/local/lib/python3.10/dist-packages (from nbconvert->jupyter==1.0.0->d2l) (0.3.0)\n",
            "Requirement already satisfied: markupsafe>=2.0 in /usr/local/lib/python3.10/dist-packages (from nbconvert->jupyter==1.0.0->d2l) (3.0.2)\n",
            "Requirement already satisfied: mistune<4,>=2.0.3 in /usr/local/lib/python3.10/dist-packages (from nbconvert->jupyter==1.0.0->d2l) (3.0.2)\n",
            "Requirement already satisfied: nbclient>=0.5.0 in /usr/local/lib/python3.10/dist-packages (from nbconvert->jupyter==1.0.0->d2l) (0.10.1)\n",
            "Requirement already satisfied: nbformat>=5.7 in /usr/local/lib/python3.10/dist-packages (from nbconvert->jupyter==1.0.0->d2l) (5.10.4)\n",
            "Requirement already satisfied: pandocfilters>=1.4.1 in /usr/local/lib/python3.10/dist-packages (from nbconvert->jupyter==1.0.0->d2l) (1.5.1)\n",
            "Requirement already satisfied: tinycss2 in /usr/local/lib/python3.10/dist-packages (from nbconvert->jupyter==1.0.0->d2l) (1.4.0)\n",
            "Requirement already satisfied: pyzmq<25,>=17 in /usr/local/lib/python3.10/dist-packages (from notebook->jupyter==1.0.0->d2l) (24.0.1)\n",
            "Requirement already satisfied: argon2-cffi in /usr/local/lib/python3.10/dist-packages (from notebook->jupyter==1.0.0->d2l) (23.1.0)\n",
            "Requirement already satisfied: nest-asyncio>=1.5 in /usr/local/lib/python3.10/dist-packages (from notebook->jupyter==1.0.0->d2l) (1.6.0)\n",
            "Requirement already satisfied: Send2Trash>=1.8.0 in /usr/local/lib/python3.10/dist-packages (from notebook->jupyter==1.0.0->d2l) (1.8.3)\n",
            "Requirement already satisfied: terminado>=0.8.3 in /usr/local/lib/python3.10/dist-packages (from notebook->jupyter==1.0.0->d2l) (0.18.1)\n",
            "Requirement already satisfied: prometheus-client in /usr/local/lib/python3.10/dist-packages (from notebook->jupyter==1.0.0->d2l) (0.21.1)\n",
            "Requirement already satisfied: nbclassic>=0.4.7 in /usr/local/lib/python3.10/dist-packages (from notebook->jupyter==1.0.0->d2l) (1.1.0)\n",
            "Collecting qtpy>=2.4.0 (from qtconsole->jupyter==1.0.0->d2l)\n",
            "  Downloading QtPy-2.4.2-py3-none-any.whl.metadata (12 kB)\n",
            "Requirement already satisfied: webencodings in /usr/local/lib/python3.10/dist-packages (from bleach!=5.0.0->nbconvert->jupyter==1.0.0->d2l) (0.5.1)\n",
            "Requirement already satisfied: setuptools>=18.5 in /usr/local/lib/python3.10/dist-packages (from ipython>=5.0.0->ipykernel->jupyter==1.0.0->d2l) (75.1.0)\n",
            "Collecting jedi>=0.16 (from ipython>=5.0.0->ipykernel->jupyter==1.0.0->d2l)\n",
            "  Downloading jedi-0.19.2-py2.py3-none-any.whl.metadata (22 kB)\n",
            "Requirement already satisfied: decorator in /usr/local/lib/python3.10/dist-packages (from ipython>=5.0.0->ipykernel->jupyter==1.0.0->d2l) (4.4.2)\n",
            "Requirement already satisfied: pickleshare in /usr/local/lib/python3.10/dist-packages (from ipython>=5.0.0->ipykernel->jupyter==1.0.0->d2l) (0.7.5)\n",
            "Requirement already satisfied: backcall in /usr/local/lib/python3.10/dist-packages (from ipython>=5.0.0->ipykernel->jupyter==1.0.0->d2l) (0.2.0)\n",
            "Requirement already satisfied: pexpect>4.3 in /usr/local/lib/python3.10/dist-packages (from ipython>=5.0.0->ipykernel->jupyter==1.0.0->d2l) (4.9.0)\n",
            "Requirement already satisfied: platformdirs>=2.5 in /usr/local/lib/python3.10/dist-packages (from jupyter-core>=4.7->nbconvert->jupyter==1.0.0->d2l) (4.3.6)\n",
            "Requirement already satisfied: notebook-shim>=0.2.3 in /usr/local/lib/python3.10/dist-packages (from nbclassic>=0.4.7->notebook->jupyter==1.0.0->d2l) (0.2.4)\n",
            "Requirement already satisfied: fastjsonschema>=2.15 in /usr/local/lib/python3.10/dist-packages (from nbformat>=5.7->nbconvert->jupyter==1.0.0->d2l) (2.21.1)\n",
            "Requirement already satisfied: jsonschema>=2.6 in /usr/local/lib/python3.10/dist-packages (from nbformat>=5.7->nbconvert->jupyter==1.0.0->d2l) (4.23.0)\n",
            "Requirement already satisfied: wcwidth in /usr/local/lib/python3.10/dist-packages (from prompt-toolkit!=3.0.0,!=3.0.1,<3.1.0,>=2.0.0->jupyter-console->jupyter==1.0.0->d2l) (0.2.13)\n",
            "Requirement already satisfied: ptyprocess in /usr/local/lib/python3.10/dist-packages (from terminado>=0.8.3->notebook->jupyter==1.0.0->d2l) (0.7.0)\n",
            "Requirement already satisfied: argon2-cffi-bindings in /usr/local/lib/python3.10/dist-packages (from argon2-cffi->notebook->jupyter==1.0.0->d2l) (21.2.0)\n",
            "Requirement already satisfied: soupsieve>1.2 in /usr/local/lib/python3.10/dist-packages (from beautifulsoup4->nbconvert->jupyter==1.0.0->d2l) (2.6)\n",
            "Requirement already satisfied: parso<0.9.0,>=0.8.4 in /usr/local/lib/python3.10/dist-packages (from jedi>=0.16->ipython>=5.0.0->ipykernel->jupyter==1.0.0->d2l) (0.8.4)\n",
            "Requirement already satisfied: attrs>=22.2.0 in /usr/local/lib/python3.10/dist-packages (from jsonschema>=2.6->nbformat>=5.7->nbconvert->jupyter==1.0.0->d2l) (24.3.0)\n",
            "Requirement already satisfied: jsonschema-specifications>=2023.03.6 in /usr/local/lib/python3.10/dist-packages (from jsonschema>=2.6->nbformat>=5.7->nbconvert->jupyter==1.0.0->d2l) (2024.10.1)\n",
            "Requirement already satisfied: referencing>=0.28.4 in /usr/local/lib/python3.10/dist-packages (from jsonschema>=2.6->nbformat>=5.7->nbconvert->jupyter==1.0.0->d2l) (0.35.1)\n",
            "Requirement already satisfied: rpds-py>=0.7.1 in /usr/local/lib/python3.10/dist-packages (from jsonschema>=2.6->nbformat>=5.7->nbconvert->jupyter==1.0.0->d2l) (0.22.3)\n",
            "Requirement already satisfied: jupyter-server<3,>=1.8 in /usr/local/lib/python3.10/dist-packages (from notebook-shim>=0.2.3->nbclassic>=0.4.7->notebook->jupyter==1.0.0->d2l) (1.24.0)\n",
            "Requirement already satisfied: cffi>=1.0.1 in /usr/local/lib/python3.10/dist-packages (from argon2-cffi-bindings->argon2-cffi->notebook->jupyter==1.0.0->d2l) (1.17.1)\n",
            "Requirement already satisfied: pycparser in /usr/local/lib/python3.10/dist-packages (from cffi>=1.0.1->argon2-cffi-bindings->argon2-cffi->notebook->jupyter==1.0.0->d2l) (2.22)\n",
            "Requirement already satisfied: anyio<4,>=3.1.0 in /usr/local/lib/python3.10/dist-packages (from jupyter-server<3,>=1.8->notebook-shim>=0.2.3->nbclassic>=0.4.7->notebook->jupyter==1.0.0->d2l) (3.7.1)\n",
            "Requirement already satisfied: websocket-client in /usr/local/lib/python3.10/dist-packages (from jupyter-server<3,>=1.8->notebook-shim>=0.2.3->nbclassic>=0.4.7->notebook->jupyter==1.0.0->d2l) (1.8.0)\n",
            "Requirement already satisfied: sniffio>=1.1 in /usr/local/lib/python3.10/dist-packages (from anyio<4,>=3.1.0->jupyter-server<3,>=1.8->notebook-shim>=0.2.3->nbclassic>=0.4.7->notebook->jupyter==1.0.0->d2l) (1.3.1)\n",
            "Requirement already satisfied: exceptiongroup in /usr/local/lib/python3.10/dist-packages (from anyio<4,>=3.1.0->jupyter-server<3,>=1.8->notebook-shim>=0.2.3->nbclassic>=0.4.7->notebook->jupyter==1.0.0->d2l) (1.2.2)\n",
            "Downloading d2l-1.0.3-py3-none-any.whl (111 kB)\n",
            "\u001b[2K   \u001b[90m━━━━━━━━━━━━━━━━━━━━━━━━━━━━━━━━━━━━━━━━\u001b[0m \u001b[32m111.7/111.7 kB\u001b[0m \u001b[31m4.9 MB/s\u001b[0m eta \u001b[36m0:00:00\u001b[0m\n",
            "\u001b[?25hDownloading jupyter-1.0.0-py2.py3-none-any.whl (2.7 kB)\n",
            "Downloading matplotlib-3.7.2-cp310-cp310-manylinux_2_17_x86_64.manylinux2014_x86_64.whl (11.6 MB)\n",
            "\u001b[2K   \u001b[90m━━━━━━━━━━━━━━━━━━━━━━━━━━━━━━━━━━━━━━━━\u001b[0m \u001b[32m11.6/11.6 MB\u001b[0m \u001b[31m80.8 MB/s\u001b[0m eta \u001b[36m0:00:00\u001b[0m\n",
            "\u001b[?25hDownloading matplotlib_inline-0.1.6-py3-none-any.whl (9.4 kB)\n",
            "Downloading numpy-1.23.5-cp310-cp310-manylinux_2_17_x86_64.manylinux2014_x86_64.whl (17.1 MB)\n",
            "\u001b[2K   \u001b[90m━━━━━━━━━━━━━━━━━━━━━━━━━━━━━━━━━━━━━━━━\u001b[0m \u001b[32m17.1/17.1 MB\u001b[0m \u001b[31m67.4 MB/s\u001b[0m eta \u001b[36m0:00:00\u001b[0m\n",
            "\u001b[?25hDownloading pandas-2.0.3-cp310-cp310-manylinux_2_17_x86_64.manylinux2014_x86_64.whl (12.3 MB)\n",
            "\u001b[2K   \u001b[90m━━━━━━━━━━━━━━━━━━━━━━━━━━━━━━━━━━━━━━━━\u001b[0m \u001b[32m12.3/12.3 MB\u001b[0m \u001b[31m78.6 MB/s\u001b[0m eta \u001b[36m0:00:00\u001b[0m\n",
            "\u001b[?25hDownloading requests-2.31.0-py3-none-any.whl (62 kB)\n",
            "\u001b[2K   \u001b[90m━━━━━━━━━━━━━━━━━━━━━━━━━━━━━━━━━━━━━━━━\u001b[0m \u001b[32m62.6/62.6 kB\u001b[0m \u001b[31m4.0 MB/s\u001b[0m eta \u001b[36m0:00:00\u001b[0m\n",
            "\u001b[?25hDownloading scipy-1.10.1-cp310-cp310-manylinux_2_17_x86_64.manylinux2014_x86_64.whl (34.4 MB)\n",
            "\u001b[2K   \u001b[90m━━━━━━━━━━━━━━━━━━━━━━━━━━━━━━━━━━━━━━━━\u001b[0m \u001b[32m34.4/34.4 MB\u001b[0m \u001b[31m17.3 MB/s\u001b[0m eta \u001b[36m0:00:00\u001b[0m\n",
            "\u001b[?25hDownloading pyparsing-3.0.9-py3-none-any.whl (98 kB)\n",
            "\u001b[2K   \u001b[90m━━━━━━━━━━━━━━━━━━━━━━━━━━━━━━━━━━━━━━━━\u001b[0m \u001b[32m98.3/98.3 kB\u001b[0m \u001b[31m5.1 MB/s\u001b[0m eta \u001b[36m0:00:00\u001b[0m\n",
            "\u001b[?25hDownloading qtconsole-5.6.1-py3-none-any.whl (125 kB)\n",
            "\u001b[2K   \u001b[90m━━━━━━━━━━━━━━━━━━━━━━━━━━━━━━━━━━━━━━━━\u001b[0m \u001b[32m125.0/125.0 kB\u001b[0m \u001b[31m6.3 MB/s\u001b[0m eta \u001b[36m0:00:00\u001b[0m\n",
            "\u001b[?25hDownloading QtPy-2.4.2-py3-none-any.whl (95 kB)\n",
            "\u001b[2K   \u001b[90m━━━━━━━━━━━━━━━━━━━━━━━━━━━━━━━━━━━━━━━━\u001b[0m \u001b[32m95.2/95.2 kB\u001b[0m \u001b[31m6.5 MB/s\u001b[0m eta \u001b[36m0:00:00\u001b[0m\n",
            "\u001b[?25hDownloading jedi-0.19.2-py2.py3-none-any.whl (1.6 MB)\n",
            "\u001b[2K   \u001b[90m━━━━━━━━━━━━━━━━━━━━━━━━━━━━━━━━━━━━━━━━\u001b[0m \u001b[32m1.6/1.6 MB\u001b[0m \u001b[31m44.0 MB/s\u001b[0m eta \u001b[36m0:00:00\u001b[0m\n",
            "\u001b[?25hInstalling collected packages: requests, qtpy, pyparsing, numpy, matplotlib-inline, jedi, scipy, pandas, matplotlib, qtconsole, jupyter, d2l\n",
            "  Attempting uninstall: requests\n",
            "    Found existing installation: requests 2.32.3\n",
            "    Uninstalling requests-2.32.3:\n",
            "      Successfully uninstalled requests-2.32.3\n",
            "  Attempting uninstall: pyparsing\n",
            "    Found existing installation: pyparsing 3.2.0\n",
            "    Uninstalling pyparsing-3.2.0:\n",
            "      Successfully uninstalled pyparsing-3.2.0\n",
            "  Attempting uninstall: numpy\n",
            "    Found existing installation: numpy 1.26.4\n",
            "    Uninstalling numpy-1.26.4:\n",
            "      Successfully uninstalled numpy-1.26.4\n",
            "  Attempting uninstall: matplotlib-inline\n",
            "    Found existing installation: matplotlib-inline 0.1.7\n",
            "    Uninstalling matplotlib-inline-0.1.7:\n",
            "      Successfully uninstalled matplotlib-inline-0.1.7\n",
            "  Attempting uninstall: scipy\n",
            "    Found existing installation: scipy 1.13.1\n",
            "    Uninstalling scipy-1.13.1:\n",
            "      Successfully uninstalled scipy-1.13.1\n",
            "  Attempting uninstall: pandas\n",
            "    Found existing installation: pandas 2.2.2\n",
            "    Uninstalling pandas-2.2.2:\n",
            "      Successfully uninstalled pandas-2.2.2\n",
            "  Attempting uninstall: matplotlib\n",
            "    Found existing installation: matplotlib 3.8.0\n",
            "    Uninstalling matplotlib-3.8.0:\n",
            "      Successfully uninstalled matplotlib-3.8.0\n",
            "\u001b[31mERROR: pip's dependency resolver does not currently take into account all the packages that are installed. This behaviour is the source of the following dependency conflicts.\n",
            "albucore 0.0.19 requires numpy>=1.24.4, but you have numpy 1.23.5 which is incompatible.\n",
            "albumentations 1.4.20 requires numpy>=1.24.4, but you have numpy 1.23.5 which is incompatible.\n",
            "bigframes 1.29.0 requires numpy>=1.24.0, but you have numpy 1.23.5 which is incompatible.\n",
            "chex 0.1.88 requires numpy>=1.24.1, but you have numpy 1.23.5 which is incompatible.\n",
            "google-colab 1.0.0 requires pandas==2.2.2, but you have pandas 2.0.3 which is incompatible.\n",
            "google-colab 1.0.0 requires requests==2.32.3, but you have requests 2.31.0 which is incompatible.\n",
            "jax 0.4.33 requires numpy>=1.24, but you have numpy 1.23.5 which is incompatible.\n",
            "jaxlib 0.4.33 requires numpy>=1.24, but you have numpy 1.23.5 which is incompatible.\n",
            "mizani 0.13.1 requires pandas>=2.2.0, but you have pandas 2.0.3 which is incompatible.\n",
            "plotnine 0.14.4 requires matplotlib>=3.8.0, but you have matplotlib 3.7.2 which is incompatible.\n",
            "plotnine 0.14.4 requires pandas>=2.2.0, but you have pandas 2.0.3 which is incompatible.\n",
            "pymc 5.19.1 requires numpy>=1.25.0, but you have numpy 1.23.5 which is incompatible.\n",
            "scikit-image 0.25.0 requires numpy>=1.24, but you have numpy 1.23.5 which is incompatible.\n",
            "scikit-image 0.25.0 requires scipy>=1.11.2, but you have scipy 1.10.1 which is incompatible.\n",
            "xarray 2024.11.0 requires numpy>=1.24, but you have numpy 1.23.5 which is incompatible.\n",
            "xarray 2024.11.0 requires pandas>=2.1, but you have pandas 2.0.3 which is incompatible.\u001b[0m\u001b[31m\n",
            "\u001b[0mSuccessfully installed d2l-1.0.3 jedi-0.19.2 jupyter-1.0.0 matplotlib-3.7.2 matplotlib-inline-0.1.6 numpy-1.23.5 pandas-2.0.3 pyparsing-3.0.9 qtconsole-5.6.1 qtpy-2.4.2 requests-2.31.0 scipy-1.10.1\n"
          ]
        },
        {
          "output_type": "display_data",
          "data": {
            "application/vnd.colab-display-data+json": {
              "pip_warning": {
                "packages": [
                  "matplotlib",
                  "matplotlib_inline",
                  "mpl_toolkits",
                  "numpy"
                ]
              },
              "id": "51204e4718884a1f8941025b62adce2a"
            }
          },
          "metadata": {}
        }
      ],
      "source": [
        "!pip install d2l"
      ]
    },
    {
      "cell_type": "code",
      "source": [
        "import torch\n",
        "from torch import nn\n",
        "from torch.nn import functional as F\n",
        "from d2l import torch as d2l"
      ],
      "metadata": {
        "id": "HiOrRnx1LHtB"
      },
      "execution_count": 2,
      "outputs": []
    },
    {
      "cell_type": "markdown",
      "source": [
        "## **Multi-Branch Networks (GoogLeNet)**\n",
        "\n",
        "GoogLeNet combines the strengths of NiN, repeated blocks, and multi-scale convolution kernels. It introduced a clear design pattern for CNNs with three distinct parts:\n",
        "\n",
        "- Stem: Initial convolutions for extracting low-level image features.\n",
        "- Body: The core, composed of convolutional blocks, responsible for feature extraction.\n",
        "- Head: Maps extracted features to the final task (e.g., classification or detection).\n",
        "The key innovation was its multi-branch convolutional design in the body, which concatenated different convolution kernel outputs (e.g., 1×1 to 11×11) rather than choosing a single kernel size. This approach efficiently captured features at multiple scales.\n",
        "\n",
        "The basic convolutional block in GoogLeNet is called an **Inception block**."
      ],
      "metadata": {
        "id": "nv4W4EKmpIjs"
      }
    },
    {
      "cell_type": "markdown",
      "source": [
        "![image.png](data:image/png;base64,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)"
      ],
      "metadata": {
        "id": "g6vp0A0-pxHd"
      }
    },
    {
      "cell_type": "markdown",
      "source": [
        "\n",
        "The Inception block uses four parallel branches to extract multi-scale spatial features:\n",
        "\n",
        "- First Three Branches: Use 1×1, 3×3, and 5×5 convolutional layers to capture features at different spatial scales.\n",
        "- Channel Reduction: The 3×3 and 5×5 branches include an initial 1×1 convolution to reduce the number of input channels, lowering model complexity.\n",
        "- Fourth Branch: Applies a 3×3 max-pooling layer followed by a 1×1 convolution to adjust the number of channels.\n",
        "- Padding: Ensures input and output have the same spatial dimensions (height and width).\n",
        "- Concatenation: Outputs of all branches are concatenated along the channel dimension to form the block's output.\n",
        "\n",
        "Key hyperparameter: the number of output channels in each layer, determining the capacity allocation among different convolution sizes."
      ],
      "metadata": {
        "id": "ukLtG3XwqCuu"
      }
    },
    {
      "cell_type": "code",
      "source": [
        "class Inception(nn.Module):\n",
        "# c1--c4 are the number of output channels for each branch\n",
        "  def __init__(self, c1, c2, c3, c4, **kwargs):\n",
        "    super(Inception, self).__init__(**kwargs)\n",
        "    # Branch 1\n",
        "    self.b1_1 = nn.LazyConv2d(c1, kernel_size=1)\n",
        "    # Branch 2\n",
        "    self.b2_1 = nn.LazyConv2d(c2[0], kernel_size=1)\n",
        "    self.b2_2 = nn.LazyConv2d(c2[1], kernel_size=3, padding=1)\n",
        "    # Branch 3\n",
        "    self.b3_1 = nn.LazyConv2d(c3[0], kernel_size=1)\n",
        "    self.b3_2 = nn.LazyConv2d(c3[1], kernel_size=5, padding=2)\n",
        "    # Branch 4\n",
        "    self.b4_1 = nn.MaxPool2d(kernel_size=3, stride=1, padding=1)\n",
        "    self.b4_2 = nn.LazyConv2d(c4, kernel_size=1)\n",
        "  def forward(self, x):\n",
        "    b1 = F.relu(self.b1_1(x))\n",
        "    b2 = F.relu(self.b2_2(F.relu(self.b2_1(x))))\n",
        "    b3 = F.relu(self.b3_2(F.relu(self.b3_1(x))))\n",
        "    b4 = F.relu(self.b4_2(self.b4_1(x)))\n",
        "    return torch.cat((b1, b2, b3, b4), dim=1)"
      ],
      "metadata": {
        "id": "YDplpn4Cq4CA"
      },
      "execution_count": 3,
      "outputs": []
    },
    {
      "cell_type": "markdown",
      "source": [
        "## **GoogLeNet**\n",
        "\n",
        "GoogLeNet uses a stack of a total of 9 inception blocks, arranged\n",
        "into three groups with max-pooling in between, and global average pooling in its head to\n",
        "generate its estimates. Max-pooling between inception blocks reduces the dimensionality."
      ],
      "metadata": {
        "id": "6EtMru1qr1n2"
      }
    },
    {
      "cell_type": "markdown",
      "source": [
        "\n",
        "![image.png](data:image/png;base64,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)"
      ],
      "metadata": {
        "id": "SOJQdhPXra8-"
      }
    },
    {
      "cell_type": "markdown",
      "source": [
        "The first module uses a 64-channel 7 x 7 convolutional layer"
      ],
      "metadata": {
        "id": "aLJwNl6Xsdf4"
      }
    },
    {
      "cell_type": "code",
      "source": [
        "class GoogleNet(d2l.Classifier):\n",
        "  def b1(self):\n",
        "    return nn.Sequential(\n",
        "      nn.LazyConv2d(64, kernel_size=7, stride=2, padding=3),\n",
        "      nn.ReLU(),\n",
        "      nn.MaxPool2d(kernel_size=3, stride=2, padding=1))"
      ],
      "metadata": {
        "id": "6-pB7UkmrisK"
      },
      "execution_count": 6,
      "outputs": []
    },
    {
      "cell_type": "markdown",
      "source": [
        "The second module uses two convolutional layers: first, a 64-channel 1 x 1 convolutional\n",
        "layer, followed by a 3 x 3 convolutional layer that triples the number of channels. This\n",
        "corresponds to the second branch in the Inception block and concludes the design of the\n",
        "body. At this point we have 192 channels."
      ],
      "metadata": {
        "id": "19-NpISrsT4L"
      }
    },
    {
      "cell_type": "code",
      "source": [
        "@d2l.add_to_class(GoogleNet)\n",
        "def b2(self):\n",
        "  return nn.Sequential(\n",
        "  nn.LazyConv2d(64, kernel_size=1),\n",
        "  nn.ReLU(),\n",
        "  nn.LazyConv2d(192, kernel_size=3, padding=1),\n",
        "  nn.ReLU(),\n",
        "  nn.MaxPool2d(kernel_size=3, stride=2, padding=1))"
      ],
      "metadata": {
        "id": "2jZisBboskMn"
      },
      "execution_count": 8,
      "outputs": []
    },
    {
      "cell_type": "markdown",
      "source": [
        "The third module connects two complete Inception blocks in series. The number of output\n",
        "channels of the first Inception block is 64 + 128 + 32 + 32 = 256. This amounts to a ratio of\n",
        "the number of output channels among the four branches of 2 : 4 : 1 : 1. To achieve this, we\n",
        "first reduce the input dimensions by 1/2 and by 1/12 in the second and third branch respectively\n",
        "to arrive at 96 = 192/2 and 16 = 192/12 channels respectively.\n",
        "The number of output channels of the second Inception block is increased to 128 + 192 +\n",
        "96 + 64 = 480, yielding a ratio of 128 : 192 : 96 : 64 = 4 : 6 : 3 : 2. As before, we need to\n",
        "reduce the number of intermediate dimensions in the second and third channel. A scale of\n",
        "1/2 and 1/8\n",
        "respectively suffices, yielding 128 and 32 channels respectively. This is captured\n",
        "by the arguments of the following Inception block constructors."
      ],
      "metadata": {
        "id": "-BtEIL7Is5nk"
      }
    },
    {
      "cell_type": "code",
      "source": [
        "@d2l.add_to_class(GoogleNet)\n",
        "def b3(self):\n",
        "  return nn.Sequential(Inception(64, (96, 128), (16, 32), 32),\n",
        "  Inception(128, (128, 192), (32, 96), 64),\n",
        "  nn.MaxPool2d(kernel_size=3, stride=2, padding=1))"
      ],
      "metadata": {
        "id": "9jBXG-R2tcKd"
      },
      "execution_count": 9,
      "outputs": []
    },
    {
      "cell_type": "markdown",
      "source": [
        "The fourth module is more complicated. It connects five Inception blocks in series, and\n",
        "they have 192 + 208 + 48 + 64 = 512, 160 + 224 + 64 + 64 = 512, 128 + 256 + 64 + 64 = 512,\n",
        "112 + 288 + 64 + 64 = 528, and 256 + 320 + 128 + 128 = 832 output channels, respectively.\n",
        "The number of channels assigned to these branches is similar to that in the third module:\n",
        "the second branch with the 3xx 3 convolutional layer outputs the largest number of channels,\n",
        "followed by the first branch with only the 1 x 1 convolutional layer, the third branch with\n",
        "the 5 x 5 convolutional layer, and the fourth branch with the 3 x 3 max-pooling layer. The\n",
        "second and third branches will first reduce the number of channels according to the ratio.\n",
        "These ratios are slightly different in different Inception blocks."
      ],
      "metadata": {
        "id": "y3OD7dnrtqAa"
      }
    },
    {
      "cell_type": "code",
      "source": [
        "@d2l.add_to_class(GoogleNet)\n",
        "def b4(self):\n",
        "  return nn.Sequential(Inception(192, (96, 208), (16, 48), 64),\n",
        "  Inception(160, (112, 224), (24, 64), 64),\n",
        "  Inception(128, (128, 256), (24, 64), 64),\n",
        "  Inception(112, (144, 288), (32, 64), 64),\n",
        "  Inception(256, (160, 320), (32, 128), 128),\n",
        "  nn.MaxPool2d(kernel_size=3, stride=2, padding=1))"
      ],
      "metadata": {
        "id": "ULZyGVXttuPC"
      },
      "execution_count": 10,
      "outputs": []
    },
    {
      "cell_type": "markdown",
      "source": [
        "The fifth module has two Inception blocks with 256 + 320 + 128 + 128 = 832 and 384 + 384 +\n",
        "128 + 128 = 1024 output channels. The number of channels assigned to each branch is the\n",
        "same as that in the third and fourth modules, but differs in specific values. It should be\n",
        "noted that the fifth block is followed by the output layer. This block uses the global average\n",
        "pooling layer to change the height and width of each channel to 1, just as in NiN. Finally,\n",
        "we turn the output into a two-dimensional array followed by a fully connected layer whose\n",
        "number of outputs is the number of label classes."
      ],
      "metadata": {
        "id": "WLNrP7JRuBf5"
      }
    },
    {
      "cell_type": "code",
      "source": [
        "@d2l.add_to_class(GoogleNet)\n",
        "def b5(self):\n",
        "  return nn.Sequential(\n",
        "      Inception(256, (160, 320), (32, 128), 128),\n",
        "      Inception(384, (192, 384), (48, 128), 128),\n",
        "      nn.AdaptiveAvgPool2d((1,1)),\n",
        "      nn.Flatten())"
      ],
      "metadata": {
        "id": "lRljh5kjuQkl"
      },
      "execution_count": 11,
      "outputs": []
    },
    {
      "cell_type": "code",
      "source": [
        "@d2l.add_to_class(GoogleNet)\n",
        "def __init__(self, lr=0.1, num_classes=10):\n",
        "  super(GoogleNet, self).__init__()\n",
        "  self.save_hyperparameters()\n",
        "  self.net = nn.Sequential(self.b1(), self.b2(), self.b3(), self.b4(),\n",
        "                            self.b5(), nn.LazyLinear(num_classes))\n",
        "  self.net.apply(d2l.init_cnn)"
      ],
      "metadata": {
        "id": "i1Um2Fvguv0E"
      },
      "execution_count": 12,
      "outputs": []
    },
    {
      "cell_type": "code",
      "source": [
        "model = GoogleNet().layer_summary((1, 1, 96, 96))"
      ],
      "metadata": {
        "colab": {
          "base_uri": "https://localhost:8080/"
        },
        "id": "AwxwzAYeu5p4",
        "outputId": "af4546e5-050d-4d89-851f-cddf3862a404"
      },
      "execution_count": 13,
      "outputs": [
        {
          "output_type": "stream",
          "name": "stdout",
          "text": [
            "Sequential output shape:\t torch.Size([1, 64, 24, 24])\n",
            "Sequential output shape:\t torch.Size([1, 192, 12, 12])\n",
            "Sequential output shape:\t torch.Size([1, 480, 6, 6])\n",
            "Sequential output shape:\t torch.Size([1, 832, 3, 3])\n",
            "Sequential output shape:\t torch.Size([1, 1024])\n",
            "Linear output shape:\t torch.Size([1, 10])\n"
          ]
        }
      ]
    },
    {
      "cell_type": "markdown",
      "source": [
        "## **Training**"
      ],
      "metadata": {
        "id": "-7qbEQ3Gu7Xl"
      }
    },
    {
      "cell_type": "code",
      "source": [
        "model = GoogleNet(lr=0.01)\n",
        "trainer = d2l.Trainer(max_epochs=10, num_gpus=1)\n",
        "data = d2l.FashionMNIST(batch_size=128, resize=(96, 96)) # reducing input height and width from 224 to 96\n",
        "model.apply_init([next(iter(data.get_dataloader(True)))[0]], d2l.init_cnn)\n",
        "trainer.fit(model, data)"
      ],
      "metadata": {
        "colab": {
          "base_uri": "https://localhost:8080/"
        },
        "id": "y70_sKtNvAJW",
        "outputId": "69020bce-1894-4e53-eee9-2c1f4c832473"
      },
      "execution_count": null,
      "outputs": [
        {
          "output_type": "stream",
          "name": "stdout",
          "text": [
            "Downloading http://fashion-mnist.s3-website.eu-central-1.amazonaws.com/train-images-idx3-ubyte.gz\n",
            "Downloading http://fashion-mnist.s3-website.eu-central-1.amazonaws.com/train-images-idx3-ubyte.gz to ../data/FashionMNIST/raw/train-images-idx3-ubyte.gz\n"
          ]
        },
        {
          "output_type": "stream",
          "name": "stderr",
          "text": [
            "100%|██████████| 26.4M/26.4M [00:01<00:00, 18.5MB/s]\n"
          ]
        },
        {
          "output_type": "stream",
          "name": "stdout",
          "text": [
            "Extracting ../data/FashionMNIST/raw/train-images-idx3-ubyte.gz to ../data/FashionMNIST/raw\n",
            "\n",
            "Downloading http://fashion-mnist.s3-website.eu-central-1.amazonaws.com/train-labels-idx1-ubyte.gz\n",
            "Downloading http://fashion-mnist.s3-website.eu-central-1.amazonaws.com/train-labels-idx1-ubyte.gz to ../data/FashionMNIST/raw/train-labels-idx1-ubyte.gz\n"
          ]
        },
        {
          "output_type": "stream",
          "name": "stderr",
          "text": [
            "100%|██████████| 29.5k/29.5k [00:00<00:00, 308kB/s]\n"
          ]
        },
        {
          "output_type": "stream",
          "name": "stdout",
          "text": [
            "Extracting ../data/FashionMNIST/raw/train-labels-idx1-ubyte.gz to ../data/FashionMNIST/raw\n",
            "\n",
            "Downloading http://fashion-mnist.s3-website.eu-central-1.amazonaws.com/t10k-images-idx3-ubyte.gz\n",
            "Downloading http://fashion-mnist.s3-website.eu-central-1.amazonaws.com/t10k-images-idx3-ubyte.gz to ../data/FashionMNIST/raw/t10k-images-idx3-ubyte.gz\n"
          ]
        },
        {
          "output_type": "stream",
          "name": "stderr",
          "text": [
            "100%|██████████| 4.42M/4.42M [00:00<00:00, 5.51MB/s]\n"
          ]
        },
        {
          "output_type": "stream",
          "name": "stdout",
          "text": [
            "Extracting ../data/FashionMNIST/raw/t10k-images-idx3-ubyte.gz to ../data/FashionMNIST/raw\n",
            "\n",
            "Downloading http://fashion-mnist.s3-website.eu-central-1.amazonaws.com/t10k-labels-idx1-ubyte.gz\n",
            "Downloading http://fashion-mnist.s3-website.eu-central-1.amazonaws.com/t10k-labels-idx1-ubyte.gz to ../data/FashionMNIST/raw/t10k-labels-idx1-ubyte.gz\n"
          ]
        },
        {
          "output_type": "stream",
          "name": "stderr",
          "text": [
            "100%|██████████| 5.15k/5.15k [00:00<00:00, 12.9MB/s]\n"
          ]
        },
        {
          "output_type": "stream",
          "name": "stdout",
          "text": [
            "Extracting ../data/FashionMNIST/raw/t10k-labels-idx1-ubyte.gz to ../data/FashionMNIST/raw\n",
            "\n"
          ]
        },
        {
          "output_type": "stream",
          "name": "stderr",
          "text": [
            "/usr/local/lib/python3.10/dist-packages/torch/utils/data/dataloader.py:617: UserWarning: This DataLoader will create 4 worker processes in total. Our suggested max number of worker in current system is 2, which is smaller than what this DataLoader is going to create. Please be aware that excessive worker creation might get DataLoader running slow or even freeze, lower the worker number to avoid potential slowness/freeze if necessary.\n",
            "  warnings.warn(\n"
          ]
        }
      ]
    }
  ]
}