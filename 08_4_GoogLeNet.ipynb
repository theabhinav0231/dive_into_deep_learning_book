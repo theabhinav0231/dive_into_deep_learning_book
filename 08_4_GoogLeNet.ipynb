{
  "nbformat": 4,
  "nbformat_minor": 0,
  "metadata": {
    "colab": {
      "provenance": [],
      "authorship_tag": "ABX9TyP3R1uL+W7+SSWmgH7EisHy",
      "include_colab_link": true
    },
    "kernelspec": {
      "name": "python3",
      "display_name": "Python 3"
    },
    "language_info": {
      "name": "python"
    }
  },
  "cells": [
    {
      "cell_type": "markdown",
      "metadata": {
        "id": "view-in-github",
        "colab_type": "text"
      },
      "source": [
        "<a href=\"https://colab.research.google.com/github/theabhinav0231/dive_into_deep_learning_book/blob/main/08_4_GoogLeNet.ipynb\" target=\"_parent\"><img src=\"https://colab.research.google.com/assets/colab-badge.svg\" alt=\"Open In Colab\"/></a>"
      ]
    },
    {
      "cell_type": "code",
      "execution_count": 1,
      "metadata": {
        "colab": {
          "base_uri": "https://localhost:8080/",
          "height": 1000
        },
        "id": "kh2JauPMLADi",
        "outputId": "fc6ba46f-d59d-4d6f-efee-ae791c387d56"
      },
      "outputs": [
        {
          "output_type": "stream",
          "name": "stdout",
          "text": [
            "Collecting d2l\n",
            "  Downloading d2l-1.0.3-py3-none-any.whl.metadata (556 bytes)\n",
            "Collecting jupyter==1.0.0 (from d2l)\n",
            "  Downloading jupyter-1.0.0-py2.py3-none-any.whl.metadata (995 bytes)\n",
            "Collecting numpy==1.23.5 (from d2l)\n",
            "  Downloading numpy-1.23.5-cp310-cp310-manylinux_2_17_x86_64.manylinux2014_x86_64.whl.metadata (2.3 kB)\n",
            "Collecting matplotlib==3.7.2 (from d2l)\n",
            "  Downloading matplotlib-3.7.2-cp310-cp310-manylinux_2_17_x86_64.manylinux2014_x86_64.whl.metadata (5.6 kB)\n",
            "Collecting matplotlib-inline==0.1.6 (from d2l)\n",
            "  Downloading matplotlib_inline-0.1.6-py3-none-any.whl.metadata (2.8 kB)\n",
            "Collecting requests==2.31.0 (from d2l)\n",
            "  Downloading requests-2.31.0-py3-none-any.whl.metadata (4.6 kB)\n",
            "Collecting pandas==2.0.3 (from d2l)\n",
            "  Downloading pandas-2.0.3-cp310-cp310-manylinux_2_17_x86_64.manylinux2014_x86_64.whl.metadata (18 kB)\n",
            "Collecting scipy==1.10.1 (from d2l)\n",
            "  Downloading scipy-1.10.1-cp310-cp310-manylinux_2_17_x86_64.manylinux2014_x86_64.whl.metadata (58 kB)\n",
            "\u001b[2K     \u001b[90m━━━━━━━━━━━━━━━━━━━━━━━━━━━━━━━━━━━━━━━━\u001b[0m \u001b[32m58.9/58.9 kB\u001b[0m \u001b[31m3.2 MB/s\u001b[0m eta \u001b[36m0:00:00\u001b[0m\n",
            "\u001b[?25hRequirement already satisfied: notebook in /usr/local/lib/python3.10/dist-packages (from jupyter==1.0.0->d2l) (6.5.5)\n",
            "Collecting qtconsole (from jupyter==1.0.0->d2l)\n",
            "  Downloading qtconsole-5.6.1-py3-none-any.whl.metadata (5.0 kB)\n",
            "Requirement already satisfied: jupyter-console in /usr/local/lib/python3.10/dist-packages (from jupyter==1.0.0->d2l) (6.1.0)\n",
            "Requirement already satisfied: nbconvert in /usr/local/lib/python3.10/dist-packages (from jupyter==1.0.0->d2l) (7.16.4)\n",
            "Requirement already satisfied: ipykernel in /usr/local/lib/python3.10/dist-packages (from jupyter==1.0.0->d2l) (5.5.6)\n",
            "Requirement already satisfied: ipywidgets in /usr/local/lib/python3.10/dist-packages (from jupyter==1.0.0->d2l) (7.7.1)\n",
            "Requirement already satisfied: contourpy>=1.0.1 in /usr/local/lib/python3.10/dist-packages (from matplotlib==3.7.2->d2l) (1.3.1)\n",
            "Requirement already satisfied: cycler>=0.10 in /usr/local/lib/python3.10/dist-packages (from matplotlib==3.7.2->d2l) (0.12.1)\n",
            "Requirement already satisfied: fonttools>=4.22.0 in /usr/local/lib/python3.10/dist-packages (from matplotlib==3.7.2->d2l) (4.55.3)\n",
            "Requirement already satisfied: kiwisolver>=1.0.1 in /usr/local/lib/python3.10/dist-packages (from matplotlib==3.7.2->d2l) (1.4.7)\n",
            "Requirement already satisfied: packaging>=20.0 in /usr/local/lib/python3.10/dist-packages (from matplotlib==3.7.2->d2l) (24.2)\n",
            "Requirement already satisfied: pillow>=6.2.0 in /usr/local/lib/python3.10/dist-packages (from matplotlib==3.7.2->d2l) (11.0.0)\n",
            "Collecting pyparsing<3.1,>=2.3.1 (from matplotlib==3.7.2->d2l)\n",
            "  Downloading pyparsing-3.0.9-py3-none-any.whl.metadata (4.2 kB)\n",
            "Requirement already satisfied: python-dateutil>=2.7 in /usr/local/lib/python3.10/dist-packages (from matplotlib==3.7.2->d2l) (2.8.2)\n",
            "Requirement already satisfied: traitlets in /usr/local/lib/python3.10/dist-packages (from matplotlib-inline==0.1.6->d2l) (5.7.1)\n",
            "Requirement already satisfied: pytz>=2020.1 in /usr/local/lib/python3.10/dist-packages (from pandas==2.0.3->d2l) (2024.2)\n",
            "Requirement already satisfied: tzdata>=2022.1 in /usr/local/lib/python3.10/dist-packages (from pandas==2.0.3->d2l) (2024.2)\n",
            "Requirement already satisfied: charset-normalizer<4,>=2 in /usr/local/lib/python3.10/dist-packages (from requests==2.31.0->d2l) (3.4.0)\n",
            "Requirement already satisfied: idna<4,>=2.5 in /usr/local/lib/python3.10/dist-packages (from requests==2.31.0->d2l) (3.10)\n",
            "Requirement already satisfied: urllib3<3,>=1.21.1 in /usr/local/lib/python3.10/dist-packages (from requests==2.31.0->d2l) (2.2.3)\n",
            "Requirement already satisfied: certifi>=2017.4.17 in /usr/local/lib/python3.10/dist-packages (from requests==2.31.0->d2l) (2024.12.14)\n",
            "Requirement already satisfied: six>=1.5 in /usr/local/lib/python3.10/dist-packages (from python-dateutil>=2.7->matplotlib==3.7.2->d2l) (1.17.0)\n",
            "Requirement already satisfied: ipython-genutils in /usr/local/lib/python3.10/dist-packages (from ipykernel->jupyter==1.0.0->d2l) (0.2.0)\n",
            "Requirement already satisfied: ipython>=5.0.0 in /usr/local/lib/python3.10/dist-packages (from ipykernel->jupyter==1.0.0->d2l) (7.34.0)\n",
            "Requirement already satisfied: jupyter-client in /usr/local/lib/python3.10/dist-packages (from ipykernel->jupyter==1.0.0->d2l) (6.1.12)\n",
            "Requirement already satisfied: tornado>=4.2 in /usr/local/lib/python3.10/dist-packages (from ipykernel->jupyter==1.0.0->d2l) (6.3.3)\n",
            "Requirement already satisfied: widgetsnbextension~=3.6.0 in /usr/local/lib/python3.10/dist-packages (from ipywidgets->jupyter==1.0.0->d2l) (3.6.10)\n",
            "Requirement already satisfied: jupyterlab-widgets>=1.0.0 in /usr/local/lib/python3.10/dist-packages (from ipywidgets->jupyter==1.0.0->d2l) (3.0.13)\n",
            "Requirement already satisfied: prompt-toolkit!=3.0.0,!=3.0.1,<3.1.0,>=2.0.0 in /usr/local/lib/python3.10/dist-packages (from jupyter-console->jupyter==1.0.0->d2l) (3.0.48)\n",
            "Requirement already satisfied: pygments in /usr/local/lib/python3.10/dist-packages (from jupyter-console->jupyter==1.0.0->d2l) (2.18.0)\n",
            "Requirement already satisfied: beautifulsoup4 in /usr/local/lib/python3.10/dist-packages (from nbconvert->jupyter==1.0.0->d2l) (4.12.3)\n",
            "Requirement already satisfied: bleach!=5.0.0 in /usr/local/lib/python3.10/dist-packages (from nbconvert->jupyter==1.0.0->d2l) (6.2.0)\n",
            "Requirement already satisfied: defusedxml in /usr/local/lib/python3.10/dist-packages (from nbconvert->jupyter==1.0.0->d2l) (0.7.1)\n",
            "Requirement already satisfied: jinja2>=3.0 in /usr/local/lib/python3.10/dist-packages (from nbconvert->jupyter==1.0.0->d2l) (3.1.4)\n",
            "Requirement already satisfied: jupyter-core>=4.7 in /usr/local/lib/python3.10/dist-packages (from nbconvert->jupyter==1.0.0->d2l) (5.7.2)\n",
            "Requirement already satisfied: jupyterlab-pygments in /usr/local/lib/python3.10/dist-packages (from nbconvert->jupyter==1.0.0->d2l) (0.3.0)\n",
            "Requirement already satisfied: markupsafe>=2.0 in /usr/local/lib/python3.10/dist-packages (from nbconvert->jupyter==1.0.0->d2l) (3.0.2)\n",
            "Requirement already satisfied: mistune<4,>=2.0.3 in /usr/local/lib/python3.10/dist-packages (from nbconvert->jupyter==1.0.0->d2l) (3.0.2)\n",
            "Requirement already satisfied: nbclient>=0.5.0 in /usr/local/lib/python3.10/dist-packages (from nbconvert->jupyter==1.0.0->d2l) (0.10.1)\n",
            "Requirement already satisfied: nbformat>=5.7 in /usr/local/lib/python3.10/dist-packages (from nbconvert->jupyter==1.0.0->d2l) (5.10.4)\n",
            "Requirement already satisfied: pandocfilters>=1.4.1 in /usr/local/lib/python3.10/dist-packages (from nbconvert->jupyter==1.0.0->d2l) (1.5.1)\n",
            "Requirement already satisfied: tinycss2 in /usr/local/lib/python3.10/dist-packages (from nbconvert->jupyter==1.0.0->d2l) (1.4.0)\n",
            "Requirement already satisfied: pyzmq<25,>=17 in /usr/local/lib/python3.10/dist-packages (from notebook->jupyter==1.0.0->d2l) (24.0.1)\n",
            "Requirement already satisfied: argon2-cffi in /usr/local/lib/python3.10/dist-packages (from notebook->jupyter==1.0.0->d2l) (23.1.0)\n",
            "Requirement already satisfied: nest-asyncio>=1.5 in /usr/local/lib/python3.10/dist-packages (from notebook->jupyter==1.0.0->d2l) (1.6.0)\n",
            "Requirement already satisfied: Send2Trash>=1.8.0 in /usr/local/lib/python3.10/dist-packages (from notebook->jupyter==1.0.0->d2l) (1.8.3)\n",
            "Requirement already satisfied: terminado>=0.8.3 in /usr/local/lib/python3.10/dist-packages (from notebook->jupyter==1.0.0->d2l) (0.18.1)\n",
            "Requirement already satisfied: prometheus-client in /usr/local/lib/python3.10/dist-packages (from notebook->jupyter==1.0.0->d2l) (0.21.1)\n",
            "Requirement already satisfied: nbclassic>=0.4.7 in /usr/local/lib/python3.10/dist-packages (from notebook->jupyter==1.0.0->d2l) (1.1.0)\n",
            "Collecting qtpy>=2.4.0 (from qtconsole->jupyter==1.0.0->d2l)\n",
            "  Downloading QtPy-2.4.2-py3-none-any.whl.metadata (12 kB)\n",
            "Requirement already satisfied: webencodings in /usr/local/lib/python3.10/dist-packages (from bleach!=5.0.0->nbconvert->jupyter==1.0.0->d2l) (0.5.1)\n",
            "Requirement already satisfied: setuptools>=18.5 in /usr/local/lib/python3.10/dist-packages (from ipython>=5.0.0->ipykernel->jupyter==1.0.0->d2l) (75.1.0)\n",
            "Collecting jedi>=0.16 (from ipython>=5.0.0->ipykernel->jupyter==1.0.0->d2l)\n",
            "  Downloading jedi-0.19.2-py2.py3-none-any.whl.metadata (22 kB)\n",
            "Requirement already satisfied: decorator in /usr/local/lib/python3.10/dist-packages (from ipython>=5.0.0->ipykernel->jupyter==1.0.0->d2l) (4.4.2)\n",
            "Requirement already satisfied: pickleshare in /usr/local/lib/python3.10/dist-packages (from ipython>=5.0.0->ipykernel->jupyter==1.0.0->d2l) (0.7.5)\n",
            "Requirement already satisfied: backcall in /usr/local/lib/python3.10/dist-packages (from ipython>=5.0.0->ipykernel->jupyter==1.0.0->d2l) (0.2.0)\n",
            "Requirement already satisfied: pexpect>4.3 in /usr/local/lib/python3.10/dist-packages (from ipython>=5.0.0->ipykernel->jupyter==1.0.0->d2l) (4.9.0)\n",
            "Requirement already satisfied: platformdirs>=2.5 in /usr/local/lib/python3.10/dist-packages (from jupyter-core>=4.7->nbconvert->jupyter==1.0.0->d2l) (4.3.6)\n",
            "Requirement already satisfied: notebook-shim>=0.2.3 in /usr/local/lib/python3.10/dist-packages (from nbclassic>=0.4.7->notebook->jupyter==1.0.0->d2l) (0.2.4)\n",
            "Requirement already satisfied: fastjsonschema>=2.15 in /usr/local/lib/python3.10/dist-packages (from nbformat>=5.7->nbconvert->jupyter==1.0.0->d2l) (2.21.1)\n",
            "Requirement already satisfied: jsonschema>=2.6 in /usr/local/lib/python3.10/dist-packages (from nbformat>=5.7->nbconvert->jupyter==1.0.0->d2l) (4.23.0)\n",
            "Requirement already satisfied: wcwidth in /usr/local/lib/python3.10/dist-packages (from prompt-toolkit!=3.0.0,!=3.0.1,<3.1.0,>=2.0.0->jupyter-console->jupyter==1.0.0->d2l) (0.2.13)\n",
            "Requirement already satisfied: ptyprocess in /usr/local/lib/python3.10/dist-packages (from terminado>=0.8.3->notebook->jupyter==1.0.0->d2l) (0.7.0)\n",
            "Requirement already satisfied: argon2-cffi-bindings in /usr/local/lib/python3.10/dist-packages (from argon2-cffi->notebook->jupyter==1.0.0->d2l) (21.2.0)\n",
            "Requirement already satisfied: soupsieve>1.2 in /usr/local/lib/python3.10/dist-packages (from beautifulsoup4->nbconvert->jupyter==1.0.0->d2l) (2.6)\n",
            "Requirement already satisfied: parso<0.9.0,>=0.8.4 in /usr/local/lib/python3.10/dist-packages (from jedi>=0.16->ipython>=5.0.0->ipykernel->jupyter==1.0.0->d2l) (0.8.4)\n",
            "Requirement already satisfied: attrs>=22.2.0 in /usr/local/lib/python3.10/dist-packages (from jsonschema>=2.6->nbformat>=5.7->nbconvert->jupyter==1.0.0->d2l) (24.3.0)\n",
            "Requirement already satisfied: jsonschema-specifications>=2023.03.6 in /usr/local/lib/python3.10/dist-packages (from jsonschema>=2.6->nbformat>=5.7->nbconvert->jupyter==1.0.0->d2l) (2024.10.1)\n",
            "Requirement already satisfied: referencing>=0.28.4 in /usr/local/lib/python3.10/dist-packages (from jsonschema>=2.6->nbformat>=5.7->nbconvert->jupyter==1.0.0->d2l) (0.35.1)\n",
            "Requirement already satisfied: rpds-py>=0.7.1 in /usr/local/lib/python3.10/dist-packages (from jsonschema>=2.6->nbformat>=5.7->nbconvert->jupyter==1.0.0->d2l) (0.22.3)\n",
            "Requirement already satisfied: jupyter-server<3,>=1.8 in /usr/local/lib/python3.10/dist-packages (from notebook-shim>=0.2.3->nbclassic>=0.4.7->notebook->jupyter==1.0.0->d2l) (1.24.0)\n",
            "Requirement already satisfied: cffi>=1.0.1 in /usr/local/lib/python3.10/dist-packages (from argon2-cffi-bindings->argon2-cffi->notebook->jupyter==1.0.0->d2l) (1.17.1)\n",
            "Requirement already satisfied: pycparser in /usr/local/lib/python3.10/dist-packages (from cffi>=1.0.1->argon2-cffi-bindings->argon2-cffi->notebook->jupyter==1.0.0->d2l) (2.22)\n",
            "Requirement already satisfied: anyio<4,>=3.1.0 in /usr/local/lib/python3.10/dist-packages (from jupyter-server<3,>=1.8->notebook-shim>=0.2.3->nbclassic>=0.4.7->notebook->jupyter==1.0.0->d2l) (3.7.1)\n",
            "Requirement already satisfied: websocket-client in /usr/local/lib/python3.10/dist-packages (from jupyter-server<3,>=1.8->notebook-shim>=0.2.3->nbclassic>=0.4.7->notebook->jupyter==1.0.0->d2l) (1.8.0)\n",
            "Requirement already satisfied: sniffio>=1.1 in /usr/local/lib/python3.10/dist-packages (from anyio<4,>=3.1.0->jupyter-server<3,>=1.8->notebook-shim>=0.2.3->nbclassic>=0.4.7->notebook->jupyter==1.0.0->d2l) (1.3.1)\n",
            "Requirement already satisfied: exceptiongroup in /usr/local/lib/python3.10/dist-packages (from anyio<4,>=3.1.0->jupyter-server<3,>=1.8->notebook-shim>=0.2.3->nbclassic>=0.4.7->notebook->jupyter==1.0.0->d2l) (1.2.2)\n",
            "Downloading d2l-1.0.3-py3-none-any.whl (111 kB)\n",
            "\u001b[2K   \u001b[90m━━━━━━━━━━━━━━━━━━━━━━━━━━━━━━━━━━━━━━━━\u001b[0m \u001b[32m111.7/111.7 kB\u001b[0m \u001b[31m4.9 MB/s\u001b[0m eta \u001b[36m0:00:00\u001b[0m\n",
            "\u001b[?25hDownloading jupyter-1.0.0-py2.py3-none-any.whl (2.7 kB)\n",
            "Downloading matplotlib-3.7.2-cp310-cp310-manylinux_2_17_x86_64.manylinux2014_x86_64.whl (11.6 MB)\n",
            "\u001b[2K   \u001b[90m━━━━━━━━━━━━━━━━━━━━━━━━━━━━━━━━━━━━━━━━\u001b[0m \u001b[32m11.6/11.6 MB\u001b[0m \u001b[31m80.8 MB/s\u001b[0m eta \u001b[36m0:00:00\u001b[0m\n",
            "\u001b[?25hDownloading matplotlib_inline-0.1.6-py3-none-any.whl (9.4 kB)\n",
            "Downloading numpy-1.23.5-cp310-cp310-manylinux_2_17_x86_64.manylinux2014_x86_64.whl (17.1 MB)\n",
            "\u001b[2K   \u001b[90m━━━━━━━━━━━━━━━━━━━━━━━━━━━━━━━━━━━━━━━━\u001b[0m \u001b[32m17.1/17.1 MB\u001b[0m \u001b[31m67.4 MB/s\u001b[0m eta \u001b[36m0:00:00\u001b[0m\n",
            "\u001b[?25hDownloading pandas-2.0.3-cp310-cp310-manylinux_2_17_x86_64.manylinux2014_x86_64.whl (12.3 MB)\n",
            "\u001b[2K   \u001b[90m━━━━━━━━━━━━━━━━━━━━━━━━━━━━━━━━━━━━━━━━\u001b[0m \u001b[32m12.3/12.3 MB\u001b[0m \u001b[31m78.6 MB/s\u001b[0m eta \u001b[36m0:00:00\u001b[0m\n",
            "\u001b[?25hDownloading requests-2.31.0-py3-none-any.whl (62 kB)\n",
            "\u001b[2K   \u001b[90m━━━━━━━━━━━━━━━━━━━━━━━━━━━━━━━━━━━━━━━━\u001b[0m \u001b[32m62.6/62.6 kB\u001b[0m \u001b[31m4.0 MB/s\u001b[0m eta \u001b[36m0:00:00\u001b[0m\n",
            "\u001b[?25hDownloading scipy-1.10.1-cp310-cp310-manylinux_2_17_x86_64.manylinux2014_x86_64.whl (34.4 MB)\n",
            "\u001b[2K   \u001b[90m━━━━━━━━━━━━━━━━━━━━━━━━━━━━━━━━━━━━━━━━\u001b[0m \u001b[32m34.4/34.4 MB\u001b[0m \u001b[31m17.3 MB/s\u001b[0m eta \u001b[36m0:00:00\u001b[0m\n",
            "\u001b[?25hDownloading pyparsing-3.0.9-py3-none-any.whl (98 kB)\n",
            "\u001b[2K   \u001b[90m━━━━━━━━━━━━━━━━━━━━━━━━━━━━━━━━━━━━━━━━\u001b[0m \u001b[32m98.3/98.3 kB\u001b[0m \u001b[31m5.1 MB/s\u001b[0m eta \u001b[36m0:00:00\u001b[0m\n",
            "\u001b[?25hDownloading qtconsole-5.6.1-py3-none-any.whl (125 kB)\n",
            "\u001b[2K   \u001b[90m━━━━━━━━━━━━━━━━━━━━━━━━━━━━━━━━━━━━━━━━\u001b[0m \u001b[32m125.0/125.0 kB\u001b[0m \u001b[31m6.3 MB/s\u001b[0m eta \u001b[36m0:00:00\u001b[0m\n",
            "\u001b[?25hDownloading QtPy-2.4.2-py3-none-any.whl (95 kB)\n",
            "\u001b[2K   \u001b[90m━━━━━━━━━━━━━━━━━━━━━━━━━━━━━━━━━━━━━━━━\u001b[0m \u001b[32m95.2/95.2 kB\u001b[0m \u001b[31m6.5 MB/s\u001b[0m eta \u001b[36m0:00:00\u001b[0m\n",
            "\u001b[?25hDownloading jedi-0.19.2-py2.py3-none-any.whl (1.6 MB)\n",
            "\u001b[2K   \u001b[90m━━━━━━━━━━━━━━━━━━━━━━━━━━━━━━━━━━━━━━━━\u001b[0m \u001b[32m1.6/1.6 MB\u001b[0m \u001b[31m44.0 MB/s\u001b[0m eta \u001b[36m0:00:00\u001b[0m\n",
            "\u001b[?25hInstalling collected packages: requests, qtpy, pyparsing, numpy, matplotlib-inline, jedi, scipy, pandas, matplotlib, qtconsole, jupyter, d2l\n",
            "  Attempting uninstall: requests\n",
            "    Found existing installation: requests 2.32.3\n",
            "    Uninstalling requests-2.32.3:\n",
            "      Successfully uninstalled requests-2.32.3\n",
            "  Attempting uninstall: pyparsing\n",
            "    Found existing installation: pyparsing 3.2.0\n",
            "    Uninstalling pyparsing-3.2.0:\n",
            "      Successfully uninstalled pyparsing-3.2.0\n",
            "  Attempting uninstall: numpy\n",
            "    Found existing installation: numpy 1.26.4\n",
            "    Uninstalling numpy-1.26.4:\n",
            "      Successfully uninstalled numpy-1.26.4\n",
            "  Attempting uninstall: matplotlib-inline\n",
            "    Found existing installation: matplotlib-inline 0.1.7\n",
            "    Uninstalling matplotlib-inline-0.1.7:\n",
            "      Successfully uninstalled matplotlib-inline-0.1.7\n",
            "  Attempting uninstall: scipy\n",
            "    Found existing installation: scipy 1.13.1\n",
            "    Uninstalling scipy-1.13.1:\n",
            "      Successfully uninstalled scipy-1.13.1\n",
            "  Attempting uninstall: pandas\n",
            "    Found existing installation: pandas 2.2.2\n",
            "    Uninstalling pandas-2.2.2:\n",
            "      Successfully uninstalled pandas-2.2.2\n",
            "  Attempting uninstall: matplotlib\n",
            "    Found existing installation: matplotlib 3.8.0\n",
            "    Uninstalling matplotlib-3.8.0:\n",
            "      Successfully uninstalled matplotlib-3.8.0\n",
            "\u001b[31mERROR: pip's dependency resolver does not currently take into account all the packages that are installed. This behaviour is the source of the following dependency conflicts.\n",
            "albucore 0.0.19 requires numpy>=1.24.4, but you have numpy 1.23.5 which is incompatible.\n",
            "albumentations 1.4.20 requires numpy>=1.24.4, but you have numpy 1.23.5 which is incompatible.\n",
            "bigframes 1.29.0 requires numpy>=1.24.0, but you have numpy 1.23.5 which is incompatible.\n",
            "chex 0.1.88 requires numpy>=1.24.1, but you have numpy 1.23.5 which is incompatible.\n",
            "google-colab 1.0.0 requires pandas==2.2.2, but you have pandas 2.0.3 which is incompatible.\n",
            "google-colab 1.0.0 requires requests==2.32.3, but you have requests 2.31.0 which is incompatible.\n",
            "jax 0.4.33 requires numpy>=1.24, but you have numpy 1.23.5 which is incompatible.\n",
            "jaxlib 0.4.33 requires numpy>=1.24, but you have numpy 1.23.5 which is incompatible.\n",
            "mizani 0.13.1 requires pandas>=2.2.0, but you have pandas 2.0.3 which is incompatible.\n",
            "plotnine 0.14.4 requires matplotlib>=3.8.0, but you have matplotlib 3.7.2 which is incompatible.\n",
            "plotnine 0.14.4 requires pandas>=2.2.0, but you have pandas 2.0.3 which is incompatible.\n",
            "pymc 5.19.1 requires numpy>=1.25.0, but you have numpy 1.23.5 which is incompatible.\n",
            "scikit-image 0.25.0 requires numpy>=1.24, but you have numpy 1.23.5 which is incompatible.\n",
            "scikit-image 0.25.0 requires scipy>=1.11.2, but you have scipy 1.10.1 which is incompatible.\n",
            "xarray 2024.11.0 requires numpy>=1.24, but you have numpy 1.23.5 which is incompatible.\n",
            "xarray 2024.11.0 requires pandas>=2.1, but you have pandas 2.0.3 which is incompatible.\u001b[0m\u001b[31m\n",
            "\u001b[0mSuccessfully installed d2l-1.0.3 jedi-0.19.2 jupyter-1.0.0 matplotlib-3.7.2 matplotlib-inline-0.1.6 numpy-1.23.5 pandas-2.0.3 pyparsing-3.0.9 qtconsole-5.6.1 qtpy-2.4.2 requests-2.31.0 scipy-1.10.1\n"
          ]
        },
        {
          "output_type": "display_data",
          "data": {
            "application/vnd.colab-display-data+json": {
              "pip_warning": {
                "packages": [
                  "matplotlib",
                  "matplotlib_inline",
                  "mpl_toolkits",
                  "numpy"
                ]
              },
              "id": "51204e4718884a1f8941025b62adce2a"
            }
          },
          "metadata": {}
        }
      ],
      "source": [
        "!pip install d2l"
      ]
    },
    {
      "cell_type": "code",
      "source": [
        "import torch\n",
        "from torch import nn\n",
        "from torch.nn import functional as F\n",
        "from d2l import torch as d2l"
      ],
      "metadata": {
        "id": "HiOrRnx1LHtB"
      },
      "execution_count": 2,
      "outputs": []
    },
    {
      "cell_type": "markdown",
      "source": [
        "## **Multi-Branch Networks (GoogLeNet)**\n",
        "\n",
        "GoogLeNet combines the strengths of NiN, repeated blocks, and multi-scale convolution kernels. It introduced a clear design pattern for CNNs with three distinct parts:\n",
        "\n",
        "1. Stem: Initial convolutions for extracting low-level image features.\n",
        "2. Body: The core, composed of convolutional blocks, responsible for feature extraction.\n",
        "3. Head: Maps extracted features to the final task (e.g., classification or detection).\n",
        "The key innovation was its multi-branch convolutional design in the body, which concatenated different convolution kernel outputs (e.g., 1×1 to 11×11) rather than choosing a single kernel size. This approach efficiently captured features at multiple scales.\n",
        "\n",
        "The basic convolutional block in GoogLeNet is called an **Inception block**."
      ],
      "metadata": {
        "id": "nv4W4EKmpIjs"
      }
    },
    {
      "cell_type": "markdown",
      "source": [
        "![image.png](data:image/png;base64,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)"
      ],
      "metadata": {
        "id": "g6vp0A0-pxHd"
      }
    },
    {
      "cell_type": "code",
      "source": [],
      "metadata": {
        "id": "ukLtG3XwqCuu"
      },
      "execution_count": null,
      "outputs": []
    }
  ]
}