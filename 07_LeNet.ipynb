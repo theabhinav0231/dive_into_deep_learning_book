{
  "nbformat": 4,
  "nbformat_minor": 0,
  "metadata": {
    "colab": {
      "provenance": [],
      "authorship_tag": "ABX9TyPJv1ByY9UhkwGZGrx4gO3j",
      "include_colab_link": true
    },
    "kernelspec": {
      "name": "python3",
      "display_name": "Python 3"
    },
    "language_info": {
      "name": "python"
    }
  },
  "cells": [
    {
      "cell_type": "markdown",
      "metadata": {
        "id": "view-in-github",
        "colab_type": "text"
      },
      "source": [
        "<a href=\"https://colab.research.google.com/github/theabhinav0231/dive_into_deep_learning_book/blob/main/07_LeNet.ipynb\" target=\"_parent\"><img src=\"https://colab.research.google.com/assets/colab-badge.svg\" alt=\"Open In Colab\"/></a>"
      ]
    },
    {
      "cell_type": "code",
      "execution_count": 1,
      "metadata": {
        "colab": {
          "base_uri": "https://localhost:8080/",
          "height": 1000
        },
        "id": "uRD_viS4C8ov",
        "outputId": "5900eb78-8e8c-41cd-9300-e23d15931add"
      },
      "outputs": [
        {
          "output_type": "stream",
          "name": "stdout",
          "text": [
            "Collecting d2l\n",
            "  Downloading d2l-1.0.3-py3-none-any.whl.metadata (556 bytes)\n",
            "Collecting jupyter==1.0.0 (from d2l)\n",
            "  Downloading jupyter-1.0.0-py2.py3-none-any.whl.metadata (995 bytes)\n",
            "Collecting numpy==1.23.5 (from d2l)\n",
            "  Downloading numpy-1.23.5-cp310-cp310-manylinux_2_17_x86_64.manylinux2014_x86_64.whl.metadata (2.3 kB)\n",
            "Collecting matplotlib==3.7.2 (from d2l)\n",
            "  Downloading matplotlib-3.7.2-cp310-cp310-manylinux_2_17_x86_64.manylinux2014_x86_64.whl.metadata (5.6 kB)\n",
            "Collecting matplotlib-inline==0.1.6 (from d2l)\n",
            "  Downloading matplotlib_inline-0.1.6-py3-none-any.whl.metadata (2.8 kB)\n",
            "Collecting requests==2.31.0 (from d2l)\n",
            "  Downloading requests-2.31.0-py3-none-any.whl.metadata (4.6 kB)\n",
            "Collecting pandas==2.0.3 (from d2l)\n",
            "  Downloading pandas-2.0.3-cp310-cp310-manylinux_2_17_x86_64.manylinux2014_x86_64.whl.metadata (18 kB)\n",
            "Collecting scipy==1.10.1 (from d2l)\n",
            "  Downloading scipy-1.10.1-cp310-cp310-manylinux_2_17_x86_64.manylinux2014_x86_64.whl.metadata (58 kB)\n",
            "\u001b[2K     \u001b[90m━━━━━━━━━━━━━━━━━━━━━━━━━━━━━━━━━━━━━━━━\u001b[0m \u001b[32m58.9/58.9 kB\u001b[0m \u001b[31m2.5 MB/s\u001b[0m eta \u001b[36m0:00:00\u001b[0m\n",
            "\u001b[?25hRequirement already satisfied: notebook in /usr/local/lib/python3.10/dist-packages (from jupyter==1.0.0->d2l) (6.5.5)\n",
            "Collecting qtconsole (from jupyter==1.0.0->d2l)\n",
            "  Downloading qtconsole-5.6.1-py3-none-any.whl.metadata (5.0 kB)\n",
            "Requirement already satisfied: jupyter-console in /usr/local/lib/python3.10/dist-packages (from jupyter==1.0.0->d2l) (6.1.0)\n",
            "Requirement already satisfied: nbconvert in /usr/local/lib/python3.10/dist-packages (from jupyter==1.0.0->d2l) (7.16.4)\n",
            "Requirement already satisfied: ipykernel in /usr/local/lib/python3.10/dist-packages (from jupyter==1.0.0->d2l) (5.5.6)\n",
            "Requirement already satisfied: ipywidgets in /usr/local/lib/python3.10/dist-packages (from jupyter==1.0.0->d2l) (7.7.1)\n",
            "Requirement already satisfied: contourpy>=1.0.1 in /usr/local/lib/python3.10/dist-packages (from matplotlib==3.7.2->d2l) (1.3.1)\n",
            "Requirement already satisfied: cycler>=0.10 in /usr/local/lib/python3.10/dist-packages (from matplotlib==3.7.2->d2l) (0.12.1)\n",
            "Requirement already satisfied: fonttools>=4.22.0 in /usr/local/lib/python3.10/dist-packages (from matplotlib==3.7.2->d2l) (4.55.3)\n",
            "Requirement already satisfied: kiwisolver>=1.0.1 in /usr/local/lib/python3.10/dist-packages (from matplotlib==3.7.2->d2l) (1.4.7)\n",
            "Requirement already satisfied: packaging>=20.0 in /usr/local/lib/python3.10/dist-packages (from matplotlib==3.7.2->d2l) (24.2)\n",
            "Requirement already satisfied: pillow>=6.2.0 in /usr/local/lib/python3.10/dist-packages (from matplotlib==3.7.2->d2l) (11.0.0)\n",
            "Collecting pyparsing<3.1,>=2.3.1 (from matplotlib==3.7.2->d2l)\n",
            "  Downloading pyparsing-3.0.9-py3-none-any.whl.metadata (4.2 kB)\n",
            "Requirement already satisfied: python-dateutil>=2.7 in /usr/local/lib/python3.10/dist-packages (from matplotlib==3.7.2->d2l) (2.8.2)\n",
            "Requirement already satisfied: traitlets in /usr/local/lib/python3.10/dist-packages (from matplotlib-inline==0.1.6->d2l) (5.7.1)\n",
            "Requirement already satisfied: pytz>=2020.1 in /usr/local/lib/python3.10/dist-packages (from pandas==2.0.3->d2l) (2024.2)\n",
            "Requirement already satisfied: tzdata>=2022.1 in /usr/local/lib/python3.10/dist-packages (from pandas==2.0.3->d2l) (2024.2)\n",
            "Requirement already satisfied: charset-normalizer<4,>=2 in /usr/local/lib/python3.10/dist-packages (from requests==2.31.0->d2l) (3.4.0)\n",
            "Requirement already satisfied: idna<4,>=2.5 in /usr/local/lib/python3.10/dist-packages (from requests==2.31.0->d2l) (3.10)\n",
            "Requirement already satisfied: urllib3<3,>=1.21.1 in /usr/local/lib/python3.10/dist-packages (from requests==2.31.0->d2l) (2.2.3)\n",
            "Requirement already satisfied: certifi>=2017.4.17 in /usr/local/lib/python3.10/dist-packages (from requests==2.31.0->d2l) (2024.12.14)\n",
            "Requirement already satisfied: six>=1.5 in /usr/local/lib/python3.10/dist-packages (from python-dateutil>=2.7->matplotlib==3.7.2->d2l) (1.17.0)\n",
            "Requirement already satisfied: ipython-genutils in /usr/local/lib/python3.10/dist-packages (from ipykernel->jupyter==1.0.0->d2l) (0.2.0)\n",
            "Requirement already satisfied: ipython>=5.0.0 in /usr/local/lib/python3.10/dist-packages (from ipykernel->jupyter==1.0.0->d2l) (7.34.0)\n",
            "Requirement already satisfied: jupyter-client in /usr/local/lib/python3.10/dist-packages (from ipykernel->jupyter==1.0.0->d2l) (6.1.12)\n",
            "Requirement already satisfied: tornado>=4.2 in /usr/local/lib/python3.10/dist-packages (from ipykernel->jupyter==1.0.0->d2l) (6.3.3)\n",
            "Requirement already satisfied: widgetsnbextension~=3.6.0 in /usr/local/lib/python3.10/dist-packages (from ipywidgets->jupyter==1.0.0->d2l) (3.6.10)\n",
            "Requirement already satisfied: jupyterlab-widgets>=1.0.0 in /usr/local/lib/python3.10/dist-packages (from ipywidgets->jupyter==1.0.0->d2l) (3.0.13)\n",
            "Requirement already satisfied: prompt-toolkit!=3.0.0,!=3.0.1,<3.1.0,>=2.0.0 in /usr/local/lib/python3.10/dist-packages (from jupyter-console->jupyter==1.0.0->d2l) (3.0.48)\n",
            "Requirement already satisfied: pygments in /usr/local/lib/python3.10/dist-packages (from jupyter-console->jupyter==1.0.0->d2l) (2.18.0)\n",
            "Requirement already satisfied: beautifulsoup4 in /usr/local/lib/python3.10/dist-packages (from nbconvert->jupyter==1.0.0->d2l) (4.12.3)\n",
            "Requirement already satisfied: bleach!=5.0.0 in /usr/local/lib/python3.10/dist-packages (from nbconvert->jupyter==1.0.0->d2l) (6.2.0)\n",
            "Requirement already satisfied: defusedxml in /usr/local/lib/python3.10/dist-packages (from nbconvert->jupyter==1.0.0->d2l) (0.7.1)\n",
            "Requirement already satisfied: jinja2>=3.0 in /usr/local/lib/python3.10/dist-packages (from nbconvert->jupyter==1.0.0->d2l) (3.1.4)\n",
            "Requirement already satisfied: jupyter-core>=4.7 in /usr/local/lib/python3.10/dist-packages (from nbconvert->jupyter==1.0.0->d2l) (5.7.2)\n",
            "Requirement already satisfied: jupyterlab-pygments in /usr/local/lib/python3.10/dist-packages (from nbconvert->jupyter==1.0.0->d2l) (0.3.0)\n",
            "Requirement already satisfied: markupsafe>=2.0 in /usr/local/lib/python3.10/dist-packages (from nbconvert->jupyter==1.0.0->d2l) (3.0.2)\n",
            "Requirement already satisfied: mistune<4,>=2.0.3 in /usr/local/lib/python3.10/dist-packages (from nbconvert->jupyter==1.0.0->d2l) (3.0.2)\n",
            "Requirement already satisfied: nbclient>=0.5.0 in /usr/local/lib/python3.10/dist-packages (from nbconvert->jupyter==1.0.0->d2l) (0.10.1)\n",
            "Requirement already satisfied: nbformat>=5.7 in /usr/local/lib/python3.10/dist-packages (from nbconvert->jupyter==1.0.0->d2l) (5.10.4)\n",
            "Requirement already satisfied: pandocfilters>=1.4.1 in /usr/local/lib/python3.10/dist-packages (from nbconvert->jupyter==1.0.0->d2l) (1.5.1)\n",
            "Requirement already satisfied: tinycss2 in /usr/local/lib/python3.10/dist-packages (from nbconvert->jupyter==1.0.0->d2l) (1.4.0)\n",
            "Requirement already satisfied: pyzmq<25,>=17 in /usr/local/lib/python3.10/dist-packages (from notebook->jupyter==1.0.0->d2l) (24.0.1)\n",
            "Requirement already satisfied: argon2-cffi in /usr/local/lib/python3.10/dist-packages (from notebook->jupyter==1.0.0->d2l) (23.1.0)\n",
            "Requirement already satisfied: nest-asyncio>=1.5 in /usr/local/lib/python3.10/dist-packages (from notebook->jupyter==1.0.0->d2l) (1.6.0)\n",
            "Requirement already satisfied: Send2Trash>=1.8.0 in /usr/local/lib/python3.10/dist-packages (from notebook->jupyter==1.0.0->d2l) (1.8.3)\n",
            "Requirement already satisfied: terminado>=0.8.3 in /usr/local/lib/python3.10/dist-packages (from notebook->jupyter==1.0.0->d2l) (0.18.1)\n",
            "Requirement already satisfied: prometheus-client in /usr/local/lib/python3.10/dist-packages (from notebook->jupyter==1.0.0->d2l) (0.21.1)\n",
            "Requirement already satisfied: nbclassic>=0.4.7 in /usr/local/lib/python3.10/dist-packages (from notebook->jupyter==1.0.0->d2l) (1.1.0)\n",
            "Collecting qtpy>=2.4.0 (from qtconsole->jupyter==1.0.0->d2l)\n",
            "  Downloading QtPy-2.4.2-py3-none-any.whl.metadata (12 kB)\n",
            "Requirement already satisfied: webencodings in /usr/local/lib/python3.10/dist-packages (from bleach!=5.0.0->nbconvert->jupyter==1.0.0->d2l) (0.5.1)\n",
            "Requirement already satisfied: setuptools>=18.5 in /usr/local/lib/python3.10/dist-packages (from ipython>=5.0.0->ipykernel->jupyter==1.0.0->d2l) (75.1.0)\n",
            "Collecting jedi>=0.16 (from ipython>=5.0.0->ipykernel->jupyter==1.0.0->d2l)\n",
            "  Downloading jedi-0.19.2-py2.py3-none-any.whl.metadata (22 kB)\n",
            "Requirement already satisfied: decorator in /usr/local/lib/python3.10/dist-packages (from ipython>=5.0.0->ipykernel->jupyter==1.0.0->d2l) (4.4.2)\n",
            "Requirement already satisfied: pickleshare in /usr/local/lib/python3.10/dist-packages (from ipython>=5.0.0->ipykernel->jupyter==1.0.0->d2l) (0.7.5)\n",
            "Requirement already satisfied: backcall in /usr/local/lib/python3.10/dist-packages (from ipython>=5.0.0->ipykernel->jupyter==1.0.0->d2l) (0.2.0)\n",
            "Requirement already satisfied: pexpect>4.3 in /usr/local/lib/python3.10/dist-packages (from ipython>=5.0.0->ipykernel->jupyter==1.0.0->d2l) (4.9.0)\n",
            "Requirement already satisfied: platformdirs>=2.5 in /usr/local/lib/python3.10/dist-packages (from jupyter-core>=4.7->nbconvert->jupyter==1.0.0->d2l) (4.3.6)\n",
            "Requirement already satisfied: notebook-shim>=0.2.3 in /usr/local/lib/python3.10/dist-packages (from nbclassic>=0.4.7->notebook->jupyter==1.0.0->d2l) (0.2.4)\n",
            "Requirement already satisfied: fastjsonschema>=2.15 in /usr/local/lib/python3.10/dist-packages (from nbformat>=5.7->nbconvert->jupyter==1.0.0->d2l) (2.21.1)\n",
            "Requirement already satisfied: jsonschema>=2.6 in /usr/local/lib/python3.10/dist-packages (from nbformat>=5.7->nbconvert->jupyter==1.0.0->d2l) (4.23.0)\n",
            "Requirement already satisfied: wcwidth in /usr/local/lib/python3.10/dist-packages (from prompt-toolkit!=3.0.0,!=3.0.1,<3.1.0,>=2.0.0->jupyter-console->jupyter==1.0.0->d2l) (0.2.13)\n",
            "Requirement already satisfied: ptyprocess in /usr/local/lib/python3.10/dist-packages (from terminado>=0.8.3->notebook->jupyter==1.0.0->d2l) (0.7.0)\n",
            "Requirement already satisfied: argon2-cffi-bindings in /usr/local/lib/python3.10/dist-packages (from argon2-cffi->notebook->jupyter==1.0.0->d2l) (21.2.0)\n",
            "Requirement already satisfied: soupsieve>1.2 in /usr/local/lib/python3.10/dist-packages (from beautifulsoup4->nbconvert->jupyter==1.0.0->d2l) (2.6)\n",
            "Requirement already satisfied: parso<0.9.0,>=0.8.4 in /usr/local/lib/python3.10/dist-packages (from jedi>=0.16->ipython>=5.0.0->ipykernel->jupyter==1.0.0->d2l) (0.8.4)\n",
            "Requirement already satisfied: attrs>=22.2.0 in /usr/local/lib/python3.10/dist-packages (from jsonschema>=2.6->nbformat>=5.7->nbconvert->jupyter==1.0.0->d2l) (24.3.0)\n",
            "Requirement already satisfied: jsonschema-specifications>=2023.03.6 in /usr/local/lib/python3.10/dist-packages (from jsonschema>=2.6->nbformat>=5.7->nbconvert->jupyter==1.0.0->d2l) (2024.10.1)\n",
            "Requirement already satisfied: referencing>=0.28.4 in /usr/local/lib/python3.10/dist-packages (from jsonschema>=2.6->nbformat>=5.7->nbconvert->jupyter==1.0.0->d2l) (0.35.1)\n",
            "Requirement already satisfied: rpds-py>=0.7.1 in /usr/local/lib/python3.10/dist-packages (from jsonschema>=2.6->nbformat>=5.7->nbconvert->jupyter==1.0.0->d2l) (0.22.3)\n",
            "Requirement already satisfied: jupyter-server<3,>=1.8 in /usr/local/lib/python3.10/dist-packages (from notebook-shim>=0.2.3->nbclassic>=0.4.7->notebook->jupyter==1.0.0->d2l) (1.24.0)\n",
            "Requirement already satisfied: cffi>=1.0.1 in /usr/local/lib/python3.10/dist-packages (from argon2-cffi-bindings->argon2-cffi->notebook->jupyter==1.0.0->d2l) (1.17.1)\n",
            "Requirement already satisfied: pycparser in /usr/local/lib/python3.10/dist-packages (from cffi>=1.0.1->argon2-cffi-bindings->argon2-cffi->notebook->jupyter==1.0.0->d2l) (2.22)\n",
            "Requirement already satisfied: anyio<4,>=3.1.0 in /usr/local/lib/python3.10/dist-packages (from jupyter-server<3,>=1.8->notebook-shim>=0.2.3->nbclassic>=0.4.7->notebook->jupyter==1.0.0->d2l) (3.7.1)\n",
            "Requirement already satisfied: websocket-client in /usr/local/lib/python3.10/dist-packages (from jupyter-server<3,>=1.8->notebook-shim>=0.2.3->nbclassic>=0.4.7->notebook->jupyter==1.0.0->d2l) (1.8.0)\n",
            "Requirement already satisfied: sniffio>=1.1 in /usr/local/lib/python3.10/dist-packages (from anyio<4,>=3.1.0->jupyter-server<3,>=1.8->notebook-shim>=0.2.3->nbclassic>=0.4.7->notebook->jupyter==1.0.0->d2l) (1.3.1)\n",
            "Requirement already satisfied: exceptiongroup in /usr/local/lib/python3.10/dist-packages (from anyio<4,>=3.1.0->jupyter-server<3,>=1.8->notebook-shim>=0.2.3->nbclassic>=0.4.7->notebook->jupyter==1.0.0->d2l) (1.2.2)\n",
            "Downloading d2l-1.0.3-py3-none-any.whl (111 kB)\n",
            "\u001b[2K   \u001b[90m━━━━━━━━━━━━━━━━━━━━━━━━━━━━━━━━━━━━━━━━\u001b[0m \u001b[32m111.7/111.7 kB\u001b[0m \u001b[31m4.6 MB/s\u001b[0m eta \u001b[36m0:00:00\u001b[0m\n",
            "\u001b[?25hDownloading jupyter-1.0.0-py2.py3-none-any.whl (2.7 kB)\n",
            "Downloading matplotlib-3.7.2-cp310-cp310-manylinux_2_17_x86_64.manylinux2014_x86_64.whl (11.6 MB)\n",
            "\u001b[2K   \u001b[90m━━━━━━━━━━━━━━━━━━━━━━━━━━━━━━━━━━━━━━━━\u001b[0m \u001b[32m11.6/11.6 MB\u001b[0m \u001b[31m54.5 MB/s\u001b[0m eta \u001b[36m0:00:00\u001b[0m\n",
            "\u001b[?25hDownloading matplotlib_inline-0.1.6-py3-none-any.whl (9.4 kB)\n",
            "Downloading numpy-1.23.5-cp310-cp310-manylinux_2_17_x86_64.manylinux2014_x86_64.whl (17.1 MB)\n",
            "\u001b[2K   \u001b[90m━━━━━━━━━━━━━━━━━━━━━━━━━━━━━━━━━━━━━━━━\u001b[0m \u001b[32m17.1/17.1 MB\u001b[0m \u001b[31m25.9 MB/s\u001b[0m eta \u001b[36m0:00:00\u001b[0m\n",
            "\u001b[?25hDownloading pandas-2.0.3-cp310-cp310-manylinux_2_17_x86_64.manylinux2014_x86_64.whl (12.3 MB)\n",
            "\u001b[2K   \u001b[90m━━━━━━━━━━━━━━━━━━━━━━━━━━━━━━━━━━━━━━━━\u001b[0m \u001b[32m12.3/12.3 MB\u001b[0m \u001b[31m60.1 MB/s\u001b[0m eta \u001b[36m0:00:00\u001b[0m\n",
            "\u001b[?25hDownloading requests-2.31.0-py3-none-any.whl (62 kB)\n",
            "\u001b[2K   \u001b[90m━━━━━━━━━━━━━━━━━━━━━━━━━━━━━━━━━━━━━━━━\u001b[0m \u001b[32m62.6/62.6 kB\u001b[0m \u001b[31m4.8 MB/s\u001b[0m eta \u001b[36m0:00:00\u001b[0m\n",
            "\u001b[?25hDownloading scipy-1.10.1-cp310-cp310-manylinux_2_17_x86_64.manylinux2014_x86_64.whl (34.4 MB)\n",
            "\u001b[2K   \u001b[90m━━━━━━━━━━━━━━━━━━━━━━━━━━━━━━━━━━━━━━━━\u001b[0m \u001b[32m34.4/34.4 MB\u001b[0m \u001b[31m9.7 MB/s\u001b[0m eta \u001b[36m0:00:00\u001b[0m\n",
            "\u001b[?25hDownloading pyparsing-3.0.9-py3-none-any.whl (98 kB)\n",
            "\u001b[2K   \u001b[90m━━━━━━━━━━━━━━━━━━━━━━━━━━━━━━━━━━━━━━━━\u001b[0m \u001b[32m98.3/98.3 kB\u001b[0m \u001b[31m5.9 MB/s\u001b[0m eta \u001b[36m0:00:00\u001b[0m\n",
            "\u001b[?25hDownloading qtconsole-5.6.1-py3-none-any.whl (125 kB)\n",
            "\u001b[2K   \u001b[90m━━━━━━━━━━━━━━━━━━━━━━━━━━━━━━━━━━━━━━━━\u001b[0m \u001b[32m125.0/125.0 kB\u001b[0m \u001b[31m9.1 MB/s\u001b[0m eta \u001b[36m0:00:00\u001b[0m\n",
            "\u001b[?25hDownloading QtPy-2.4.2-py3-none-any.whl (95 kB)\n",
            "\u001b[2K   \u001b[90m━━━━━━━━━━━━━━━━━━━━━━━━━━━━━━━━━━━━━━━━\u001b[0m \u001b[32m95.2/95.2 kB\u001b[0m \u001b[31m6.8 MB/s\u001b[0m eta \u001b[36m0:00:00\u001b[0m\n",
            "\u001b[?25hDownloading jedi-0.19.2-py2.py3-none-any.whl (1.6 MB)\n",
            "\u001b[2K   \u001b[90m━━━━━━━━━━━━━━━━━━━━━━━━━━━━━━━━━━━━━━━━\u001b[0m \u001b[32m1.6/1.6 MB\u001b[0m \u001b[31m46.7 MB/s\u001b[0m eta \u001b[36m0:00:00\u001b[0m\n",
            "\u001b[?25hInstalling collected packages: requests, qtpy, pyparsing, numpy, matplotlib-inline, jedi, scipy, pandas, matplotlib, qtconsole, jupyter, d2l\n",
            "  Attempting uninstall: requests\n",
            "    Found existing installation: requests 2.32.3\n",
            "    Uninstalling requests-2.32.3:\n",
            "      Successfully uninstalled requests-2.32.3\n",
            "  Attempting uninstall: pyparsing\n",
            "    Found existing installation: pyparsing 3.2.0\n",
            "    Uninstalling pyparsing-3.2.0:\n",
            "      Successfully uninstalled pyparsing-3.2.0\n",
            "  Attempting uninstall: numpy\n",
            "    Found existing installation: numpy 1.26.4\n",
            "    Uninstalling numpy-1.26.4:\n",
            "      Successfully uninstalled numpy-1.26.4\n",
            "  Attempting uninstall: matplotlib-inline\n",
            "    Found existing installation: matplotlib-inline 0.1.7\n",
            "    Uninstalling matplotlib-inline-0.1.7:\n",
            "      Successfully uninstalled matplotlib-inline-0.1.7\n",
            "  Attempting uninstall: scipy\n",
            "    Found existing installation: scipy 1.13.1\n",
            "    Uninstalling scipy-1.13.1:\n",
            "      Successfully uninstalled scipy-1.13.1\n",
            "  Attempting uninstall: pandas\n",
            "    Found existing installation: pandas 2.2.2\n",
            "    Uninstalling pandas-2.2.2:\n",
            "      Successfully uninstalled pandas-2.2.2\n",
            "  Attempting uninstall: matplotlib\n",
            "    Found existing installation: matplotlib 3.8.0\n",
            "    Uninstalling matplotlib-3.8.0:\n",
            "      Successfully uninstalled matplotlib-3.8.0\n",
            "\u001b[31mERROR: pip's dependency resolver does not currently take into account all the packages that are installed. This behaviour is the source of the following dependency conflicts.\n",
            "albucore 0.0.19 requires numpy>=1.24.4, but you have numpy 1.23.5 which is incompatible.\n",
            "albumentations 1.4.20 requires numpy>=1.24.4, but you have numpy 1.23.5 which is incompatible.\n",
            "bigframes 1.29.0 requires numpy>=1.24.0, but you have numpy 1.23.5 which is incompatible.\n",
            "chex 0.1.88 requires numpy>=1.24.1, but you have numpy 1.23.5 which is incompatible.\n",
            "google-colab 1.0.0 requires pandas==2.2.2, but you have pandas 2.0.3 which is incompatible.\n",
            "google-colab 1.0.0 requires requests==2.32.3, but you have requests 2.31.0 which is incompatible.\n",
            "jax 0.4.33 requires numpy>=1.24, but you have numpy 1.23.5 which is incompatible.\n",
            "jaxlib 0.4.33 requires numpy>=1.24, but you have numpy 1.23.5 which is incompatible.\n",
            "mizani 0.13.1 requires pandas>=2.2.0, but you have pandas 2.0.3 which is incompatible.\n",
            "plotnine 0.14.4 requires matplotlib>=3.8.0, but you have matplotlib 3.7.2 which is incompatible.\n",
            "plotnine 0.14.4 requires pandas>=2.2.0, but you have pandas 2.0.3 which is incompatible.\n",
            "pymc 5.19.1 requires numpy>=1.25.0, but you have numpy 1.23.5 which is incompatible.\n",
            "scikit-image 0.25.0 requires numpy>=1.24, but you have numpy 1.23.5 which is incompatible.\n",
            "scikit-image 0.25.0 requires scipy>=1.11.2, but you have scipy 1.10.1 which is incompatible.\n",
            "xarray 2024.11.0 requires numpy>=1.24, but you have numpy 1.23.5 which is incompatible.\n",
            "xarray 2024.11.0 requires pandas>=2.1, but you have pandas 2.0.3 which is incompatible.\u001b[0m\u001b[31m\n",
            "\u001b[0mSuccessfully installed d2l-1.0.3 jedi-0.19.2 jupyter-1.0.0 matplotlib-3.7.2 matplotlib-inline-0.1.6 numpy-1.23.5 pandas-2.0.3 pyparsing-3.0.9 qtconsole-5.6.1 qtpy-2.4.2 requests-2.31.0 scipy-1.10.1\n"
          ]
        },
        {
          "output_type": "display_data",
          "data": {
            "application/vnd.colab-display-data+json": {
              "pip_warning": {
                "packages": [
                  "matplotlib",
                  "matplotlib_inline",
                  "mpl_toolkits",
                  "numpy"
                ]
              },
              "id": "79b36582b0554517af23447723586176"
            }
          },
          "metadata": {}
        }
      ],
      "source": [
        "!pip install d2l"
      ]
    },
    {
      "cell_type": "code",
      "source": [
        "import torch\n",
        "from torch import nn\n",
        "from d2l import torch as d2l"
      ],
      "metadata": {
        "id": "5YLIAg_jDH7G"
      },
      "execution_count": 1,
      "outputs": []
    },
    {
      "cell_type": "markdown",
      "source": [
        "## **LeNet**"
      ],
      "metadata": {
        "id": "OTP51KNxE7Qp"
      }
    },
    {
      "cell_type": "markdown",
      "source": [
        "![image.png](data:image/png;base64,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)"
      ],
      "metadata": {
        "id": "v0pkx54gFTpi"
      }
    },
    {
      "cell_type": "code",
      "source": [],
      "metadata": {
        "id": "wO-snDjIFYb8"
      },
      "execution_count": null,
      "outputs": []
    }
  ]
}